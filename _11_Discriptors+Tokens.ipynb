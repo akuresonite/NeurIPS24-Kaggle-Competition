{
 "cells": [
  {
   "cell_type": "markdown",
   "id": "e51f39dc-cd1b-4519-b83a-b4010d03bf19",
   "metadata": {},
   "source": [
    "# Calculating Smiles Descriptors"
   ]
  },
  {
   "cell_type": "code",
   "execution_count": 1,
   "id": "8f24eaa3-00f0-4eb8-ac58-8f771333820b",
   "metadata": {
    "notebookRunGroups": {
     "groupValue": "1"
    }
   },
   "outputs": [
    {
     "data": {
      "text/html": [
       "<style>pre { white-space: pre !important; }</style>"
      ],
      "text/plain": [
       "<IPython.core.display.HTML object>"
      ]
     },
     "metadata": {},
     "output_type": "display_data"
    }
   ],
   "source": [
    "train_len = 295246830\n",
    "one_len = 1589906\n",
    "zero_len = 293656924\n",
    "protein_map = {'BRD4': 1, 'HSA': 2, 'sEH': 3}\n",
    "vocab = {'C': 6825082866, '#': 81527490, '@': 511451694, 'H': 456489972, '=': 1406606874, 'O': 2554179786,\n",
    "         'N': 2469595230, 'c': 12257477022, '-': 438483636, '.': 216945504, 'l': 491088828, 'B': 123330132,\n",
    "         'r': 121915914, 'n': 1997759694, 'D': 295246830, 'y': 295246830, 'o': 67918650, 's': 156618468,\n",
    "         'S': 90662574, 'F': 492710238, '+': 65206260, 'i': 1414026, '/': 11547096, 'I': 23972994}\n",
    "\n",
    "from pyspark.sql import SparkSession\n",
    "from pyspark.sql.functions import col, when\n",
    "from pyspark.sql import functions as F\n",
    "from pyspark.sql.functions import udf\n",
    "from pyspark.sql.types import LongType, IntegerType, StructType, StructField, ArrayType, DoubleType, StringType\n",
    "from pyspark.ml.linalg import SparseVector\n",
    "\n",
    "from pyspark.ml.feature import OneHotEncoder, StringIndexer, VectorAssembler, StringIndexerModel, OneHotEncoderModel\n",
    "from pyspark.ml.tuning import CrossValidator, ParamGridBuilder\n",
    "from pyspark.ml.evaluation import BinaryClassificationEvaluator, MulticlassClassificationEvaluator\n",
    "\n",
    "import pandas as pd\n",
    "import numpy as np\n",
    "import joblib\n",
    "\n",
    "from xgboost.spark import SparkXGBClassifier\n",
    "\n",
    "from sklearn.metrics import classification_report, roc_auc_score, average_precision_score\n",
    "\n",
    "from concurrent.futures import ThreadPoolExecutor\n",
    "from joblib import Parallel, delayed\n",
    "from rdkit import Chem\n",
    "from rdkit.Chem import Descriptors, Lipinski, rdmolops, AllChem, rdchem, rdEHTTools, rdMolDescriptors\n",
    "from tqdm.auto import tqdm\n",
    "from padelpy import from_smiles\n",
    "from IPython.display import display, HTML\n",
    "display(HTML(\"<style>pre { white-space: pre !important; }</style>\"))"
   ]
  },
  {
   "cell_type": "code",
   "execution_count": 2,
   "id": "a35b5f0c-4ae2-4d92-8f75-f8dff184b3e3",
   "metadata": {
    "notebookRunGroups": {
     "groupValue": "1"
    },
    "scrolled": true
   },
   "outputs": [
    {
     "name": "stderr",
     "output_type": "stream",
     "text": [
      "25/01/01 22:57:23 WARN Utils: Your hostname, kanjur resolves to a loopback address: 127.0.1.1; using 10.119.2.14 instead (on interface eno3)\n",
      "25/01/01 22:57:23 WARN Utils: Set SPARK_LOCAL_IP if you need to bind to another address\n",
      "Setting default log level to \"WARN\".\n",
      "To adjust logging level use sc.setLogLevel(newLevel). For SparkR, use setLogLevel(newLevel).\n",
      "25/01/01 22:57:23 WARN NativeCodeLoader: Unable to load native-hadoop library for your platform... using builtin-java classes where applicable\n",
      "25/01/01 22:57:23 WARN SparkConf: Note that spark.local.dir will be overridden by the value set by the cluster manager (via SPARK_LOCAL_DIRS in mesos/standalone/kubernetes and LOCAL_DIRS in YARN).\n"
     ]
    },
    {
     "data": {
      "text/html": [
       "\n",
       "            <div>\n",
       "                <p><b>SparkSession - in-memory</b></p>\n",
       "                \n",
       "        <div>\n",
       "            <p><b>SparkContext</b></p>\n",
       "\n",
       "            <p><a href=\"http://kanjur.ieor.iitb.ac.in:4040\">Spark UI</a></p>\n",
       "\n",
       "            <dl>\n",
       "              <dt>Version</dt>\n",
       "                <dd><code>v3.5.3</code></dd>\n",
       "              <dt>Master</dt>\n",
       "                <dd><code>local[*]</code></dd>\n",
       "              <dt>AppName</dt>\n",
       "                <dd><code>leash belka34</code></dd>\n",
       "            </dl>\n",
       "        </div>\n",
       "        \n",
       "            </div>\n",
       "        "
      ],
      "text/plain": [
       "<pyspark.sql.session.SparkSession at 0x7fb21c3cf890>"
      ]
     },
     "execution_count": 2,
     "metadata": {},
     "output_type": "execute_result"
    }
   ],
   "source": [
    "# # for 256 Gb and 64 Cores\n",
    "# spark = (\n",
    "#     SparkSession\n",
    "#     .builder\n",
    "#     .appName(\"leash belka3\")\n",
    "#     .config(\"spark.driver.memory\", \"48g\")  # Increased driver memory\n",
    "#     .config(\"spark.executor.memory\", \"48g\")  # Increased executor memory\n",
    "#     .config(\"spark.executor.instances\", \"16\")  # 16 executors\n",
    "#     .config(\"spark.executor.cores\", \"4\")  # 4 cores per executor\n",
    "#     .config(\"spark.driver.maxResultSize\", \"4g\")  # Driver result size limit\n",
    "#     .config(\"spark.local.dir\", \"temp\")  # Specify a directory with enough space\n",
    "#     # .config(\"spark.local.dir\", \"/scratch/23m1521/temp\")  # Specify a directory with enough space\n",
    "#     .config(\"spark.shuffle.file.buffer\", \"128k\")  # Shuffle buffer size\n",
    "#     .config(\"spark.memory.fraction\", \"0.8\")  # Memory fraction for tasks\n",
    "#     .config(\"spark.shuffle.memoryFraction\", \"0.6\")  # Shuffle memory fraction\n",
    "#     .config(\"spark.executor.javaOptions\", \"-Xmx48g\")  # JVM heap size for executors\n",
    "#     .master(\"local[64]\")  # Use all 64 cores on the machine\n",
    "#     .getOrCreate()\n",
    "# )\n",
    "\n",
    "# spark\n",
    "spark = (\n",
    "    SparkSession\n",
    "    .builder\n",
    "    .appName(\"leash belka34\")\n",
    "    .config(\"spark.driver.memory\", \"64g\")  # Increased driver memory for large jobs\n",
    "    .config(\"spark.executor.memory\", \"64g\")  # Increased executor memory\n",
    "    .config(\"spark.executor.instances\", \"32\")  # 32 executors\n",
    "    .config(\"spark.executor.cores\", \"2\")  # 2 cores per executor\n",
    "    .config(\"spark.driver.maxResultSize\", \"8g\")  # Driver result size limit\n",
    "    .config(\"spark.local.dir\", \"temp\")  # Ensure high-speed storage\n",
    "    .config(\"spark.shuffle.file.buffer\", \"1024k\")  # Larger shuffle buffer for better IO\n",
    "    .config(\"spark.memory.fraction\", \"0.85\")  # Increased memory for tasks\n",
    "    .config(\"spark.shuffle.memoryFraction\", \"0.7\")  # Increased shuffle memory\n",
    "    .config(\"spark.executor.javaOptions\", \"-Xmx64g\")  # JVM heap size for executors\n",
    "    .master(\"local[*]\")  # Use all 64 cores on the machine\n",
    "    .getOrCreate()\n",
    ")\n",
    "spark\n",
    "\n",
    "# SparkSession for 128 GB RAM and 64 cores\n",
    "# spark = (\n",
    "#     SparkSession\n",
    "#     .builder\n",
    "#     .appName(\"Optimized Spark for 128GB RAM and 64 Cores\")\n",
    "#     .config(\"spark.driver.memory\", \"64g\")  # 64GB for driver memory\n",
    "#     .config(\"spark.executor.memory\", \"64g\")  # 64GB for executor memory\n",
    "#     .config(\"spark.executor.instances\", \"16\")  # 16 executors\n",
    "#     .config(\"spark.executor.cores\", \"4\")  # 4 cores per executor (total = 64 cores)\n",
    "#     .config(\"spark.driver.maxResultSize\", \"8g\")  # Driver result size limit\n",
    "#     .config(\"spark.local.dir\", \"temp\")  # Temp directory with enough space\n",
    "#     .config(\"spark.shuffle.file.buffer\", \"512k\")  # Increased shuffle buffer size\n",
    "#     .config(\"spark.memory.fraction\", \"0.8\")  # Memory fraction for tasks\n",
    "#     .config(\"spark.shuffle.memoryFraction\", \"0.6\")  # Shuffle memory fraction\n",
    "#     .config(\"spark.executor.javaOptions\", \"-Xmx64g\")  # JVM heap size for executors\n",
    "#     .master(\"local[64]\")  # Use all 64 cores on the machine\n",
    "#     .getOrCreate()\n",
    "# )\n",
    "\n",
    "# spark\n",
    "\n",
    "# SynapseML \n",
    "# spark = (\n",
    "#     SparkSession\n",
    "#     .builder\n",
    "#     .appName(\"leash belka3\")\n",
    "#     .config(\"spark.driver.memory\", \"48g\")  # Increased driver memory\n",
    "#     .config(\"spark.executor.memory\", \"48g\")  # Increased executor memory\n",
    "#     .config(\"spark.executor.instances\", \"16\")  # 16 executors\n",
    "#     .config(\"spark.executor.cores\", \"4\")  # 4 cores per executor\n",
    "#     .config(\"spark.driver.maxResultSize\", \"4g\")  # Driver result size limit\n",
    "#     .config(\"spark.local.dir\", \"temp\")  # Specify a directory with enough space\n",
    "#     .config(\"spark.shuffle.file.buffer\", \"128k\")  # Shuffle buffer size\n",
    "#     .config(\"spark.memory.fraction\", \"0.8\")  # Memory fraction for tasks\n",
    "#     .config(\"spark.shuffle.memoryFraction\", \"0.6\")  # Shuffle memory fraction\n",
    "#     .config(\"spark.executor.javaOptions\", \"-Xmx48g\")  # JVM heap size for executors\n",
    "#     .config(\"spark.jars.packages\", \"com.microsoft.azure:synapseml_2.12:1.0.8\")\n",
    "#     .config(\"spark.jars.repositories\", \"https://mmlspark.azureedge.net/maven\")\n",
    "#     .master(\"local[64]\")  # Use all 64 cores on the machine\n",
    "#     .getOrCreate()\n",
    "# )\n",
    "\n",
    "# spark\n",
    "\n",
    "# spark = (\n",
    "#     SparkSession\n",
    "#     .builder\n",
    "#     .appName(\"leash belka3\")\n",
    "#     .config(\"spark.driver.memory\", \"64g\")  # Increased driver memory\n",
    "#     .config(\"spark.executor.memory\", \"64g\")  # Increased executor memory\n",
    "#     .config(\"spark.executor.instances\", \"8\")  # Reduced number of executors\n",
    "#     .config(\"spark.executor.cores\", \"8\")  # Increased cores per executor\n",
    "#     .config(\"spark.driver.maxResultSize\", \"4g\")  # Driver result size limit\n",
    "#     .config(\"spark.local.dir\", \"temp\")  # Specify a directory with enough space\n",
    "#     .config(\"spark.shuffle.file.buffer\", \"128k\")  # Shuffle buffer size\n",
    "#     .config(\"spark.memory.fraction\", \"0.8\")  # Memory fraction for tasks\n",
    "#     .config(\"spark.shuffle.memoryFraction\", \"0.7\")  # Shuffle memory fraction\n",
    "#     .config(\"spark.executor.javaOptions\", \"-Xmx64g\")  # JVM heap size for executors\n",
    "#     .config(\"spark.sql.shuffle.partitions\", \"1000\")  # Increase shuffle partitions\n",
    "#     .config(\"spark.ui.enabled\", \"true\")  # Enable Spark UI\n",
    "#     .master(\"local[8]\")  # Reduced number of cores for local mode\n",
    "#     .getOrCreate()\n",
    "# )\n",
    "\n",
    "# spark\n"
   ]
  },
  {
   "cell_type": "markdown",
   "id": "fc685ab2",
   "metadata": {},
   "source": [
    "## Descriptors Dataset"
   ]
  },
  {
   "cell_type": "code",
   "execution_count": 3,
   "id": "04be06dd-e5c9-4ca0-9675-9651fec017b6",
   "metadata": {},
   "outputs": [
    {
     "name": "stderr",
     "output_type": "stream",
     "text": [
      "                                                                                "
     ]
    }
   ],
   "source": [
    "full_df_features = spark.read.format('parquet').load('train_descriptors.parquet')"
   ]
  },
  {
   "cell_type": "code",
   "execution_count": 4,
   "id": "03daf04f-6ff0-4daf-a601-cd4abad755ff",
   "metadata": {},
   "outputs": [
    {
     "name": "stderr",
     "output_type": "stream",
     "text": [
      "24/12/31 21:27:35 WARN SparkStringUtils: Truncated the string representation of a plan since it was too large. This behavior can be adjusted by setting 'spark.sql.debug.maxToStringFields'.\n",
      "                                                                                "
     ]
    },
    {
     "name": "stdout",
     "output_type": "stream",
     "text": [
      "+---------+-----+-----------------+--------------+-----------------+-----------------+---------------------+--------------+-----------------+----------------+-------------------+-----------------+--------------------+---------------------+---------------------+------------------+------------+-------------+--------------------+-----------------------+----------------------+------------------+-----------------+----------------------+---------------------+---------+--------------+------------------+--------+---------------------+--------------+-----------------+----------------+------------------+-----------------+--------------------+---------------------+---------------------+------------------+------------+-------------+--------------------+-----------------------+----------------------+------------------+------------------+----------------------+---------------------+------------------+--------------+-------------------+------------------+---------------------+--------------+-----------------+----------------+----------------+-----------------+--------------------+---------------------+---------------------+------------------+------------+-------------+--------------------+-----------------------+----------------------+------------------+-------------------+----------------------+---------------------+-----------------+-------------------+------------------+------------------+--------------------------+-------------------+----------------------+---------------------+---------------------+----------------------+-------------------------+--------------------------+--------------------------+-----------------------+-----------------+------------------+-------------------------+----------------------------+---------------------------+-----------------------+----------------------+---------------------------+--------------------------+--------------+\n",
      "|       id|binds|        bb1_MolWt|bb1_ExactMolWt|      bb1_MolLogP|         bb1_TPSA|bb1_NumRotatableBonds|bb1_NumHDonors|bb1_NumHAcceptors|bb1_FormalCharge|   bb1_FractionCSP3|bb1_NumHeavyAtoms|bb1_NumAromaticRings|bb1_NumAliphaticRings|bb1_NumSaturatedRings|bb1_NumHeteroatoms|bb1_NumRings|bb1_MolVolume|bb1_RadiusOfGyration|bb1_InertialShapeFactor|bb1_AromaticProportion|bb1_HBondPotential|bb1_Lipophilicity|bb1_ChargeDistribution|bb1_ElectroNegativity|bb2_MolWt|bb2_ExactMolWt|       bb2_MolLogP|bb2_TPSA|bb2_NumRotatableBonds|bb2_NumHDonors|bb2_NumHAcceptors|bb2_FormalCharge|  bb2_FractionCSP3|bb2_NumHeavyAtoms|bb2_NumAromaticRings|bb2_NumAliphaticRings|bb2_NumSaturatedRings|bb2_NumHeteroatoms|bb2_NumRings|bb2_MolVolume|bb2_RadiusOfGyration|bb2_InertialShapeFactor|bb2_AromaticProportion|bb2_HBondPotential| bb2_Lipophilicity|bb2_ChargeDistribution|bb2_ElectroNegativity|         bb3_MolWt|bb3_ExactMolWt|        bb3_MolLogP|          bb3_TPSA|bb3_NumRotatableBonds|bb3_NumHDonors|bb3_NumHAcceptors|bb3_FormalCharge|bb3_FractionCSP3|bb3_NumHeavyAtoms|bb3_NumAromaticRings|bb3_NumAliphaticRings|bb3_NumSaturatedRings|bb3_NumHeteroatoms|bb3_NumRings|bb3_MolVolume|bb3_RadiusOfGyration|bb3_InertialShapeFactor|bb3_AromaticProportion|bb3_HBondPotential|  bb3_Lipophilicity|bb3_ChargeDistribution|bb3_ElectroNegativity|   molecule_MolWt|molecule_ExactMolWt|  molecule_MolLogP|     molecule_TPSA|molecule_NumRotatableBonds|molecule_NumHDonors|molecule_NumHAcceptors|molecule_FormalCharge|molecule_FractionCSP3|molecule_NumHeavyAtoms|molecule_NumAromaticRings|molecule_NumAliphaticRings|molecule_NumSaturatedRings|molecule_NumHeteroatoms|molecule_NumRings|molecule_MolVolume|molecule_RadiusOfGyration|molecule_InertialShapeFactor|molecule_AromaticProportion|molecule_HBondPotential|molecule_Lipophilicity|molecule_ChargeDistribution|molecule_ElectroNegativity|protein_onehot|\n",
      "+---------+-----+-----------------+--------------+-----------------+-----------------+---------------------+--------------+-----------------+----------------+-------------------+-----------------+--------------------+---------------------+---------------------+------------------+------------+-------------+--------------------+-----------------------+----------------------+------------------+-----------------+----------------------+---------------------+---------+--------------+------------------+--------+---------------------+--------------+-----------------+----------------+------------------+-----------------+--------------------+---------------------+---------------------+------------------+------------+-------------+--------------------+-----------------------+----------------------+------------------+------------------+----------------------+---------------------+------------------+--------------+-------------------+------------------+---------------------+--------------+-----------------+----------------+----------------+-----------------+--------------------+---------------------+---------------------+------------------+------------+-------------+--------------------+-----------------------+----------------------+------------------+-------------------+----------------------+---------------------+-----------------+-------------------+------------------+------------------+--------------------------+-------------------+----------------------+---------------------+---------------------+----------------------+-------------------------+--------------------------+--------------------------+-----------------------+-----------------+------------------+-------------------------+----------------------------+---------------------------+-----------------------+----------------------+---------------------------+--------------------------+--------------+\n",
      "|193986560|    0|360.3690000000001| 360.111006992|4.140800000000002|88.52000000000001|                    4|             2|                4|               0|0.09523809523809523|               27|                   3|                    1|                    0|                 6|           4|            0|                   0|                      0|    0.1111111111111111|                 6|4.140800000000002|                     0|    99.88800000000002|  356.319| 355.088803336|1.3292000000000008|   66.64|                    4|             1|                4|               0|0.5384615384615384|               21|                   1|                    1|                    1|                 8|           2|            0|                   0|                      0|  0.047619047619047616|                 5|1.3292000000000008|                     0|    92.16020000000003|           245.134| 243.962874552| 3.6991000000000005|             38.91|                    1|             1|                3|               0|             0.0|               14|                   2|                    0|                    0|                 5|           2|            0|                   0|                      0|   0.14285714285714285|                 4| 3.6991000000000005|                     0|    61.98240000000001|902.1949999999997|  902.0643309800001| 5.330600000000003|            170.26|                        12|                  4|                    13|                    0|  0.22580645161290322|                    50|                        5|                         1|                         1|                     19|                6|                 0|                        0|                           0|                        0.1|                     17|     5.330600000000003|                          0|        192.76509999999962|     (2,[],[])|\n",
      "|193986561|    0|360.3690000000001| 360.111006992|4.140800000000002|88.52000000000001|                    4|             2|                4|               0|0.09523809523809523|               27|                   3|                    1|                    0|                 6|           4|            0|                   0|                      0|    0.1111111111111111|                 6|4.140800000000002|                     0|    99.88800000000002|  356.319| 355.088803336|1.3292000000000008|   66.64|                    4|             1|                4|               0|0.5384615384615384|               21|                   1|                    1|                    1|                 8|           2|            0|                   0|                      0|  0.047619047619047616|                 5|1.3292000000000008|                     0|    92.16020000000003|           210.689| 210.001846904|             3.0457|             38.91|                    1|             1|                3|               0|             0.0|               13|                   2|                    0|                    0|                 4|           2|            0|                   0|                      0|   0.15384615384615385|                 4|             3.0457|                     0|   56.972400000000015|867.7499999999998|      868.103303332| 4.677200000000004|            170.26|                        12|                  4|                    13|                    0|  0.22580645161290322|                    49|                        5|                         1|                         1|                     18|                6|                 0|                        0|                           0|        0.10204081632653061|                     17|     4.677200000000004|                          0|         187.7550999999996| (2,[0],[1.0])|\n",
      "|193986562|    0|360.3690000000001| 360.111006992|4.140800000000002|88.52000000000001|                    4|             2|                4|               0|0.09523809523809523|               27|                   3|                    1|                    0|                 6|           4|            0|                   0|                      0|    0.1111111111111111|                 6|4.140800000000002|                     0|    99.88800000000002|  356.319| 355.088803336|1.3292000000000008|   66.64|                    4|             1|                4|               0|0.5384615384615384|               21|                   1|                    1|                    1|                 8|           2|            0|                   0|                      0|  0.047619047619047616|                 5|1.3292000000000008|                     0|    92.16020000000003|           210.689| 210.001846904|             3.0457|             38.91|                    1|             1|                3|               0|             0.0|               13|                   2|                    0|                    0|                 4|           2|            0|                   0|                      0|   0.15384615384615385|                 4|             3.0457|                     0|   56.972400000000015|867.7499999999998|      868.103303332| 4.677200000000004|            170.26|                        12|                  4|                    13|                    0|  0.22580645161290322|                    49|                        5|                         1|                         1|                     18|                6|                 0|                        0|                           0|        0.10204081632653061|                     17|     4.677200000000004|                          0|         187.7550999999996| (2,[1],[1.0])|\n",
      "|193986563|    0|360.3690000000001| 360.111006992|4.140800000000002|88.52000000000001|                    4|             2|                4|               0|0.09523809523809523|               27|                   3|                    1|                    0|                 6|           4|            0|                   0|                      0|    0.1111111111111111|                 6|4.140800000000002|                     0|    99.88800000000002|  356.319| 355.088803336|1.3292000000000008|   66.64|                    4|             1|                4|               0|0.5384615384615384|               21|                   1|                    1|                    1|                 8|           2|            0|                   0|                      0|  0.047619047619047616|                 5|1.3292000000000008|                     0|    92.16020000000003|           210.689| 210.001846904|             3.0457|             38.91|                    1|             1|                3|               0|             0.0|               13|                   2|                    0|                    0|                 4|           2|            0|                   0|                      0|   0.15384615384615385|                 4|             3.0457|                     0|   56.972400000000015|867.7499999999998|      868.103303332| 4.677200000000004|            170.26|                        12|                  4|                    13|                    0|  0.22580645161290322|                    49|                        5|                         1|                         1|                     18|                6|                 0|                        0|                           0|        0.10204081632653061|                     17|     4.677200000000004|                          0|         187.7550999999996|     (2,[],[])|\n",
      "|193986564|    0|360.3690000000001| 360.111006992|4.140800000000002|88.52000000000001|                    4|             2|                4|               0|0.09523809523809523|               27|                   3|                    1|                    0|                 6|           4|            0|                   0|                      0|    0.1111111111111111|                 6|4.140800000000002|                     0|    99.88800000000002|  356.319| 355.088803336|1.3292000000000008|   66.64|                    4|             1|                4|               0|0.5384615384615384|               21|                   1|                    1|                    1|                 8|           2|            0|                   0|                      0|  0.047619047619047616|                 5|1.3292000000000008|                     0|    92.16020000000003|210.68899999999996| 210.001846904|  3.045700000000001|             38.91|                    1|             1|                3|               0|             0.0|               13|                   2|                    0|                    0|                 4|           2|            0|                   0|                      0|   0.15384615384615385|                 4|  3.045700000000001|                     0|    56.97240000000002|867.7499999999998|      868.103303332| 4.677200000000004|            170.26|                        12|                  4|                    13|                    0|  0.22580645161290322|                    49|                        5|                         1|                         1|                     18|                6|                 0|                        0|                           0|        0.10204081632653061|                     17|     4.677200000000004|                          0|         187.7550999999996| (2,[0],[1.0])|\n",
      "|193986565|    0|360.3690000000001| 360.111006992|4.140800000000002|88.52000000000001|                    4|             2|                4|               0|0.09523809523809523|               27|                   3|                    1|                    0|                 6|           4|            0|                   0|                      0|    0.1111111111111111|                 6|4.140800000000002|                     0|    99.88800000000002|  356.319| 355.088803336|1.3292000000000008|   66.64|                    4|             1|                4|               0|0.5384615384615384|               21|                   1|                    1|                    1|                 8|           2|            0|                   0|                      0|  0.047619047619047616|                 5|1.3292000000000008|                     0|    92.16020000000003|210.68899999999996| 210.001846904|  3.045700000000001|             38.91|                    1|             1|                3|               0|             0.0|               13|                   2|                    0|                    0|                 4|           2|            0|                   0|                      0|   0.15384615384615385|                 4|  3.045700000000001|                     0|    56.97240000000002|867.7499999999998|      868.103303332| 4.677200000000004|            170.26|                        12|                  4|                    13|                    0|  0.22580645161290322|                    49|                        5|                         1|                         1|                     18|                6|                 0|                        0|                           0|        0.10204081632653061|                     17|     4.677200000000004|                          0|         187.7550999999996| (2,[1],[1.0])|\n",
      "|193986566|    0|360.3690000000001| 360.111006992|4.140800000000002|88.52000000000001|                    4|             2|                4|               0|0.09523809523809523|               27|                   3|                    1|                    0|                 6|           4|            0|                   0|                      0|    0.1111111111111111|                 6|4.140800000000002|                     0|    99.88800000000002|  356.319| 355.088803336|1.3292000000000008|   66.64|                    4|             1|                4|               0|0.5384615384615384|               21|                   1|                    1|                    1|                 8|           2|            0|                   0|                      0|  0.047619047619047616|                 5|1.3292000000000008|                     0|    92.16020000000003|210.68899999999996| 210.001846904|  3.045700000000001|             38.91|                    1|             1|                3|               0|             0.0|               13|                   2|                    0|                    0|                 4|           2|            0|                   0|                      0|   0.15384615384615385|                 4|  3.045700000000001|                     0|    56.97240000000002|867.7499999999998|      868.103303332| 4.677200000000004|            170.26|                        12|                  4|                    13|                    0|  0.22580645161290322|                    49|                        5|                         1|                         1|                     18|                6|                 0|                        0|                           0|        0.10204081632653061|                     17|     4.677200000000004|                          0|         187.7550999999996|     (2,[],[])|\n",
      "|193986567|    0|360.3690000000001| 360.111006992|4.140800000000002|88.52000000000001|                    4|             2|                4|               0|0.09523809523809523|               27|                   3|                    1|                    0|                 6|           4|            0|                   0|                      0|    0.1111111111111111|                 6|4.140800000000002|                     0|    99.88800000000002|  356.319| 355.088803336|1.3292000000000008|   66.64|                    4|             1|                4|               0|0.5384615384615384|               21|                   1|                    1|                    1|                 8|           2|            0|                   0|                      0|  0.047619047619047616|                 5|1.3292000000000008|                     0|    92.16020000000003|189.99999999999997| 188.953773848|0.11459999999999987|             71.77|                    0|             2|                3|               0|             0.0|                9|                   1|                    0|                    0|                 5|           1|            0|                   0|                      0|    0.1111111111111111|                 5|0.11459999999999987|                     0|   36.970099999999995|847.0609999999997|  847.0552302760001|1.7460999999999998|            203.12|                        11|                  5|                    13|                    0|   0.2692307692307692|                    45|                        4|                         1|                         1|                     19|                5|                 0|                        0|                           0|        0.08888888888888889|                     18|    1.7460999999999998|                          0|        167.75279999999975| (2,[0],[1.0])|\n",
      "|193986568|    0|360.3690000000001| 360.111006992|4.140800000000002|88.52000000000001|                    4|             2|                4|               0|0.09523809523809523|               27|                   3|                    1|                    0|                 6|           4|            0|                   0|                      0|    0.1111111111111111|                 6|4.140800000000002|                     0|    99.88800000000002|  356.319| 355.088803336|1.3292000000000008|   66.64|                    4|             1|                4|               0|0.5384615384615384|               21|                   1|                    1|                    1|                 8|           2|            0|                   0|                      0|  0.047619047619047616|                 5|1.3292000000000008|                     0|    92.16020000000003|189.99999999999997| 188.953773848|0.11459999999999987|             71.77|                    0|             2|                3|               0|             0.0|                9|                   1|                    0|                    0|                 5|           1|            0|                   0|                      0|    0.1111111111111111|                 5|0.11459999999999987|                     0|   36.970099999999995|847.0609999999997|  847.0552302760001|1.7460999999999998|            203.12|                        11|                  5|                    13|                    0|   0.2692307692307692|                    45|                        4|                         1|                         1|                     19|                5|                 0|                        0|                           0|        0.08888888888888889|                     18|    1.7460999999999998|                          0|        167.75279999999975| (2,[1],[1.0])|\n",
      "|193986569|    0|360.3690000000001| 360.111006992|4.140800000000002|88.52000000000001|                    4|             2|                4|               0|0.09523809523809523|               27|                   3|                    1|                    0|                 6|           4|            0|                   0|                      0|    0.1111111111111111|                 6|4.140800000000002|                     0|    99.88800000000002|  356.319| 355.088803336|1.3292000000000008|   66.64|                    4|             1|                4|               0|0.5384615384615384|               21|                   1|                    1|                    1|                 8|           2|            0|                   0|                      0|  0.047619047619047616|                 5|1.3292000000000008|                     0|    92.16020000000003|189.99999999999997| 188.953773848|0.11459999999999987|             71.77|                    0|             2|                3|               0|             0.0|                9|                   1|                    0|                    0|                 5|           1|            0|                   0|                      0|    0.1111111111111111|                 5|0.11459999999999987|                     0|   36.970099999999995|847.0609999999997|  847.0552302760001|1.7460999999999998|            203.12|                        11|                  5|                    13|                    0|   0.2692307692307692|                    45|                        4|                         1|                         1|                     19|                5|                 0|                        0|                           0|        0.08888888888888889|                     18|    1.7460999999999998|                          0|        167.75279999999975|     (2,[],[])|\n",
      "|193986570|    0|360.3690000000001| 360.111006992|4.140800000000002|88.52000000000001|                    4|             2|                4|               0|0.09523809523809523|               27|                   3|                    1|                    0|                 6|           4|            0|                   0|                      0|    0.1111111111111111|                 6|4.140800000000002|                     0|    99.88800000000002|  356.319| 355.088803336|1.3292000000000008|   66.64|                    4|             1|                4|               0|0.5384615384615384|               21|                   1|                    1|                    1|                 8|           2|            0|                   0|                      0|  0.047619047619047616|                 5|1.3292000000000008|                     0|    92.16020000000003|           213.038|  211.96975826| 1.0739999999999998|56.209999999999994|                    0|             1|                4|               0|             0.0|               11|                   2|                    0|                    0|                 5|           2|            0|                   0|                      0|   0.18181818181818182|                 5| 1.0739999999999998|                     0|              45.0994|870.0989999999996|      870.071214688|            2.7055|            187.56|                        11|                  4|                    14|                    0|                 0.25|                    47|                        5|                         1|                         1|                     19|                6|                 0|                        0|                           0|        0.10638297872340426|                     18|                2.7055|                          0|        175.88209999999967| (2,[0],[1.0])|\n",
      "|193986571|    0|360.3690000000001| 360.111006992|4.140800000000002|88.52000000000001|                    4|             2|                4|               0|0.09523809523809523|               27|                   3|                    1|                    0|                 6|           4|            0|                   0|                      0|    0.1111111111111111|                 6|4.140800000000002|                     0|    99.88800000000002|  356.319| 355.088803336|1.3292000000000008|   66.64|                    4|             1|                4|               0|0.5384615384615384|               21|                   1|                    1|                    1|                 8|           2|            0|                   0|                      0|  0.047619047619047616|                 5|1.3292000000000008|                     0|    92.16020000000003|           213.038|  211.96975826| 1.0739999999999998|56.209999999999994|                    0|             1|                4|               0|             0.0|               11|                   2|                    0|                    0|                 5|           2|            0|                   0|                      0|   0.18181818181818182|                 5| 1.0739999999999998|                     0|              45.0994|870.0989999999996|      870.071214688|            2.7055|            187.56|                        11|                  4|                    14|                    0|                 0.25|                    47|                        5|                         1|                         1|                     19|                6|                 0|                        0|                           0|        0.10638297872340426|                     18|                2.7055|                          0|        175.88209999999967| (2,[1],[1.0])|\n",
      "|193986572|    0|360.3690000000001| 360.111006992|4.140800000000002|88.52000000000001|                    4|             2|                4|               0|0.09523809523809523|               27|                   3|                    1|                    0|                 6|           4|            0|                   0|                      0|    0.1111111111111111|                 6|4.140800000000002|                     0|    99.88800000000002|  356.319| 355.088803336|1.3292000000000008|   66.64|                    4|             1|                4|               0|0.5384615384615384|               21|                   1|                    1|                    1|                 8|           2|            0|                   0|                      0|  0.047619047619047616|                 5|1.3292000000000008|                     0|    92.16020000000003|           213.038|  211.96975826| 1.0739999999999998|56.209999999999994|                    0|             1|                4|               0|             0.0|               11|                   2|                    0|                    0|                 5|           2|            0|                   0|                      0|   0.18181818181818182|                 5| 1.0739999999999998|                     0|              45.0994|870.0989999999996|      870.071214688|            2.7055|            187.56|                        11|                  4|                    14|                    0|                 0.25|                    47|                        5|                         1|                         1|                     19|                6|                 0|                        0|                           0|        0.10638297872340426|                     18|                2.7055|                          0|        175.88209999999967|     (2,[],[])|\n",
      "|193986573|    0|360.3690000000001| 360.111006992|4.140800000000002|88.52000000000001|                    4|             2|                4|               0|0.09523809523809523|               27|                   3|                    1|                    0|                 6|           4|            0|                   0|                      0|    0.1111111111111111|                 6|4.140800000000002|                     0|    99.88800000000002|  356.319| 355.088803336|1.3292000000000008|   66.64|                    4|             1|                4|               0|0.5384615384615384|               21|                   1|                    1|                    1|                 8|           2|            0|                   0|                      0|  0.047619047619047616|                 5|1.3292000000000008|                     0|    92.16020000000003|140.21099999999998| 140.040819256|             1.6027|             38.91|                    1|             1|                3|               0|             0.5|                9|                   1|                    1|                    1|                 3|           2|            0|                   0|                      0|    0.1111111111111111|                 4|             1.6027|                     0|    38.50140000000002|797.2719999999998|  798.1422756840001| 3.234200000000002|            170.26|                        12|                  4|                    13|                    0|  0.35714285714285715|                    45|                        4|                         2|                         2|                     17|                6|                 0|                        0|                           0|        0.08888888888888889|                     17|     3.234200000000002|                          0|        169.28409999999963| (2,[0],[1.0])|\n",
      "|193986574|    0|360.3690000000001| 360.111006992|4.140800000000002|88.52000000000001|                    4|             2|                4|               0|0.09523809523809523|               27|                   3|                    1|                    0|                 6|           4|            0|                   0|                      0|    0.1111111111111111|                 6|4.140800000000002|                     0|    99.88800000000002|  356.319| 355.088803336|1.3292000000000008|   66.64|                    4|             1|                4|               0|0.5384615384615384|               21|                   1|                    1|                    1|                 8|           2|            0|                   0|                      0|  0.047619047619047616|                 5|1.3292000000000008|                     0|    92.16020000000003|140.21099999999998| 140.040819256|             1.6027|             38.91|                    1|             1|                3|               0|             0.5|                9|                   1|                    1|                    1|                 3|           2|            0|                   0|                      0|    0.1111111111111111|                 4|             1.6027|                     0|    38.50140000000002|797.2719999999998|  798.1422756840001| 3.234200000000002|            170.26|                        12|                  4|                    13|                    0|  0.35714285714285715|                    45|                        4|                         2|                         2|                     17|                6|                 0|                        0|                           0|        0.08888888888888889|                     17|     3.234200000000002|                          0|        169.28409999999963| (2,[1],[1.0])|\n",
      "|193986575|    0|360.3690000000001| 360.111006992|4.140800000000002|88.52000000000001|                    4|             2|                4|               0|0.09523809523809523|               27|                   3|                    1|                    0|                 6|           4|            0|                   0|                      0|    0.1111111111111111|                 6|4.140800000000002|                     0|    99.88800000000002|  356.319| 355.088803336|1.3292000000000008|   66.64|                    4|             1|                4|               0|0.5384615384615384|               21|                   1|                    1|                    1|                 8|           2|            0|                   0|                      0|  0.047619047619047616|                 5|1.3292000000000008|                     0|    92.16020000000003|140.21099999999998| 140.040819256|             1.6027|             38.91|                    1|             1|                3|               0|             0.5|                9|                   1|                    1|                    1|                 3|           2|            0|                   0|                      0|    0.1111111111111111|                 4|             1.6027|                     0|    38.50140000000002|797.2719999999998|  798.1422756840001| 3.234200000000002|            170.26|                        12|                  4|                    13|                    0|  0.35714285714285715|                    45|                        4|                         2|                         2|                     17|                6|                 0|                        0|                           0|        0.08888888888888889|                     17|     3.234200000000002|                          0|        169.28409999999963|     (2,[],[])|\n",
      "|193986576|    0|360.3690000000001| 360.111006992|4.140800000000002|88.52000000000001|                    4|             2|                4|               0|0.09523809523809523|               27|                   3|                    1|                    0|                 6|           4|            0|                   0|                      0|    0.1111111111111111|                 6|4.140800000000002|                     0|    99.88800000000002|  356.319| 355.088803336|1.3292000000000008|   66.64|                    4|             1|                4|               0|0.5384615384615384|               21|                   1|                    1|                    1|                 8|           2|            0|                   0|                      0|  0.047619047619047616|                 5|1.3292000000000008|                     0|    92.16020000000003|           192.005| 190.965317076|             1.1781|             68.87|                    1|             1|                4|               0|             0.0|               11|                   1|                    0|                    0|                 6|           1|            0|                   0|                      0|   0.09090909090909091|                 5|             1.1781|                     0|    41.85189999999999|849.0659999999996|  849.0667735039999|2.8096000000000005|200.21999999999997|                        12|                  4|                    14|                    0|  0.25925925925925924|                    47|                        4|                         1|                         1|                     20|                5|                 0|                        0|                           0|         0.0851063829787234|                     18|    2.8096000000000005|                          0|        172.63459999999972| (2,[0],[1.0])|\n",
      "|193986577|    0|360.3690000000001| 360.111006992|4.140800000000002|88.52000000000001|                    4|             2|                4|               0|0.09523809523809523|               27|                   3|                    1|                    0|                 6|           4|            0|                   0|                      0|    0.1111111111111111|                 6|4.140800000000002|                     0|    99.88800000000002|  356.319| 355.088803336|1.3292000000000008|   66.64|                    4|             1|                4|               0|0.5384615384615384|               21|                   1|                    1|                    1|                 8|           2|            0|                   0|                      0|  0.047619047619047616|                 5|1.3292000000000008|                     0|    92.16020000000003|           192.005| 190.965317076|             1.1781|             68.87|                    1|             1|                4|               0|             0.0|               11|                   1|                    0|                    0|                 6|           1|            0|                   0|                      0|   0.09090909090909091|                 5|             1.1781|                     0|    41.85189999999999|849.0659999999996|  849.0667735039999|2.8096000000000005|200.21999999999997|                        12|                  4|                    14|                    0|  0.25925925925925924|                    47|                        4|                         1|                         1|                     20|                5|                 0|                        0|                           0|         0.0851063829787234|                     18|    2.8096000000000005|                          0|        172.63459999999972| (2,[1],[1.0])|\n",
      "|193986578|    0|360.3690000000001| 360.111006992|4.140800000000002|88.52000000000001|                    4|             2|                4|               0|0.09523809523809523|               27|                   3|                    1|                    0|                 6|           4|            0|                   0|                      0|    0.1111111111111111|                 6|4.140800000000002|                     0|    99.88800000000002|  356.319| 355.088803336|1.3292000000000008|   66.64|                    4|             1|                4|               0|0.5384615384615384|               21|                   1|                    1|                    1|                 8|           2|            0|                   0|                      0|  0.047619047619047616|                 5|1.3292000000000008|                     0|    92.16020000000003|           192.005| 190.965317076|             1.1781|             68.87|                    1|             1|                4|               0|             0.0|               11|                   1|                    0|                    0|                 6|           1|            0|                   0|                      0|   0.09090909090909091|                 5|             1.1781|                     0|    41.85189999999999|849.0659999999996|  849.0667735039999|2.8096000000000005|200.21999999999997|                        12|                  4|                    14|                    0|  0.25925925925925924|                    47|                        4|                         1|                         1|                     20|                5|                 0|                        0|                           0|         0.0851063829787234|                     18|    2.8096000000000005|                          0|        172.63459999999972|     (2,[],[])|\n",
      "|193986579|    0|360.3690000000001| 360.111006992|4.140800000000002|88.52000000000001|                    4|             2|                4|               0|0.09523809523809523|               27|                   3|                    1|                    0|                 6|           4|            0|                   0|                      0|    0.1111111111111111|                 6|4.140800000000002|                     0|    99.88800000000002|  356.319| 355.088803336|1.3292000000000008|   66.64|                    4|             1|                4|               0|0.5384615384615384|               21|                   1|                    1|                    1|                 8|           2|            0|                   0|                      0|  0.047619047619047616|                 5|1.3292000000000008|                     0|    92.16020000000003|169.57500000000002| 169.015522808| 0.5884999999999998|             80.48|                    0|             2|                4|               0|             0.0|               11|                   2|                    0|                    0|                 6|           2|            0|                   0|                      0|   0.18181818181818182|                 6| 0.5884999999999998|                     0|              41.1061|826.6359999999995|      827.116979236| 2.219999999999999|211.82999999999998|                        11|                  5|                    14|                    0|  0.25925925925925924|                    47|                        5|                         1|                         1|                     20|                6|                 0|                        0|                           0|        0.10638297872340426|                     19|     2.219999999999999|                          0|        171.88879999999972| (2,[0],[1.0])|\n",
      "+---------+-----+-----------------+--------------+-----------------+-----------------+---------------------+--------------+-----------------+----------------+-------------------+-----------------+--------------------+---------------------+---------------------+------------------+------------+-------------+--------------------+-----------------------+----------------------+------------------+-----------------+----------------------+---------------------+---------+--------------+------------------+--------+---------------------+--------------+-----------------+----------------+------------------+-----------------+--------------------+---------------------+---------------------+------------------+------------+-------------+--------------------+-----------------------+----------------------+------------------+------------------+----------------------+---------------------+------------------+--------------+-------------------+------------------+---------------------+--------------+-----------------+----------------+----------------+-----------------+--------------------+---------------------+---------------------+------------------+------------+-------------+--------------------+-----------------------+----------------------+------------------+-------------------+----------------------+---------------------+-----------------+-------------------+------------------+------------------+--------------------------+-------------------+----------------------+---------------------+---------------------+----------------------+-------------------------+--------------------------+--------------------------+-----------------------+-----------------+------------------+-------------------------+----------------------------+---------------------------+-----------------------+----------------------+---------------------------+--------------------------+--------------+\n",
      "only showing top 20 rows\n",
      "\n"
     ]
    }
   ],
   "source": [
    "full_df_features.show()"
   ]
  },
  {
   "cell_type": "markdown",
   "id": "8aae0e20",
   "metadata": {},
   "source": [
    "### Tokens Dataset"
   ]
  },
  {
   "cell_type": "code",
   "execution_count": 5,
   "id": "3cb6b6d4-4ec0-4e96-a511-ca865474f3ca",
   "metadata": {},
   "outputs": [
    {
     "name": "stderr",
     "output_type": "stream",
     "text": [
      "                                                                                "
     ]
    },
    {
     "name": "stdout",
     "output_type": "stream",
     "text": [
      "+---------+-------+---+---+---+---+---+---+---+---+---+---+---+---+---+---+---+---+---+---+---+---+---+---+---+---+---+---+---+---+---+---+---+---+---+---+---+---+---+---+---+---+---+---+---+---+---+---+---+---+---+---+---+---+---+---+---+---+---+---+---+---+---+---+---+---+---+---+---+---+---+---+---+---+---+---+---+---+---+---+---+---+---+---+---+---+---+---+---+---+---+---+---+---+---+---+---+---+---+\n",
      "|       id|protein| a1| a2| a3| a4| a5| a6| a7| a8| a9|a10|a11|a12|a13|a14|a15|a16|a17|a18|a19|a20|a21|a22|a23|a24| b1| b2| b3| b4| b5| b6| b7| b8| b9|b10|b11|b12|b13|b14|b15|b16|b17|b18|b19|b20|b21|b22|b23|b24| c1| c2| c3| c4| c5| c6| c7| c8| c9|c10|c11|c12|c13|c14|c15|c16|c17|c18|c19|c20|c21|c22|c23|c24| d1| d2| d3| d4| d5| d6| d7| d8| d9|d10|d11|d12|d13|d14|d15|d16|d17|d18|d19|d20|d21|d22|d23|d24|  y|\n",
      "+---------+-------+---+---+---+---+---+---+---+---+---+---+---+---+---+---+---+---+---+---+---+---+---+---+---+---+---+---+---+---+---+---+---+---+---+---+---+---+---+---+---+---+---+---+---+---+---+---+---+---+---+---+---+---+---+---+---+---+---+---+---+---+---+---+---+---+---+---+---+---+---+---+---+---+---+---+---+---+---+---+---+---+---+---+---+---+---+---+---+---+---+---+---+---+---+---+---+---+---+\n",
      "|261511591|      2|  9|  8|  4| 17|  0|  0|  0|  0|  2|  0|  0|  1|  1|  0|  0|  1|  2|  2|  1|  4|  4|  2|  2|  5|  1|  1|  1|  4| 12|  0|  3|  6|  1|  0|  0|  0|  0|  1|  0|  0|  0|  1|  0|  0|  0|  0|  0|  0|  0|  0|  0|  0|  0|  0|  1|  4|  0|  0|  0|  1|  0|  0|  0|  1|  0|  0|  0|  0|  0|  0|  1|  1|  0|  1|  0|  1|  0|  0|  0|  0|  0|  0|  0|  0|  0|  0|  0|  0|  0|  0|  0|  0|  0|  0|  0|  0|  0|\n",
      "|253536195|      1|  8|  6|  2| 13|  0|  0|  0|  0|  2|  2|  0|  4|  1|  1|  0|  2|  2|  0|  0|  1|  4|  1|  0|  2|  1|  2|  1|  5| 18|  0|  7| 16|  1|  0|  0|  0|  0|  0|  0|  0|  1|  0|  0|  1|  0|  0|  0|  0|  0|  0|  0|  0|  0|  0|  2|  5|  0|  0|  0|  1|  0|  0|  0|  1|  0|  0|  0|  0|  0|  0|  0|  0|  0|  0|  0|  0|  0|  0|  0|  0|  0|  0|  0|  0|  0|  0|  0|  0|  0|  0|  0|  0|  0|  0|  0|  0|  0|\n",
      "|165335736|      1|  5|  7|  8| 15|  0|  0|  0|  0|  0|  0|  0|  0|  0|  0|  0|  0|  3|  1|  1|  4|  6|  1|  1|  5|  1|  3|  3|  8| 18|  5|  0| 14|  1|  0|  0|  0|  0|  0|  2|  0|  0|  0|  2|  0|  0|  0|  0|  0|  0|  0|  0|  0|  0|  1|  0|  4|  0|  0|  0|  1|  0|  0|  0|  1|  0|  0|  0|  0|  0|  0|  0|  0|  0|  0|  0|  0|  0|  0|  0|  0|  0|  0|  0|  0|  0|  0|  0|  0|  0|  0|  0|  0|  0|  0|  0|  0|  0|\n",
      "|128880874|      2|  9|  5|  5| 16|  0|  1|  0|  1|  3|  0|  0|  3|  2|  0|  0|  2|  3|  0|  1|  3|  4|  0|  2|  3|  1|  1|  2|  5| 12|  5|  9| 17|  1|  0|  0|  0|  0|  0|  0|  0|  0|  0|  0|  0|  0|  0|  0|  0|  0|  0|  0|  0|  0|  1|  1|  5|  0|  0|  0|  1|  0|  0|  0|  1|  0|  0|  0|  0|  0|  0|  1|  1|  0|  1|  0|  1|  0|  0|  0|  0|  0|  0|  0|  0|  0|  1|  0|  1|  0|  0|  0|  0|  0|  0|  0|  0|  0|\n",
      "| 46445298|      1|  5|  1|  5|  8|  0|  0|  0|  0|  0|  0|  0|  0|  0|  0|  0|  0|  2|  0|  0|  1|  4|  0|  1|  2|  1|  1|  2|  5| 18|  8|  6| 23|  1|  0|  0|  0|  0|  0|  0|  0|  0|  0|  0|  0|  1|  0|  0|  1|  1|  0|  0|  1|  0|  1|  0|  4|  0|  0|  0|  1|  0|  0|  0|  1|  0|  0|  0|  0|  0|  0|  0|  0|  0|  0|  0|  0|  0|  0|  0|  0|  0|  0|  0|  0|  0|  0|  0|  0|  0|  0|  0|  0|  0|  0|  0|  0|  0|\n",
      "| 16036859|      3| 13|  6|  9| 25|  0|  0|  0|  0|  3|  3|  0|  6|  2|  2|  0|  4|  3|  0|  2|  4|  6|  2|  2|  7|  2|  1|  3|  7| 12|  0|  6|  9|  1|  0|  0|  0|  0|  0|  0|  0|  0|  0|  0|  0|  0|  0|  0|  0|  0|  0|  0|  0|  0|  0|  0|  3|  0|  0|  0|  1|  0|  0|  0|  1|  0|  0|  0|  0|  0|  0|  0|  0|  0|  0|  0|  0|  0|  0|  0|  0|  0|  0|  0|  0|  0|  0|  0|  0|  0|  0|  0|  0|  0|  0|  0|  0|  0|\n",
      "|256020912|      1|  6|  0|  7| 10|  0|  0|  0|  0|  2|  0|  0|  1|  1|  0|  0|  1|  2|  0|  0|  1|  4|  0|  2|  3|  1|  1|  1|  4| 18|  7|  0| 16|  1|  0|  0|  0|  0|  0|  0|  0|  0|  0|  0|  0|  1|  0|  0|  1|  1|  0|  0|  1|  0|  1|  0|  4|  0|  0|  0|  1|  0|  0|  0|  1|  0|  1|  0|  1|  0|  0|  0|  0|  0|  0|  0|  0|  0|  1|  0|  1|  0|  0|  0|  0|  0|  0|  0|  0|  0|  0|  0|  0|  0|  0|  0|  0|  0|\n",
      "| 28796247|      1|  5|  5|  4|  7|  0|  0|  0|  0|  0|  0|  0|  0|  0|  0|  0|  0|  2|  1|  0|  2|  5|  0|  0|  2|  1|  1|  1|  4| 18|  5|  5| 19|  1|  0|  0|  0|  0|  2|  2|  0|  0|  2|  2|  0|  0|  0|  0|  0|  0|  0|  0|  0|  0|  1|  1|  5|  0|  0|  0|  1|  0|  0|  0|  1|  0|  0|  0|  0|  0|  0|  0|  0|  0|  0|  0|  0|  1|  0|  3|  4|  0|  0|  0|  0|  0|  0|  0|  0|  0|  0|  0|  0|  0|  0|  0|  0|  0|\n",
      "|176588316|      1|  4|  6|  9| 15|  0|  0|  0|  0|  0|  0|  0|  0|  0|  0|  0|  0|  2|  0|  2|  3|  4|  1|  1|  3|  1|  1|  3|  6| 18|  6|  6| 21|  1|  0|  0|  0|  0|  1|  0|  0|  0|  1|  0|  0|  0|  0|  0|  0|  0|  0|  0|  0|  0|  0|  0|  3|  0|  0|  0|  1|  0|  0|  0|  1|  0|  0|  0|  0|  0|  0|  0|  0|  0|  0|  0|  0|  0|  0|  0|  0|  0|  0|  0|  0|  0|  0|  0|  0|  0|  0|  0|  0|  1|  0|  0|  1|  0|\n",
      "|268694985|      1|  8|  1|  3|  9|  0|  0|  0|  0|  1|  0|  0|  1|  1|  0|  0|  1|  2|  0|  1|  2|  4|  0|  2|  3|  1|  1|  1|  4| 18|  8|  4| 21|  1|  0|  0|  0|  0|  0|  0|  0|  1|  0|  0|  1|  0|  0|  0|  0|  0|  0|  0|  0|  0|  1|  0|  4|  0|  0|  0|  1|  0|  0|  0|  1|  0|  0|  0|  0|  0|  0|  1|  1|  0|  0|  0|  0|  0|  0|  0|  0|  0|  0|  0|  0|  0|  0|  0|  0|  0|  0|  0|  0|  0|  0|  0|  0|  0|\n",
      "| 84849904|      2|  5|  0|  1|  3|  0|  0|  0|  0|  0|  0|  0|  0|  0|  0|  0|  0|  2|  0|  1|  2|  4|  0|  1|  2|  1|  1|  1|  4| 18| 12|  5| 26|  1|  0|  0|  0|  0|  0|  0|  0|  0|  0|  0|  0|  0|  0|  0|  0|  0|  0|  0|  0|  0|  0|  1|  4|  0|  0|  0|  1|  0|  0|  0|  1|  0|  1|  0|  1|  0|  0|  0|  0|  0|  0|  0|  0|  0|  0|  0|  0|  0|  0|  0|  0|  0|  0|  0|  0|  0|  0|  0|  0|  0|  0|  0|  0|  0|\n",
      "|258003581|      3|  7|  5|  3| 11|  0|  0|  0|  0|  2|  0|  0|  1|  1|  0|  0|  1|  2|  1|  0|  2|  4|  2|  0|  3|  1|  2|  1|  5| 18|  6|  3| 18|  1|  0|  0|  0|  0|  0|  1|  0|  1|  0|  1|  1|  0|  0|  0|  0|  0|  0|  0|  0|  0|  0|  1|  4|  0|  0|  0|  1|  0|  0|  0|  1|  0|  0|  1|  1|  0|  0|  0|  0|  0|  0|  0|  0|  0|  0|  0|  0|  0|  0|  0|  0|  0|  0|  0|  0|  0|  0|  0|  0|  0|  0|  0|  0|  0|\n",
      "|106486480|      2|  6|  5|  2| 10|  0|  0|  0|  0|  2|  0|  0|  2|  1|  0|  0|  1|  2|  0|  1|  2|  4|  1|  2|  4|  1|  2|  1|  5| 16|  6|  6| 19|  1|  0|  0|  0|  0|  0|  0|  0|  0|  0|  0|  0|  0|  0|  0|  0|  0|  0|  0|  0|  0|  0|  0|  3|  0|  0|  0|  1|  0|  0|  0|  1|  0|  0|  0|  0|  1|  0|  0|  1|  0|  0|  0|  0|  0|  0|  1|  1|  0|  0|  0|  0|  0|  0|  0|  0|  0|  0|  0|  0|  0|  0|  0|  0|  0|\n",
      "|258330198|      1|  7|  2|  0|  6|  0|  0|  0|  0|  2|  0|  0|  1|  1|  0|  1|  2|  2|  0|  1|  2|  4|  1|  1|  3|  1|  1|  1|  4| 18|  5|  4| 18|  1|  0|  0|  0|  0|  0|  0|  0|  1|  0|  0|  1|  0|  0|  0|  0|  0|  0|  0|  0|  0|  1|  2|  6|  0|  0|  0|  1|  0|  0|  0|  1|  0|  0|  0|  0|  0|  0|  0|  0|  0|  0|  0|  0|  0|  0|  0|  0|  0|  0|  0|  0|  0|  0|  0|  0|  0|  0|  0|  0|  0|  0|  0|  0|  0|\n",
      "| 92961968|      3|  6|  1|  9| 13|  0|  0|  0|  0|  2|  0|  0|  2|  1|  0|  1|  2|  2|  0|  1|  2|  4|  0|  2|  3|  1|  1|  2|  5| 18|  6|  3| 18|  1|  0|  0|  0|  0|  0|  0|  0|  0|  0|  0|  0|  1|  0|  0|  1|  1|  0|  0|  1|  0|  0|  2|  5|  0|  0|  0|  1|  0|  0|  0|  1|  0|  0|  0|  0|  0|  0|  0|  0|  0|  0|  0|  0|  0|  1|  0|  1|  0|  0|  0|  0|  0|  0|  0|  0|  0|  0|  0|  0|  0|  0|  0|  0|  0|\n",
      "|246563271|      1|  8|  2|  8| 15|  0|  0|  0|  0|  2|  0|  0|  2|  1|  0|  0|  1|  2|  1|  0|  2|  4|  2|  1|  4|  1|  2|  1|  5| 18|  6|  0| 15|  1|  1|  0|  1|  0|  0|  0|  0|  1|  0|  0|  1|  0|  0|  0|  0|  0|  0|  0|  0|  0|  0|  0|  3|  0|  0|  0|  1|  0|  0|  0|  1|  0|  0|  0|  0|  0|  0|  0|  0|  0|  0|  0|  0|  0|  0|  0|  0|  0|  1|  0|  1|  0|  0|  0|  0|  0|  0|  0|  0|  0|  0|  0|  0|  0|\n",
      "|221315582|      3|  4|  8|  1| 10|  0|  0|  0|  0|  0|  0|  0|  0|  0|  0|  0|  0|  2|  1|  0|  2|  4|  1|  1|  3|  1|  3|  1|  6| 17|  0|  4| 12|  1|  0|  0|  0|  0|  0|  0|  0|  0|  0|  0|  0|  0|  0|  0|  0|  0|  0|  0|  0|  1|  0|  2|  6|  0|  0|  0|  1|  0|  0|  0|  1|  0|  0|  0|  0|  0|  0|  0|  0|  0|  0|  0|  0|  0|  0|  0|  0|  0|  0|  0|  0|  0|  0|  0|  0|  0|  0|  0|  0|  0|  0|  0|  0|  0|\n",
      "|182168618|      3|  5|  2|  2|  6|  0|  0|  0|  0|  0|  0|  0|  0|  0|  0|  0|  0|  3|  0|  0|  2|  6|  1|  0|  4|  1|  1|  1|  4| 18|  6|  3| 18|  1|  0|  0|  0|  0|  0|  0|  0|  0|  0|  0|  0|  0|  0|  0|  0|  0|  0|  0|  0|  0|  0|  1|  4|  0|  0|  0|  1|  0|  0|  0|  1|  0|  0|  1|  1|  0|  0|  0|  0|  0|  0|  0|  0|  0|  0|  0|  0|  0|  0|  0|  0|  0|  0|  0|  0|  0|  0|  0|  0|  0|  0|  0|  0|  0|\n",
      "| 54003324|      1|  6|  5|  3| 10|  0|  0|  0|  0|  0|  0|  0|  0|  0|  0|  1|  1|  2|  0|  0|  1|  4|  1|  0|  2|  1|  1|  1|  4| 18|  0|  4| 13|  1|  0|  0|  0|  0|  1|  0|  0|  0|  1|  0|  0|  0|  0|  0|  0|  0|  0|  0|  0|  0|  0|  1|  4|  0|  0|  0|  1|  0|  0|  0|  1|  0|  0|  0|  0|  0|  0|  0|  0|  0|  0|  0|  0|  0|  2|  0|  2|  0|  0|  0|  0|  0|  0|  0|  0|  0|  0|  0|  0|  0|  0|  0|  0|  0|\n",
      "|193226987|      3|  5|  4|  3|  8|  0|  0|  0|  0|  0|  0|  0|  0|  0|  0|  0|  0|  2|  0|  0|  1|  5|  1|  0|  3|  1|  1|  1|  4| 18| 10|  3| 22|  1|  1|  0|  1|  0|  0|  1|  0|  0|  0|  1|  0|  0|  0|  1|  1|  0|  0|  1|  1|  0|  2|  2|  7|  0|  0|  0|  1|  0|  0|  0|  1|  0|  0|  0|  0|  0|  0|  0|  0|  0|  0|  0|  0|  3|  3|  0|  6|  0|  0|  0|  0|  0|  0|  0|  0|  0|  0|  0|  0|  0|  0|  0|  0|  0|\n",
      "+---------+-------+---+---+---+---+---+---+---+---+---+---+---+---+---+---+---+---+---+---+---+---+---+---+---+---+---+---+---+---+---+---+---+---+---+---+---+---+---+---+---+---+---+---+---+---+---+---+---+---+---+---+---+---+---+---+---+---+---+---+---+---+---+---+---+---+---+---+---+---+---+---+---+---+---+---+---+---+---+---+---+---+---+---+---+---+---+---+---+---+---+---+---+---+---+---+---+---+---+\n",
      "only showing top 20 rows\n",
      "\n"
     ]
    }
   ],
   "source": [
    "full_tokens_df = spark.read.format('parquet').load('zero_features.parquet').union(spark.read.format('parquet').load('one_features.parquet'))\n",
    "full_tokens_df.show()"
   ]
  },
  {
   "cell_type": "markdown",
   "id": "4f10a843",
   "metadata": {},
   "source": [
    "## Joining Both Dataset"
   ]
  },
  {
   "cell_type": "code",
   "execution_count": 8,
   "id": "a0dabe5c-3cae-4da3-994f-e40387d9d73d",
   "metadata": {},
   "outputs": [
    {
     "name": "stderr",
     "output_type": "stream",
     "text": [
      "[Stage 15:>                                                         (0 + 1) / 1]"
     ]
    },
    {
     "name": "stdout",
     "output_type": "stream",
     "text": [
      "+----+-----+-----------------+--------------+-----------------+-----------------+---------------------+--------------+-----------------+----------------+-------------------+-----------------+--------------------+---------------------+---------------------+------------------+------------+-------------+--------------------+-----------------------+----------------------+------------------+-----------------+----------------------+---------------------+------------------+--------------+-----------+--------+---------------------+--------------+-----------------+----------------+----------------+-----------------+--------------------+---------------------+---------------------+------------------+------------+-------------+--------------------+-----------------------+----------------------+------------------+-----------------+----------------------+---------------------+------------------+------------------+--------------------+------------------+---------------------+--------------+-----------------+----------------+-------------------+-----------------+--------------------+---------------------+---------------------+------------------+------------+-------------+--------------------+-----------------------+----------------------+------------------+--------------------+----------------------+---------------------+-----------------+-------------------+------------------+------------------+--------------------------+-------------------+----------------------+---------------------+---------------------+----------------------+-------------------------+--------------------------+--------------------------+-----------------------+-----------------+------------------+-------------------------+----------------------------+---------------------------+-----------------------+----------------------+---------------------------+--------------------------+--------------+----+-------+---+---+---+---+---+---+---+---+---+---+---+---+---+---+---+---+---+---+---+---+---+---+---+---+---+---+---+---+---+---+---+---+---+---+---+---+---+---+---+---+---+---+---+---+---+---+---+---+---+---+---+---+---+---+---+---+---+---+---+---+---+---+---+---+---+---+---+---+---+---+---+---+---+---+---+---+---+---+---+---+---+---+---+---+---+---+---+---+---+---+---+---+---+---+---+---+---+\n",
      "|  id|binds|        bb1_MolWt|bb1_ExactMolWt|      bb1_MolLogP|         bb1_TPSA|bb1_NumRotatableBonds|bb1_NumHDonors|bb1_NumHAcceptors|bb1_FormalCharge|   bb1_FractionCSP3|bb1_NumHeavyAtoms|bb1_NumAromaticRings|bb1_NumAliphaticRings|bb1_NumSaturatedRings|bb1_NumHeteroatoms|bb1_NumRings|bb1_MolVolume|bb1_RadiusOfGyration|bb1_InertialShapeFactor|bb1_AromaticProportion|bb1_HBondPotential|bb1_Lipophilicity|bb1_ChargeDistribution|bb1_ElectroNegativity|         bb2_MolWt|bb2_ExactMolWt|bb2_MolLogP|bb2_TPSA|bb2_NumRotatableBonds|bb2_NumHDonors|bb2_NumHAcceptors|bb2_FormalCharge|bb2_FractionCSP3|bb2_NumHeavyAtoms|bb2_NumAromaticRings|bb2_NumAliphaticRings|bb2_NumSaturatedRings|bb2_NumHeteroatoms|bb2_NumRings|bb2_MolVolume|bb2_RadiusOfGyration|bb2_InertialShapeFactor|bb2_AromaticProportion|bb2_HBondPotential|bb2_Lipophilicity|bb2_ChargeDistribution|bb2_ElectroNegativity|         bb3_MolWt|    bb3_ExactMolWt|         bb3_MolLogP|          bb3_TPSA|bb3_NumRotatableBonds|bb3_NumHDonors|bb3_NumHAcceptors|bb3_FormalCharge|   bb3_FractionCSP3|bb3_NumHeavyAtoms|bb3_NumAromaticRings|bb3_NumAliphaticRings|bb3_NumSaturatedRings|bb3_NumHeteroatoms|bb3_NumRings|bb3_MolVolume|bb3_RadiusOfGyration|bb3_InertialShapeFactor|bb3_AromaticProportion|bb3_HBondPotential|   bb3_Lipophilicity|bb3_ChargeDistribution|bb3_ElectroNegativity|   molecule_MolWt|molecule_ExactMolWt|  molecule_MolLogP|     molecule_TPSA|molecule_NumRotatableBonds|molecule_NumHDonors|molecule_NumHAcceptors|molecule_FormalCharge|molecule_FractionCSP3|molecule_NumHeavyAtoms|molecule_NumAromaticRings|molecule_NumAliphaticRings|molecule_NumSaturatedRings|molecule_NumHeteroatoms|molecule_NumRings|molecule_MolVolume|molecule_RadiusOfGyration|molecule_InertialShapeFactor|molecule_AromaticProportion|molecule_HBondPotential|molecule_Lipophilicity|molecule_ChargeDistribution|molecule_ElectroNegativity|protein_onehot|  id|protein| a1| a2| a3| a4| a5| a6| a7| a8| a9|a10|a11|a12|a13|a14|a15|a16|a17|a18|a19|a20|a21|a22|a23|a24| b1| b2| b3| b4| b5| b6| b7| b8| b9|b10|b11|b12|b13|b14|b15|b16|b17|b18|b19|b20|b21|b22|b23|b24| c1| c2| c3| c4| c5| c6| c7| c8| c9|c10|c11|c12|c13|c14|c15|c16|c17|c18|c19|c20|c21|c22|c23|c24| d1| d2| d3| d4| d5| d6| d7| d8| d9|d10|d11|d12|d13|d14|d15|d16|d17|d18|d19|d20|d21|d22|d23|d24|  y|\n",
      "+----+-----+-----------------+--------------+-----------------+-----------------+---------------------+--------------+-----------------+----------------+-------------------+-----------------+--------------------+---------------------+---------------------+------------------+------------+-------------+--------------------+-----------------------+----------------------+------------------+-----------------+----------------------+---------------------+------------------+--------------+-----------+--------+---------------------+--------------+-----------------+----------------+----------------+-----------------+--------------------+---------------------+---------------------+------------------+------------+-------------+--------------------+-----------------------+----------------------+------------------+-----------------+----------------------+---------------------+------------------+------------------+--------------------+------------------+---------------------+--------------+-----------------+----------------+-------------------+-----------------+--------------------+---------------------+---------------------+------------------+------------+-------------+--------------------+-----------------------+----------------------+------------------+--------------------+----------------------+---------------------+-----------------+-------------------+------------------+------------------+--------------------------+-------------------+----------------------+---------------------+---------------------+----------------------+-------------------------+--------------------------+--------------------------+-----------------------+-----------------+------------------+-------------------------+----------------------------+---------------------------+-----------------------+----------------------+---------------------------+--------------------------+--------------+----+-------+---+---+---+---+---+---+---+---+---+---+---+---+---+---+---+---+---+---+---+---+---+---+---+---+---+---+---+---+---+---+---+---+---+---+---+---+---+---+---+---+---+---+---+---+---+---+---+---+---+---+---+---+---+---+---+---+---+---+---+---+---+---+---+---+---+---+---+---+---+---+---+---+---+---+---+---+---+---+---+---+---+---+---+---+---+---+---+---+---+---+---+---+---+---+---+---+---+\n",
      "|  26|    0|349.3860000000001| 349.131408088|3.391700000000002|75.63000000000001|                    6|             2|                3|               0|0.23809523809523808|               26|                   2|                    1|                    0|                 5|           3|            0|                   0|                      0|   0.07692307692307693|                 5|3.391700000000002|                     0|    97.69550000000004|           197.665| 197.060741684|     1.5791|   35.25|                    3|             1|                2|               0|             0.2|               13|                   1|                    0|                    0|                 3|           1|            0|                   0|                      0|   0.07692307692307693|                 3|           1.5791|                     0|   55.909400000000026|           266.345|     266.174275944|              2.0373|             73.38|                    1|             1|                5|               0| 0.6923076923076923|               19|                   1|                    1|                    1|                 6|           2|            0|                   0|                      0|   0.05263157894736842|                 6|              2.0373|                     0|    72.71740000000004|790.2300000000002|  791.2447495279998|3.7822000000000013|            160.45|                        13|                  4|                    12|                    0|               0.4375|                    47|                        3|                         1|                         1|                     15|                4|                 0|                        0|                           0|        0.06382978723404255|                     16|    3.7822000000000013|                          0|         173.1317999999996|     (2,[],[])|  26|      3|  9|  5| 10| 20|  1|  1|  0|  2|  2|  0|  0|  2|  1|  0|  0|  1|  2|  0|  1|  2|  4|  1|  2|  4|  1|  1|  2|  5| 12|  6|  3| 12|  1|  0|  0|  0|  0|  1|  0|  0|  0|  1|  0|  0|  0|  0|  0|  0|  0|  0|  0|  0|  0|  0|  2|  5|  0|  0|  0|  1|  0|  0|  0|  1|  0|  0|  0|  0|  0|  0|  0|  0|  0|  0|  0|  0|  0|  0|  0|  0|  0|  0|  0|  0|  0|  0|  0|  0|  0|  0|  0|  0|  0|  0|  0|  0|  0|\n",
      "|  29|    0|349.3860000000001| 349.131408088|3.391700000000002|75.63000000000001|                    6|             2|                3|               0|0.23809523809523808|               26|                   2|                    1|                    0|                 5|           3|            0|                   0|                      0|   0.07692307692307693|                 5|3.391700000000002|                     0|    97.69550000000004|           197.665| 197.060741684|     1.5791|   35.25|                    3|             1|                2|               0|             0.2|               13|                   1|                    0|                    0|                 3|           1|            0|                   0|                      0|   0.07692307692307693|                 3|           1.5791|                     0|   55.909400000000026|252.31799999999998|      252.15862588|              1.9777| 84.24000000000001|                    0|             2|                4|               0| 0.6666666666666666|               18|                   1|                    1|                    0|                 6|           2|            0|                   0|                      0|   0.05555555555555555|                 6|              1.9777|                     0|    67.80310000000003|776.2030000000003|  777.2290994639999|3.7226000000000017|            171.31|                        12|                  5|                    11|                    0|  0.41935483870967744|                    46|                        3|                         1|                         0|                     15|                4|                 0|                        0|                           0|        0.06521739130434782|                     16|    3.7226000000000017|                          0|        168.21749999999966|     (2,[],[])|  29|      3|  9|  5|  9| 19|  1|  1|  0|  2|  2|  0|  0|  2|  1|  0|  1|  2|  2|  0|  1|  2|  4|  1|  2|  4|  1|  1|  2|  5| 12|  6|  3| 12|  1|  0|  0|  0|  0|  1|  0|  0|  0|  1|  0|  0|  0|  0|  0|  0|  0|  0|  0|  0|  0|  0|  2|  5|  0|  0|  0|  1|  0|  0|  0|  1|  0|  0|  0|  0|  0|  0|  0|  0|  0|  0|  0|  0|  0|  0|  0|  0|  0|  0|  0|  0|  0|  0|  0|  0|  0|  0|  0|  0|  0|  0|  0|  0|  0|\n",
      "| 474|    0|349.3860000000001| 349.131408088|3.391700000000002|75.63000000000001|                    6|             2|                3|               0|0.23809523809523808|               26|                   2|                    1|                    0|                 5|           3|            0|                   0|                      0|   0.07692307692307693|                 5|3.391700000000002|                     0|    97.69550000000004|           197.665| 197.060741684|     1.5791|   35.25|                    3|             1|                2|               0|             0.2|               13|                   1|                    0|                    0|                 3|           1|            0|                   0|                      0|   0.07692307692307693|                 3|           1.5791|                     0|   55.909400000000026|156.61600000000004|     156.045425968|             1.50212|             38.91|                    1|             1|                2|               0| 0.2857142857142857|               10|                   1|                    0|                    0|                 3|           1|            0|                   0|                      0|                   0.1|                 3|             1.50212|                     0|   41.875400000000006|680.5010000000002|  681.1158995520001| 3.239020000000002|            125.98|                        13|                  4|                     9|                    0|   0.2692307692307692|                    38|                        3|                         0|                         0|                     12|                3|                 0|                        0|                           0|        0.07894736842105263|                     13|     3.239020000000002|                          0|         142.8547999999999| (2,[0],[1.0])| 474|      1|  9|  5|  3| 13|  1|  1|  0|  2|  2|  0|  0|  2|  1|  0|  0|  1|  2|  0|  0|  1|  4|  1|  0|  2|  1|  1|  1|  4| 12|  6|  5| 14|  1|  0|  0|  0|  0|  1|  0|  0|  0|  1|  1|  1|  0|  0|  0|  0|  0|  0|  0|  0|  0|  0|  1|  4|  0|  0|  0|  1|  0|  0|  0|  1|  0|  0|  0|  0|  0|  0|  0|  0|  0|  0|  0|  0|  0|  0|  0|  0|  0|  0|  0|  0|  0|  0|  0|  0|  0|  0|  0|  0|  0|  0|  0|  0|  0|\n",
      "| 964|    0|349.3860000000001| 349.131408088|3.391700000000002|75.63000000000001|                    6|             2|                3|               0|0.23809523809523808|               26|                   2|                    1|                    0|                 5|           3|            0|                   0|                      0|   0.07692307692307693|                 5|3.391700000000002|                     0|    97.69550000000004|           197.665| 197.060741684|     1.5791|   35.25|                    3|             1|                2|               0|             0.2|               13|                   1|                    0|                    0|                 3|           1|            0|                   0|                      0|   0.07692307692307693|                 3|           1.5791|                     0|   55.909400000000026|143.22999999999996|     143.131014164|  0.8862999999999996|             46.25|                    3|             2|                2|               0|                1.0|               10|                   0|                    1|                    1|                 2|           1|            0|                   0|                      0|                   0.0|                 4|  0.8862999999999996|                     0|    41.63620000000002|667.1150000000004|  668.2014877480001|2.6231999999999998|            133.32|                        15|                  5|                     9|                    0|  0.48148148148148145|                    38|                        2|                         1|                         1|                     11|                3|                 0|                        0|                           0|        0.05263157894736842|                     14|    2.6231999999999998|                          0|        142.61559999999992| (2,[1],[1.0])| 964|      2|  9|  5|  8| 18|  1|  1|  0|  2|  2|  0|  0|  2|  1|  0|  0|  1|  2|  0|  0|  1|  4|  1|  1|  3|  1|  1|  1|  4| 12|  6|  0|  9|  1|  0|  0|  0|  0|  1|  0|  0|  0|  1|  0|  0|  0|  0|  0|  0|  0|  0|  0|  0|  0|  0|  0|  3|  0|  0|  0|  1|  0|  0|  0|  1|  0|  0|  0|  0|  0|  0|  0|  0|  0|  0|  0|  0|  0|  0|  0|  0|  0|  0|  0|  0|  0|  0|  0|  0|  0|  0|  0|  0|  0|  0|  0|  0|  0|\n",
      "|1677|    0|349.3860000000001| 349.131408088|3.391700000000002|75.63000000000001|                    6|             2|                3|               0|0.23809523809523808|               26|                   2|                    1|                    0|                 5|           3|            0|                   0|                      0|   0.07692307692307693|                 5|3.391700000000002|                     0|    97.69550000000004|197.66499999999996| 197.060741684|     1.5791|   35.25|                    3|             1|                2|               0|             0.2|               13|                   1|                    0|                    0|                 3|           1|            0|                   0|                      0|   0.07692307692307693|                 3|           1.5791|                     0|   55.909400000000026|157.66600000000003|     157.032812684| 0.13550000000000012|             43.09|                    3|             1|                2|               0|                1.0|                8|                   0|                    0|                    0|                 4|           0|            0|                   0|                      0|                   0.0|                 3| 0.13550000000000012|                     0|    39.85280000000001|645.0900000000001|      646.126608556|1.4506000000000001|130.16000000000003|                        15|                  4|                     9|                    0|    0.391304347826087|                    35|                        2|                         0|                         0|                     12|                2|                 0|                        0|                           0|        0.05714285714285714|                     13|    1.4506000000000001|                          0|        133.58419999999998| (2,[0],[1.0])|1677|      1|  9|  5|  5| 14|  1|  1|  0|  2|  2|  0|  0|  2|  1|  0|  0|  1|  2|  0|  1|  2|  4|  1|  1|  3|  1|  1|  1|  4| 12|  6|  0|  9|  1|  0|  0|  0|  0|  1|  1|  0|  0|  1|  1|  0|  0|  0|  0|  0|  0|  0|  0|  0|  0|  0|  0|  3|  0|  0|  0|  1|  0|  0|  0|  1|  0|  0|  0|  0|  0|  0|  0|  0|  0|  0|  1|  1|  0|  0|  0|  0|  0|  0|  0|  0|  0|  0|  0|  0|  0|  0|  0|  0|  0|  0|  0|  0|  0|\n",
      "|1697|    0|349.3860000000001| 349.131408088|3.391700000000002|75.63000000000001|                    6|             2|                3|               0|0.23809523809523808|               26|                   2|                    1|                    0|                 5|           3|            0|                   0|                      0|   0.07692307692307693|                 5|3.391700000000002|                     0|    97.69550000000004|197.66499999999996| 197.060741684|     1.5791|   35.25|                    3|             1|                2|               0|             0.2|               13|                   1|                    0|                    0|                 3|           1|            0|                   0|                      0|   0.07692307692307693|                 3|           1.5791|                     0|   55.909400000000026|125.17499999999998|125.09529735199999|              0.3617|             43.84|                    2|             1|                3|               0|                0.5|                9|                   1|                    0|                    0|                 3|           1|            0|                   0|                      0|    0.1111111111111111|                 4|              0.3617|                     0|    35.79239999999999|649.0600000000002|  650.1657709360001|2.0985999999999994|130.91000000000003|                        14|                  4|                    10|                    0|                 0.32|                    37|                        3|                         0|                         0|                     12|                3|                 0|                        0|                           0|        0.08108108108108109|                     14|    2.0985999999999994|                          0|        136.77179999999996|     (2,[],[])|1697|      3|  9|  5|  3| 13|  1|  1|  0|  2|  2|  0|  0|  2|  1|  0|  0|  1|  2|  0|  0|  1|  4|  1|  0|  2|  1|  1|  1|  4| 12|  6|  3| 12|  1|  0|  0|  0|  0|  1|  0|  0|  0|  1|  0|  0|  0|  0|  0|  0|  0|  0|  0|  0|  0|  0|  2|  5|  0|  0|  0|  1|  0|  0|  0|  1|  0|  0|  0|  0|  0|  0|  0|  0|  0|  0|  0|  0|  0|  0|  0|  0|  0|  0|  0|  0|  0|  0|  0|  0|  0|  0|  0|  0|  0|  0|  0|  0|  0|\n",
      "|1806|    0|349.3860000000001| 349.131408088|3.391700000000002|75.63000000000001|                    6|             2|                3|               0|0.23809523809523808|               26|                   2|                    1|                    0|                 5|           3|            0|                   0|                      0|   0.07692307692307693|                 5|3.391700000000002|                     0|    97.69550000000004|197.66499999999996| 197.060741684|     1.5791|   35.25|                    3|             1|                2|               0|             0.2|               13|                   1|                    0|                    0|                 3|           1|            0|                   0|                      0|   0.07692307692307693|                 3|           1.5791|                     0|   55.909400000000026|           152.153|     152.058577496|              0.4504|             65.21|                    1|             1|                4|               0|0.14285714285714285|               11|                   1|                    0|                    0|                 4|           1|            0|                   0|                      0|   0.09090909090909091|                 5|              0.4504|                     0|    39.98890000000001|676.0380000000001|  677.1290510800001|2.1952999999999996|152.28000000000003|                        13|                  4|                    11|                    0|  0.23076923076923078|                    39|                        3|                         0|                         0|                     13|                3|                 0|                        0|                           0|        0.07692307692307693|                     15|    2.1952999999999996|                          0|        140.40329999999992| (2,[0],[1.0])|1806|      1|  9|  5|  2| 12|  1|  1|  0|  2|  2|  0|  0|  2|  1|  0|  0|  1|  2|  0|  1|  2|  4|  1|  2|  4|  1|  1|  1|  4| 12|  6|  5| 14|  1|  0|  0|  0|  0|  1|  0|  0|  0|  1|  0|  0|  0|  0|  0|  0|  0|  0|  0|  0|  0|  0|  1|  4|  0|  0|  0|  1|  0|  0|  0|  1|  0|  0|  0|  0|  0|  0|  0|  0|  0|  0|  0|  0|  0|  0|  0|  0|  0|  0|  0|  0|  0|  0|  0|  0|  0|  0|  0|  0|  0|  0|  0|  0|  0|\n",
      "|1950|    0|349.3860000000001| 349.131408088|3.391700000000002|75.63000000000001|                    6|             2|                3|               0|0.23809523809523808|               26|                   2|                    1|                    0|                 5|           3|            0|                   0|                      0|   0.07692307692307693|                 5|3.391700000000002|                     0|    97.69550000000004|197.66499999999996| 197.060741684|     1.5791|   35.25|                    3|             1|                2|               0|             0.2|               13|                   1|                    0|                    0|                 3|           1|            0|                   0|                      0|   0.07692307692307693|                 3|           1.5791|                     0|   55.909400000000026|           179.183|     179.080709908|-0.40840000000000026|             78.33|                    2|             1|                6|               0| 0.2857142857142857|               13|                   2|                    0|                    0|                 6|           2|            0|                   0|                      0|   0.15384615384615385|                 7|-0.40840000000000026|                     0|    45.22540000000001|703.0680000000002|  704.1511834920001|1.3284999999999998|165.40000000000003|                        14|                  4|                    13|                    0|   0.2692307692307692|                    41|                        4|                         0|                         0|                     15|                4|                 0|                        0|                           0|         0.0975609756097561|                     17|    1.3284999999999998|                          0|         146.2047999999999| (2,[0],[1.0])|1950|      1|  9|  5|  2| 12|  1|  1|  0|  2|  2|  0|  0|  2|  1|  0|  0|  1|  2|  0|  0|  1|  4|  1|  1|  3|  1|  1|  1|  4| 12|  6|  5| 14|  1|  0|  0|  0|  0|  1|  0|  0|  0|  1|  0|  0|  0|  0|  0|  0|  0|  0|  0|  0|  0|  0|  4|  7|  0|  0|  0|  1|  0|  0|  0|  1|  0|  0|  0|  0|  0|  0|  0|  0|  0|  0|  0|  0|  0|  0|  0|  0|  0|  0|  0|  0|  0|  0|  0|  0|  0|  0|  0|  0|  0|  0|  0|  0|  0|\n",
      "|2040|    0|349.3860000000001| 349.131408088|3.391700000000002|75.63000000000001|                    6|             2|                3|               0|0.23809523809523808|               26|                   2|                    1|                    0|                 5|           3|            0|                   0|                      0|   0.07692307692307693|                 5|3.391700000000002|                     0|    97.69550000000004|197.66499999999996| 197.060741684|     1.5791|   35.25|                    3|             1|                2|               0|             0.2|               13|                   1|                    0|                    0|                 3|           1|            0|                   0|                      0|   0.07692307692307693|                 3|           1.5791|                     0|   55.909400000000026|194.69100000000003|194.03929503199998|              0.5482|             67.59|                    3|             2|                4|               0|                0.6|               11|                   1|                    0|                    0|                 6|           1|            0|                   0|                      0|   0.09090909090909091|                 6|              0.5482|                     0|    48.74110000000001|682.1150000000001|      683.133090904|1.8632999999999995|154.66000000000003|                        15|                  5|                    11|                    0|   0.3333333333333333|                    38|                        3|                         0|                         0|                     14|                3|                 0|                        0|                           0|        0.07894736842105263|                     16|    1.8632999999999995|                          0|        142.47249999999994| (2,[0],[1.0])|2040|      1|  9|  5|  4| 13|  1|  1|  0|  2|  2|  0|  0|  2|  1|  0|  1|  2|  2|  0|  0|  1|  4|  1|  0|  2|  1|  1|  1|  4| 12|  6|  2| 11|  1|  0|  0|  0|  0|  1|  1|  0|  0|  1|  1|  0|  0|  0|  0|  0|  0|  0|  0|  0|  0|  0|  3|  6|  0|  0|  0|  1|  0|  0|  0|  1|  0|  0|  0|  0|  0|  0|  0|  0|  0|  0|  1|  1|  0|  0|  0|  0|  0|  0|  0|  0|  0|  0|  0|  0|  0|  0|  0|  0|  0|  0|  0|  0|  0|\n",
      "|2214|    0|349.3860000000001| 349.131408088|3.391700000000002|75.63000000000001|                    6|             2|                3|               0|0.23809523809523808|               26|                   2|                    1|                    0|                 5|           3|            0|                   0|                      0|   0.07692307692307693|                 5|3.391700000000002|                     0|    97.69550000000004|197.66499999999996| 197.060741684|     1.5791|   35.25|                    3|             1|                2|               0|             0.2|               13|                   1|                    0|                    0|                 3|           1|            0|                   0|                      0|   0.07692307692307693|                 3|           1.5791|                     0|   55.909400000000026|148.59300000000002|     148.040340588|  0.8635199999999998|             52.05|                    1|             1|                3|               0|                0.4|                9|                   1|                    0|                    0|                 4|           1|            0|                   0|                      0|    0.1111111111111111|                 4|  0.8635199999999998|                     0|   36.379400000000004|636.0170000000002|       637.13413646|2.1786199999999996|            139.12|                        13|                  4|                    10|                    0|   0.2916666666666667|                    36|                        3|                         0|                         0|                     12|                3|                 0|                        0|                           0|        0.08333333333333333|                     14|    2.1786199999999996|                          0|        130.11080000000004| (2,[0],[1.0])|2214|      1|  9|  5|  3| 12|  1|  1|  0|  2|  2|  0|  0|  2|  1|  0|  0|  1|  2|  0|  0|  1|  4|  1|  0|  2|  1|  1|  1|  4| 12|  6|  3| 12|  1|  0|  0|  0|  0|  1|  1|  0|  0|  1|  1|  0|  0|  0|  0|  0|  0|  0|  0|  0|  0|  0|  1|  4|  0|  0|  0|  1|  0|  0|  0|  1|  0|  0|  1|  1|  0|  0|  0|  0|  0|  0|  0|  0|  0|  0|  0|  0|  0|  0|  0|  0|  0|  0|  0|  0|  0|  0|  0|  0|  0|  0|  0|  0|  0|\n",
      "|2250|    0|349.3860000000001| 349.131408088|3.391700000000002|75.63000000000001|                    6|             2|                3|               0|0.23809523809523808|               26|                   2|                    1|                    0|                 5|           3|            0|                   0|                      0|   0.07692307692307693|                 5|3.391700000000002|                     0|    97.69550000000004|197.66499999999996| 197.060741684|     1.5791|   35.25|                    3|             1|                2|               0|             0.2|               13|                   1|                    0|                    0|                 3|           1|            0|                   0|                      0|   0.07692307692307693|                 3|           1.5791|                     0|   55.909400000000026|239.14600000000002|     238.063968492|   1.745620000000001|             59.14|                    2|             2|                3|               0| 0.4444444444444444|               14|                   1|                    0|                    0|                 5|           1|            0|                   0|                      0|   0.07142857142857142|                 5|   1.745620000000001|                     0|    61.99520000000004|690.1090000000003|      691.181086652|2.6389199999999997|146.20999999999998|                        14|                  5|                    10|                    0|  0.32142857142857145|                    40|                        3|                         0|                         0|                     12|                3|                 0|                        0|                           0|                      0.075|                     15|    2.6389199999999997|                          0|        148.47859999999986| (2,[0],[1.0])|2250|      1|  9|  5|  6| 14|  1|  1|  0|  2|  2|  0|  0|  2|  1|  0|  0|  1|  2|  0|  0|  1|  4|  1|  1|  3|  1|  1|  1|  4| 12|  6|  5| 14|  1|  0|  0|  0|  0|  1|  2|  0|  0|  1|  2|  0|  0|  0|  0|  0|  0|  0|  0|  0|  0|  0|  1|  4|  0|  0|  0|  1|  0|  0|  0|  1|  0|  0|  0|  0|  0|  0|  0|  0|  0|  0|  0|  0|  0|  0|  0|  0|  0|  0|  0|  0|  0|  0|  0|  0|  0|  0|  0|  0|  0|  0|  0|  0|  0|\n",
      "|2453|    0|349.3860000000001| 349.131408088|3.391700000000002|75.63000000000001|                    6|             2|                3|               0|0.23809523809523808|               26|                   2|                    1|                    0|                 5|           3|            0|                   0|                      0|   0.07692307692307693|                 5|3.391700000000002|                     0|    97.69550000000004|197.66499999999996| 197.060741684|     1.5791|   35.25|                    3|             1|                2|               0|             0.2|               13|                   1|                    0|                    0|                 3|           1|            0|                   0|                      0|   0.07692307692307693|                 3|           1.5791|                     0|   55.909400000000026|           171.618|     171.062633504|              1.8023|             26.02|                    3|             1|                1|               0|                1.0|               10|                   0|                    1|                    1|                 4|           1|            0|                   0|                      0|                   0.0|                 2|              1.8023|                     0|    38.59040000000002|659.0420000000003|      660.156429376| 3.117400000000001|113.08999999999999|                        15|                  4|                     8|                    0|                 0.44|                    37|                        2|                         1|                         1|                     12|                3|                 0|                        0|                           0|        0.05405405405405406|                     12|     3.117400000000001|                          0|        132.32180000000002|     (2,[],[])|2453|      3|  9|  5|  7| 16|  1|  1|  0|  2|  2|  0|  0|  2|  1|  0|  0|  1|  2|  0|  0|  1|  4|  1|  0|  2|  1|  1|  1|  4| 12|  6|  0|  9|  1|  0|  0|  0|  0|  1|  1|  0|  0|  1|  1|  0|  0|  0|  0|  0|  0|  0|  0|  0|  0|  0|  0|  3|  0|  0|  0|  1|  0|  0|  0|  1|  0|  0|  0|  0|  0|  0|  0|  0|  0|  0|  0|  0|  0|  0|  2|  2|  0|  0|  0|  0|  0|  0|  0|  0|  0|  0|  0|  0|  0|  0|  0|  0|  0|\n",
      "|2509|    0|349.3860000000001| 349.131408088|3.391700000000002|75.63000000000001|                    6|             2|                3|               0|0.23809523809523808|               26|                   2|                    1|                    0|                 5|           3|            0|                   0|                      0|   0.07692307692307693|                 5|3.391700000000002|                     0|    97.69550000000004|197.66499999999996| 197.060741684|     1.5791|   35.25|                    3|             1|                2|               0|             0.2|               13|                   1|                    0|                    0|                 3|           1|            0|                   0|                      0|   0.07692307692307693|                 3|           1.5791|                     0|   55.909400000000026|            212.68|     212.071640716|              1.1779|             55.12|                    1|             2|                2|               0|                0.3|               14|                   1|                    1|                    0|                 4|           2|            0|                   0|                      0|   0.07142857142857142|                 4|              1.1779|                     0|   58.568100000000015|700.1040000000002|      701.165436588|2.4929999999999994|            142.19|                        13|                  5|                     9|                    0|  0.27586206896551724|                    41|                        3|                         1|                         0|                     12|                4|                 0|                        0|                           0|        0.07317073170731707|                     14|    2.4929999999999994|                          0|        152.29949999999985| (2,[1],[1.0])|2509|      2|  9|  5|  5| 14|  1|  1|  0|  2|  2|  0|  0|  2|  1|  0|  0|  1|  2|  0|  1|  2|  4|  1|  1|  3|  1|  1|  2|  5| 12|  6|  6| 15|  1|  0|  0|  0|  0|  1|  1|  0|  0|  1|  1|  0|  0|  0|  0|  0|  0|  0|  0|  0|  0|  0|  0|  3|  0|  0|  0|  1|  0|  0|  0|  1|  0|  0|  0|  0|  0|  0|  0|  0|  0|  0|  0|  0|  0|  0|  0|  0|  0|  0|  0|  0|  0|  0|  0|  0|  0|  0|  0|  0|  0|  0|  0|  0|  0|\n",
      "|2529|    0|349.3860000000001| 349.131408088|3.391700000000002|75.63000000000001|                    6|             2|                3|               0|0.23809523809523808|               26|                   2|                    1|                    0|                 5|           3|            0|                   0|                      0|   0.07692307692307693|                 5|3.391700000000002|                     0|    97.69550000000004|197.66499999999996| 197.060741684|     1.5791|   35.25|                    3|             1|                2|               0|             0.2|               13|                   1|                    0|                    0|                 3|           1|            0|                   0|                      0|   0.07692307692307693|                 3|           1.5791|                     0|   55.909400000000026|192.68999999999997|     192.102940844|  0.6732999999999996|             55.12|                    4|             2|                2|               0|              0.875|               12|                   0|                    1|                    1|                 4|           1|            0|                   0|                      0|                   0.0|                 4|  0.6732999999999996|                     0|    51.27010000000003|680.1140000000001|      681.196736716|1.9884000000000004|            142.19|                        16|                  5|                     9|                    0|   0.4444444444444444|                    39|                        2|                         1|                         1|                     12|                3|                 0|                        0|                           0|        0.05128205128205128|                     14|    1.9884000000000004|                          0|         145.0014999999999| (2,[0],[1.0])|2529|      1|  9|  5|  9| 18|  1|  1|  0|  2|  2|  0|  0|  2|  1|  0|  0|  1|  2|  0|  1|  2|  4|  1|  1|  3|  1|  1|  2|  5| 12|  6|  0|  9|  1|  0|  0|  0|  0|  1|  1|  0|  0|  1|  1|  0|  0|  0|  0|  0|  0|  0|  0|  0|  0|  0|  0|  3|  0|  0|  0|  1|  0|  0|  0|  1|  0|  0|  0|  0|  0|  0|  0|  0|  0|  0|  0|  0|  0|  0|  0|  0|  0|  0|  0|  0|  0|  0|  0|  0|  0|  0|  0|  0|  0|  0|  0|  0|  0|\n",
      "|2927|    0|349.3860000000001| 349.131408088|3.391700000000002|75.63000000000001|                    6|             2|                3|               0|0.23809523809523808|               26|                   2|                    1|                    0|                 5|           3|            0|                   0|                      0|   0.07692307692307693|                 5|3.391700000000002|                     0|    97.69550000000004|197.66499999999996| 197.060741684|     1.5791|   35.25|                    3|             1|                2|               0|             0.2|               13|                   1|                    0|                    0|                 3|           1|            0|                   0|                      0|   0.07692307692307693|                 3|           1.5791|                     0|   55.909400000000026| 204.2729999999999|     204.126263132|  1.3813000000000002|46.330000000000005|                    2|             1|                2|               0| 0.4166666666666667|               15|                   1|                    1|                    1|                 3|           2|            0|                   0|                      0|   0.06666666666666667|                 3|  1.3813000000000002|                     0|    59.47090000000003|728.1580000000004|      729.196736716|3.1182000000000007|133.39999999999998|                        14|                  4|                     9|                    0|   0.3225806451612903|                    43|                        3|                         1|                         1|                     12|                4|                 0|                        0|                           0|        0.06976744186046512|                     13|    3.1182000000000007|                          0|        160.45029999999974|     (2,[],[])|2927|      3|  9|  5|  6| 16|  1|  1|  0|  2|  2|  0|  0|  2|  1|  0|  0|  1|  2|  0|  1|  2|  4|  1|  1|  3|  1|  1|  2|  5| 12|  6|  6| 15|  1|  0|  0|  0|  0|  1|  0|  0|  0|  1|  0|  0|  0|  0|  0|  0|  0|  0|  0|  0|  0|  0|  0|  3|  0|  0|  0|  1|  0|  0|  0|  1|  0|  0|  0|  0|  0|  0|  0|  0|  0|  0|  0|  0|  0|  0|  0|  0|  0|  0|  0|  0|  0|  0|  0|  0|  0|  0|  0|  0|  0|  0|  0|  0|  0|\n",
      "|3091|    0|349.3860000000001| 349.131408088|3.391700000000002|75.63000000000001|                    6|             2|                3|               0|0.23809523809523808|               26|                   2|                    1|                    0|                 5|           3|            0|                   0|                      0|   0.07692307692307693|                 5|3.391700000000002|                     0|    97.69550000000004|197.66499999999996| 197.060741684|     1.5791|   35.25|                    3|             1|                2|               0|             0.2|               13|                   1|                    0|                    0|                 3|           1|            0|                   0|                      0|   0.07692307692307693|                 3|           1.5791|                     0|   55.909400000000026|163.22400000000005|     163.110947416|               1.264|             42.15|                    1|             1|                3|               0| 0.4444444444444444|               12|                   1|                    1|                    1|                 3|           2|            0|                   0|                      0|   0.08333333333333333|                 4|               1.264|                     0|    50.09640000000002|687.1090000000003|  688.1814210000001|3.0089000000000006|129.22000000000003|                        13|                  4|                    10|                    0|  0.32142857142857145|                    40|                        3|                         1|                         1|                     12|                4|                 0|                        0|                           0|                      0.075|                     14|    3.0089000000000006|                          0|        150.51079999999985| (2,[1],[1.0])|3091|      2|  9|  5|  4| 14|  1|  1|  0|  2|  2|  0|  0|  2|  1|  0|  0|  1|  2|  0|  0|  1|  4|  1|  0|  2|  1|  1|  2|  5| 12|  6|  5| 14|  1|  0|  0|  0|  0|  1|  0|  0|  0|  1|  0|  0|  0|  0|  0|  0|  0|  0|  0|  0|  0|  0|  1|  4|  0|  0|  0|  1|  0|  0|  0|  1|  0|  0|  0|  0|  0|  0|  0|  0|  0|  0|  0|  0|  0|  0|  0|  0|  0|  0|  0|  0|  0|  0|  0|  0|  0|  0|  0|  0|  0|  0|  0|  0|  0|\n",
      "|3506|    0|349.3860000000001| 349.131408088|3.391700000000002|75.63000000000001|                    6|             2|                3|               0|0.23809523809523808|               26|                   2|                    1|                    0|                 5|           3|            0|                   0|                      0|   0.07692307692307693|                 5|3.391700000000002|                     0|    97.69550000000004|           117.151| 117.057849224|     1.2501|   26.02|                    0|             1|                1|               0|             0.0|                9|                   1|                    0|                    0|                 1|           1|            0|                   0|                      0|    0.1111111111111111|                 2|           1.2501|                     0|    38.78940000000001|           117.151|     117.057849224|  1.2501000000000002|             26.02|                    0|             1|                1|               0|                0.0|                9|                   1|                    0|                    0|                 1|           1|            0|                   0|                      0|    0.1111111111111111|                 2|  1.2501000000000002|                     0|    38.78940000000001|596.9830000000001|  598.1021080600001|3.0958000000000006|            103.86|                         9|                  4|                     7|                    0|                 0.12|                    34|                        3|                         0|                         0|                      9|                3|                 0|                        0|                           0|        0.08823529411764706|                     11|    3.0958000000000006|                          0|                  128.7668|     (2,[],[])|3506|      3|  9|  2|  2| 10|  1|  1|  1|  3|  2|  0|  0|  2|  1|  0|  0|  1|  2|  0|  0|  1|  4|  0|  0|  1|  1|  1|  1|  4| 12|  6|  6| 15|  1|  0|  0|  0|  0|  0|  0|  0|  0|  0|  0|  0|  0|  0|  0|  0|  0|  0|  0|  0|  0|  0|  0|  3|  0|  0|  0|  1|  0|  0|  0|  1|  0|  0|  0|  0|  0|  0|  0|  0|  0|  0|  0|  0|  0|  0|  0|  0|  0|  0|  0|  0|  0|  0|  0|  0|  0|  0|  0|  0|  0|  0|  0|  0|  0|\n",
      "|3764|    0|349.3860000000001| 349.131408088|3.391700000000002|75.63000000000001|                    6|             2|                3|               0|0.23809523809523808|               26|                   2|                    1|                    0|                 5|           3|            0|                   0|                      0|   0.07692307692307693|                 5|3.391700000000002|                     0|    97.69550000000004|           117.151| 117.057849224|     1.2501|   26.02|                    0|             1|                1|               0|             0.0|                9|                   1|                    0|                    0|                 1|           1|            0|                   0|                      0|    0.1111111111111111|                 2|           1.2501|                     0|    38.78940000000001|           214.718|       214.0542764| -0.3515999999999996|63.400000000000006|                    3|             1|                3|               0|                1.0|               12|                   0|                    1|                    1|                 6|           1|            0|                   0|                      0|                   0.0|                 4| -0.3515999999999996|                     0|    50.82620000000003|          658.089|      659.121857524|1.0643000000000007|141.23999999999995|                        12|                  4|                     9|                    0|    0.391304347826087|                    36|                        2|                         1|                         1|                     13|                3|                 0|                        0|                           0|        0.05555555555555555|                     13|    1.0643000000000007|                          0|        134.12059999999997|     (2,[],[])|3764|      3|  9|  2|  7| 14|  1|  1|  0|  2|  2|  0|  0|  2|  1|  0|  0|  1|  2|  0|  2|  3|  4|  0|  2|  3|  1|  1|  2|  5| 12|  6|  0|  9|  1|  0|  0|  0|  0|  0|  1|  0|  0|  0|  1|  0|  0|  0|  0|  0|  0|  0|  0|  0|  0|  0|  0|  3|  0|  0|  0|  1|  0|  0|  0|  1|  0|  0|  0|  0|  0|  0|  0|  0|  0|  0|  1|  1|  0|  0|  0|  0|  0|  0|  0|  0|  0|  0|  0|  0|  0|  0|  0|  0|  0|  0|  0|  0|  0|\n",
      "|4590|    0|349.3860000000001| 349.131408088|3.391700000000002|75.63000000000001|                    6|             2|                3|               0|0.23809523809523808|               26|                   2|                    1|                    0|                 5|           3|            0|                   0|                      0|   0.07692307692307693|                 5|3.391700000000002|                     0|    97.69550000000004|           117.151| 117.057849224|     1.2501|   26.02|                    0|             1|                1|               0|             0.0|                9|                   1|                    0|                    0|                 1|           1|            0|                   0|                      0|    0.1111111111111111|                 2|           1.2501|                     0|    38.78940000000001|241.12199999999999|240.05446642799998|  0.6108999999999998|             76.82|                    2|             2|                4|               0| 0.7142857142857143|               14|                   1|                    1|                    1|                 7|           2|            0|                   0|                      0|   0.07142857142857142|                 6|  0.6108999999999998|                     0|    56.94710000000002|648.0320000000002|  649.1453698400002| 1.604999999999999|154.66000000000003|                        11|                  5|                    10|                    0|   0.3333333333333333|                    37|                        3|                         1|                         1|                     13|                4|                 0|                        0|                           0|        0.08108108108108109|                     15|     1.604999999999999|                          0|        132.99349999999995| (2,[0],[1.0])|4590|      1|  9|  2|  7| 13|  1|  1|  0|  2|  2|  0|  0|  2|  1|  0|  1|  2|  2|  0|  0|  1|  4|  0|  1|  2|  1|  1|  1|  4| 12|  6|  2| 11|  1|  0|  0|  0|  0|  0|  2|  0|  0|  0|  2|  0|  0|  0|  0|  0|  0|  0|  0|  0|  0|  0|  3|  6|  0|  0|  0|  1|  0|  0|  0|  1|  0|  0|  0|  0|  0|  0|  0|  0|  0|  0|  0|  0|  0|  0|  0|  0|  0|  0|  0|  0|  0|  0|  0|  0|  0|  0|  0|  0|  0|  0|  0|  0|  0|\n",
      "|4823|    0|349.3860000000001| 349.131408088|3.391700000000002|75.63000000000001|                    6|             2|                3|               0|0.23809523809523808|               26|                   2|                    1|                    0|                 5|           3|            0|                   0|                      0|   0.07692307692307693|                 5|3.391700000000002|                     0|    97.69550000000004|           117.151| 117.057849224|     1.2501|   26.02|                    0|             1|                1|               0|             0.0|                9|                   1|                    0|                    0|                 1|           1|            0|                   0|                      0|    0.1111111111111111|                 2|           1.2501|                     0|    38.78940000000001|174.63099999999997|     174.055990652|              1.4325|             52.05|                    2|             1|                3|               0| 0.5714285714285714|               11|                   1|                    1|                    1|                 4|           2|            0|                   0|                      0|   0.09090909090909091|                 4|              1.4325|                     0|    43.61740000000002|618.0020000000002|  619.1235717760001|2.8484000000000007|            129.89|                        11|                  4|                     9|                    0|   0.2916666666666667|                    35|                        3|                         1|                         1|                     11|                4|                 0|                        0|                           0|        0.08571428571428572|                     13|    2.8484000000000007|                          0|        126.91180000000003|     (2,[],[])|4823|      3|  9|  2|  5| 12|  1|  1|  0|  2|  2|  0|  0|  2|  1|  0|  0|  1|  2|  0|  0|  1|  4|  0|  0|  1|  1|  1|  1|  4| 12|  6|  3| 12|  1|  0|  0|  0|  0|  0|  1|  0|  0|  0|  1|  0|  0|  0|  0|  0|  0|  0|  0|  0|  0|  0|  1|  4|  0|  0|  0|  1|  0|  0|  0|  1|  0|  0|  1|  1|  0|  0|  0|  0|  0|  0|  0|  0|  0|  0|  0|  0|  0|  0|  0|  0|  0|  0|  0|  0|  0|  0|  0|  0|  0|  0|  0|  0|  0|\n",
      "+----+-----+-----------------+--------------+-----------------+-----------------+---------------------+--------------+-----------------+----------------+-------------------+-----------------+--------------------+---------------------+---------------------+------------------+------------+-------------+--------------------+-----------------------+----------------------+------------------+-----------------+----------------------+---------------------+------------------+--------------+-----------+--------+---------------------+--------------+-----------------+----------------+----------------+-----------------+--------------------+---------------------+---------------------+------------------+------------+-------------+--------------------+-----------------------+----------------------+------------------+-----------------+----------------------+---------------------+------------------+------------------+--------------------+------------------+---------------------+--------------+-----------------+----------------+-------------------+-----------------+--------------------+---------------------+---------------------+------------------+------------+-------------+--------------------+-----------------------+----------------------+------------------+--------------------+----------------------+---------------------+-----------------+-------------------+------------------+------------------+--------------------------+-------------------+----------------------+---------------------+---------------------+----------------------+-------------------------+--------------------------+--------------------------+-----------------------+-----------------+------------------+-------------------------+----------------------------+---------------------------+-----------------------+----------------------+---------------------------+--------------------------+--------------+----+-------+---+---+---+---+---+---+---+---+---+---+---+---+---+---+---+---+---+---+---+---+---+---+---+---+---+---+---+---+---+---+---+---+---+---+---+---+---+---+---+---+---+---+---+---+---+---+---+---+---+---+---+---+---+---+---+---+---+---+---+---+---+---+---+---+---+---+---+---+---+---+---+---+---+---+---+---+---+---+---+---+---+---+---+---+---+---+---+---+---+---+---+---+---+---+---+---+---+\n",
      "only showing top 20 rows\n",
      "\n"
     ]
    },
    {
     "name": "stderr",
     "output_type": "stream",
     "text": [
      "                                                                                "
     ]
    }
   ],
   "source": [
    "full_feat_tok_df = (\n",
    "    full_df_features\n",
    "    .alias(\"feat\")\n",
    "    .join(\n",
    "        full_tokens_df.alias(\"tok\"), how=\"inner\", on=full_df_features.id==full_tokens_df.id\n",
    "    )\n",
    ")\n",
    "full_feat_tok_df.show()"
   ]
  },
  {
   "cell_type": "markdown",
   "id": "8f5d9c67",
   "metadata": {},
   "source": [
    "### Droping `id` column"
   ]
  },
  {
   "cell_type": "code",
   "execution_count": 12,
   "id": "07c018e7-2376-42a9-8e3a-df29f76143e4",
   "metadata": {},
   "outputs": [
    {
     "name": "stderr",
     "output_type": "stream",
     "text": [
      "[Stage 25:>                                                         (0 + 1) / 1]"
     ]
    },
    {
     "name": "stdout",
     "output_type": "stream",
     "text": [
      "+----+-----+-----------------+--------------+-----------------+-----------------+---------------------+--------------+-----------------+----------------+-------------------+-----------------+--------------------+---------------------+---------------------+------------------+------------+-------------+--------------------+-----------------------+----------------------+------------------+-----------------+----------------------+---------------------+------------------+--------------+-----------+--------+---------------------+--------------+-----------------+----------------+----------------+-----------------+--------------------+---------------------+---------------------+------------------+------------+-------------+--------------------+-----------------------+----------------------+------------------+-----------------+----------------------+---------------------+------------------+------------------+--------------------+------------------+---------------------+--------------+-----------------+----------------+-------------------+-----------------+--------------------+---------------------+---------------------+------------------+------------+-------------+--------------------+-----------------------+----------------------+------------------+--------------------+----------------------+---------------------+-----------------+-------------------+------------------+------------------+--------------------------+-------------------+----------------------+---------------------+---------------------+----------------------+-------------------------+--------------------------+--------------------------+-----------------------+-----------------+------------------+-------------------------+----------------------------+---------------------------+-----------------------+----------------------+---------------------------+--------------------------+--------------+-------+---+---+---+---+---+---+---+---+---+---+---+---+---+---+---+---+---+---+---+---+---+---+---+---+---+---+---+---+---+---+---+---+---+---+---+---+---+---+---+---+---+---+---+---+---+---+---+---+---+---+---+---+---+---+---+---+---+---+---+---+---+---+---+---+---+---+---+---+---+---+---+---+---+---+---+---+---+---+---+---+---+---+---+---+---+---+---+---+---+---+---+---+---+---+---+---+\n",
      "|  id|binds|        bb1_MolWt|bb1_ExactMolWt|      bb1_MolLogP|         bb1_TPSA|bb1_NumRotatableBonds|bb1_NumHDonors|bb1_NumHAcceptors|bb1_FormalCharge|   bb1_FractionCSP3|bb1_NumHeavyAtoms|bb1_NumAromaticRings|bb1_NumAliphaticRings|bb1_NumSaturatedRings|bb1_NumHeteroatoms|bb1_NumRings|bb1_MolVolume|bb1_RadiusOfGyration|bb1_InertialShapeFactor|bb1_AromaticProportion|bb1_HBondPotential|bb1_Lipophilicity|bb1_ChargeDistribution|bb1_ElectroNegativity|         bb2_MolWt|bb2_ExactMolWt|bb2_MolLogP|bb2_TPSA|bb2_NumRotatableBonds|bb2_NumHDonors|bb2_NumHAcceptors|bb2_FormalCharge|bb2_FractionCSP3|bb2_NumHeavyAtoms|bb2_NumAromaticRings|bb2_NumAliphaticRings|bb2_NumSaturatedRings|bb2_NumHeteroatoms|bb2_NumRings|bb2_MolVolume|bb2_RadiusOfGyration|bb2_InertialShapeFactor|bb2_AromaticProportion|bb2_HBondPotential|bb2_Lipophilicity|bb2_ChargeDistribution|bb2_ElectroNegativity|         bb3_MolWt|    bb3_ExactMolWt|         bb3_MolLogP|          bb3_TPSA|bb3_NumRotatableBonds|bb3_NumHDonors|bb3_NumHAcceptors|bb3_FormalCharge|   bb3_FractionCSP3|bb3_NumHeavyAtoms|bb3_NumAromaticRings|bb3_NumAliphaticRings|bb3_NumSaturatedRings|bb3_NumHeteroatoms|bb3_NumRings|bb3_MolVolume|bb3_RadiusOfGyration|bb3_InertialShapeFactor|bb3_AromaticProportion|bb3_HBondPotential|   bb3_Lipophilicity|bb3_ChargeDistribution|bb3_ElectroNegativity|   molecule_MolWt|molecule_ExactMolWt|  molecule_MolLogP|     molecule_TPSA|molecule_NumRotatableBonds|molecule_NumHDonors|molecule_NumHAcceptors|molecule_FormalCharge|molecule_FractionCSP3|molecule_NumHeavyAtoms|molecule_NumAromaticRings|molecule_NumAliphaticRings|molecule_NumSaturatedRings|molecule_NumHeteroatoms|molecule_NumRings|molecule_MolVolume|molecule_RadiusOfGyration|molecule_InertialShapeFactor|molecule_AromaticProportion|molecule_HBondPotential|molecule_Lipophilicity|molecule_ChargeDistribution|molecule_ElectroNegativity|protein_onehot|protein| a1| a2| a3| a4| a5| a6| a7| a8| a9|a10|a11|a12|a13|a14|a15|a16|a17|a18|a19|a20|a21|a22|a23|a24| b1| b2| b3| b4| b5| b6| b7| b8| b9|b10|b11|b12|b13|b14|b15|b16|b17|b18|b19|b20|b21|b22|b23|b24| c1| c2| c3| c4| c5| c6| c7| c8| c9|c10|c11|c12|c13|c14|c15|c16|c17|c18|c19|c20|c21|c22|c23|c24| d1| d2| d3| d4| d5| d6| d7| d8| d9|d10|d11|d12|d13|d14|d15|d16|d17|d18|d19|d20|d21|d22|d23|d24|\n",
      "+----+-----+-----------------+--------------+-----------------+-----------------+---------------------+--------------+-----------------+----------------+-------------------+-----------------+--------------------+---------------------+---------------------+------------------+------------+-------------+--------------------+-----------------------+----------------------+------------------+-----------------+----------------------+---------------------+------------------+--------------+-----------+--------+---------------------+--------------+-----------------+----------------+----------------+-----------------+--------------------+---------------------+---------------------+------------------+------------+-------------+--------------------+-----------------------+----------------------+------------------+-----------------+----------------------+---------------------+------------------+------------------+--------------------+------------------+---------------------+--------------+-----------------+----------------+-------------------+-----------------+--------------------+---------------------+---------------------+------------------+------------+-------------+--------------------+-----------------------+----------------------+------------------+--------------------+----------------------+---------------------+-----------------+-------------------+------------------+------------------+--------------------------+-------------------+----------------------+---------------------+---------------------+----------------------+-------------------------+--------------------------+--------------------------+-----------------------+-----------------+------------------+-------------------------+----------------------------+---------------------------+-----------------------+----------------------+---------------------------+--------------------------+--------------+-------+---+---+---+---+---+---+---+---+---+---+---+---+---+---+---+---+---+---+---+---+---+---+---+---+---+---+---+---+---+---+---+---+---+---+---+---+---+---+---+---+---+---+---+---+---+---+---+---+---+---+---+---+---+---+---+---+---+---+---+---+---+---+---+---+---+---+---+---+---+---+---+---+---+---+---+---+---+---+---+---+---+---+---+---+---+---+---+---+---+---+---+---+---+---+---+---+\n",
      "|  26|    0|349.3860000000001| 349.131408088|3.391700000000002|75.63000000000001|                    6|             2|                3|               0|0.23809523809523808|               26|                   2|                    1|                    0|                 5|           3|            0|                   0|                      0|   0.07692307692307693|                 5|3.391700000000002|                     0|    97.69550000000004|           197.665| 197.060741684|     1.5791|   35.25|                    3|             1|                2|               0|             0.2|               13|                   1|                    0|                    0|                 3|           1|            0|                   0|                      0|   0.07692307692307693|                 3|           1.5791|                     0|   55.909400000000026|           266.345|     266.174275944|              2.0373|             73.38|                    1|             1|                5|               0| 0.6923076923076923|               19|                   1|                    1|                    1|                 6|           2|            0|                   0|                      0|   0.05263157894736842|                 6|              2.0373|                     0|    72.71740000000004|790.2300000000002|  791.2447495279998|3.7822000000000013|            160.45|                        13|                  4|                    12|                    0|               0.4375|                    47|                        3|                         1|                         1|                     15|                4|                 0|                        0|                           0|        0.06382978723404255|                     16|    3.7822000000000013|                          0|         173.1317999999996|     (2,[],[])|      3|  9|  5| 10| 20|  1|  1|  0|  2|  2|  0|  0|  2|  1|  0|  0|  1|  2|  0|  1|  2|  4|  1|  2|  4|  1|  1|  2|  5| 12|  6|  3| 12|  1|  0|  0|  0|  0|  1|  0|  0|  0|  1|  0|  0|  0|  0|  0|  0|  0|  0|  0|  0|  0|  0|  2|  5|  0|  0|  0|  1|  0|  0|  0|  1|  0|  0|  0|  0|  0|  0|  0|  0|  0|  0|  0|  0|  0|  0|  0|  0|  0|  0|  0|  0|  0|  0|  0|  0|  0|  0|  0|  0|  0|  0|  0|  0|\n",
      "|  29|    0|349.3860000000001| 349.131408088|3.391700000000002|75.63000000000001|                    6|             2|                3|               0|0.23809523809523808|               26|                   2|                    1|                    0|                 5|           3|            0|                   0|                      0|   0.07692307692307693|                 5|3.391700000000002|                     0|    97.69550000000004|           197.665| 197.060741684|     1.5791|   35.25|                    3|             1|                2|               0|             0.2|               13|                   1|                    0|                    0|                 3|           1|            0|                   0|                      0|   0.07692307692307693|                 3|           1.5791|                     0|   55.909400000000026|252.31799999999998|      252.15862588|              1.9777| 84.24000000000001|                    0|             2|                4|               0| 0.6666666666666666|               18|                   1|                    1|                    0|                 6|           2|            0|                   0|                      0|   0.05555555555555555|                 6|              1.9777|                     0|    67.80310000000003|776.2030000000003|  777.2290994639999|3.7226000000000017|            171.31|                        12|                  5|                    11|                    0|  0.41935483870967744|                    46|                        3|                         1|                         0|                     15|                4|                 0|                        0|                           0|        0.06521739130434782|                     16|    3.7226000000000017|                          0|        168.21749999999966|     (2,[],[])|      3|  9|  5|  9| 19|  1|  1|  0|  2|  2|  0|  0|  2|  1|  0|  1|  2|  2|  0|  1|  2|  4|  1|  2|  4|  1|  1|  2|  5| 12|  6|  3| 12|  1|  0|  0|  0|  0|  1|  0|  0|  0|  1|  0|  0|  0|  0|  0|  0|  0|  0|  0|  0|  0|  0|  2|  5|  0|  0|  0|  1|  0|  0|  0|  1|  0|  0|  0|  0|  0|  0|  0|  0|  0|  0|  0|  0|  0|  0|  0|  0|  0|  0|  0|  0|  0|  0|  0|  0|  0|  0|  0|  0|  0|  0|  0|  0|\n",
      "| 474|    0|349.3860000000001| 349.131408088|3.391700000000002|75.63000000000001|                    6|             2|                3|               0|0.23809523809523808|               26|                   2|                    1|                    0|                 5|           3|            0|                   0|                      0|   0.07692307692307693|                 5|3.391700000000002|                     0|    97.69550000000004|           197.665| 197.060741684|     1.5791|   35.25|                    3|             1|                2|               0|             0.2|               13|                   1|                    0|                    0|                 3|           1|            0|                   0|                      0|   0.07692307692307693|                 3|           1.5791|                     0|   55.909400000000026|156.61600000000004|     156.045425968|             1.50212|             38.91|                    1|             1|                2|               0| 0.2857142857142857|               10|                   1|                    0|                    0|                 3|           1|            0|                   0|                      0|                   0.1|                 3|             1.50212|                     0|   41.875400000000006|680.5010000000002|  681.1158995520001| 3.239020000000002|            125.98|                        13|                  4|                     9|                    0|   0.2692307692307692|                    38|                        3|                         0|                         0|                     12|                3|                 0|                        0|                           0|        0.07894736842105263|                     13|     3.239020000000002|                          0|         142.8547999999999| (2,[0],[1.0])|      1|  9|  5|  3| 13|  1|  1|  0|  2|  2|  0|  0|  2|  1|  0|  0|  1|  2|  0|  0|  1|  4|  1|  0|  2|  1|  1|  1|  4| 12|  6|  5| 14|  1|  0|  0|  0|  0|  1|  0|  0|  0|  1|  1|  1|  0|  0|  0|  0|  0|  0|  0|  0|  0|  0|  1|  4|  0|  0|  0|  1|  0|  0|  0|  1|  0|  0|  0|  0|  0|  0|  0|  0|  0|  0|  0|  0|  0|  0|  0|  0|  0|  0|  0|  0|  0|  0|  0|  0|  0|  0|  0|  0|  0|  0|  0|  0|\n",
      "| 964|    0|349.3860000000001| 349.131408088|3.391700000000002|75.63000000000001|                    6|             2|                3|               0|0.23809523809523808|               26|                   2|                    1|                    0|                 5|           3|            0|                   0|                      0|   0.07692307692307693|                 5|3.391700000000002|                     0|    97.69550000000004|           197.665| 197.060741684|     1.5791|   35.25|                    3|             1|                2|               0|             0.2|               13|                   1|                    0|                    0|                 3|           1|            0|                   0|                      0|   0.07692307692307693|                 3|           1.5791|                     0|   55.909400000000026|143.22999999999996|     143.131014164|  0.8862999999999996|             46.25|                    3|             2|                2|               0|                1.0|               10|                   0|                    1|                    1|                 2|           1|            0|                   0|                      0|                   0.0|                 4|  0.8862999999999996|                     0|    41.63620000000002|667.1150000000004|  668.2014877480001|2.6231999999999998|            133.32|                        15|                  5|                     9|                    0|  0.48148148148148145|                    38|                        2|                         1|                         1|                     11|                3|                 0|                        0|                           0|        0.05263157894736842|                     14|    2.6231999999999998|                          0|        142.61559999999992| (2,[1],[1.0])|      2|  9|  5|  8| 18|  1|  1|  0|  2|  2|  0|  0|  2|  1|  0|  0|  1|  2|  0|  0|  1|  4|  1|  1|  3|  1|  1|  1|  4| 12|  6|  0|  9|  1|  0|  0|  0|  0|  1|  0|  0|  0|  1|  0|  0|  0|  0|  0|  0|  0|  0|  0|  0|  0|  0|  0|  3|  0|  0|  0|  1|  0|  0|  0|  1|  0|  0|  0|  0|  0|  0|  0|  0|  0|  0|  0|  0|  0|  0|  0|  0|  0|  0|  0|  0|  0|  0|  0|  0|  0|  0|  0|  0|  0|  0|  0|  0|\n",
      "|1677|    0|349.3860000000001| 349.131408088|3.391700000000002|75.63000000000001|                    6|             2|                3|               0|0.23809523809523808|               26|                   2|                    1|                    0|                 5|           3|            0|                   0|                      0|   0.07692307692307693|                 5|3.391700000000002|                     0|    97.69550000000004|197.66499999999996| 197.060741684|     1.5791|   35.25|                    3|             1|                2|               0|             0.2|               13|                   1|                    0|                    0|                 3|           1|            0|                   0|                      0|   0.07692307692307693|                 3|           1.5791|                     0|   55.909400000000026|157.66600000000003|     157.032812684| 0.13550000000000012|             43.09|                    3|             1|                2|               0|                1.0|                8|                   0|                    0|                    0|                 4|           0|            0|                   0|                      0|                   0.0|                 3| 0.13550000000000012|                     0|    39.85280000000001|645.0900000000001|      646.126608556|1.4506000000000001|130.16000000000003|                        15|                  4|                     9|                    0|    0.391304347826087|                    35|                        2|                         0|                         0|                     12|                2|                 0|                        0|                           0|        0.05714285714285714|                     13|    1.4506000000000001|                          0|        133.58419999999998| (2,[0],[1.0])|      1|  9|  5|  5| 14|  1|  1|  0|  2|  2|  0|  0|  2|  1|  0|  0|  1|  2|  0|  1|  2|  4|  1|  1|  3|  1|  1|  1|  4| 12|  6|  0|  9|  1|  0|  0|  0|  0|  1|  1|  0|  0|  1|  1|  0|  0|  0|  0|  0|  0|  0|  0|  0|  0|  0|  0|  3|  0|  0|  0|  1|  0|  0|  0|  1|  0|  0|  0|  0|  0|  0|  0|  0|  0|  0|  1|  1|  0|  0|  0|  0|  0|  0|  0|  0|  0|  0|  0|  0|  0|  0|  0|  0|  0|  0|  0|  0|\n",
      "|1697|    0|349.3860000000001| 349.131408088|3.391700000000002|75.63000000000001|                    6|             2|                3|               0|0.23809523809523808|               26|                   2|                    1|                    0|                 5|           3|            0|                   0|                      0|   0.07692307692307693|                 5|3.391700000000002|                     0|    97.69550000000004|197.66499999999996| 197.060741684|     1.5791|   35.25|                    3|             1|                2|               0|             0.2|               13|                   1|                    0|                    0|                 3|           1|            0|                   0|                      0|   0.07692307692307693|                 3|           1.5791|                     0|   55.909400000000026|125.17499999999998|125.09529735199999|              0.3617|             43.84|                    2|             1|                3|               0|                0.5|                9|                   1|                    0|                    0|                 3|           1|            0|                   0|                      0|    0.1111111111111111|                 4|              0.3617|                     0|    35.79239999999999|649.0600000000002|  650.1657709360001|2.0985999999999994|130.91000000000003|                        14|                  4|                    10|                    0|                 0.32|                    37|                        3|                         0|                         0|                     12|                3|                 0|                        0|                           0|        0.08108108108108109|                     14|    2.0985999999999994|                          0|        136.77179999999996|     (2,[],[])|      3|  9|  5|  3| 13|  1|  1|  0|  2|  2|  0|  0|  2|  1|  0|  0|  1|  2|  0|  0|  1|  4|  1|  0|  2|  1|  1|  1|  4| 12|  6|  3| 12|  1|  0|  0|  0|  0|  1|  0|  0|  0|  1|  0|  0|  0|  0|  0|  0|  0|  0|  0|  0|  0|  0|  2|  5|  0|  0|  0|  1|  0|  0|  0|  1|  0|  0|  0|  0|  0|  0|  0|  0|  0|  0|  0|  0|  0|  0|  0|  0|  0|  0|  0|  0|  0|  0|  0|  0|  0|  0|  0|  0|  0|  0|  0|  0|\n",
      "|1806|    0|349.3860000000001| 349.131408088|3.391700000000002|75.63000000000001|                    6|             2|                3|               0|0.23809523809523808|               26|                   2|                    1|                    0|                 5|           3|            0|                   0|                      0|   0.07692307692307693|                 5|3.391700000000002|                     0|    97.69550000000004|197.66499999999996| 197.060741684|     1.5791|   35.25|                    3|             1|                2|               0|             0.2|               13|                   1|                    0|                    0|                 3|           1|            0|                   0|                      0|   0.07692307692307693|                 3|           1.5791|                     0|   55.909400000000026|           152.153|     152.058577496|              0.4504|             65.21|                    1|             1|                4|               0|0.14285714285714285|               11|                   1|                    0|                    0|                 4|           1|            0|                   0|                      0|   0.09090909090909091|                 5|              0.4504|                     0|    39.98890000000001|676.0380000000001|  677.1290510800001|2.1952999999999996|152.28000000000003|                        13|                  4|                    11|                    0|  0.23076923076923078|                    39|                        3|                         0|                         0|                     13|                3|                 0|                        0|                           0|        0.07692307692307693|                     15|    2.1952999999999996|                          0|        140.40329999999992| (2,[0],[1.0])|      1|  9|  5|  2| 12|  1|  1|  0|  2|  2|  0|  0|  2|  1|  0|  0|  1|  2|  0|  1|  2|  4|  1|  2|  4|  1|  1|  1|  4| 12|  6|  5| 14|  1|  0|  0|  0|  0|  1|  0|  0|  0|  1|  0|  0|  0|  0|  0|  0|  0|  0|  0|  0|  0|  0|  1|  4|  0|  0|  0|  1|  0|  0|  0|  1|  0|  0|  0|  0|  0|  0|  0|  0|  0|  0|  0|  0|  0|  0|  0|  0|  0|  0|  0|  0|  0|  0|  0|  0|  0|  0|  0|  0|  0|  0|  0|  0|\n",
      "|1950|    0|349.3860000000001| 349.131408088|3.391700000000002|75.63000000000001|                    6|             2|                3|               0|0.23809523809523808|               26|                   2|                    1|                    0|                 5|           3|            0|                   0|                      0|   0.07692307692307693|                 5|3.391700000000002|                     0|    97.69550000000004|197.66499999999996| 197.060741684|     1.5791|   35.25|                    3|             1|                2|               0|             0.2|               13|                   1|                    0|                    0|                 3|           1|            0|                   0|                      0|   0.07692307692307693|                 3|           1.5791|                     0|   55.909400000000026|           179.183|     179.080709908|-0.40840000000000026|             78.33|                    2|             1|                6|               0| 0.2857142857142857|               13|                   2|                    0|                    0|                 6|           2|            0|                   0|                      0|   0.15384615384615385|                 7|-0.40840000000000026|                     0|    45.22540000000001|703.0680000000002|  704.1511834920001|1.3284999999999998|165.40000000000003|                        14|                  4|                    13|                    0|   0.2692307692307692|                    41|                        4|                         0|                         0|                     15|                4|                 0|                        0|                           0|         0.0975609756097561|                     17|    1.3284999999999998|                          0|         146.2047999999999| (2,[0],[1.0])|      1|  9|  5|  2| 12|  1|  1|  0|  2|  2|  0|  0|  2|  1|  0|  0|  1|  2|  0|  0|  1|  4|  1|  1|  3|  1|  1|  1|  4| 12|  6|  5| 14|  1|  0|  0|  0|  0|  1|  0|  0|  0|  1|  0|  0|  0|  0|  0|  0|  0|  0|  0|  0|  0|  0|  4|  7|  0|  0|  0|  1|  0|  0|  0|  1|  0|  0|  0|  0|  0|  0|  0|  0|  0|  0|  0|  0|  0|  0|  0|  0|  0|  0|  0|  0|  0|  0|  0|  0|  0|  0|  0|  0|  0|  0|  0|  0|\n",
      "|2040|    0|349.3860000000001| 349.131408088|3.391700000000002|75.63000000000001|                    6|             2|                3|               0|0.23809523809523808|               26|                   2|                    1|                    0|                 5|           3|            0|                   0|                      0|   0.07692307692307693|                 5|3.391700000000002|                     0|    97.69550000000004|197.66499999999996| 197.060741684|     1.5791|   35.25|                    3|             1|                2|               0|             0.2|               13|                   1|                    0|                    0|                 3|           1|            0|                   0|                      0|   0.07692307692307693|                 3|           1.5791|                     0|   55.909400000000026|194.69100000000003|194.03929503199998|              0.5482|             67.59|                    3|             2|                4|               0|                0.6|               11|                   1|                    0|                    0|                 6|           1|            0|                   0|                      0|   0.09090909090909091|                 6|              0.5482|                     0|    48.74110000000001|682.1150000000001|      683.133090904|1.8632999999999995|154.66000000000003|                        15|                  5|                    11|                    0|   0.3333333333333333|                    38|                        3|                         0|                         0|                     14|                3|                 0|                        0|                           0|        0.07894736842105263|                     16|    1.8632999999999995|                          0|        142.47249999999994| (2,[0],[1.0])|      1|  9|  5|  4| 13|  1|  1|  0|  2|  2|  0|  0|  2|  1|  0|  1|  2|  2|  0|  0|  1|  4|  1|  0|  2|  1|  1|  1|  4| 12|  6|  2| 11|  1|  0|  0|  0|  0|  1|  1|  0|  0|  1|  1|  0|  0|  0|  0|  0|  0|  0|  0|  0|  0|  0|  3|  6|  0|  0|  0|  1|  0|  0|  0|  1|  0|  0|  0|  0|  0|  0|  0|  0|  0|  0|  1|  1|  0|  0|  0|  0|  0|  0|  0|  0|  0|  0|  0|  0|  0|  0|  0|  0|  0|  0|  0|  0|\n",
      "|2214|    0|349.3860000000001| 349.131408088|3.391700000000002|75.63000000000001|                    6|             2|                3|               0|0.23809523809523808|               26|                   2|                    1|                    0|                 5|           3|            0|                   0|                      0|   0.07692307692307693|                 5|3.391700000000002|                     0|    97.69550000000004|197.66499999999996| 197.060741684|     1.5791|   35.25|                    3|             1|                2|               0|             0.2|               13|                   1|                    0|                    0|                 3|           1|            0|                   0|                      0|   0.07692307692307693|                 3|           1.5791|                     0|   55.909400000000026|148.59300000000002|     148.040340588|  0.8635199999999998|             52.05|                    1|             1|                3|               0|                0.4|                9|                   1|                    0|                    0|                 4|           1|            0|                   0|                      0|    0.1111111111111111|                 4|  0.8635199999999998|                     0|   36.379400000000004|636.0170000000002|       637.13413646|2.1786199999999996|            139.12|                        13|                  4|                    10|                    0|   0.2916666666666667|                    36|                        3|                         0|                         0|                     12|                3|                 0|                        0|                           0|        0.08333333333333333|                     14|    2.1786199999999996|                          0|        130.11080000000004| (2,[0],[1.0])|      1|  9|  5|  3| 12|  1|  1|  0|  2|  2|  0|  0|  2|  1|  0|  0|  1|  2|  0|  0|  1|  4|  1|  0|  2|  1|  1|  1|  4| 12|  6|  3| 12|  1|  0|  0|  0|  0|  1|  1|  0|  0|  1|  1|  0|  0|  0|  0|  0|  0|  0|  0|  0|  0|  0|  1|  4|  0|  0|  0|  1|  0|  0|  0|  1|  0|  0|  1|  1|  0|  0|  0|  0|  0|  0|  0|  0|  0|  0|  0|  0|  0|  0|  0|  0|  0|  0|  0|  0|  0|  0|  0|  0|  0|  0|  0|  0|\n",
      "|2250|    0|349.3860000000001| 349.131408088|3.391700000000002|75.63000000000001|                    6|             2|                3|               0|0.23809523809523808|               26|                   2|                    1|                    0|                 5|           3|            0|                   0|                      0|   0.07692307692307693|                 5|3.391700000000002|                     0|    97.69550000000004|197.66499999999996| 197.060741684|     1.5791|   35.25|                    3|             1|                2|               0|             0.2|               13|                   1|                    0|                    0|                 3|           1|            0|                   0|                      0|   0.07692307692307693|                 3|           1.5791|                     0|   55.909400000000026|239.14600000000002|     238.063968492|   1.745620000000001|             59.14|                    2|             2|                3|               0| 0.4444444444444444|               14|                   1|                    0|                    0|                 5|           1|            0|                   0|                      0|   0.07142857142857142|                 5|   1.745620000000001|                     0|    61.99520000000004|690.1090000000003|      691.181086652|2.6389199999999997|146.20999999999998|                        14|                  5|                    10|                    0|  0.32142857142857145|                    40|                        3|                         0|                         0|                     12|                3|                 0|                        0|                           0|                      0.075|                     15|    2.6389199999999997|                          0|        148.47859999999986| (2,[0],[1.0])|      1|  9|  5|  6| 14|  1|  1|  0|  2|  2|  0|  0|  2|  1|  0|  0|  1|  2|  0|  0|  1|  4|  1|  1|  3|  1|  1|  1|  4| 12|  6|  5| 14|  1|  0|  0|  0|  0|  1|  2|  0|  0|  1|  2|  0|  0|  0|  0|  0|  0|  0|  0|  0|  0|  0|  1|  4|  0|  0|  0|  1|  0|  0|  0|  1|  0|  0|  0|  0|  0|  0|  0|  0|  0|  0|  0|  0|  0|  0|  0|  0|  0|  0|  0|  0|  0|  0|  0|  0|  0|  0|  0|  0|  0|  0|  0|  0|\n",
      "|2453|    0|349.3860000000001| 349.131408088|3.391700000000002|75.63000000000001|                    6|             2|                3|               0|0.23809523809523808|               26|                   2|                    1|                    0|                 5|           3|            0|                   0|                      0|   0.07692307692307693|                 5|3.391700000000002|                     0|    97.69550000000004|197.66499999999996| 197.060741684|     1.5791|   35.25|                    3|             1|                2|               0|             0.2|               13|                   1|                    0|                    0|                 3|           1|            0|                   0|                      0|   0.07692307692307693|                 3|           1.5791|                     0|   55.909400000000026|           171.618|     171.062633504|              1.8023|             26.02|                    3|             1|                1|               0|                1.0|               10|                   0|                    1|                    1|                 4|           1|            0|                   0|                      0|                   0.0|                 2|              1.8023|                     0|    38.59040000000002|659.0420000000003|      660.156429376| 3.117400000000001|113.08999999999999|                        15|                  4|                     8|                    0|                 0.44|                    37|                        2|                         1|                         1|                     12|                3|                 0|                        0|                           0|        0.05405405405405406|                     12|     3.117400000000001|                          0|        132.32180000000002|     (2,[],[])|      3|  9|  5|  7| 16|  1|  1|  0|  2|  2|  0|  0|  2|  1|  0|  0|  1|  2|  0|  0|  1|  4|  1|  0|  2|  1|  1|  1|  4| 12|  6|  0|  9|  1|  0|  0|  0|  0|  1|  1|  0|  0|  1|  1|  0|  0|  0|  0|  0|  0|  0|  0|  0|  0|  0|  0|  3|  0|  0|  0|  1|  0|  0|  0|  1|  0|  0|  0|  0|  0|  0|  0|  0|  0|  0|  0|  0|  0|  0|  2|  2|  0|  0|  0|  0|  0|  0|  0|  0|  0|  0|  0|  0|  0|  0|  0|  0|\n",
      "|2509|    0|349.3860000000001| 349.131408088|3.391700000000002|75.63000000000001|                    6|             2|                3|               0|0.23809523809523808|               26|                   2|                    1|                    0|                 5|           3|            0|                   0|                      0|   0.07692307692307693|                 5|3.391700000000002|                     0|    97.69550000000004|197.66499999999996| 197.060741684|     1.5791|   35.25|                    3|             1|                2|               0|             0.2|               13|                   1|                    0|                    0|                 3|           1|            0|                   0|                      0|   0.07692307692307693|                 3|           1.5791|                     0|   55.909400000000026|            212.68|     212.071640716|              1.1779|             55.12|                    1|             2|                2|               0|                0.3|               14|                   1|                    1|                    0|                 4|           2|            0|                   0|                      0|   0.07142857142857142|                 4|              1.1779|                     0|   58.568100000000015|700.1040000000002|      701.165436588|2.4929999999999994|            142.19|                        13|                  5|                     9|                    0|  0.27586206896551724|                    41|                        3|                         1|                         0|                     12|                4|                 0|                        0|                           0|        0.07317073170731707|                     14|    2.4929999999999994|                          0|        152.29949999999985| (2,[1],[1.0])|      2|  9|  5|  5| 14|  1|  1|  0|  2|  2|  0|  0|  2|  1|  0|  0|  1|  2|  0|  1|  2|  4|  1|  1|  3|  1|  1|  2|  5| 12|  6|  6| 15|  1|  0|  0|  0|  0|  1|  1|  0|  0|  1|  1|  0|  0|  0|  0|  0|  0|  0|  0|  0|  0|  0|  0|  3|  0|  0|  0|  1|  0|  0|  0|  1|  0|  0|  0|  0|  0|  0|  0|  0|  0|  0|  0|  0|  0|  0|  0|  0|  0|  0|  0|  0|  0|  0|  0|  0|  0|  0|  0|  0|  0|  0|  0|  0|\n",
      "|2529|    0|349.3860000000001| 349.131408088|3.391700000000002|75.63000000000001|                    6|             2|                3|               0|0.23809523809523808|               26|                   2|                    1|                    0|                 5|           3|            0|                   0|                      0|   0.07692307692307693|                 5|3.391700000000002|                     0|    97.69550000000004|197.66499999999996| 197.060741684|     1.5791|   35.25|                    3|             1|                2|               0|             0.2|               13|                   1|                    0|                    0|                 3|           1|            0|                   0|                      0|   0.07692307692307693|                 3|           1.5791|                     0|   55.909400000000026|192.68999999999997|     192.102940844|  0.6732999999999996|             55.12|                    4|             2|                2|               0|              0.875|               12|                   0|                    1|                    1|                 4|           1|            0|                   0|                      0|                   0.0|                 4|  0.6732999999999996|                     0|    51.27010000000003|680.1140000000001|      681.196736716|1.9884000000000004|            142.19|                        16|                  5|                     9|                    0|   0.4444444444444444|                    39|                        2|                         1|                         1|                     12|                3|                 0|                        0|                           0|        0.05128205128205128|                     14|    1.9884000000000004|                          0|         145.0014999999999| (2,[0],[1.0])|      1|  9|  5|  9| 18|  1|  1|  0|  2|  2|  0|  0|  2|  1|  0|  0|  1|  2|  0|  1|  2|  4|  1|  1|  3|  1|  1|  2|  5| 12|  6|  0|  9|  1|  0|  0|  0|  0|  1|  1|  0|  0|  1|  1|  0|  0|  0|  0|  0|  0|  0|  0|  0|  0|  0|  0|  3|  0|  0|  0|  1|  0|  0|  0|  1|  0|  0|  0|  0|  0|  0|  0|  0|  0|  0|  0|  0|  0|  0|  0|  0|  0|  0|  0|  0|  0|  0|  0|  0|  0|  0|  0|  0|  0|  0|  0|  0|\n",
      "|2927|    0|349.3860000000001| 349.131408088|3.391700000000002|75.63000000000001|                    6|             2|                3|               0|0.23809523809523808|               26|                   2|                    1|                    0|                 5|           3|            0|                   0|                      0|   0.07692307692307693|                 5|3.391700000000002|                     0|    97.69550000000004|197.66499999999996| 197.060741684|     1.5791|   35.25|                    3|             1|                2|               0|             0.2|               13|                   1|                    0|                    0|                 3|           1|            0|                   0|                      0|   0.07692307692307693|                 3|           1.5791|                     0|   55.909400000000026| 204.2729999999999|     204.126263132|  1.3813000000000002|46.330000000000005|                    2|             1|                2|               0| 0.4166666666666667|               15|                   1|                    1|                    1|                 3|           2|            0|                   0|                      0|   0.06666666666666667|                 3|  1.3813000000000002|                     0|    59.47090000000003|728.1580000000004|      729.196736716|3.1182000000000007|133.39999999999998|                        14|                  4|                     9|                    0|   0.3225806451612903|                    43|                        3|                         1|                         1|                     12|                4|                 0|                        0|                           0|        0.06976744186046512|                     13|    3.1182000000000007|                          0|        160.45029999999974|     (2,[],[])|      3|  9|  5|  6| 16|  1|  1|  0|  2|  2|  0|  0|  2|  1|  0|  0|  1|  2|  0|  1|  2|  4|  1|  1|  3|  1|  1|  2|  5| 12|  6|  6| 15|  1|  0|  0|  0|  0|  1|  0|  0|  0|  1|  0|  0|  0|  0|  0|  0|  0|  0|  0|  0|  0|  0|  0|  3|  0|  0|  0|  1|  0|  0|  0|  1|  0|  0|  0|  0|  0|  0|  0|  0|  0|  0|  0|  0|  0|  0|  0|  0|  0|  0|  0|  0|  0|  0|  0|  0|  0|  0|  0|  0|  0|  0|  0|  0|\n",
      "|3091|    0|349.3860000000001| 349.131408088|3.391700000000002|75.63000000000001|                    6|             2|                3|               0|0.23809523809523808|               26|                   2|                    1|                    0|                 5|           3|            0|                   0|                      0|   0.07692307692307693|                 5|3.391700000000002|                     0|    97.69550000000004|197.66499999999996| 197.060741684|     1.5791|   35.25|                    3|             1|                2|               0|             0.2|               13|                   1|                    0|                    0|                 3|           1|            0|                   0|                      0|   0.07692307692307693|                 3|           1.5791|                     0|   55.909400000000026|163.22400000000005|     163.110947416|               1.264|             42.15|                    1|             1|                3|               0| 0.4444444444444444|               12|                   1|                    1|                    1|                 3|           2|            0|                   0|                      0|   0.08333333333333333|                 4|               1.264|                     0|    50.09640000000002|687.1090000000003|  688.1814210000001|3.0089000000000006|129.22000000000003|                        13|                  4|                    10|                    0|  0.32142857142857145|                    40|                        3|                         1|                         1|                     12|                4|                 0|                        0|                           0|                      0.075|                     14|    3.0089000000000006|                          0|        150.51079999999985| (2,[1],[1.0])|      2|  9|  5|  4| 14|  1|  1|  0|  2|  2|  0|  0|  2|  1|  0|  0|  1|  2|  0|  0|  1|  4|  1|  0|  2|  1|  1|  2|  5| 12|  6|  5| 14|  1|  0|  0|  0|  0|  1|  0|  0|  0|  1|  0|  0|  0|  0|  0|  0|  0|  0|  0|  0|  0|  0|  1|  4|  0|  0|  0|  1|  0|  0|  0|  1|  0|  0|  0|  0|  0|  0|  0|  0|  0|  0|  0|  0|  0|  0|  0|  0|  0|  0|  0|  0|  0|  0|  0|  0|  0|  0|  0|  0|  0|  0|  0|  0|\n",
      "|3506|    0|349.3860000000001| 349.131408088|3.391700000000002|75.63000000000001|                    6|             2|                3|               0|0.23809523809523808|               26|                   2|                    1|                    0|                 5|           3|            0|                   0|                      0|   0.07692307692307693|                 5|3.391700000000002|                     0|    97.69550000000004|           117.151| 117.057849224|     1.2501|   26.02|                    0|             1|                1|               0|             0.0|                9|                   1|                    0|                    0|                 1|           1|            0|                   0|                      0|    0.1111111111111111|                 2|           1.2501|                     0|    38.78940000000001|           117.151|     117.057849224|  1.2501000000000002|             26.02|                    0|             1|                1|               0|                0.0|                9|                   1|                    0|                    0|                 1|           1|            0|                   0|                      0|    0.1111111111111111|                 2|  1.2501000000000002|                     0|    38.78940000000001|596.9830000000001|  598.1021080600001|3.0958000000000006|            103.86|                         9|                  4|                     7|                    0|                 0.12|                    34|                        3|                         0|                         0|                      9|                3|                 0|                        0|                           0|        0.08823529411764706|                     11|    3.0958000000000006|                          0|                  128.7668|     (2,[],[])|      3|  9|  2|  2| 10|  1|  1|  1|  3|  2|  0|  0|  2|  1|  0|  0|  1|  2|  0|  0|  1|  4|  0|  0|  1|  1|  1|  1|  4| 12|  6|  6| 15|  1|  0|  0|  0|  0|  0|  0|  0|  0|  0|  0|  0|  0|  0|  0|  0|  0|  0|  0|  0|  0|  0|  0|  3|  0|  0|  0|  1|  0|  0|  0|  1|  0|  0|  0|  0|  0|  0|  0|  0|  0|  0|  0|  0|  0|  0|  0|  0|  0|  0|  0|  0|  0|  0|  0|  0|  0|  0|  0|  0|  0|  0|  0|  0|\n",
      "|3764|    0|349.3860000000001| 349.131408088|3.391700000000002|75.63000000000001|                    6|             2|                3|               0|0.23809523809523808|               26|                   2|                    1|                    0|                 5|           3|            0|                   0|                      0|   0.07692307692307693|                 5|3.391700000000002|                     0|    97.69550000000004|           117.151| 117.057849224|     1.2501|   26.02|                    0|             1|                1|               0|             0.0|                9|                   1|                    0|                    0|                 1|           1|            0|                   0|                      0|    0.1111111111111111|                 2|           1.2501|                     0|    38.78940000000001|           214.718|       214.0542764| -0.3515999999999996|63.400000000000006|                    3|             1|                3|               0|                1.0|               12|                   0|                    1|                    1|                 6|           1|            0|                   0|                      0|                   0.0|                 4| -0.3515999999999996|                     0|    50.82620000000003|          658.089|      659.121857524|1.0643000000000007|141.23999999999995|                        12|                  4|                     9|                    0|    0.391304347826087|                    36|                        2|                         1|                         1|                     13|                3|                 0|                        0|                           0|        0.05555555555555555|                     13|    1.0643000000000007|                          0|        134.12059999999997|     (2,[],[])|      3|  9|  2|  7| 14|  1|  1|  0|  2|  2|  0|  0|  2|  1|  0|  0|  1|  2|  0|  2|  3|  4|  0|  2|  3|  1|  1|  2|  5| 12|  6|  0|  9|  1|  0|  0|  0|  0|  0|  1|  0|  0|  0|  1|  0|  0|  0|  0|  0|  0|  0|  0|  0|  0|  0|  0|  3|  0|  0|  0|  1|  0|  0|  0|  1|  0|  0|  0|  0|  0|  0|  0|  0|  0|  0|  1|  1|  0|  0|  0|  0|  0|  0|  0|  0|  0|  0|  0|  0|  0|  0|  0|  0|  0|  0|  0|  0|\n",
      "|4590|    0|349.3860000000001| 349.131408088|3.391700000000002|75.63000000000001|                    6|             2|                3|               0|0.23809523809523808|               26|                   2|                    1|                    0|                 5|           3|            0|                   0|                      0|   0.07692307692307693|                 5|3.391700000000002|                     0|    97.69550000000004|           117.151| 117.057849224|     1.2501|   26.02|                    0|             1|                1|               0|             0.0|                9|                   1|                    0|                    0|                 1|           1|            0|                   0|                      0|    0.1111111111111111|                 2|           1.2501|                     0|    38.78940000000001|241.12199999999999|240.05446642799998|  0.6108999999999998|             76.82|                    2|             2|                4|               0| 0.7142857142857143|               14|                   1|                    1|                    1|                 7|           2|            0|                   0|                      0|   0.07142857142857142|                 6|  0.6108999999999998|                     0|    56.94710000000002|648.0320000000002|  649.1453698400002| 1.604999999999999|154.66000000000003|                        11|                  5|                    10|                    0|   0.3333333333333333|                    37|                        3|                         1|                         1|                     13|                4|                 0|                        0|                           0|        0.08108108108108109|                     15|     1.604999999999999|                          0|        132.99349999999995| (2,[0],[1.0])|      1|  9|  2|  7| 13|  1|  1|  0|  2|  2|  0|  0|  2|  1|  0|  1|  2|  2|  0|  0|  1|  4|  0|  1|  2|  1|  1|  1|  4| 12|  6|  2| 11|  1|  0|  0|  0|  0|  0|  2|  0|  0|  0|  2|  0|  0|  0|  0|  0|  0|  0|  0|  0|  0|  0|  3|  6|  0|  0|  0|  1|  0|  0|  0|  1|  0|  0|  0|  0|  0|  0|  0|  0|  0|  0|  0|  0|  0|  0|  0|  0|  0|  0|  0|  0|  0|  0|  0|  0|  0|  0|  0|  0|  0|  0|  0|  0|\n",
      "|4823|    0|349.3860000000001| 349.131408088|3.391700000000002|75.63000000000001|                    6|             2|                3|               0|0.23809523809523808|               26|                   2|                    1|                    0|                 5|           3|            0|                   0|                      0|   0.07692307692307693|                 5|3.391700000000002|                     0|    97.69550000000004|           117.151| 117.057849224|     1.2501|   26.02|                    0|             1|                1|               0|             0.0|                9|                   1|                    0|                    0|                 1|           1|            0|                   0|                      0|    0.1111111111111111|                 2|           1.2501|                     0|    38.78940000000001|174.63099999999997|     174.055990652|              1.4325|             52.05|                    2|             1|                3|               0| 0.5714285714285714|               11|                   1|                    1|                    1|                 4|           2|            0|                   0|                      0|   0.09090909090909091|                 4|              1.4325|                     0|    43.61740000000002|618.0020000000002|  619.1235717760001|2.8484000000000007|            129.89|                        11|                  4|                     9|                    0|   0.2916666666666667|                    35|                        3|                         1|                         1|                     11|                4|                 0|                        0|                           0|        0.08571428571428572|                     13|    2.8484000000000007|                          0|        126.91180000000003|     (2,[],[])|      3|  9|  2|  5| 12|  1|  1|  0|  2|  2|  0|  0|  2|  1|  0|  0|  1|  2|  0|  0|  1|  4|  0|  0|  1|  1|  1|  1|  4| 12|  6|  3| 12|  1|  0|  0|  0|  0|  0|  1|  0|  0|  0|  1|  0|  0|  0|  0|  0|  0|  0|  0|  0|  0|  0|  1|  4|  0|  0|  0|  1|  0|  0|  0|  1|  0|  0|  1|  1|  0|  0|  0|  0|  0|  0|  0|  0|  0|  0|  0|  0|  0|  0|  0|  0|  0|  0|  0|  0|  0|  0|  0|  0|  0|  0|  0|  0|\n",
      "+----+-----+-----------------+--------------+-----------------+-----------------+---------------------+--------------+-----------------+----------------+-------------------+-----------------+--------------------+---------------------+---------------------+------------------+------------+-------------+--------------------+-----------------------+----------------------+------------------+-----------------+----------------------+---------------------+------------------+--------------+-----------+--------+---------------------+--------------+-----------------+----------------+----------------+-----------------+--------------------+---------------------+---------------------+------------------+------------+-------------+--------------------+-----------------------+----------------------+------------------+-----------------+----------------------+---------------------+------------------+------------------+--------------------+------------------+---------------------+--------------+-----------------+----------------+-------------------+-----------------+--------------------+---------------------+---------------------+------------------+------------+-------------+--------------------+-----------------------+----------------------+------------------+--------------------+----------------------+---------------------+-----------------+-------------------+------------------+------------------+--------------------------+-------------------+----------------------+---------------------+---------------------+----------------------+-------------------------+--------------------------+--------------------------+-----------------------+-----------------+------------------+-------------------------+----------------------------+---------------------------+-----------------------+----------------------+---------------------------+--------------------------+--------------+-------+---+---+---+---+---+---+---+---+---+---+---+---+---+---+---+---+---+---+---+---+---+---+---+---+---+---+---+---+---+---+---+---+---+---+---+---+---+---+---+---+---+---+---+---+---+---+---+---+---+---+---+---+---+---+---+---+---+---+---+---+---+---+---+---+---+---+---+---+---+---+---+---+---+---+---+---+---+---+---+---+---+---+---+---+---+---+---+---+---+---+---+---+---+---+---+---+\n",
      "only showing top 20 rows\n",
      "\n"
     ]
    },
    {
     "name": "stderr",
     "output_type": "stream",
     "text": [
      "                                                                                "
     ]
    }
   ],
   "source": [
    "full_feat_tok_df = full_feat_tok_df.drop(full_tokens_df.id, full_tokens_df.y)\n",
    "full_feat_tok_df.show()"
   ]
  },
  {
   "cell_type": "markdown",
   "id": "3f5a72d6",
   "metadata": {},
   "source": [
    "### Droping `protein` column"
   ]
  },
  {
   "cell_type": "code",
   "execution_count": 15,
   "id": "ec090b0c-e0e1-4b5a-97b5-4b96da5c0b2c",
   "metadata": {},
   "outputs": [
    {
     "name": "stderr",
     "output_type": "stream",
     "text": [
      "[Stage 30:>                                                         (0 + 1) / 1]"
     ]
    },
    {
     "name": "stdout",
     "output_type": "stream",
     "text": [
      "+----+-----+-----------------+--------------+-----------------+-----------------+---------------------+--------------+-----------------+----------------+-------------------+-----------------+--------------------+---------------------+---------------------+------------------+------------+-------------+--------------------+-----------------------+----------------------+------------------+-----------------+----------------------+---------------------+------------------+--------------+-----------+--------+---------------------+--------------+-----------------+----------------+----------------+-----------------+--------------------+---------------------+---------------------+------------------+------------+-------------+--------------------+-----------------------+----------------------+------------------+-----------------+----------------------+---------------------+------------------+------------------+--------------------+------------------+---------------------+--------------+-----------------+----------------+-------------------+-----------------+--------------------+---------------------+---------------------+------------------+------------+-------------+--------------------+-----------------------+----------------------+------------------+--------------------+----------------------+---------------------+-----------------+-------------------+------------------+------------------+--------------------------+-------------------+----------------------+---------------------+---------------------+----------------------+-------------------------+--------------------------+--------------------------+-----------------------+-----------------+------------------+-------------------------+----------------------------+---------------------------+-----------------------+----------------------+---------------------------+--------------------------+--------------+---+---+---+---+---+---+---+---+---+---+---+---+---+---+---+---+---+---+---+---+---+---+---+---+---+---+---+---+---+---+---+---+---+---+---+---+---+---+---+---+---+---+---+---+---+---+---+---+---+---+---+---+---+---+---+---+---+---+---+---+---+---+---+---+---+---+---+---+---+---+---+---+---+---+---+---+---+---+---+---+---+---+---+---+---+---+---+---+---+---+---+---+---+---+---+---+\n",
      "|  id|binds|        bb1_MolWt|bb1_ExactMolWt|      bb1_MolLogP|         bb1_TPSA|bb1_NumRotatableBonds|bb1_NumHDonors|bb1_NumHAcceptors|bb1_FormalCharge|   bb1_FractionCSP3|bb1_NumHeavyAtoms|bb1_NumAromaticRings|bb1_NumAliphaticRings|bb1_NumSaturatedRings|bb1_NumHeteroatoms|bb1_NumRings|bb1_MolVolume|bb1_RadiusOfGyration|bb1_InertialShapeFactor|bb1_AromaticProportion|bb1_HBondPotential|bb1_Lipophilicity|bb1_ChargeDistribution|bb1_ElectroNegativity|         bb2_MolWt|bb2_ExactMolWt|bb2_MolLogP|bb2_TPSA|bb2_NumRotatableBonds|bb2_NumHDonors|bb2_NumHAcceptors|bb2_FormalCharge|bb2_FractionCSP3|bb2_NumHeavyAtoms|bb2_NumAromaticRings|bb2_NumAliphaticRings|bb2_NumSaturatedRings|bb2_NumHeteroatoms|bb2_NumRings|bb2_MolVolume|bb2_RadiusOfGyration|bb2_InertialShapeFactor|bb2_AromaticProportion|bb2_HBondPotential|bb2_Lipophilicity|bb2_ChargeDistribution|bb2_ElectroNegativity|         bb3_MolWt|    bb3_ExactMolWt|         bb3_MolLogP|          bb3_TPSA|bb3_NumRotatableBonds|bb3_NumHDonors|bb3_NumHAcceptors|bb3_FormalCharge|   bb3_FractionCSP3|bb3_NumHeavyAtoms|bb3_NumAromaticRings|bb3_NumAliphaticRings|bb3_NumSaturatedRings|bb3_NumHeteroatoms|bb3_NumRings|bb3_MolVolume|bb3_RadiusOfGyration|bb3_InertialShapeFactor|bb3_AromaticProportion|bb3_HBondPotential|   bb3_Lipophilicity|bb3_ChargeDistribution|bb3_ElectroNegativity|   molecule_MolWt|molecule_ExactMolWt|  molecule_MolLogP|     molecule_TPSA|molecule_NumRotatableBonds|molecule_NumHDonors|molecule_NumHAcceptors|molecule_FormalCharge|molecule_FractionCSP3|molecule_NumHeavyAtoms|molecule_NumAromaticRings|molecule_NumAliphaticRings|molecule_NumSaturatedRings|molecule_NumHeteroatoms|molecule_NumRings|molecule_MolVolume|molecule_RadiusOfGyration|molecule_InertialShapeFactor|molecule_AromaticProportion|molecule_HBondPotential|molecule_Lipophilicity|molecule_ChargeDistribution|molecule_ElectroNegativity|protein_onehot| a1| a2| a3| a4| a5| a6| a7| a8| a9|a10|a11|a12|a13|a14|a15|a16|a17|a18|a19|a20|a21|a22|a23|a24| b1| b2| b3| b4| b5| b6| b7| b8| b9|b10|b11|b12|b13|b14|b15|b16|b17|b18|b19|b20|b21|b22|b23|b24| c1| c2| c3| c4| c5| c6| c7| c8| c9|c10|c11|c12|c13|c14|c15|c16|c17|c18|c19|c20|c21|c22|c23|c24| d1| d2| d3| d4| d5| d6| d7| d8| d9|d10|d11|d12|d13|d14|d15|d16|d17|d18|d19|d20|d21|d22|d23|d24|\n",
      "+----+-----+-----------------+--------------+-----------------+-----------------+---------------------+--------------+-----------------+----------------+-------------------+-----------------+--------------------+---------------------+---------------------+------------------+------------+-------------+--------------------+-----------------------+----------------------+------------------+-----------------+----------------------+---------------------+------------------+--------------+-----------+--------+---------------------+--------------+-----------------+----------------+----------------+-----------------+--------------------+---------------------+---------------------+------------------+------------+-------------+--------------------+-----------------------+----------------------+------------------+-----------------+----------------------+---------------------+------------------+------------------+--------------------+------------------+---------------------+--------------+-----------------+----------------+-------------------+-----------------+--------------------+---------------------+---------------------+------------------+------------+-------------+--------------------+-----------------------+----------------------+------------------+--------------------+----------------------+---------------------+-----------------+-------------------+------------------+------------------+--------------------------+-------------------+----------------------+---------------------+---------------------+----------------------+-------------------------+--------------------------+--------------------------+-----------------------+-----------------+------------------+-------------------------+----------------------------+---------------------------+-----------------------+----------------------+---------------------------+--------------------------+--------------+---+---+---+---+---+---+---+---+---+---+---+---+---+---+---+---+---+---+---+---+---+---+---+---+---+---+---+---+---+---+---+---+---+---+---+---+---+---+---+---+---+---+---+---+---+---+---+---+---+---+---+---+---+---+---+---+---+---+---+---+---+---+---+---+---+---+---+---+---+---+---+---+---+---+---+---+---+---+---+---+---+---+---+---+---+---+---+---+---+---+---+---+---+---+---+---+\n",
      "|  26|    0|349.3860000000001| 349.131408088|3.391700000000002|75.63000000000001|                    6|             2|                3|               0|0.23809523809523808|               26|                   2|                    1|                    0|                 5|           3|            0|                   0|                      0|   0.07692307692307693|                 5|3.391700000000002|                     0|    97.69550000000004|           197.665| 197.060741684|     1.5791|   35.25|                    3|             1|                2|               0|             0.2|               13|                   1|                    0|                    0|                 3|           1|            0|                   0|                      0|   0.07692307692307693|                 3|           1.5791|                     0|   55.909400000000026|           266.345|     266.174275944|              2.0373|             73.38|                    1|             1|                5|               0| 0.6923076923076923|               19|                   1|                    1|                    1|                 6|           2|            0|                   0|                      0|   0.05263157894736842|                 6|              2.0373|                     0|    72.71740000000004|790.2300000000002|  791.2447495279998|3.7822000000000013|            160.45|                        13|                  4|                    12|                    0|               0.4375|                    47|                        3|                         1|                         1|                     15|                4|                 0|                        0|                           0|        0.06382978723404255|                     16|    3.7822000000000013|                          0|         173.1317999999996|     (2,[],[])|  9|  5| 10| 20|  1|  1|  0|  2|  2|  0|  0|  2|  1|  0|  0|  1|  2|  0|  1|  2|  4|  1|  2|  4|  1|  1|  2|  5| 12|  6|  3| 12|  1|  0|  0|  0|  0|  1|  0|  0|  0|  1|  0|  0|  0|  0|  0|  0|  0|  0|  0|  0|  0|  0|  2|  5|  0|  0|  0|  1|  0|  0|  0|  1|  0|  0|  0|  0|  0|  0|  0|  0|  0|  0|  0|  0|  0|  0|  0|  0|  0|  0|  0|  0|  0|  0|  0|  0|  0|  0|  0|  0|  0|  0|  0|  0|\n",
      "|  29|    0|349.3860000000001| 349.131408088|3.391700000000002|75.63000000000001|                    6|             2|                3|               0|0.23809523809523808|               26|                   2|                    1|                    0|                 5|           3|            0|                   0|                      0|   0.07692307692307693|                 5|3.391700000000002|                     0|    97.69550000000004|           197.665| 197.060741684|     1.5791|   35.25|                    3|             1|                2|               0|             0.2|               13|                   1|                    0|                    0|                 3|           1|            0|                   0|                      0|   0.07692307692307693|                 3|           1.5791|                     0|   55.909400000000026|252.31799999999998|      252.15862588|              1.9777| 84.24000000000001|                    0|             2|                4|               0| 0.6666666666666666|               18|                   1|                    1|                    0|                 6|           2|            0|                   0|                      0|   0.05555555555555555|                 6|              1.9777|                     0|    67.80310000000003|776.2030000000003|  777.2290994639999|3.7226000000000017|            171.31|                        12|                  5|                    11|                    0|  0.41935483870967744|                    46|                        3|                         1|                         0|                     15|                4|                 0|                        0|                           0|        0.06521739130434782|                     16|    3.7226000000000017|                          0|        168.21749999999966|     (2,[],[])|  9|  5|  9| 19|  1|  1|  0|  2|  2|  0|  0|  2|  1|  0|  1|  2|  2|  0|  1|  2|  4|  1|  2|  4|  1|  1|  2|  5| 12|  6|  3| 12|  1|  0|  0|  0|  0|  1|  0|  0|  0|  1|  0|  0|  0|  0|  0|  0|  0|  0|  0|  0|  0|  0|  2|  5|  0|  0|  0|  1|  0|  0|  0|  1|  0|  0|  0|  0|  0|  0|  0|  0|  0|  0|  0|  0|  0|  0|  0|  0|  0|  0|  0|  0|  0|  0|  0|  0|  0|  0|  0|  0|  0|  0|  0|  0|\n",
      "| 474|    0|349.3860000000001| 349.131408088|3.391700000000002|75.63000000000001|                    6|             2|                3|               0|0.23809523809523808|               26|                   2|                    1|                    0|                 5|           3|            0|                   0|                      0|   0.07692307692307693|                 5|3.391700000000002|                     0|    97.69550000000004|           197.665| 197.060741684|     1.5791|   35.25|                    3|             1|                2|               0|             0.2|               13|                   1|                    0|                    0|                 3|           1|            0|                   0|                      0|   0.07692307692307693|                 3|           1.5791|                     0|   55.909400000000026|156.61600000000004|     156.045425968|             1.50212|             38.91|                    1|             1|                2|               0| 0.2857142857142857|               10|                   1|                    0|                    0|                 3|           1|            0|                   0|                      0|                   0.1|                 3|             1.50212|                     0|   41.875400000000006|680.5010000000002|  681.1158995520001| 3.239020000000002|            125.98|                        13|                  4|                     9|                    0|   0.2692307692307692|                    38|                        3|                         0|                         0|                     12|                3|                 0|                        0|                           0|        0.07894736842105263|                     13|     3.239020000000002|                          0|         142.8547999999999| (2,[0],[1.0])|  9|  5|  3| 13|  1|  1|  0|  2|  2|  0|  0|  2|  1|  0|  0|  1|  2|  0|  0|  1|  4|  1|  0|  2|  1|  1|  1|  4| 12|  6|  5| 14|  1|  0|  0|  0|  0|  1|  0|  0|  0|  1|  1|  1|  0|  0|  0|  0|  0|  0|  0|  0|  0|  0|  1|  4|  0|  0|  0|  1|  0|  0|  0|  1|  0|  0|  0|  0|  0|  0|  0|  0|  0|  0|  0|  0|  0|  0|  0|  0|  0|  0|  0|  0|  0|  0|  0|  0|  0|  0|  0|  0|  0|  0|  0|  0|\n",
      "| 964|    0|349.3860000000001| 349.131408088|3.391700000000002|75.63000000000001|                    6|             2|                3|               0|0.23809523809523808|               26|                   2|                    1|                    0|                 5|           3|            0|                   0|                      0|   0.07692307692307693|                 5|3.391700000000002|                     0|    97.69550000000004|           197.665| 197.060741684|     1.5791|   35.25|                    3|             1|                2|               0|             0.2|               13|                   1|                    0|                    0|                 3|           1|            0|                   0|                      0|   0.07692307692307693|                 3|           1.5791|                     0|   55.909400000000026|143.22999999999996|     143.131014164|  0.8862999999999996|             46.25|                    3|             2|                2|               0|                1.0|               10|                   0|                    1|                    1|                 2|           1|            0|                   0|                      0|                   0.0|                 4|  0.8862999999999996|                     0|    41.63620000000002|667.1150000000004|  668.2014877480001|2.6231999999999998|            133.32|                        15|                  5|                     9|                    0|  0.48148148148148145|                    38|                        2|                         1|                         1|                     11|                3|                 0|                        0|                           0|        0.05263157894736842|                     14|    2.6231999999999998|                          0|        142.61559999999992| (2,[1],[1.0])|  9|  5|  8| 18|  1|  1|  0|  2|  2|  0|  0|  2|  1|  0|  0|  1|  2|  0|  0|  1|  4|  1|  1|  3|  1|  1|  1|  4| 12|  6|  0|  9|  1|  0|  0|  0|  0|  1|  0|  0|  0|  1|  0|  0|  0|  0|  0|  0|  0|  0|  0|  0|  0|  0|  0|  3|  0|  0|  0|  1|  0|  0|  0|  1|  0|  0|  0|  0|  0|  0|  0|  0|  0|  0|  0|  0|  0|  0|  0|  0|  0|  0|  0|  0|  0|  0|  0|  0|  0|  0|  0|  0|  0|  0|  0|  0|\n",
      "|1677|    0|349.3860000000001| 349.131408088|3.391700000000002|75.63000000000001|                    6|             2|                3|               0|0.23809523809523808|               26|                   2|                    1|                    0|                 5|           3|            0|                   0|                      0|   0.07692307692307693|                 5|3.391700000000002|                     0|    97.69550000000004|197.66499999999996| 197.060741684|     1.5791|   35.25|                    3|             1|                2|               0|             0.2|               13|                   1|                    0|                    0|                 3|           1|            0|                   0|                      0|   0.07692307692307693|                 3|           1.5791|                     0|   55.909400000000026|157.66600000000003|     157.032812684| 0.13550000000000012|             43.09|                    3|             1|                2|               0|                1.0|                8|                   0|                    0|                    0|                 4|           0|            0|                   0|                      0|                   0.0|                 3| 0.13550000000000012|                     0|    39.85280000000001|645.0900000000001|      646.126608556|1.4506000000000001|130.16000000000003|                        15|                  4|                     9|                    0|    0.391304347826087|                    35|                        2|                         0|                         0|                     12|                2|                 0|                        0|                           0|        0.05714285714285714|                     13|    1.4506000000000001|                          0|        133.58419999999998| (2,[0],[1.0])|  9|  5|  5| 14|  1|  1|  0|  2|  2|  0|  0|  2|  1|  0|  0|  1|  2|  0|  1|  2|  4|  1|  1|  3|  1|  1|  1|  4| 12|  6|  0|  9|  1|  0|  0|  0|  0|  1|  1|  0|  0|  1|  1|  0|  0|  0|  0|  0|  0|  0|  0|  0|  0|  0|  0|  3|  0|  0|  0|  1|  0|  0|  0|  1|  0|  0|  0|  0|  0|  0|  0|  0|  0|  0|  1|  1|  0|  0|  0|  0|  0|  0|  0|  0|  0|  0|  0|  0|  0|  0|  0|  0|  0|  0|  0|  0|\n",
      "|1697|    0|349.3860000000001| 349.131408088|3.391700000000002|75.63000000000001|                    6|             2|                3|               0|0.23809523809523808|               26|                   2|                    1|                    0|                 5|           3|            0|                   0|                      0|   0.07692307692307693|                 5|3.391700000000002|                     0|    97.69550000000004|197.66499999999996| 197.060741684|     1.5791|   35.25|                    3|             1|                2|               0|             0.2|               13|                   1|                    0|                    0|                 3|           1|            0|                   0|                      0|   0.07692307692307693|                 3|           1.5791|                     0|   55.909400000000026|125.17499999999998|125.09529735199999|              0.3617|             43.84|                    2|             1|                3|               0|                0.5|                9|                   1|                    0|                    0|                 3|           1|            0|                   0|                      0|    0.1111111111111111|                 4|              0.3617|                     0|    35.79239999999999|649.0600000000002|  650.1657709360001|2.0985999999999994|130.91000000000003|                        14|                  4|                    10|                    0|                 0.32|                    37|                        3|                         0|                         0|                     12|                3|                 0|                        0|                           0|        0.08108108108108109|                     14|    2.0985999999999994|                          0|        136.77179999999996|     (2,[],[])|  9|  5|  3| 13|  1|  1|  0|  2|  2|  0|  0|  2|  1|  0|  0|  1|  2|  0|  0|  1|  4|  1|  0|  2|  1|  1|  1|  4| 12|  6|  3| 12|  1|  0|  0|  0|  0|  1|  0|  0|  0|  1|  0|  0|  0|  0|  0|  0|  0|  0|  0|  0|  0|  0|  2|  5|  0|  0|  0|  1|  0|  0|  0|  1|  0|  0|  0|  0|  0|  0|  0|  0|  0|  0|  0|  0|  0|  0|  0|  0|  0|  0|  0|  0|  0|  0|  0|  0|  0|  0|  0|  0|  0|  0|  0|  0|\n",
      "|1806|    0|349.3860000000001| 349.131408088|3.391700000000002|75.63000000000001|                    6|             2|                3|               0|0.23809523809523808|               26|                   2|                    1|                    0|                 5|           3|            0|                   0|                      0|   0.07692307692307693|                 5|3.391700000000002|                     0|    97.69550000000004|197.66499999999996| 197.060741684|     1.5791|   35.25|                    3|             1|                2|               0|             0.2|               13|                   1|                    0|                    0|                 3|           1|            0|                   0|                      0|   0.07692307692307693|                 3|           1.5791|                     0|   55.909400000000026|           152.153|     152.058577496|              0.4504|             65.21|                    1|             1|                4|               0|0.14285714285714285|               11|                   1|                    0|                    0|                 4|           1|            0|                   0|                      0|   0.09090909090909091|                 5|              0.4504|                     0|    39.98890000000001|676.0380000000001|  677.1290510800001|2.1952999999999996|152.28000000000003|                        13|                  4|                    11|                    0|  0.23076923076923078|                    39|                        3|                         0|                         0|                     13|                3|                 0|                        0|                           0|        0.07692307692307693|                     15|    2.1952999999999996|                          0|        140.40329999999992| (2,[0],[1.0])|  9|  5|  2| 12|  1|  1|  0|  2|  2|  0|  0|  2|  1|  0|  0|  1|  2|  0|  1|  2|  4|  1|  2|  4|  1|  1|  1|  4| 12|  6|  5| 14|  1|  0|  0|  0|  0|  1|  0|  0|  0|  1|  0|  0|  0|  0|  0|  0|  0|  0|  0|  0|  0|  0|  1|  4|  0|  0|  0|  1|  0|  0|  0|  1|  0|  0|  0|  0|  0|  0|  0|  0|  0|  0|  0|  0|  0|  0|  0|  0|  0|  0|  0|  0|  0|  0|  0|  0|  0|  0|  0|  0|  0|  0|  0|  0|\n",
      "|1950|    0|349.3860000000001| 349.131408088|3.391700000000002|75.63000000000001|                    6|             2|                3|               0|0.23809523809523808|               26|                   2|                    1|                    0|                 5|           3|            0|                   0|                      0|   0.07692307692307693|                 5|3.391700000000002|                     0|    97.69550000000004|197.66499999999996| 197.060741684|     1.5791|   35.25|                    3|             1|                2|               0|             0.2|               13|                   1|                    0|                    0|                 3|           1|            0|                   0|                      0|   0.07692307692307693|                 3|           1.5791|                     0|   55.909400000000026|           179.183|     179.080709908|-0.40840000000000026|             78.33|                    2|             1|                6|               0| 0.2857142857142857|               13|                   2|                    0|                    0|                 6|           2|            0|                   0|                      0|   0.15384615384615385|                 7|-0.40840000000000026|                     0|    45.22540000000001|703.0680000000002|  704.1511834920001|1.3284999999999998|165.40000000000003|                        14|                  4|                    13|                    0|   0.2692307692307692|                    41|                        4|                         0|                         0|                     15|                4|                 0|                        0|                           0|         0.0975609756097561|                     17|    1.3284999999999998|                          0|         146.2047999999999| (2,[0],[1.0])|  9|  5|  2| 12|  1|  1|  0|  2|  2|  0|  0|  2|  1|  0|  0|  1|  2|  0|  0|  1|  4|  1|  1|  3|  1|  1|  1|  4| 12|  6|  5| 14|  1|  0|  0|  0|  0|  1|  0|  0|  0|  1|  0|  0|  0|  0|  0|  0|  0|  0|  0|  0|  0|  0|  4|  7|  0|  0|  0|  1|  0|  0|  0|  1|  0|  0|  0|  0|  0|  0|  0|  0|  0|  0|  0|  0|  0|  0|  0|  0|  0|  0|  0|  0|  0|  0|  0|  0|  0|  0|  0|  0|  0|  0|  0|  0|\n",
      "|2040|    0|349.3860000000001| 349.131408088|3.391700000000002|75.63000000000001|                    6|             2|                3|               0|0.23809523809523808|               26|                   2|                    1|                    0|                 5|           3|            0|                   0|                      0|   0.07692307692307693|                 5|3.391700000000002|                     0|    97.69550000000004|197.66499999999996| 197.060741684|     1.5791|   35.25|                    3|             1|                2|               0|             0.2|               13|                   1|                    0|                    0|                 3|           1|            0|                   0|                      0|   0.07692307692307693|                 3|           1.5791|                     0|   55.909400000000026|194.69100000000003|194.03929503199998|              0.5482|             67.59|                    3|             2|                4|               0|                0.6|               11|                   1|                    0|                    0|                 6|           1|            0|                   0|                      0|   0.09090909090909091|                 6|              0.5482|                     0|    48.74110000000001|682.1150000000001|      683.133090904|1.8632999999999995|154.66000000000003|                        15|                  5|                    11|                    0|   0.3333333333333333|                    38|                        3|                         0|                         0|                     14|                3|                 0|                        0|                           0|        0.07894736842105263|                     16|    1.8632999999999995|                          0|        142.47249999999994| (2,[0],[1.0])|  9|  5|  4| 13|  1|  1|  0|  2|  2|  0|  0|  2|  1|  0|  1|  2|  2|  0|  0|  1|  4|  1|  0|  2|  1|  1|  1|  4| 12|  6|  2| 11|  1|  0|  0|  0|  0|  1|  1|  0|  0|  1|  1|  0|  0|  0|  0|  0|  0|  0|  0|  0|  0|  0|  3|  6|  0|  0|  0|  1|  0|  0|  0|  1|  0|  0|  0|  0|  0|  0|  0|  0|  0|  0|  1|  1|  0|  0|  0|  0|  0|  0|  0|  0|  0|  0|  0|  0|  0|  0|  0|  0|  0|  0|  0|  0|\n",
      "|2214|    0|349.3860000000001| 349.131408088|3.391700000000002|75.63000000000001|                    6|             2|                3|               0|0.23809523809523808|               26|                   2|                    1|                    0|                 5|           3|            0|                   0|                      0|   0.07692307692307693|                 5|3.391700000000002|                     0|    97.69550000000004|197.66499999999996| 197.060741684|     1.5791|   35.25|                    3|             1|                2|               0|             0.2|               13|                   1|                    0|                    0|                 3|           1|            0|                   0|                      0|   0.07692307692307693|                 3|           1.5791|                     0|   55.909400000000026|148.59300000000002|     148.040340588|  0.8635199999999998|             52.05|                    1|             1|                3|               0|                0.4|                9|                   1|                    0|                    0|                 4|           1|            0|                   0|                      0|    0.1111111111111111|                 4|  0.8635199999999998|                     0|   36.379400000000004|636.0170000000002|       637.13413646|2.1786199999999996|            139.12|                        13|                  4|                    10|                    0|   0.2916666666666667|                    36|                        3|                         0|                         0|                     12|                3|                 0|                        0|                           0|        0.08333333333333333|                     14|    2.1786199999999996|                          0|        130.11080000000004| (2,[0],[1.0])|  9|  5|  3| 12|  1|  1|  0|  2|  2|  0|  0|  2|  1|  0|  0|  1|  2|  0|  0|  1|  4|  1|  0|  2|  1|  1|  1|  4| 12|  6|  3| 12|  1|  0|  0|  0|  0|  1|  1|  0|  0|  1|  1|  0|  0|  0|  0|  0|  0|  0|  0|  0|  0|  0|  1|  4|  0|  0|  0|  1|  0|  0|  0|  1|  0|  0|  1|  1|  0|  0|  0|  0|  0|  0|  0|  0|  0|  0|  0|  0|  0|  0|  0|  0|  0|  0|  0|  0|  0|  0|  0|  0|  0|  0|  0|  0|\n",
      "|2250|    0|349.3860000000001| 349.131408088|3.391700000000002|75.63000000000001|                    6|             2|                3|               0|0.23809523809523808|               26|                   2|                    1|                    0|                 5|           3|            0|                   0|                      0|   0.07692307692307693|                 5|3.391700000000002|                     0|    97.69550000000004|197.66499999999996| 197.060741684|     1.5791|   35.25|                    3|             1|                2|               0|             0.2|               13|                   1|                    0|                    0|                 3|           1|            0|                   0|                      0|   0.07692307692307693|                 3|           1.5791|                     0|   55.909400000000026|239.14600000000002|     238.063968492|   1.745620000000001|             59.14|                    2|             2|                3|               0| 0.4444444444444444|               14|                   1|                    0|                    0|                 5|           1|            0|                   0|                      0|   0.07142857142857142|                 5|   1.745620000000001|                     0|    61.99520000000004|690.1090000000003|      691.181086652|2.6389199999999997|146.20999999999998|                        14|                  5|                    10|                    0|  0.32142857142857145|                    40|                        3|                         0|                         0|                     12|                3|                 0|                        0|                           0|                      0.075|                     15|    2.6389199999999997|                          0|        148.47859999999986| (2,[0],[1.0])|  9|  5|  6| 14|  1|  1|  0|  2|  2|  0|  0|  2|  1|  0|  0|  1|  2|  0|  0|  1|  4|  1|  1|  3|  1|  1|  1|  4| 12|  6|  5| 14|  1|  0|  0|  0|  0|  1|  2|  0|  0|  1|  2|  0|  0|  0|  0|  0|  0|  0|  0|  0|  0|  0|  1|  4|  0|  0|  0|  1|  0|  0|  0|  1|  0|  0|  0|  0|  0|  0|  0|  0|  0|  0|  0|  0|  0|  0|  0|  0|  0|  0|  0|  0|  0|  0|  0|  0|  0|  0|  0|  0|  0|  0|  0|  0|\n",
      "|2453|    0|349.3860000000001| 349.131408088|3.391700000000002|75.63000000000001|                    6|             2|                3|               0|0.23809523809523808|               26|                   2|                    1|                    0|                 5|           3|            0|                   0|                      0|   0.07692307692307693|                 5|3.391700000000002|                     0|    97.69550000000004|197.66499999999996| 197.060741684|     1.5791|   35.25|                    3|             1|                2|               0|             0.2|               13|                   1|                    0|                    0|                 3|           1|            0|                   0|                      0|   0.07692307692307693|                 3|           1.5791|                     0|   55.909400000000026|           171.618|     171.062633504|              1.8023|             26.02|                    3|             1|                1|               0|                1.0|               10|                   0|                    1|                    1|                 4|           1|            0|                   0|                      0|                   0.0|                 2|              1.8023|                     0|    38.59040000000002|659.0420000000003|      660.156429376| 3.117400000000001|113.08999999999999|                        15|                  4|                     8|                    0|                 0.44|                    37|                        2|                         1|                         1|                     12|                3|                 0|                        0|                           0|        0.05405405405405406|                     12|     3.117400000000001|                          0|        132.32180000000002|     (2,[],[])|  9|  5|  7| 16|  1|  1|  0|  2|  2|  0|  0|  2|  1|  0|  0|  1|  2|  0|  0|  1|  4|  1|  0|  2|  1|  1|  1|  4| 12|  6|  0|  9|  1|  0|  0|  0|  0|  1|  1|  0|  0|  1|  1|  0|  0|  0|  0|  0|  0|  0|  0|  0|  0|  0|  0|  3|  0|  0|  0|  1|  0|  0|  0|  1|  0|  0|  0|  0|  0|  0|  0|  0|  0|  0|  0|  0|  0|  0|  2|  2|  0|  0|  0|  0|  0|  0|  0|  0|  0|  0|  0|  0|  0|  0|  0|  0|\n",
      "|2509|    0|349.3860000000001| 349.131408088|3.391700000000002|75.63000000000001|                    6|             2|                3|               0|0.23809523809523808|               26|                   2|                    1|                    0|                 5|           3|            0|                   0|                      0|   0.07692307692307693|                 5|3.391700000000002|                     0|    97.69550000000004|197.66499999999996| 197.060741684|     1.5791|   35.25|                    3|             1|                2|               0|             0.2|               13|                   1|                    0|                    0|                 3|           1|            0|                   0|                      0|   0.07692307692307693|                 3|           1.5791|                     0|   55.909400000000026|            212.68|     212.071640716|              1.1779|             55.12|                    1|             2|                2|               0|                0.3|               14|                   1|                    1|                    0|                 4|           2|            0|                   0|                      0|   0.07142857142857142|                 4|              1.1779|                     0|   58.568100000000015|700.1040000000002|      701.165436588|2.4929999999999994|            142.19|                        13|                  5|                     9|                    0|  0.27586206896551724|                    41|                        3|                         1|                         0|                     12|                4|                 0|                        0|                           0|        0.07317073170731707|                     14|    2.4929999999999994|                          0|        152.29949999999985| (2,[1],[1.0])|  9|  5|  5| 14|  1|  1|  0|  2|  2|  0|  0|  2|  1|  0|  0|  1|  2|  0|  1|  2|  4|  1|  1|  3|  1|  1|  2|  5| 12|  6|  6| 15|  1|  0|  0|  0|  0|  1|  1|  0|  0|  1|  1|  0|  0|  0|  0|  0|  0|  0|  0|  0|  0|  0|  0|  3|  0|  0|  0|  1|  0|  0|  0|  1|  0|  0|  0|  0|  0|  0|  0|  0|  0|  0|  0|  0|  0|  0|  0|  0|  0|  0|  0|  0|  0|  0|  0|  0|  0|  0|  0|  0|  0|  0|  0|  0|\n",
      "|2529|    0|349.3860000000001| 349.131408088|3.391700000000002|75.63000000000001|                    6|             2|                3|               0|0.23809523809523808|               26|                   2|                    1|                    0|                 5|           3|            0|                   0|                      0|   0.07692307692307693|                 5|3.391700000000002|                     0|    97.69550000000004|197.66499999999996| 197.060741684|     1.5791|   35.25|                    3|             1|                2|               0|             0.2|               13|                   1|                    0|                    0|                 3|           1|            0|                   0|                      0|   0.07692307692307693|                 3|           1.5791|                     0|   55.909400000000026|192.68999999999997|     192.102940844|  0.6732999999999996|             55.12|                    4|             2|                2|               0|              0.875|               12|                   0|                    1|                    1|                 4|           1|            0|                   0|                      0|                   0.0|                 4|  0.6732999999999996|                     0|    51.27010000000003|680.1140000000001|      681.196736716|1.9884000000000004|            142.19|                        16|                  5|                     9|                    0|   0.4444444444444444|                    39|                        2|                         1|                         1|                     12|                3|                 0|                        0|                           0|        0.05128205128205128|                     14|    1.9884000000000004|                          0|         145.0014999999999| (2,[0],[1.0])|  9|  5|  9| 18|  1|  1|  0|  2|  2|  0|  0|  2|  1|  0|  0|  1|  2|  0|  1|  2|  4|  1|  1|  3|  1|  1|  2|  5| 12|  6|  0|  9|  1|  0|  0|  0|  0|  1|  1|  0|  0|  1|  1|  0|  0|  0|  0|  0|  0|  0|  0|  0|  0|  0|  0|  3|  0|  0|  0|  1|  0|  0|  0|  1|  0|  0|  0|  0|  0|  0|  0|  0|  0|  0|  0|  0|  0|  0|  0|  0|  0|  0|  0|  0|  0|  0|  0|  0|  0|  0|  0|  0|  0|  0|  0|  0|\n",
      "|2927|    0|349.3860000000001| 349.131408088|3.391700000000002|75.63000000000001|                    6|             2|                3|               0|0.23809523809523808|               26|                   2|                    1|                    0|                 5|           3|            0|                   0|                      0|   0.07692307692307693|                 5|3.391700000000002|                     0|    97.69550000000004|197.66499999999996| 197.060741684|     1.5791|   35.25|                    3|             1|                2|               0|             0.2|               13|                   1|                    0|                    0|                 3|           1|            0|                   0|                      0|   0.07692307692307693|                 3|           1.5791|                     0|   55.909400000000026| 204.2729999999999|     204.126263132|  1.3813000000000002|46.330000000000005|                    2|             1|                2|               0| 0.4166666666666667|               15|                   1|                    1|                    1|                 3|           2|            0|                   0|                      0|   0.06666666666666667|                 3|  1.3813000000000002|                     0|    59.47090000000003|728.1580000000004|      729.196736716|3.1182000000000007|133.39999999999998|                        14|                  4|                     9|                    0|   0.3225806451612903|                    43|                        3|                         1|                         1|                     12|                4|                 0|                        0|                           0|        0.06976744186046512|                     13|    3.1182000000000007|                          0|        160.45029999999974|     (2,[],[])|  9|  5|  6| 16|  1|  1|  0|  2|  2|  0|  0|  2|  1|  0|  0|  1|  2|  0|  1|  2|  4|  1|  1|  3|  1|  1|  2|  5| 12|  6|  6| 15|  1|  0|  0|  0|  0|  1|  0|  0|  0|  1|  0|  0|  0|  0|  0|  0|  0|  0|  0|  0|  0|  0|  0|  3|  0|  0|  0|  1|  0|  0|  0|  1|  0|  0|  0|  0|  0|  0|  0|  0|  0|  0|  0|  0|  0|  0|  0|  0|  0|  0|  0|  0|  0|  0|  0|  0|  0|  0|  0|  0|  0|  0|  0|  0|\n",
      "|3091|    0|349.3860000000001| 349.131408088|3.391700000000002|75.63000000000001|                    6|             2|                3|               0|0.23809523809523808|               26|                   2|                    1|                    0|                 5|           3|            0|                   0|                      0|   0.07692307692307693|                 5|3.391700000000002|                     0|    97.69550000000004|197.66499999999996| 197.060741684|     1.5791|   35.25|                    3|             1|                2|               0|             0.2|               13|                   1|                    0|                    0|                 3|           1|            0|                   0|                      0|   0.07692307692307693|                 3|           1.5791|                     0|   55.909400000000026|163.22400000000005|     163.110947416|               1.264|             42.15|                    1|             1|                3|               0| 0.4444444444444444|               12|                   1|                    1|                    1|                 3|           2|            0|                   0|                      0|   0.08333333333333333|                 4|               1.264|                     0|    50.09640000000002|687.1090000000003|  688.1814210000001|3.0089000000000006|129.22000000000003|                        13|                  4|                    10|                    0|  0.32142857142857145|                    40|                        3|                         1|                         1|                     12|                4|                 0|                        0|                           0|                      0.075|                     14|    3.0089000000000006|                          0|        150.51079999999985| (2,[1],[1.0])|  9|  5|  4| 14|  1|  1|  0|  2|  2|  0|  0|  2|  1|  0|  0|  1|  2|  0|  0|  1|  4|  1|  0|  2|  1|  1|  2|  5| 12|  6|  5| 14|  1|  0|  0|  0|  0|  1|  0|  0|  0|  1|  0|  0|  0|  0|  0|  0|  0|  0|  0|  0|  0|  0|  1|  4|  0|  0|  0|  1|  0|  0|  0|  1|  0|  0|  0|  0|  0|  0|  0|  0|  0|  0|  0|  0|  0|  0|  0|  0|  0|  0|  0|  0|  0|  0|  0|  0|  0|  0|  0|  0|  0|  0|  0|  0|\n",
      "|3506|    0|349.3860000000001| 349.131408088|3.391700000000002|75.63000000000001|                    6|             2|                3|               0|0.23809523809523808|               26|                   2|                    1|                    0|                 5|           3|            0|                   0|                      0|   0.07692307692307693|                 5|3.391700000000002|                     0|    97.69550000000004|           117.151| 117.057849224|     1.2501|   26.02|                    0|             1|                1|               0|             0.0|                9|                   1|                    0|                    0|                 1|           1|            0|                   0|                      0|    0.1111111111111111|                 2|           1.2501|                     0|    38.78940000000001|           117.151|     117.057849224|  1.2501000000000002|             26.02|                    0|             1|                1|               0|                0.0|                9|                   1|                    0|                    0|                 1|           1|            0|                   0|                      0|    0.1111111111111111|                 2|  1.2501000000000002|                     0|    38.78940000000001|596.9830000000001|  598.1021080600001|3.0958000000000006|            103.86|                         9|                  4|                     7|                    0|                 0.12|                    34|                        3|                         0|                         0|                      9|                3|                 0|                        0|                           0|        0.08823529411764706|                     11|    3.0958000000000006|                          0|                  128.7668|     (2,[],[])|  9|  2|  2| 10|  1|  1|  1|  3|  2|  0|  0|  2|  1|  0|  0|  1|  2|  0|  0|  1|  4|  0|  0|  1|  1|  1|  1|  4| 12|  6|  6| 15|  1|  0|  0|  0|  0|  0|  0|  0|  0|  0|  0|  0|  0|  0|  0|  0|  0|  0|  0|  0|  0|  0|  0|  3|  0|  0|  0|  1|  0|  0|  0|  1|  0|  0|  0|  0|  0|  0|  0|  0|  0|  0|  0|  0|  0|  0|  0|  0|  0|  0|  0|  0|  0|  0|  0|  0|  0|  0|  0|  0|  0|  0|  0|  0|\n",
      "|3764|    0|349.3860000000001| 349.131408088|3.391700000000002|75.63000000000001|                    6|             2|                3|               0|0.23809523809523808|               26|                   2|                    1|                    0|                 5|           3|            0|                   0|                      0|   0.07692307692307693|                 5|3.391700000000002|                     0|    97.69550000000004|           117.151| 117.057849224|     1.2501|   26.02|                    0|             1|                1|               0|             0.0|                9|                   1|                    0|                    0|                 1|           1|            0|                   0|                      0|    0.1111111111111111|                 2|           1.2501|                     0|    38.78940000000001|           214.718|       214.0542764| -0.3515999999999996|63.400000000000006|                    3|             1|                3|               0|                1.0|               12|                   0|                    1|                    1|                 6|           1|            0|                   0|                      0|                   0.0|                 4| -0.3515999999999996|                     0|    50.82620000000003|          658.089|      659.121857524|1.0643000000000007|141.23999999999995|                        12|                  4|                     9|                    0|    0.391304347826087|                    36|                        2|                         1|                         1|                     13|                3|                 0|                        0|                           0|        0.05555555555555555|                     13|    1.0643000000000007|                          0|        134.12059999999997|     (2,[],[])|  9|  2|  7| 14|  1|  1|  0|  2|  2|  0|  0|  2|  1|  0|  0|  1|  2|  0|  2|  3|  4|  0|  2|  3|  1|  1|  2|  5| 12|  6|  0|  9|  1|  0|  0|  0|  0|  0|  1|  0|  0|  0|  1|  0|  0|  0|  0|  0|  0|  0|  0|  0|  0|  0|  0|  3|  0|  0|  0|  1|  0|  0|  0|  1|  0|  0|  0|  0|  0|  0|  0|  0|  0|  0|  1|  1|  0|  0|  0|  0|  0|  0|  0|  0|  0|  0|  0|  0|  0|  0|  0|  0|  0|  0|  0|  0|\n",
      "|4590|    0|349.3860000000001| 349.131408088|3.391700000000002|75.63000000000001|                    6|             2|                3|               0|0.23809523809523808|               26|                   2|                    1|                    0|                 5|           3|            0|                   0|                      0|   0.07692307692307693|                 5|3.391700000000002|                     0|    97.69550000000004|           117.151| 117.057849224|     1.2501|   26.02|                    0|             1|                1|               0|             0.0|                9|                   1|                    0|                    0|                 1|           1|            0|                   0|                      0|    0.1111111111111111|                 2|           1.2501|                     0|    38.78940000000001|241.12199999999999|240.05446642799998|  0.6108999999999998|             76.82|                    2|             2|                4|               0| 0.7142857142857143|               14|                   1|                    1|                    1|                 7|           2|            0|                   0|                      0|   0.07142857142857142|                 6|  0.6108999999999998|                     0|    56.94710000000002|648.0320000000002|  649.1453698400002| 1.604999999999999|154.66000000000003|                        11|                  5|                    10|                    0|   0.3333333333333333|                    37|                        3|                         1|                         1|                     13|                4|                 0|                        0|                           0|        0.08108108108108109|                     15|     1.604999999999999|                          0|        132.99349999999995| (2,[0],[1.0])|  9|  2|  7| 13|  1|  1|  0|  2|  2|  0|  0|  2|  1|  0|  1|  2|  2|  0|  0|  1|  4|  0|  1|  2|  1|  1|  1|  4| 12|  6|  2| 11|  1|  0|  0|  0|  0|  0|  2|  0|  0|  0|  2|  0|  0|  0|  0|  0|  0|  0|  0|  0|  0|  0|  3|  6|  0|  0|  0|  1|  0|  0|  0|  1|  0|  0|  0|  0|  0|  0|  0|  0|  0|  0|  0|  0|  0|  0|  0|  0|  0|  0|  0|  0|  0|  0|  0|  0|  0|  0|  0|  0|  0|  0|  0|  0|\n",
      "|4823|    0|349.3860000000001| 349.131408088|3.391700000000002|75.63000000000001|                    6|             2|                3|               0|0.23809523809523808|               26|                   2|                    1|                    0|                 5|           3|            0|                   0|                      0|   0.07692307692307693|                 5|3.391700000000002|                     0|    97.69550000000004|           117.151| 117.057849224|     1.2501|   26.02|                    0|             1|                1|               0|             0.0|                9|                   1|                    0|                    0|                 1|           1|            0|                   0|                      0|    0.1111111111111111|                 2|           1.2501|                     0|    38.78940000000001|174.63099999999997|     174.055990652|              1.4325|             52.05|                    2|             1|                3|               0| 0.5714285714285714|               11|                   1|                    1|                    1|                 4|           2|            0|                   0|                      0|   0.09090909090909091|                 4|              1.4325|                     0|    43.61740000000002|618.0020000000002|  619.1235717760001|2.8484000000000007|            129.89|                        11|                  4|                     9|                    0|   0.2916666666666667|                    35|                        3|                         1|                         1|                     11|                4|                 0|                        0|                           0|        0.08571428571428572|                     13|    2.8484000000000007|                          0|        126.91180000000003|     (2,[],[])|  9|  2|  5| 12|  1|  1|  0|  2|  2|  0|  0|  2|  1|  0|  0|  1|  2|  0|  0|  1|  4|  0|  0|  1|  1|  1|  1|  4| 12|  6|  3| 12|  1|  0|  0|  0|  0|  0|  1|  0|  0|  0|  1|  0|  0|  0|  0|  0|  0|  0|  0|  0|  0|  0|  1|  4|  0|  0|  0|  1|  0|  0|  0|  1|  0|  0|  1|  1|  0|  0|  0|  0|  0|  0|  0|  0|  0|  0|  0|  0|  0|  0|  0|  0|  0|  0|  0|  0|  0|  0|  0|  0|  0|  0|  0|  0|\n",
      "+----+-----+-----------------+--------------+-----------------+-----------------+---------------------+--------------+-----------------+----------------+-------------------+-----------------+--------------------+---------------------+---------------------+------------------+------------+-------------+--------------------+-----------------------+----------------------+------------------+-----------------+----------------------+---------------------+------------------+--------------+-----------+--------+---------------------+--------------+-----------------+----------------+----------------+-----------------+--------------------+---------------------+---------------------+------------------+------------+-------------+--------------------+-----------------------+----------------------+------------------+-----------------+----------------------+---------------------+------------------+------------------+--------------------+------------------+---------------------+--------------+-----------------+----------------+-------------------+-----------------+--------------------+---------------------+---------------------+------------------+------------+-------------+--------------------+-----------------------+----------------------+------------------+--------------------+----------------------+---------------------+-----------------+-------------------+------------------+------------------+--------------------------+-------------------+----------------------+---------------------+---------------------+----------------------+-------------------------+--------------------------+--------------------------+-----------------------+-----------------+------------------+-------------------------+----------------------------+---------------------------+-----------------------+----------------------+---------------------------+--------------------------+--------------+---+---+---+---+---+---+---+---+---+---+---+---+---+---+---+---+---+---+---+---+---+---+---+---+---+---+---+---+---+---+---+---+---+---+---+---+---+---+---+---+---+---+---+---+---+---+---+---+---+---+---+---+---+---+---+---+---+---+---+---+---+---+---+---+---+---+---+---+---+---+---+---+---+---+---+---+---+---+---+---+---+---+---+---+---+---+---+---+---+---+---+---+---+---+---+---+\n",
      "only showing top 20 rows\n",
      "\n"
     ]
    },
    {
     "name": "stderr",
     "output_type": "stream",
     "text": [
      "                                                                                "
     ]
    }
   ],
   "source": [
    "full_feat_tok_df = full_feat_tok_df.drop(full_tokens_df.protein)\n",
    "full_feat_tok_df.show()"
   ]
  },
  {
   "cell_type": "code",
   "execution_count": null,
   "id": "f91854ad",
   "metadata": {},
   "outputs": [],
   "source": [
    "# +----+-----+-----------------+--------------+-----------------+-----------------+---------------------+--------------+-----------------+----------------+-------------------+-----------------+--------------------+---------------------+---------------------+------------------+------------+-------------+--------------------+-----------------------+----------------------+------------------+-----------------+----------------------+---------------------+------------------+--------------+-----------+--------+---------------------+--------------+-----------------+----------------+----------------+-----------------+--------------------+---------------------+---------------------+------------------+------------+-------------+--------------------+-----------------------+----------------------+------------------+-----------------+----------------------+---------------------+------------------+------------------+--------------------+------------------+---------------------+--------------+-----------------+----------------+-------------------+-----------------+--------------------+---------------------+---------------------+------------------+------------+-------------+--------------------+-----------------------+----------------------+------------------+--------------------+----------------------+---------------------+-----------------+-------------------+------------------+------------------+--------------------------+-------------------+----------------------+---------------------+---------------------+----------------------+-------------------------+--------------------------+--------------------------+-----------------------+-----------------+------------------+-------------------------+----------------------------+---------------------------+-----------------------+----------------------+---------------------------+--------------------------+--------------+---+---+---+---+---+---+---+---+---+---+---+---+---+---+---+---+---+---+---+---+---+---+---+---+---+---+---+---+---+---+---+---+---+---+---+---+---+---+---+---+---+---+---+---+---+---+---+---+---+---+---+---+---+---+---+---+---+---+---+---+---+---+---+---+---+---+---+---+---+---+---+---+---+---+---+---+---+---+---+---+---+---+---+---+---+---+---+---+---+---+---+---+---+---+---+---+\n",
    "# |  id|binds|        bb1_MolWt|bb1_ExactMolWt|      bb1_MolLogP|         bb1_TPSA|bb1_NumRotatableBonds|bb1_NumHDonors|bb1_NumHAcceptors|bb1_FormalCharge|   bb1_FractionCSP3|bb1_NumHeavyAtoms|bb1_NumAromaticRings|bb1_NumAliphaticRings|bb1_NumSaturatedRings|bb1_NumHeteroatoms|bb1_NumRings|bb1_MolVolume|bb1_RadiusOfGyration|bb1_InertialShapeFactor|bb1_AromaticProportion|bb1_HBondPotential|bb1_Lipophilicity|bb1_ChargeDistribution|bb1_ElectroNegativity|         bb2_MolWt|bb2_ExactMolWt|bb2_MolLogP|bb2_TPSA|bb2_NumRotatableBonds|bb2_NumHDonors|bb2_NumHAcceptors|bb2_FormalCharge|bb2_FractionCSP3|bb2_NumHeavyAtoms|bb2_NumAromaticRings|bb2_NumAliphaticRings|bb2_NumSaturatedRings|bb2_NumHeteroatoms|bb2_NumRings|bb2_MolVolume|bb2_RadiusOfGyration|bb2_InertialShapeFactor|bb2_AromaticProportion|bb2_HBondPotential|bb2_Lipophilicity|bb2_ChargeDistribution|bb2_ElectroNegativity|         bb3_MolWt|    bb3_ExactMolWt|         bb3_MolLogP|          bb3_TPSA|bb3_NumRotatableBonds|bb3_NumHDonors|bb3_NumHAcceptors|bb3_FormalCharge|   bb3_FractionCSP3|bb3_NumHeavyAtoms|bb3_NumAromaticRings|bb3_NumAliphaticRings|bb3_NumSaturatedRings|bb3_NumHeteroatoms|bb3_NumRings|bb3_MolVolume|bb3_RadiusOfGyration|bb3_InertialShapeFactor|bb3_AromaticProportion|bb3_HBondPotential|   bb3_Lipophilicity|bb3_ChargeDistribution|bb3_ElectroNegativity|   molecule_MolWt|molecule_ExactMolWt|  molecule_MolLogP|     molecule_TPSA|molecule_NumRotatableBonds|molecule_NumHDonors|molecule_NumHAcceptors|molecule_FormalCharge|molecule_FractionCSP3|molecule_NumHeavyAtoms|molecule_NumAromaticRings|molecule_NumAliphaticRings|molecule_NumSaturatedRings|molecule_NumHeteroatoms|molecule_NumRings|molecule_MolVolume|molecule_RadiusOfGyration|molecule_InertialShapeFactor|molecule_AromaticProportion|molecule_HBondPotential|molecule_Lipophilicity|molecule_ChargeDistribution|molecule_ElectroNegativity|protein_onehot| a1| a2| a3| a4| a5| a6| a7| a8| a9|a10|a11|a12|a13|a14|a15|a16|a17|a18|a19|a20|a21|a22|a23|a24| b1| b2| b3| b4| b5| b6| b7| b8| b9|b10|b11|b12|b13|b14|b15|b16|b17|b18|b19|b20|b21|b22|b23|b24| c1| c2| c3| c4| c5| c6| c7| c8| c9|c10|c11|c12|c13|c14|c15|c16|c17|c18|c19|c20|c21|c22|c23|c24| d1| d2| d3| d4| d5| d6| d7| d8| d9|d10|d11|d12|d13|d14|d15|d16|d17|d18|d19|d20|d21|d22|d23|d24|\n",
    "# +----+-----+-----------------+--------------+-----------------+-----------------+---------------------+--------------+-----------------+----------------+-------------------+-----------------+--------------------+---------------------+---------------------+------------------+------------+-------------+--------------------+-----------------------+----------------------+------------------+-----------------+----------------------+---------------------+------------------+--------------+-----------+--------+---------------------+--------------+-----------------+----------------+----------------+-----------------+--------------------+---------------------+---------------------+------------------+------------+-------------+--------------------+-----------------------+----------------------+------------------+-----------------+----------------------+---------------------+------------------+------------------+--------------------+------------------+---------------------+--------------+-----------------+----------------+-------------------+-----------------+--------------------+---------------------+---------------------+------------------+------------+-------------+--------------------+-----------------------+----------------------+------------------+--------------------+----------------------+---------------------+-----------------+-------------------+------------------+------------------+--------------------------+-------------------+----------------------+---------------------+---------------------+----------------------+-------------------------+--------------------------+--------------------------+-----------------------+-----------------+------------------+-------------------------+----------------------------+---------------------------+-----------------------+----------------------+---------------------------+--------------------------+--------------+---+---+---+---+---+---+---+---+---+---+---+---+---+---+---+---+---+---+---+---+---+---+---+---+---+---+---+---+---+---+---+---+---+---+---+---+---+---+---+---+---+---+---+---+---+---+---+---+---+---+---+---+---+---+---+---+---+---+---+---+---+---+---+---+---+---+---+---+---+---+---+---+---+---+---+---+---+---+---+---+---+---+---+---+---+---+---+---+---+---+---+---+---+---+---+---+\n",
    "# |  26|    0|349.3860000000001| 349.131408088|3.391700000000002|75.63000000000001|                    6|             2|                3|               0|0.23809523809523808|               26|                   2|                    1|                    0|                 5|           3|            0|                   0|                      0|   0.07692307692307693|                 5|3.391700000000002|                     0|    97.69550000000004|           197.665| 197.060741684|     1.5791|   35.25|                    3|             1|                2|               0|             0.2|               13|                   1|                    0|                    0|                 3|           1|            0|                   0|                      0|   0.07692307692307693|                 3|           1.5791|                     0|   55.909400000000026|           266.345|     266.174275944|              2.0373|             73.38|                    1|             1|                5|               0| 0.6923076923076923|               19|                   1|                    1|                    1|                 6|           2|            0|                   0|                      0|   0.05263157894736842|                 6|              2.0373|                     0|    72.71740000000004|790.2300000000002|  791.2447495279998|3.7822000000000013|            160.45|                        13|                  4|                    12|                    0|               0.4375|                    47|                        3|                         1|                         1|                     15|                4|                 0|                        0|                           0|        0.06382978723404255|                     16|    3.7822000000000013|                          0|         173.1317999999996|     (2,[],[])|  9|  5| 10| 20|  1|  1|  0|  2|  2|  0|  0|  2|  1|  0|  0|  1|  2|  0|  1|  2|  4|  1|  2|  4|  1|  1|  2|  5| 12|  6|  3| 12|  1|  0|  0|  0|  0|  1|  0|  0|  0|  1|  0|  0|  0|  0|  0|  0|  0|  0|  0|  0|  0|  0|  2|  5|  0|  0|  0|  1|  0|  0|  0|  1|  0|  0|  0|  0|  0|  0|  0|  0|  0|  0|  0|  0|  0|  0|  0|  0|  0|  0|  0|  0|  0|  0|  0|  0|  0|  0|  0|  0|  0|  0|  0|  0|\n",
    "# |  29|    0|349.3860000000001| 349.131408088|3.391700000000002|75.63000000000001|                    6|             2|                3|               0|0.23809523809523808|               26|                   2|                    1|                    0|                 5|           3|            0|                   0|                      0|   0.07692307692307693|                 5|3.391700000000002|                     0|    97.69550000000004|           197.665| 197.060741684|     1.5791|   35.25|                    3|             1|                2|               0|             0.2|               13|                   1|                    0|                    0|                 3|           1|            0|                   0|                      0|   0.07692307692307693|                 3|           1.5791|                     0|   55.909400000000026|252.31799999999998|      252.15862588|              1.9777| 84.24000000000001|                    0|             2|                4|               0| 0.6666666666666666|               18|                   1|                    1|                    0|                 6|           2|            0|                   0|                      0|   0.05555555555555555|                 6|              1.9777|                     0|    67.80310000000003|776.2030000000003|  777.2290994639999|3.7226000000000017|            171.31|                        12|                  5|                    11|                    0|  0.41935483870967744|                    46|                        3|                         1|                         0|                     15|                4|                 0|                        0|                           0|        0.06521739130434782|                     16|    3.7226000000000017|                          0|        168.21749999999966|     (2,[],[])|  9|  5|  9| 19|  1|  1|  0|  2|  2|  0|  0|  2|  1|  0|  1|  2|  2|  0|  1|  2|  4|  1|  2|  4|  1|  1|  2|  5| 12|  6|  3| 12|  1|  0|  0|  0|  0|  1|  0|  0|  0|  1|  0|  0|  0|  0|  0|  0|  0|  0|  0|  0|  0|  0|  2|  5|  0|  0|  0|  1|  0|  0|  0|  1|  0|  0|  0|  0|  0|  0|  0|  0|  0|  0|  0|  0|  0|  0|  0|  0|  0|  0|  0|  0|  0|  0|  0|  0|  0|  0|  0|  0|  0|  0|  0|  0|\n",
    "# | 474|    0|349.3860000000001| 349.131408088|3.391700000000002|75.63000000000001|                    6|             2|                3|               0|0.23809523809523808|               26|                   2|                    1|                    0|                 5|           3|            0|                   0|                      0|   0.07692307692307693|                 5|3.391700000000002|                     0|    97.69550000000004|           197.665| 197.060741684|     1.5791|   35.25|                    3|             1|                2|               0|             0.2|               13|                   1|                    0|                    0|                 3|           1|            0|                   0|                      0|   0.07692307692307693|                 3|           1.5791|                     0|   55.909400000000026|156.61600000000004|     156.045425968|             1.50212|             38.91|                    1|             1|                2|               0| 0.2857142857142857|               10|                   1|                    0|                    0|                 3|           1|            0|                   0|                      0|                   0.1|                 3|             1.50212|                     0|   41.875400000000006|680.5010000000002|  681.1158995520001| 3.239020000000002|            125.98|                        13|                  4|                     9|                    0|   0.2692307692307692|                    38|                        3|                         0|                         0|                     12|                3|                 0|                        0|                           0|        0.07894736842105263|                     13|     3.239020000000002|                          0|         142.8547999999999| (2,[0],[1.0])|  9|  5|  3| 13|  1|  1|  0|  2|  2|  0|  0|  2|  1|  0|  0|  1|  2|  0|  0|  1|  4|  1|  0|  2|  1|  1|  1|  4| 12|  6|  5| 14|  1|  0|  0|  0|  0|  1|  0|  0|  0|  1|  1|  1|  0|  0|  0|  0|  0|  0|  0|  0|  0|  0|  1|  4|  0|  0|  0|  1|  0|  0|  0|  1|  0|  0|  0|  0|  0|  0|  0|  0|  0|  0|  0|  0|  0|  0|  0|  0|  0|  0|  0|  0|  0|  0|  0|  0|  0|  0|  0|  0|  0|  0|  0|  0|\n",
    "# | 964|    0|349.3860000000001| 349.131408088|3.391700000000002|75.63000000000001|                    6|             2|                3|               0|0.23809523809523808|               26|                   2|                    1|                    0|                 5|           3|            0|                   0|                      0|   0.07692307692307693|                 5|3.391700000000002|                     0|    97.69550000000004|           197.665| 197.060741684|     1.5791|   35.25|                    3|             1|                2|               0|             0.2|               13|                   1|                    0|                    0|                 3|           1|            0|                   0|                      0|   0.07692307692307693|                 3|           1.5791|                     0|   55.909400000000026|143.22999999999996|     143.131014164|  0.8862999999999996|             46.25|                    3|             2|                2|               0|                1.0|               10|                   0|                    1|                    1|                 2|           1|            0|                   0|                      0|                   0.0|                 4|  0.8862999999999996|                     0|    41.63620000000002|667.1150000000004|  668.2014877480001|2.6231999999999998|            133.32|                        15|                  5|                     9|                    0|  0.48148148148148145|                    38|                        2|                         1|                         1|                     11|                3|                 0|                        0|                           0|        0.05263157894736842|                     14|    2.6231999999999998|                          0|        142.61559999999992| (2,[1],[1.0])|  9|  5|  8| 18|  1|  1|  0|  2|  2|  0|  0|  2|  1|  0|  0|  1|  2|  0|  0|  1|  4|  1|  1|  3|  1|  1|  1|  4| 12|  6|  0|  9|  1|  0|  0|  0|  0|  1|  0|  0|  0|  1|  0|  0|  0|  0|  0|  0|  0|  0|  0|  0|  0|  0|  0|  3|  0|  0|  0|  1|  0|  0|  0|  1|  0|  0|  0|  0|  0|  0|  0|  0|  0|  0|  0|  0|  0|  0|  0|  0|  0|  0|  0|  0|  0|  0|  0|  0|  0|  0|  0|  0|  0|  0|  0|  0|\n",
    "# |1677|    0|349.3860000000001| 349.131408088|3.391700000000002|75.63000000000001|                    6|             2|                3|               0|0.23809523809523808|               26|                   2|                    1|                    0|                 5|           3|            0|                   0|                      0|   0.07692307692307693|                 5|3.391700000000002|                     0|    97.69550000000004|197.66499999999996| 197.060741684|     1.5791|   35.25|                    3|             1|                2|               0|             0.2|               13|                   1|                    0|                    0|                 3|           1|            0|                   0|                      0|   0.07692307692307693|                 3|           1.5791|                     0|   55.909400000000026|157.66600000000003|     157.032812684| 0.13550000000000012|             43.09|                    3|             1|                2|               0|                1.0|                8|                   0|                    0|                    0|                 4|           0|            0|                   0|                      0|                   0.0|                 3| 0.13550000000000012|                     0|    39.85280000000001|645.0900000000001|      646.126608556|1.4506000000000001|130.16000000000003|                        15|                  4|                     9|                    0|    0.391304347826087|                    35|                        2|                         0|                         0|                     12|                2|                 0|                        0|                           0|        0.05714285714285714|                     13|    1.4506000000000001|                          0|        133.58419999999998| (2,[0],[1.0])|  9|  5|  5| 14|  1|  1|  0|  2|  2|  0|  0|  2|  1|  0|  0|  1|  2|  0|  1|  2|  4|  1|  1|  3|  1|  1|  1|  4| 12|  6|  0|  9|  1|  0|  0|  0|  0|  1|  1|  0|  0|  1|  1|  0|  0|  0|  0|  0|  0|  0|  0|  0|  0|  0|  0|  3|  0|  0|  0|  1|  0|  0|  0|  1|  0|  0|  0|  0|  0|  0|  0|  0|  0|  0|  1|  1|  0|  0|  0|  0|  0|  0|  0|  0|  0|  0|  0|  0|  0|  0|  0|  0|  0|  0|  0|  0|\n",
    "# |1697|    0|349.3860000000001| 349.131408088|3.391700000000002|75.63000000000001|                    6|             2|                3|               0|0.23809523809523808|               26|                   2|                    1|                    0|                 5|           3|            0|                   0|                      0|   0.07692307692307693|                 5|3.391700000000002|                     0|    97.69550000000004|197.66499999999996| 197.060741684|     1.5791|   35.25|                    3|             1|                2|               0|             0.2|               13|                   1|                    0|                    0|                 3|           1|            0|                   0|                      0|   0.07692307692307693|                 3|           1.5791|                     0|   55.909400000000026|125.17499999999998|125.09529735199999|              0.3617|             43.84|                    2|             1|                3|               0|                0.5|                9|                   1|                    0|                    0|                 3|           1|            0|                   0|                      0|    0.1111111111111111|                 4|              0.3617|                     0|    35.79239999999999|649.0600000000002|  650.1657709360001|2.0985999999999994|130.91000000000003|                        14|                  4|                    10|                    0|                 0.32|                    37|                        3|                         0|                         0|                     12|                3|                 0|                        0|                           0|        0.08108108108108109|                     14|    2.0985999999999994|                          0|        136.77179999999996|     (2,[],[])|  9|  5|  3| 13|  1|  1|  0|  2|  2|  0|  0|  2|  1|  0|  0|  1|  2|  0|  0|  1|  4|  1|  0|  2|  1|  1|  1|  4| 12|  6|  3| 12|  1|  0|  0|  0|  0|  1|  0|  0|  0|  1|  0|  0|  0|  0|  0|  0|  0|  0|  0|  0|  0|  0|  2|  5|  0|  0|  0|  1|  0|  0|  0|  1|  0|  0|  0|  0|  0|  0|  0|  0|  0|  0|  0|  0|  0|  0|  0|  0|  0|  0|  0|  0|  0|  0|  0|  0|  0|  0|  0|  0|  0|  0|  0|  0|\n",
    "# |1806|    0|349.3860000000001| 349.131408088|3.391700000000002|75.63000000000001|                    6|             2|                3|               0|0.23809523809523808|               26|                   2|                    1|                    0|                 5|           3|            0|                   0|                      0|   0.07692307692307693|                 5|3.391700000000002|                     0|    97.69550000000004|197.66499999999996| 197.060741684|     1.5791|   35.25|                    3|             1|                2|               0|             0.2|               13|                   1|                    0|                    0|                 3|           1|            0|                   0|                      0|   0.07692307692307693|                 3|           1.5791|                     0|   55.909400000000026|           152.153|     152.058577496|              0.4504|             65.21|                    1|             1|                4|               0|0.14285714285714285|               11|                   1|                    0|                    0|                 4|           1|            0|                   0|                      0|   0.09090909090909091|                 5|              0.4504|                     0|    39.98890000000001|676.0380000000001|  677.1290510800001|2.1952999999999996|152.28000000000003|                        13|                  4|                    11|                    0|  0.23076923076923078|                    39|                        3|                         0|                         0|                     13|                3|                 0|                        0|                           0|        0.07692307692307693|                     15|    2.1952999999999996|                          0|        140.40329999999992| (2,[0],[1.0])|  9|  5|  2| 12|  1|  1|  0|  2|  2|  0|  0|  2|  1|  0|  0|  1|  2|  0|  1|  2|  4|  1|  2|  4|  1|  1|  1|  4| 12|  6|  5| 14|  1|  0|  0|  0|  0|  1|  0|  0|  0|  1|  0|  0|  0|  0|  0|  0|  0|  0|  0|  0|  0|  0|  1|  4|  0|  0|  0|  1|  0|  0|  0|  1|  0|  0|  0|  0|  0|  0|  0|  0|  0|  0|  0|  0|  0|  0|  0|  0|  0|  0|  0|  0|  0|  0|  0|  0|  0|  0|  0|  0|  0|  0|  0|  0|\n",
    "# |1950|    0|349.3860000000001| 349.131408088|3.391700000000002|75.63000000000001|                    6|             2|                3|               0|0.23809523809523808|               26|                   2|                    1|                    0|                 5|           3|            0|                   0|                      0|   0.07692307692307693|                 5|3.391700000000002|                     0|    97.69550000000004|197.66499999999996| 197.060741684|     1.5791|   35.25|                    3|             1|                2|               0|             0.2|               13|                   1|                    0|                    0|                 3|           1|            0|                   0|                      0|   0.07692307692307693|                 3|           1.5791|                     0|   55.909400000000026|           179.183|     179.080709908|-0.40840000000000026|             78.33|                    2|             1|                6|               0| 0.2857142857142857|               13|                   2|                    0|                    0|                 6|           2|            0|                   0|                      0|   0.15384615384615385|                 7|-0.40840000000000026|                     0|    45.22540000000001|703.0680000000002|  704.1511834920001|1.3284999999999998|165.40000000000003|                        14|                  4|                    13|                    0|   0.2692307692307692|                    41|                        4|                         0|                         0|                     15|                4|                 0|                        0|                           0|         0.0975609756097561|                     17|    1.3284999999999998|                          0|         146.2047999999999| (2,[0],[1.0])|  9|  5|  2| 12|  1|  1|  0|  2|  2|  0|  0|  2|  1|  0|  0|  1|  2|  0|  0|  1|  4|  1|  1|  3|  1|  1|  1|  4| 12|  6|  5| 14|  1|  0|  0|  0|  0|  1|  0|  0|  0|  1|  0|  0|  0|  0|  0|  0|  0|  0|  0|  0|  0|  0|  4|  7|  0|  0|  0|  1|  0|  0|  0|  1|  0|  0|  0|  0|  0|  0|  0|  0|  0|  0|  0|  0|  0|  0|  0|  0|  0|  0|  0|  0|  0|  0|  0|  0|  0|  0|  0|  0|  0|  0|  0|  0|\n",
    "# |2040|    0|349.3860000000001| 349.131408088|3.391700000000002|75.63000000000001|                    6|             2|                3|               0|0.23809523809523808|               26|                   2|                    1|                    0|                 5|           3|            0|                   0|                      0|   0.07692307692307693|                 5|3.391700000000002|                     0|    97.69550000000004|197.66499999999996| 197.060741684|     1.5791|   35.25|                    3|             1|                2|               0|             0.2|               13|                   1|                    0|                    0|                 3|           1|            0|                   0|                      0|   0.07692307692307693|                 3|           1.5791|                     0|   55.909400000000026|194.69100000000003|194.03929503199998|              0.5482|             67.59|                    3|             2|                4|               0|                0.6|               11|                   1|                    0|                    0|                 6|           1|            0|                   0|                      0|   0.09090909090909091|                 6|              0.5482|                     0|    48.74110000000001|682.1150000000001|      683.133090904|1.8632999999999995|154.66000000000003|                        15|                  5|                    11|                    0|   0.3333333333333333|                    38|                        3|                         0|                         0|                     14|                3|                 0|                        0|                           0|        0.07894736842105263|                     16|    1.8632999999999995|                          0|        142.47249999999994| (2,[0],[1.0])|  9|  5|  4| 13|  1|  1|  0|  2|  2|  0|  0|  2|  1|  0|  1|  2|  2|  0|  0|  1|  4|  1|  0|  2|  1|  1|  1|  4| 12|  6|  2| 11|  1|  0|  0|  0|  0|  1|  1|  0|  0|  1|  1|  0|  0|  0|  0|  0|  0|  0|  0|  0|  0|  0|  3|  6|  0|  0|  0|  1|  0|  0|  0|  1|  0|  0|  0|  0|  0|  0|  0|  0|  0|  0|  1|  1|  0|  0|  0|  0|  0|  0|  0|  0|  0|  0|  0|  0|  0|  0|  0|  0|  0|  0|  0|  0|\n",
    "# |2214|    0|349.3860000000001| 349.131408088|3.391700000000002|75.63000000000001|                    6|             2|                3|               0|0.23809523809523808|               26|                   2|                    1|                    0|                 5|           3|            0|                   0|                      0|   0.07692307692307693|                 5|3.391700000000002|                     0|    97.69550000000004|197.66499999999996| 197.060741684|     1.5791|   35.25|                    3|             1|                2|               0|             0.2|               13|                   1|                    0|                    0|                 3|           1|            0|                   0|                      0|   0.07692307692307693|                 3|           1.5791|                     0|   55.909400000000026|148.59300000000002|     148.040340588|  0.8635199999999998|             52.05|                    1|             1|                3|               0|                0.4|                9|                   1|                    0|                    0|                 4|           1|            0|                   0|                      0|    0.1111111111111111|                 4|  0.8635199999999998|                     0|   36.379400000000004|636.0170000000002|       637.13413646|2.1786199999999996|            139.12|                        13|                  4|                    10|                    0|   0.2916666666666667|                    36|                        3|                         0|                         0|                     12|                3|                 0|                        0|                           0|        0.08333333333333333|                     14|    2.1786199999999996|                          0|        130.11080000000004| (2,[0],[1.0])|  9|  5|  3| 12|  1|  1|  0|  2|  2|  0|  0|  2|  1|  0|  0|  1|  2|  0|  0|  1|  4|  1|  0|  2|  1|  1|  1|  4| 12|  6|  3| 12|  1|  0|  0|  0|  0|  1|  1|  0|  0|  1|  1|  0|  0|  0|  0|  0|  0|  0|  0|  0|  0|  0|  1|  4|  0|  0|  0|  1|  0|  0|  0|  1|  0|  0|  1|  1|  0|  0|  0|  0|  0|  0|  0|  0|  0|  0|  0|  0|  0|  0|  0|  0|  0|  0|  0|  0|  0|  0|  0|  0|  0|  0|  0|  0|\n",
    "# |2250|    0|349.3860000000001| 349.131408088|3.391700000000002|75.63000000000001|                    6|             2|                3|               0|0.23809523809523808|               26|                   2|                    1|                    0|                 5|           3|            0|                   0|                      0|   0.07692307692307693|                 5|3.391700000000002|                     0|    97.69550000000004|197.66499999999996| 197.060741684|     1.5791|   35.25|                    3|             1|                2|               0|             0.2|               13|                   1|                    0|                    0|                 3|           1|            0|                   0|                      0|   0.07692307692307693|                 3|           1.5791|                     0|   55.909400000000026|239.14600000000002|     238.063968492|   1.745620000000001|             59.14|                    2|             2|                3|               0| 0.4444444444444444|               14|                   1|                    0|                    0|                 5|           1|            0|                   0|                      0|   0.07142857142857142|                 5|   1.745620000000001|                     0|    61.99520000000004|690.1090000000003|      691.181086652|2.6389199999999997|146.20999999999998|                        14|                  5|                    10|                    0|  0.32142857142857145|                    40|                        3|                         0|                         0|                     12|                3|                 0|                        0|                           0|                      0.075|                     15|    2.6389199999999997|                          0|        148.47859999999986| (2,[0],[1.0])|  9|  5|  6| 14|  1|  1|  0|  2|  2|  0|  0|  2|  1|  0|  0|  1|  2|  0|  0|  1|  4|  1|  1|  3|  1|  1|  1|  4| 12|  6|  5| 14|  1|  0|  0|  0|  0|  1|  2|  0|  0|  1|  2|  0|  0|  0|  0|  0|  0|  0|  0|  0|  0|  0|  1|  4|  0|  0|  0|  1|  0|  0|  0|  1|  0|  0|  0|  0|  0|  0|  0|  0|  0|  0|  0|  0|  0|  0|  0|  0|  0|  0|  0|  0|  0|  0|  0|  0|  0|  0|  0|  0|  0|  0|  0|  0|\n",
    "# |2453|    0|349.3860000000001| 349.131408088|3.391700000000002|75.63000000000001|                    6|             2|                3|               0|0.23809523809523808|               26|                   2|                    1|                    0|                 5|           3|            0|                   0|                      0|   0.07692307692307693|                 5|3.391700000000002|                     0|    97.69550000000004|197.66499999999996| 197.060741684|     1.5791|   35.25|                    3|             1|                2|               0|             0.2|               13|                   1|                    0|                    0|                 3|           1|            0|                   0|                      0|   0.07692307692307693|                 3|           1.5791|                     0|   55.909400000000026|           171.618|     171.062633504|              1.8023|             26.02|                    3|             1|                1|               0|                1.0|               10|                   0|                    1|                    1|                 4|           1|            0|                   0|                      0|                   0.0|                 2|              1.8023|                     0|    38.59040000000002|659.0420000000003|      660.156429376| 3.117400000000001|113.08999999999999|                        15|                  4|                     8|                    0|                 0.44|                    37|                        2|                         1|                         1|                     12|                3|                 0|                        0|                           0|        0.05405405405405406|                     12|     3.117400000000001|                          0|        132.32180000000002|     (2,[],[])|  9|  5|  7| 16|  1|  1|  0|  2|  2|  0|  0|  2|  1|  0|  0|  1|  2|  0|  0|  1|  4|  1|  0|  2|  1|  1|  1|  4| 12|  6|  0|  9|  1|  0|  0|  0|  0|  1|  1|  0|  0|  1|  1|  0|  0|  0|  0|  0|  0|  0|  0|  0|  0|  0|  0|  3|  0|  0|  0|  1|  0|  0|  0|  1|  0|  0|  0|  0|  0|  0|  0|  0|  0|  0|  0|  0|  0|  0|  2|  2|  0|  0|  0|  0|  0|  0|  0|  0|  0|  0|  0|  0|  0|  0|  0|  0|\n",
    "# |2509|    0|349.3860000000001| 349.131408088|3.391700000000002|75.63000000000001|                    6|             2|                3|               0|0.23809523809523808|               26|                   2|                    1|                    0|                 5|           3|            0|                   0|                      0|   0.07692307692307693|                 5|3.391700000000002|                     0|    97.69550000000004|197.66499999999996| 197.060741684|     1.5791|   35.25|                    3|             1|                2|               0|             0.2|               13|                   1|                    0|                    0|                 3|           1|            0|                   0|                      0|   0.07692307692307693|                 3|           1.5791|                     0|   55.909400000000026|            212.68|     212.071640716|              1.1779|             55.12|                    1|             2|                2|               0|                0.3|               14|                   1|                    1|                    0|                 4|           2|            0|                   0|                      0|   0.07142857142857142|                 4|              1.1779|                     0|   58.568100000000015|700.1040000000002|      701.165436588|2.4929999999999994|            142.19|                        13|                  5|                     9|                    0|  0.27586206896551724|                    41|                        3|                         1|                         0|                     12|                4|                 0|                        0|                           0|        0.07317073170731707|                     14|    2.4929999999999994|                          0|        152.29949999999985| (2,[1],[1.0])|  9|  5|  5| 14|  1|  1|  0|  2|  2|  0|  0|  2|  1|  0|  0|  1|  2|  0|  1|  2|  4|  1|  1|  3|  1|  1|  2|  5| 12|  6|  6| 15|  1|  0|  0|  0|  0|  1|  1|  0|  0|  1|  1|  0|  0|  0|  0|  0|  0|  0|  0|  0|  0|  0|  0|  3|  0|  0|  0|  1|  0|  0|  0|  1|  0|  0|  0|  0|  0|  0|  0|  0|  0|  0|  0|  0|  0|  0|  0|  0|  0|  0|  0|  0|  0|  0|  0|  0|  0|  0|  0|  0|  0|  0|  0|  0|\n",
    "# |2529|    0|349.3860000000001| 349.131408088|3.391700000000002|75.63000000000001|                    6|             2|                3|               0|0.23809523809523808|               26|                   2|                    1|                    0|                 5|           3|            0|                   0|                      0|   0.07692307692307693|                 5|3.391700000000002|                     0|    97.69550000000004|197.66499999999996| 197.060741684|     1.5791|   35.25|                    3|             1|                2|               0|             0.2|               13|                   1|                    0|                    0|                 3|           1|            0|                   0|                      0|   0.07692307692307693|                 3|           1.5791|                     0|   55.909400000000026|192.68999999999997|     192.102940844|  0.6732999999999996|             55.12|                    4|             2|                2|               0|              0.875|               12|                   0|                    1|                    1|                 4|           1|            0|                   0|                      0|                   0.0|                 4|  0.6732999999999996|                     0|    51.27010000000003|680.1140000000001|      681.196736716|1.9884000000000004|            142.19|                        16|                  5|                     9|                    0|   0.4444444444444444|                    39|                        2|                         1|                         1|                     12|                3|                 0|                        0|                           0|        0.05128205128205128|                     14|    1.9884000000000004|                          0|         145.0014999999999| (2,[0],[1.0])|  9|  5|  9| 18|  1|  1|  0|  2|  2|  0|  0|  2|  1|  0|  0|  1|  2|  0|  1|  2|  4|  1|  1|  3|  1|  1|  2|  5| 12|  6|  0|  9|  1|  0|  0|  0|  0|  1|  1|  0|  0|  1|  1|  0|  0|  0|  0|  0|  0|  0|  0|  0|  0|  0|  0|  3|  0|  0|  0|  1|  0|  0|  0|  1|  0|  0|  0|  0|  0|  0|  0|  0|  0|  0|  0|  0|  0|  0|  0|  0|  0|  0|  0|  0|  0|  0|  0|  0|  0|  0|  0|  0|  0|  0|  0|  0|\n",
    "# |2927|    0|349.3860000000001| 349.131408088|3.391700000000002|75.63000000000001|                    6|             2|                3|               0|0.23809523809523808|               26|                   2|                    1|                    0|                 5|           3|            0|                   0|                      0|   0.07692307692307693|                 5|3.391700000000002|                     0|    97.69550000000004|197.66499999999996| 197.060741684|     1.5791|   35.25|                    3|             1|                2|               0|             0.2|               13|                   1|                    0|                    0|                 3|           1|            0|                   0|                      0|   0.07692307692307693|                 3|           1.5791|                     0|   55.909400000000026| 204.2729999999999|     204.126263132|  1.3813000000000002|46.330000000000005|                    2|             1|                2|               0| 0.4166666666666667|               15|                   1|                    1|                    1|                 3|           2|            0|                   0|                      0|   0.06666666666666667|                 3|  1.3813000000000002|                     0|    59.47090000000003|728.1580000000004|      729.196736716|3.1182000000000007|133.39999999999998|                        14|                  4|                     9|                    0|   0.3225806451612903|                    43|                        3|                         1|                         1|                     12|                4|                 0|                        0|                           0|        0.06976744186046512|                     13|    3.1182000000000007|                          0|        160.45029999999974|     (2,[],[])|  9|  5|  6| 16|  1|  1|  0|  2|  2|  0|  0|  2|  1|  0|  0|  1|  2|  0|  1|  2|  4|  1|  1|  3|  1|  1|  2|  5| 12|  6|  6| 15|  1|  0|  0|  0|  0|  1|  0|  0|  0|  1|  0|  0|  0|  0|  0|  0|  0|  0|  0|  0|  0|  0|  0|  3|  0|  0|  0|  1|  0|  0|  0|  1|  0|  0|  0|  0|  0|  0|  0|  0|  0|  0|  0|  0|  0|  0|  0|  0|  0|  0|  0|  0|  0|  0|  0|  0|  0|  0|  0|  0|  0|  0|  0|  0|\n",
    "# |3091|    0|349.3860000000001| 349.131408088|3.391700000000002|75.63000000000001|                    6|             2|                3|               0|0.23809523809523808|               26|                   2|                    1|                    0|                 5|           3|            0|                   0|                      0|   0.07692307692307693|                 5|3.391700000000002|                     0|    97.69550000000004|197.66499999999996| 197.060741684|     1.5791|   35.25|                    3|             1|                2|               0|             0.2|               13|                   1|                    0|                    0|                 3|           1|            0|                   0|                      0|   0.07692307692307693|                 3|           1.5791|                     0|   55.909400000000026|163.22400000000005|     163.110947416|               1.264|             42.15|                    1|             1|                3|               0| 0.4444444444444444|               12|                   1|                    1|                    1|                 3|           2|            0|                   0|                      0|   0.08333333333333333|                 4|               1.264|                     0|    50.09640000000002|687.1090000000003|  688.1814210000001|3.0089000000000006|129.22000000000003|                        13|                  4|                    10|                    0|  0.32142857142857145|                    40|                        3|                         1|                         1|                     12|                4|                 0|                        0|                           0|                      0.075|                     14|    3.0089000000000006|                          0|        150.51079999999985| (2,[1],[1.0])|  9|  5|  4| 14|  1|  1|  0|  2|  2|  0|  0|  2|  1|  0|  0|  1|  2|  0|  0|  1|  4|  1|  0|  2|  1|  1|  2|  5| 12|  6|  5| 14|  1|  0|  0|  0|  0|  1|  0|  0|  0|  1|  0|  0|  0|  0|  0|  0|  0|  0|  0|  0|  0|  0|  1|  4|  0|  0|  0|  1|  0|  0|  0|  1|  0|  0|  0|  0|  0|  0|  0|  0|  0|  0|  0|  0|  0|  0|  0|  0|  0|  0|  0|  0|  0|  0|  0|  0|  0|  0|  0|  0|  0|  0|  0|  0|\n",
    "# |3506|    0|349.3860000000001| 349.131408088|3.391700000000002|75.63000000000001|                    6|             2|                3|               0|0.23809523809523808|               26|                   2|                    1|                    0|                 5|           3|            0|                   0|                      0|   0.07692307692307693|                 5|3.391700000000002|                     0|    97.69550000000004|           117.151| 117.057849224|     1.2501|   26.02|                    0|             1|                1|               0|             0.0|                9|                   1|                    0|                    0|                 1|           1|            0|                   0|                      0|    0.1111111111111111|                 2|           1.2501|                     0|    38.78940000000001|           117.151|     117.057849224|  1.2501000000000002|             26.02|                    0|             1|                1|               0|                0.0|                9|                   1|                    0|                    0|                 1|           1|            0|                   0|                      0|    0.1111111111111111|                 2|  1.2501000000000002|                     0|    38.78940000000001|596.9830000000001|  598.1021080600001|3.0958000000000006|            103.86|                         9|                  4|                     7|                    0|                 0.12|                    34|                        3|                         0|                         0|                      9|                3|                 0|                        0|                           0|        0.08823529411764706|                     11|    3.0958000000000006|                          0|                  128.7668|     (2,[],[])|  9|  2|  2| 10|  1|  1|  1|  3|  2|  0|  0|  2|  1|  0|  0|  1|  2|  0|  0|  1|  4|  0|  0|  1|  1|  1|  1|  4| 12|  6|  6| 15|  1|  0|  0|  0|  0|  0|  0|  0|  0|  0|  0|  0|  0|  0|  0|  0|  0|  0|  0|  0|  0|  0|  0|  3|  0|  0|  0|  1|  0|  0|  0|  1|  0|  0|  0|  0|  0|  0|  0|  0|  0|  0|  0|  0|  0|  0|  0|  0|  0|  0|  0|  0|  0|  0|  0|  0|  0|  0|  0|  0|  0|  0|  0|  0|\n",
    "# |3764|    0|349.3860000000001| 349.131408088|3.391700000000002|75.63000000000001|                    6|             2|                3|               0|0.23809523809523808|               26|                   2|                    1|                    0|                 5|           3|            0|                   0|                      0|   0.07692307692307693|                 5|3.391700000000002|                     0|    97.69550000000004|           117.151| 117.057849224|     1.2501|   26.02|                    0|             1|                1|               0|             0.0|                9|                   1|                    0|                    0|                 1|           1|            0|                   0|                      0|    0.1111111111111111|                 2|           1.2501|                     0|    38.78940000000001|           214.718|       214.0542764| -0.3515999999999996|63.400000000000006|                    3|             1|                3|               0|                1.0|               12|                   0|                    1|                    1|                 6|           1|            0|                   0|                      0|                   0.0|                 4| -0.3515999999999996|                     0|    50.82620000000003|          658.089|      659.121857524|1.0643000000000007|141.23999999999995|                        12|                  4|                     9|                    0|    0.391304347826087|                    36|                        2|                         1|                         1|                     13|                3|                 0|                        0|                           0|        0.05555555555555555|                     13|    1.0643000000000007|                          0|        134.12059999999997|     (2,[],[])|  9|  2|  7| 14|  1|  1|  0|  2|  2|  0|  0|  2|  1|  0|  0|  1|  2|  0|  2|  3|  4|  0|  2|  3|  1|  1|  2|  5| 12|  6|  0|  9|  1|  0|  0|  0|  0|  0|  1|  0|  0|  0|  1|  0|  0|  0|  0|  0|  0|  0|  0|  0|  0|  0|  0|  3|  0|  0|  0|  1|  0|  0|  0|  1|  0|  0|  0|  0|  0|  0|  0|  0|  0|  0|  1|  1|  0|  0|  0|  0|  0|  0|  0|  0|  0|  0|  0|  0|  0|  0|  0|  0|  0|  0|  0|  0|\n",
    "# |4590|    0|349.3860000000001| 349.131408088|3.391700000000002|75.63000000000001|                    6|             2|                3|               0|0.23809523809523808|               26|                   2|                    1|                    0|                 5|           3|            0|                   0|                      0|   0.07692307692307693|                 5|3.391700000000002|                     0|    97.69550000000004|           117.151| 117.057849224|     1.2501|   26.02|                    0|             1|                1|               0|             0.0|                9|                   1|                    0|                    0|                 1|           1|            0|                   0|                      0|    0.1111111111111111|                 2|           1.2501|                     0|    38.78940000000001|241.12199999999999|240.05446642799998|  0.6108999999999998|             76.82|                    2|             2|                4|               0| 0.7142857142857143|               14|                   1|                    1|                    1|                 7|           2|            0|                   0|                      0|   0.07142857142857142|                 6|  0.6108999999999998|                     0|    56.94710000000002|648.0320000000002|  649.1453698400002| 1.604999999999999|154.66000000000003|                        11|                  5|                    10|                    0|   0.3333333333333333|                    37|                        3|                         1|                         1|                     13|                4|                 0|                        0|                           0|        0.08108108108108109|                     15|     1.604999999999999|                          0|        132.99349999999995| (2,[0],[1.0])|  9|  2|  7| 13|  1|  1|  0|  2|  2|  0|  0|  2|  1|  0|  1|  2|  2|  0|  0|  1|  4|  0|  1|  2|  1|  1|  1|  4| 12|  6|  2| 11|  1|  0|  0|  0|  0|  0|  2|  0|  0|  0|  2|  0|  0|  0|  0|  0|  0|  0|  0|  0|  0|  0|  3|  6|  0|  0|  0|  1|  0|  0|  0|  1|  0|  0|  0|  0|  0|  0|  0|  0|  0|  0|  0|  0|  0|  0|  0|  0|  0|  0|  0|  0|  0|  0|  0|  0|  0|  0|  0|  0|  0|  0|  0|  0|\n",
    "# |4823|    0|349.3860000000001| 349.131408088|3.391700000000002|75.63000000000001|                    6|             2|                3|               0|0.23809523809523808|               26|                   2|                    1|                    0|                 5|           3|            0|                   0|                      0|   0.07692307692307693|                 5|3.391700000000002|                     0|    97.69550000000004|           117.151| 117.057849224|     1.2501|   26.02|                    0|             1|                1|               0|             0.0|                9|                   1|                    0|                    0|                 1|           1|            0|                   0|                      0|    0.1111111111111111|                 2|           1.2501|                     0|    38.78940000000001|174.63099999999997|     174.055990652|              1.4325|             52.05|                    2|             1|                3|               0| 0.5714285714285714|               11|                   1|                    1|                    1|                 4|           2|            0|                   0|                      0|   0.09090909090909091|                 4|              1.4325|                     0|    43.61740000000002|618.0020000000002|  619.1235717760001|2.8484000000000007|            129.89|                        11|                  4|                     9|                    0|   0.2916666666666667|                    35|                        3|                         1|                         1|                     11|                4|                 0|                        0|                           0|        0.08571428571428572|                     13|    2.8484000000000007|                          0|        126.91180000000003|     (2,[],[])|  9|  2|  5| 12|  1|  1|  0|  2|  2|  0|  0|  2|  1|  0|  0|  1|  2|  0|  0|  1|  4|  0|  0|  1|  1|  1|  1|  4| 12|  6|  3| 12|  1|  0|  0|  0|  0|  0|  1|  0|  0|  0|  1|  0|  0|  0|  0|  0|  0|  0|  0|  0|  0|  0|  1|  4|  0|  0|  0|  1|  0|  0|  0|  1|  0|  0|  1|  1|  0|  0|  0|  0|  0|  0|  0|  0|  0|  0|  0|  0|  0|  0|  0|  0|  0|  0|  0|  0|  0|  0|  0|  0|  0|  0|  0|  0|\n",
    "# +----+-----+-----------------+--------------+-----------------+-----------------+---------------------+--------------+-----------------+----------------+-------------------+-----------------+--------------------+---------------------+---------------------+------------------+------------+-------------+--------------------+-----------------------+----------------------+------------------+-----------------+----------------------+---------------------+------------------+--------------+-----------+--------+---------------------+--------------+-----------------+----------------+----------------+-----------------+--------------------+---------------------+---------------------+------------------+------------+-------------+--------------------+-----------------------+----------------------+------------------+-----------------+----------------------+---------------------+------------------+------------------+--------------------+------------------+---------------------+--------------+-----------------+----------------+-------------------+-----------------+--------------------+---------------------+---------------------+------------------+------------+-------------+--------------------+-----------------------+----------------------+------------------+--------------------+----------------------+---------------------+-----------------+-------------------+------------------+------------------+--------------------------+-------------------+----------------------+---------------------+---------------------+----------------------+-------------------------+--------------------------+--------------------------+-----------------------+-----------------+------------------+-------------------------+----------------------------+---------------------------+-----------------------+----------------------+---------------------------+--------------------------+--------------+---+---+---+---+---+---+---+---+---+---+---+---+---+---+---+---+---+---+---+---+---+---+---+---+---+---+---+---+---+---+---+---+---+---+---+---+---+---+---+---+---+---+---+---+---+---+---+---+---+---+---+---+---+---+---+---+---+---+---+---+---+---+---+---+---+---+---+---+---+---+---+---+---+---+---+---+---+---+---+---+---+---+---+---+---+---+---+---+---+---+---+---+---+---+---+---+\n",
    "# only showing top 20 rows"
   ]
  },
  {
   "cell_type": "markdown",
   "id": "d9194a88",
   "metadata": {},
   "source": [
    "/////////////////////////////////////////////////////////////////////////////////////////////////////////////////////////////////////////////////////////////////////////"
   ]
  },
  {
   "cell_type": "code",
   "execution_count": 5,
   "id": "08923780-ccd9-4209-92a7-2373bdfef04c",
   "metadata": {},
   "outputs": [],
   "source": [
    "def protein_onehot_TO_Array(df):\n",
    "    # UDF to convert SparseVector to list\n",
    "    def sparse_to_list(vec):\n",
    "        return vec.toArray().tolist()\n",
    "\n",
    "    sparse_to_list_udf = udf(sparse_to_list, ArrayType(DoubleType()))\n",
    "    df = df.withColumn(\"protein_array\", sparse_to_list_udf(df[\"protein_onehot\"]))\n",
    "    for i in range(len(df.select(\"protein_array\").first()[\"protein_array\"])):\n",
    "        df = df.withColumn(f\"protein_{i}\", df[\"protein_array\"][i])\n",
    "    df = df.drop(\"protein_array\")\n",
    "    return df"
   ]
  },
  {
   "cell_type": "code",
   "execution_count": 6,
   "id": "c39a53e2-6ccf-42ff-adeb-8045b6583624",
   "metadata": {},
   "outputs": [
    {
     "name": "stderr",
     "output_type": "stream",
     "text": [
      "[Stage 3:>                                                          (0 + 1) / 1]"
     ]
    },
    {
     "name": "stdout",
     "output_type": "stream",
     "text": [
      "+---------+-----+-----------------+--------------+-----------------+-----------------+---------------------+--------------+-----------------+----------------+-------------------+-----------------+--------------------+---------------------+---------------------+------------------+------------+-------------+--------------------+-----------------------+----------------------+------------------+-----------------+----------------------+---------------------+---------+--------------+------------------+--------+---------------------+--------------+-----------------+----------------+------------------+-----------------+--------------------+---------------------+---------------------+------------------+------------+-------------+--------------------+-----------------------+----------------------+------------------+------------------+----------------------+---------------------+------------------+--------------+-------------------+------------------+---------------------+--------------+-----------------+----------------+----------------+-----------------+--------------------+---------------------+---------------------+------------------+------------+-------------+--------------------+-----------------------+----------------------+------------------+-------------------+----------------------+---------------------+-----------------+-------------------+------------------+------------------+--------------------------+-------------------+----------------------+---------------------+---------------------+----------------------+-------------------------+--------------------------+--------------------------+-----------------------+-----------------+------------------+-------------------------+----------------------------+---------------------------+-----------------------+----------------------+---------------------------+--------------------------+--------------+---------+---------+\n",
      "|       id|binds|        bb1_MolWt|bb1_ExactMolWt|      bb1_MolLogP|         bb1_TPSA|bb1_NumRotatableBonds|bb1_NumHDonors|bb1_NumHAcceptors|bb1_FormalCharge|   bb1_FractionCSP3|bb1_NumHeavyAtoms|bb1_NumAromaticRings|bb1_NumAliphaticRings|bb1_NumSaturatedRings|bb1_NumHeteroatoms|bb1_NumRings|bb1_MolVolume|bb1_RadiusOfGyration|bb1_InertialShapeFactor|bb1_AromaticProportion|bb1_HBondPotential|bb1_Lipophilicity|bb1_ChargeDistribution|bb1_ElectroNegativity|bb2_MolWt|bb2_ExactMolWt|       bb2_MolLogP|bb2_TPSA|bb2_NumRotatableBonds|bb2_NumHDonors|bb2_NumHAcceptors|bb2_FormalCharge|  bb2_FractionCSP3|bb2_NumHeavyAtoms|bb2_NumAromaticRings|bb2_NumAliphaticRings|bb2_NumSaturatedRings|bb2_NumHeteroatoms|bb2_NumRings|bb2_MolVolume|bb2_RadiusOfGyration|bb2_InertialShapeFactor|bb2_AromaticProportion|bb2_HBondPotential| bb2_Lipophilicity|bb2_ChargeDistribution|bb2_ElectroNegativity|         bb3_MolWt|bb3_ExactMolWt|        bb3_MolLogP|          bb3_TPSA|bb3_NumRotatableBonds|bb3_NumHDonors|bb3_NumHAcceptors|bb3_FormalCharge|bb3_FractionCSP3|bb3_NumHeavyAtoms|bb3_NumAromaticRings|bb3_NumAliphaticRings|bb3_NumSaturatedRings|bb3_NumHeteroatoms|bb3_NumRings|bb3_MolVolume|bb3_RadiusOfGyration|bb3_InertialShapeFactor|bb3_AromaticProportion|bb3_HBondPotential|  bb3_Lipophilicity|bb3_ChargeDistribution|bb3_ElectroNegativity|   molecule_MolWt|molecule_ExactMolWt|  molecule_MolLogP|     molecule_TPSA|molecule_NumRotatableBonds|molecule_NumHDonors|molecule_NumHAcceptors|molecule_FormalCharge|molecule_FractionCSP3|molecule_NumHeavyAtoms|molecule_NumAromaticRings|molecule_NumAliphaticRings|molecule_NumSaturatedRings|molecule_NumHeteroatoms|molecule_NumRings|molecule_MolVolume|molecule_RadiusOfGyration|molecule_InertialShapeFactor|molecule_AromaticProportion|molecule_HBondPotential|molecule_Lipophilicity|molecule_ChargeDistribution|molecule_ElectroNegativity|protein_onehot|protein_0|protein_1|\n",
      "+---------+-----+-----------------+--------------+-----------------+-----------------+---------------------+--------------+-----------------+----------------+-------------------+-----------------+--------------------+---------------------+---------------------+------------------+------------+-------------+--------------------+-----------------------+----------------------+------------------+-----------------+----------------------+---------------------+---------+--------------+------------------+--------+---------------------+--------------+-----------------+----------------+------------------+-----------------+--------------------+---------------------+---------------------+------------------+------------+-------------+--------------------+-----------------------+----------------------+------------------+------------------+----------------------+---------------------+------------------+--------------+-------------------+------------------+---------------------+--------------+-----------------+----------------+----------------+-----------------+--------------------+---------------------+---------------------+------------------+------------+-------------+--------------------+-----------------------+----------------------+------------------+-------------------+----------------------+---------------------+-----------------+-------------------+------------------+------------------+--------------------------+-------------------+----------------------+---------------------+---------------------+----------------------+-------------------------+--------------------------+--------------------------+-----------------------+-----------------+------------------+-------------------------+----------------------------+---------------------------+-----------------------+----------------------+---------------------------+--------------------------+--------------+---------+---------+\n",
      "|193986560|    0|360.3690000000001| 360.111006992|4.140800000000002|88.52000000000001|                    4|             2|                4|               0|0.09523809523809523|               27|                   3|                    1|                    0|                 6|           4|            0|                   0|                      0|    0.1111111111111111|                 6|4.140800000000002|                     0|    99.88800000000002|  356.319| 355.088803336|1.3292000000000008|   66.64|                    4|             1|                4|               0|0.5384615384615384|               21|                   1|                    1|                    1|                 8|           2|            0|                   0|                      0|  0.047619047619047616|                 5|1.3292000000000008|                     0|    92.16020000000003|           245.134| 243.962874552| 3.6991000000000005|             38.91|                    1|             1|                3|               0|             0.0|               14|                   2|                    0|                    0|                 5|           2|            0|                   0|                      0|   0.14285714285714285|                 4| 3.6991000000000005|                     0|    61.98240000000001|902.1949999999997|  902.0643309800001| 5.330600000000003|            170.26|                        12|                  4|                    13|                    0|  0.22580645161290322|                    50|                        5|                         1|                         1|                     19|                6|                 0|                        0|                           0|                        0.1|                     17|     5.330600000000003|                          0|        192.76509999999962|     (2,[],[])|      0.0|      0.0|\n",
      "|193986561|    0|360.3690000000001| 360.111006992|4.140800000000002|88.52000000000001|                    4|             2|                4|               0|0.09523809523809523|               27|                   3|                    1|                    0|                 6|           4|            0|                   0|                      0|    0.1111111111111111|                 6|4.140800000000002|                     0|    99.88800000000002|  356.319| 355.088803336|1.3292000000000008|   66.64|                    4|             1|                4|               0|0.5384615384615384|               21|                   1|                    1|                    1|                 8|           2|            0|                   0|                      0|  0.047619047619047616|                 5|1.3292000000000008|                     0|    92.16020000000003|           210.689| 210.001846904|             3.0457|             38.91|                    1|             1|                3|               0|             0.0|               13|                   2|                    0|                    0|                 4|           2|            0|                   0|                      0|   0.15384615384615385|                 4|             3.0457|                     0|   56.972400000000015|867.7499999999998|      868.103303332| 4.677200000000004|            170.26|                        12|                  4|                    13|                    0|  0.22580645161290322|                    49|                        5|                         1|                         1|                     18|                6|                 0|                        0|                           0|        0.10204081632653061|                     17|     4.677200000000004|                          0|         187.7550999999996| (2,[0],[1.0])|      1.0|      0.0|\n",
      "|193986562|    0|360.3690000000001| 360.111006992|4.140800000000002|88.52000000000001|                    4|             2|                4|               0|0.09523809523809523|               27|                   3|                    1|                    0|                 6|           4|            0|                   0|                      0|    0.1111111111111111|                 6|4.140800000000002|                     0|    99.88800000000002|  356.319| 355.088803336|1.3292000000000008|   66.64|                    4|             1|                4|               0|0.5384615384615384|               21|                   1|                    1|                    1|                 8|           2|            0|                   0|                      0|  0.047619047619047616|                 5|1.3292000000000008|                     0|    92.16020000000003|           210.689| 210.001846904|             3.0457|             38.91|                    1|             1|                3|               0|             0.0|               13|                   2|                    0|                    0|                 4|           2|            0|                   0|                      0|   0.15384615384615385|                 4|             3.0457|                     0|   56.972400000000015|867.7499999999998|      868.103303332| 4.677200000000004|            170.26|                        12|                  4|                    13|                    0|  0.22580645161290322|                    49|                        5|                         1|                         1|                     18|                6|                 0|                        0|                           0|        0.10204081632653061|                     17|     4.677200000000004|                          0|         187.7550999999996| (2,[1],[1.0])|      0.0|      1.0|\n",
      "|193986563|    0|360.3690000000001| 360.111006992|4.140800000000002|88.52000000000001|                    4|             2|                4|               0|0.09523809523809523|               27|                   3|                    1|                    0|                 6|           4|            0|                   0|                      0|    0.1111111111111111|                 6|4.140800000000002|                     0|    99.88800000000002|  356.319| 355.088803336|1.3292000000000008|   66.64|                    4|             1|                4|               0|0.5384615384615384|               21|                   1|                    1|                    1|                 8|           2|            0|                   0|                      0|  0.047619047619047616|                 5|1.3292000000000008|                     0|    92.16020000000003|           210.689| 210.001846904|             3.0457|             38.91|                    1|             1|                3|               0|             0.0|               13|                   2|                    0|                    0|                 4|           2|            0|                   0|                      0|   0.15384615384615385|                 4|             3.0457|                     0|   56.972400000000015|867.7499999999998|      868.103303332| 4.677200000000004|            170.26|                        12|                  4|                    13|                    0|  0.22580645161290322|                    49|                        5|                         1|                         1|                     18|                6|                 0|                        0|                           0|        0.10204081632653061|                     17|     4.677200000000004|                          0|         187.7550999999996|     (2,[],[])|      0.0|      0.0|\n",
      "|193986564|    0|360.3690000000001| 360.111006992|4.140800000000002|88.52000000000001|                    4|             2|                4|               0|0.09523809523809523|               27|                   3|                    1|                    0|                 6|           4|            0|                   0|                      0|    0.1111111111111111|                 6|4.140800000000002|                     0|    99.88800000000002|  356.319| 355.088803336|1.3292000000000008|   66.64|                    4|             1|                4|               0|0.5384615384615384|               21|                   1|                    1|                    1|                 8|           2|            0|                   0|                      0|  0.047619047619047616|                 5|1.3292000000000008|                     0|    92.16020000000003|210.68899999999996| 210.001846904|  3.045700000000001|             38.91|                    1|             1|                3|               0|             0.0|               13|                   2|                    0|                    0|                 4|           2|            0|                   0|                      0|   0.15384615384615385|                 4|  3.045700000000001|                     0|    56.97240000000002|867.7499999999998|      868.103303332| 4.677200000000004|            170.26|                        12|                  4|                    13|                    0|  0.22580645161290322|                    49|                        5|                         1|                         1|                     18|                6|                 0|                        0|                           0|        0.10204081632653061|                     17|     4.677200000000004|                          0|         187.7550999999996| (2,[0],[1.0])|      1.0|      0.0|\n",
      "|193986565|    0|360.3690000000001| 360.111006992|4.140800000000002|88.52000000000001|                    4|             2|                4|               0|0.09523809523809523|               27|                   3|                    1|                    0|                 6|           4|            0|                   0|                      0|    0.1111111111111111|                 6|4.140800000000002|                     0|    99.88800000000002|  356.319| 355.088803336|1.3292000000000008|   66.64|                    4|             1|                4|               0|0.5384615384615384|               21|                   1|                    1|                    1|                 8|           2|            0|                   0|                      0|  0.047619047619047616|                 5|1.3292000000000008|                     0|    92.16020000000003|210.68899999999996| 210.001846904|  3.045700000000001|             38.91|                    1|             1|                3|               0|             0.0|               13|                   2|                    0|                    0|                 4|           2|            0|                   0|                      0|   0.15384615384615385|                 4|  3.045700000000001|                     0|    56.97240000000002|867.7499999999998|      868.103303332| 4.677200000000004|            170.26|                        12|                  4|                    13|                    0|  0.22580645161290322|                    49|                        5|                         1|                         1|                     18|                6|                 0|                        0|                           0|        0.10204081632653061|                     17|     4.677200000000004|                          0|         187.7550999999996| (2,[1],[1.0])|      0.0|      1.0|\n",
      "|193986566|    0|360.3690000000001| 360.111006992|4.140800000000002|88.52000000000001|                    4|             2|                4|               0|0.09523809523809523|               27|                   3|                    1|                    0|                 6|           4|            0|                   0|                      0|    0.1111111111111111|                 6|4.140800000000002|                     0|    99.88800000000002|  356.319| 355.088803336|1.3292000000000008|   66.64|                    4|             1|                4|               0|0.5384615384615384|               21|                   1|                    1|                    1|                 8|           2|            0|                   0|                      0|  0.047619047619047616|                 5|1.3292000000000008|                     0|    92.16020000000003|210.68899999999996| 210.001846904|  3.045700000000001|             38.91|                    1|             1|                3|               0|             0.0|               13|                   2|                    0|                    0|                 4|           2|            0|                   0|                      0|   0.15384615384615385|                 4|  3.045700000000001|                     0|    56.97240000000002|867.7499999999998|      868.103303332| 4.677200000000004|            170.26|                        12|                  4|                    13|                    0|  0.22580645161290322|                    49|                        5|                         1|                         1|                     18|                6|                 0|                        0|                           0|        0.10204081632653061|                     17|     4.677200000000004|                          0|         187.7550999999996|     (2,[],[])|      0.0|      0.0|\n",
      "|193986567|    0|360.3690000000001| 360.111006992|4.140800000000002|88.52000000000001|                    4|             2|                4|               0|0.09523809523809523|               27|                   3|                    1|                    0|                 6|           4|            0|                   0|                      0|    0.1111111111111111|                 6|4.140800000000002|                     0|    99.88800000000002|  356.319| 355.088803336|1.3292000000000008|   66.64|                    4|             1|                4|               0|0.5384615384615384|               21|                   1|                    1|                    1|                 8|           2|            0|                   0|                      0|  0.047619047619047616|                 5|1.3292000000000008|                     0|    92.16020000000003|189.99999999999997| 188.953773848|0.11459999999999987|             71.77|                    0|             2|                3|               0|             0.0|                9|                   1|                    0|                    0|                 5|           1|            0|                   0|                      0|    0.1111111111111111|                 5|0.11459999999999987|                     0|   36.970099999999995|847.0609999999997|  847.0552302760001|1.7460999999999998|            203.12|                        11|                  5|                    13|                    0|   0.2692307692307692|                    45|                        4|                         1|                         1|                     19|                5|                 0|                        0|                           0|        0.08888888888888889|                     18|    1.7460999999999998|                          0|        167.75279999999975| (2,[0],[1.0])|      1.0|      0.0|\n",
      "|193986568|    0|360.3690000000001| 360.111006992|4.140800000000002|88.52000000000001|                    4|             2|                4|               0|0.09523809523809523|               27|                   3|                    1|                    0|                 6|           4|            0|                   0|                      0|    0.1111111111111111|                 6|4.140800000000002|                     0|    99.88800000000002|  356.319| 355.088803336|1.3292000000000008|   66.64|                    4|             1|                4|               0|0.5384615384615384|               21|                   1|                    1|                    1|                 8|           2|            0|                   0|                      0|  0.047619047619047616|                 5|1.3292000000000008|                     0|    92.16020000000003|189.99999999999997| 188.953773848|0.11459999999999987|             71.77|                    0|             2|                3|               0|             0.0|                9|                   1|                    0|                    0|                 5|           1|            0|                   0|                      0|    0.1111111111111111|                 5|0.11459999999999987|                     0|   36.970099999999995|847.0609999999997|  847.0552302760001|1.7460999999999998|            203.12|                        11|                  5|                    13|                    0|   0.2692307692307692|                    45|                        4|                         1|                         1|                     19|                5|                 0|                        0|                           0|        0.08888888888888889|                     18|    1.7460999999999998|                          0|        167.75279999999975| (2,[1],[1.0])|      0.0|      1.0|\n",
      "|193986569|    0|360.3690000000001| 360.111006992|4.140800000000002|88.52000000000001|                    4|             2|                4|               0|0.09523809523809523|               27|                   3|                    1|                    0|                 6|           4|            0|                   0|                      0|    0.1111111111111111|                 6|4.140800000000002|                     0|    99.88800000000002|  356.319| 355.088803336|1.3292000000000008|   66.64|                    4|             1|                4|               0|0.5384615384615384|               21|                   1|                    1|                    1|                 8|           2|            0|                   0|                      0|  0.047619047619047616|                 5|1.3292000000000008|                     0|    92.16020000000003|189.99999999999997| 188.953773848|0.11459999999999987|             71.77|                    0|             2|                3|               0|             0.0|                9|                   1|                    0|                    0|                 5|           1|            0|                   0|                      0|    0.1111111111111111|                 5|0.11459999999999987|                     0|   36.970099999999995|847.0609999999997|  847.0552302760001|1.7460999999999998|            203.12|                        11|                  5|                    13|                    0|   0.2692307692307692|                    45|                        4|                         1|                         1|                     19|                5|                 0|                        0|                           0|        0.08888888888888889|                     18|    1.7460999999999998|                          0|        167.75279999999975|     (2,[],[])|      0.0|      0.0|\n",
      "|193986570|    0|360.3690000000001| 360.111006992|4.140800000000002|88.52000000000001|                    4|             2|                4|               0|0.09523809523809523|               27|                   3|                    1|                    0|                 6|           4|            0|                   0|                      0|    0.1111111111111111|                 6|4.140800000000002|                     0|    99.88800000000002|  356.319| 355.088803336|1.3292000000000008|   66.64|                    4|             1|                4|               0|0.5384615384615384|               21|                   1|                    1|                    1|                 8|           2|            0|                   0|                      0|  0.047619047619047616|                 5|1.3292000000000008|                     0|    92.16020000000003|           213.038|  211.96975826| 1.0739999999999998|56.209999999999994|                    0|             1|                4|               0|             0.0|               11|                   2|                    0|                    0|                 5|           2|            0|                   0|                      0|   0.18181818181818182|                 5| 1.0739999999999998|                     0|              45.0994|870.0989999999996|      870.071214688|            2.7055|            187.56|                        11|                  4|                    14|                    0|                 0.25|                    47|                        5|                         1|                         1|                     19|                6|                 0|                        0|                           0|        0.10638297872340426|                     18|                2.7055|                          0|        175.88209999999967| (2,[0],[1.0])|      1.0|      0.0|\n",
      "|193986571|    0|360.3690000000001| 360.111006992|4.140800000000002|88.52000000000001|                    4|             2|                4|               0|0.09523809523809523|               27|                   3|                    1|                    0|                 6|           4|            0|                   0|                      0|    0.1111111111111111|                 6|4.140800000000002|                     0|    99.88800000000002|  356.319| 355.088803336|1.3292000000000008|   66.64|                    4|             1|                4|               0|0.5384615384615384|               21|                   1|                    1|                    1|                 8|           2|            0|                   0|                      0|  0.047619047619047616|                 5|1.3292000000000008|                     0|    92.16020000000003|           213.038|  211.96975826| 1.0739999999999998|56.209999999999994|                    0|             1|                4|               0|             0.0|               11|                   2|                    0|                    0|                 5|           2|            0|                   0|                      0|   0.18181818181818182|                 5| 1.0739999999999998|                     0|              45.0994|870.0989999999996|      870.071214688|            2.7055|            187.56|                        11|                  4|                    14|                    0|                 0.25|                    47|                        5|                         1|                         1|                     19|                6|                 0|                        0|                           0|        0.10638297872340426|                     18|                2.7055|                          0|        175.88209999999967| (2,[1],[1.0])|      0.0|      1.0|\n",
      "|193986572|    0|360.3690000000001| 360.111006992|4.140800000000002|88.52000000000001|                    4|             2|                4|               0|0.09523809523809523|               27|                   3|                    1|                    0|                 6|           4|            0|                   0|                      0|    0.1111111111111111|                 6|4.140800000000002|                     0|    99.88800000000002|  356.319| 355.088803336|1.3292000000000008|   66.64|                    4|             1|                4|               0|0.5384615384615384|               21|                   1|                    1|                    1|                 8|           2|            0|                   0|                      0|  0.047619047619047616|                 5|1.3292000000000008|                     0|    92.16020000000003|           213.038|  211.96975826| 1.0739999999999998|56.209999999999994|                    0|             1|                4|               0|             0.0|               11|                   2|                    0|                    0|                 5|           2|            0|                   0|                      0|   0.18181818181818182|                 5| 1.0739999999999998|                     0|              45.0994|870.0989999999996|      870.071214688|            2.7055|            187.56|                        11|                  4|                    14|                    0|                 0.25|                    47|                        5|                         1|                         1|                     19|                6|                 0|                        0|                           0|        0.10638297872340426|                     18|                2.7055|                          0|        175.88209999999967|     (2,[],[])|      0.0|      0.0|\n",
      "|193986573|    0|360.3690000000001| 360.111006992|4.140800000000002|88.52000000000001|                    4|             2|                4|               0|0.09523809523809523|               27|                   3|                    1|                    0|                 6|           4|            0|                   0|                      0|    0.1111111111111111|                 6|4.140800000000002|                     0|    99.88800000000002|  356.319| 355.088803336|1.3292000000000008|   66.64|                    4|             1|                4|               0|0.5384615384615384|               21|                   1|                    1|                    1|                 8|           2|            0|                   0|                      0|  0.047619047619047616|                 5|1.3292000000000008|                     0|    92.16020000000003|140.21099999999998| 140.040819256|             1.6027|             38.91|                    1|             1|                3|               0|             0.5|                9|                   1|                    1|                    1|                 3|           2|            0|                   0|                      0|    0.1111111111111111|                 4|             1.6027|                     0|    38.50140000000002|797.2719999999998|  798.1422756840001| 3.234200000000002|            170.26|                        12|                  4|                    13|                    0|  0.35714285714285715|                    45|                        4|                         2|                         2|                     17|                6|                 0|                        0|                           0|        0.08888888888888889|                     17|     3.234200000000002|                          0|        169.28409999999963| (2,[0],[1.0])|      1.0|      0.0|\n",
      "|193986574|    0|360.3690000000001| 360.111006992|4.140800000000002|88.52000000000001|                    4|             2|                4|               0|0.09523809523809523|               27|                   3|                    1|                    0|                 6|           4|            0|                   0|                      0|    0.1111111111111111|                 6|4.140800000000002|                     0|    99.88800000000002|  356.319| 355.088803336|1.3292000000000008|   66.64|                    4|             1|                4|               0|0.5384615384615384|               21|                   1|                    1|                    1|                 8|           2|            0|                   0|                      0|  0.047619047619047616|                 5|1.3292000000000008|                     0|    92.16020000000003|140.21099999999998| 140.040819256|             1.6027|             38.91|                    1|             1|                3|               0|             0.5|                9|                   1|                    1|                    1|                 3|           2|            0|                   0|                      0|    0.1111111111111111|                 4|             1.6027|                     0|    38.50140000000002|797.2719999999998|  798.1422756840001| 3.234200000000002|            170.26|                        12|                  4|                    13|                    0|  0.35714285714285715|                    45|                        4|                         2|                         2|                     17|                6|                 0|                        0|                           0|        0.08888888888888889|                     17|     3.234200000000002|                          0|        169.28409999999963| (2,[1],[1.0])|      0.0|      1.0|\n",
      "|193986575|    0|360.3690000000001| 360.111006992|4.140800000000002|88.52000000000001|                    4|             2|                4|               0|0.09523809523809523|               27|                   3|                    1|                    0|                 6|           4|            0|                   0|                      0|    0.1111111111111111|                 6|4.140800000000002|                     0|    99.88800000000002|  356.319| 355.088803336|1.3292000000000008|   66.64|                    4|             1|                4|               0|0.5384615384615384|               21|                   1|                    1|                    1|                 8|           2|            0|                   0|                      0|  0.047619047619047616|                 5|1.3292000000000008|                     0|    92.16020000000003|140.21099999999998| 140.040819256|             1.6027|             38.91|                    1|             1|                3|               0|             0.5|                9|                   1|                    1|                    1|                 3|           2|            0|                   0|                      0|    0.1111111111111111|                 4|             1.6027|                     0|    38.50140000000002|797.2719999999998|  798.1422756840001| 3.234200000000002|            170.26|                        12|                  4|                    13|                    0|  0.35714285714285715|                    45|                        4|                         2|                         2|                     17|                6|                 0|                        0|                           0|        0.08888888888888889|                     17|     3.234200000000002|                          0|        169.28409999999963|     (2,[],[])|      0.0|      0.0|\n",
      "|193986576|    0|360.3690000000001| 360.111006992|4.140800000000002|88.52000000000001|                    4|             2|                4|               0|0.09523809523809523|               27|                   3|                    1|                    0|                 6|           4|            0|                   0|                      0|    0.1111111111111111|                 6|4.140800000000002|                     0|    99.88800000000002|  356.319| 355.088803336|1.3292000000000008|   66.64|                    4|             1|                4|               0|0.5384615384615384|               21|                   1|                    1|                    1|                 8|           2|            0|                   0|                      0|  0.047619047619047616|                 5|1.3292000000000008|                     0|    92.16020000000003|           192.005| 190.965317076|             1.1781|             68.87|                    1|             1|                4|               0|             0.0|               11|                   1|                    0|                    0|                 6|           1|            0|                   0|                      0|   0.09090909090909091|                 5|             1.1781|                     0|    41.85189999999999|849.0659999999996|  849.0667735039999|2.8096000000000005|200.21999999999997|                        12|                  4|                    14|                    0|  0.25925925925925924|                    47|                        4|                         1|                         1|                     20|                5|                 0|                        0|                           0|         0.0851063829787234|                     18|    2.8096000000000005|                          0|        172.63459999999972| (2,[0],[1.0])|      1.0|      0.0|\n",
      "|193986577|    0|360.3690000000001| 360.111006992|4.140800000000002|88.52000000000001|                    4|             2|                4|               0|0.09523809523809523|               27|                   3|                    1|                    0|                 6|           4|            0|                   0|                      0|    0.1111111111111111|                 6|4.140800000000002|                     0|    99.88800000000002|  356.319| 355.088803336|1.3292000000000008|   66.64|                    4|             1|                4|               0|0.5384615384615384|               21|                   1|                    1|                    1|                 8|           2|            0|                   0|                      0|  0.047619047619047616|                 5|1.3292000000000008|                     0|    92.16020000000003|           192.005| 190.965317076|             1.1781|             68.87|                    1|             1|                4|               0|             0.0|               11|                   1|                    0|                    0|                 6|           1|            0|                   0|                      0|   0.09090909090909091|                 5|             1.1781|                     0|    41.85189999999999|849.0659999999996|  849.0667735039999|2.8096000000000005|200.21999999999997|                        12|                  4|                    14|                    0|  0.25925925925925924|                    47|                        4|                         1|                         1|                     20|                5|                 0|                        0|                           0|         0.0851063829787234|                     18|    2.8096000000000005|                          0|        172.63459999999972| (2,[1],[1.0])|      0.0|      1.0|\n",
      "|193986578|    0|360.3690000000001| 360.111006992|4.140800000000002|88.52000000000001|                    4|             2|                4|               0|0.09523809523809523|               27|                   3|                    1|                    0|                 6|           4|            0|                   0|                      0|    0.1111111111111111|                 6|4.140800000000002|                     0|    99.88800000000002|  356.319| 355.088803336|1.3292000000000008|   66.64|                    4|             1|                4|               0|0.5384615384615384|               21|                   1|                    1|                    1|                 8|           2|            0|                   0|                      0|  0.047619047619047616|                 5|1.3292000000000008|                     0|    92.16020000000003|           192.005| 190.965317076|             1.1781|             68.87|                    1|             1|                4|               0|             0.0|               11|                   1|                    0|                    0|                 6|           1|            0|                   0|                      0|   0.09090909090909091|                 5|             1.1781|                     0|    41.85189999999999|849.0659999999996|  849.0667735039999|2.8096000000000005|200.21999999999997|                        12|                  4|                    14|                    0|  0.25925925925925924|                    47|                        4|                         1|                         1|                     20|                5|                 0|                        0|                           0|         0.0851063829787234|                     18|    2.8096000000000005|                          0|        172.63459999999972|     (2,[],[])|      0.0|      0.0|\n",
      "|193986579|    0|360.3690000000001| 360.111006992|4.140800000000002|88.52000000000001|                    4|             2|                4|               0|0.09523809523809523|               27|                   3|                    1|                    0|                 6|           4|            0|                   0|                      0|    0.1111111111111111|                 6|4.140800000000002|                     0|    99.88800000000002|  356.319| 355.088803336|1.3292000000000008|   66.64|                    4|             1|                4|               0|0.5384615384615384|               21|                   1|                    1|                    1|                 8|           2|            0|                   0|                      0|  0.047619047619047616|                 5|1.3292000000000008|                     0|    92.16020000000003|169.57500000000002| 169.015522808| 0.5884999999999998|             80.48|                    0|             2|                4|               0|             0.0|               11|                   2|                    0|                    0|                 6|           2|            0|                   0|                      0|   0.18181818181818182|                 6| 0.5884999999999998|                     0|              41.1061|826.6359999999995|      827.116979236| 2.219999999999999|211.82999999999998|                        11|                  5|                    14|                    0|  0.25925925925925924|                    47|                        5|                         1|                         1|                     20|                6|                 0|                        0|                           0|        0.10638297872340426|                     19|     2.219999999999999|                          0|        171.88879999999972| (2,[0],[1.0])|      1.0|      0.0|\n",
      "+---------+-----+-----------------+--------------+-----------------+-----------------+---------------------+--------------+-----------------+----------------+-------------------+-----------------+--------------------+---------------------+---------------------+------------------+------------+-------------+--------------------+-----------------------+----------------------+------------------+-----------------+----------------------+---------------------+---------+--------------+------------------+--------+---------------------+--------------+-----------------+----------------+------------------+-----------------+--------------------+---------------------+---------------------+------------------+------------+-------------+--------------------+-----------------------+----------------------+------------------+------------------+----------------------+---------------------+------------------+--------------+-------------------+------------------+---------------------+--------------+-----------------+----------------+----------------+-----------------+--------------------+---------------------+---------------------+------------------+------------+-------------+--------------------+-----------------------+----------------------+------------------+-------------------+----------------------+---------------------+-----------------+-------------------+------------------+------------------+--------------------------+-------------------+----------------------+---------------------+---------------------+----------------------+-------------------------+--------------------------+--------------------------+-----------------------+-----------------+------------------+-------------------------+----------------------------+---------------------------+-----------------------+----------------------+---------------------------+--------------------------+--------------+---------+---------+\n",
      "only showing top 20 rows\n",
      "\n"
     ]
    },
    {
     "name": "stderr",
     "output_type": "stream",
     "text": [
      "                                                                                "
     ]
    }
   ],
   "source": [
    "full_df_features = protein_onehot_TO_Array(full_df_features)\n",
    "full_df_features.show()"
   ]
  },
  {
   "cell_type": "markdown",
   "id": "a5b08540",
   "metadata": {},
   "source": [
    "## Assembling Columns"
   ]
  },
  {
   "cell_type": "code",
   "execution_count": 18,
   "id": "e13d7adc-c18c-48a0-9651-c63a0d031428",
   "metadata": {
    "scrolled": true
   },
   "outputs": [
    {
     "name": "stdout",
     "output_type": "stream",
     "text": [
      "['bb1_MolWt', 'bb1_ExactMolWt', 'bb1_MolLogP', 'bb1_TPSA', 'bb1_NumRotatableBonds', 'bb1_NumHDonors', 'bb1_NumHAcceptors', 'bb1_FormalCharge', 'bb1_FractionCSP3', 'bb1_NumHeavyAtoms', 'bb1_NumAromaticRings', 'bb1_NumAliphaticRings', 'bb1_NumSaturatedRings', 'bb1_NumHeteroatoms', 'bb1_NumRings', 'bb1_MolVolume', 'bb1_RadiusOfGyration', 'bb1_InertialShapeFactor', 'bb1_AromaticProportion', 'bb1_HBondPotential', 'bb1_Lipophilicity', 'bb1_ChargeDistribution', 'bb1_ElectroNegativity', 'bb2_MolWt', 'bb2_ExactMolWt', 'bb2_MolLogP', 'bb2_TPSA', 'bb2_NumRotatableBonds', 'bb2_NumHDonors', 'bb2_NumHAcceptors', 'bb2_FormalCharge', 'bb2_FractionCSP3', 'bb2_NumHeavyAtoms', 'bb2_NumAromaticRings', 'bb2_NumAliphaticRings', 'bb2_NumSaturatedRings', 'bb2_NumHeteroatoms', 'bb2_NumRings', 'bb2_MolVolume', 'bb2_RadiusOfGyration', 'bb2_InertialShapeFactor', 'bb2_AromaticProportion', 'bb2_HBondPotential', 'bb2_Lipophilicity', 'bb2_ChargeDistribution', 'bb2_ElectroNegativity', 'bb3_MolWt', 'bb3_ExactMolWt', 'bb3_MolLogP', 'bb3_TPSA', 'bb3_NumRotatableBonds', 'bb3_NumHDonors', 'bb3_NumHAcceptors', 'bb3_FormalCharge', 'bb3_FractionCSP3', 'bb3_NumHeavyAtoms', 'bb3_NumAromaticRings', 'bb3_NumAliphaticRings', 'bb3_NumSaturatedRings', 'bb3_NumHeteroatoms', 'bb3_NumRings', 'bb3_MolVolume', 'bb3_RadiusOfGyration', 'bb3_InertialShapeFactor', 'bb3_AromaticProportion', 'bb3_HBondPotential', 'bb3_Lipophilicity', 'bb3_ChargeDistribution', 'bb3_ElectroNegativity', 'molecule_MolWt', 'molecule_ExactMolWt', 'molecule_MolLogP', 'molecule_TPSA', 'molecule_NumRotatableBonds', 'molecule_NumHDonors', 'molecule_NumHAcceptors', 'molecule_FormalCharge', 'molecule_FractionCSP3', 'molecule_NumHeavyAtoms', 'molecule_NumAromaticRings', 'molecule_NumAliphaticRings', 'molecule_NumSaturatedRings', 'molecule_NumHeteroatoms', 'molecule_NumRings', 'molecule_MolVolume', 'molecule_RadiusOfGyration', 'molecule_InertialShapeFactor', 'molecule_AromaticProportion', 'molecule_HBondPotential', 'molecule_Lipophilicity', 'molecule_ChargeDistribution', 'molecule_ElectroNegativity', 'protein_onehot', 'a1', 'a2', 'a3', 'a4', 'a5', 'a6', 'a7', 'a8', 'a9', 'a10', 'a11', 'a12', 'a13', 'a14', 'a15', 'a16', 'a17', 'a18', 'a19', 'a20', 'a21', 'a22', 'a23', 'a24', 'b1', 'b2', 'b3', 'b4', 'b5', 'b6', 'b7', 'b8', 'b9', 'b10', 'b11', 'b12', 'b13', 'b14', 'b15', 'b16', 'b17', 'b18', 'b19', 'b20', 'b21', 'b22', 'b23', 'b24', 'c1', 'c2', 'c3', 'c4', 'c5', 'c6', 'c7', 'c8', 'c9', 'c10', 'c11', 'c12', 'c13', 'c14', 'c15', 'c16', 'c17', 'c18', 'c19', 'c20', 'c21', 'c22', 'c23', 'c24', 'd1', 'd2', 'd3', 'd4', 'd5', 'd6', 'd7', 'd8', 'd9', 'd10', 'd11', 'd12', 'd13', 'd14', 'd15', 'd16', 'd17', 'd18', 'd19', 'd20', 'd21', 'd22', 'd23', 'd24']\n"
     ]
    }
   ],
   "source": [
    "features_cols = full_feat_tok_df.columns[2:]\n",
    "print(features_cols)"
   ]
  },
  {
   "cell_type": "code",
   "execution_count": null,
   "id": "88a15185-e941-4183-b1bc-2589cd2d0fa4",
   "metadata": {},
   "outputs": [],
   "source": [
    "# joblib.dump(features_cols, 'features_cols_list.joblib')"
   ]
  },
  {
   "cell_type": "code",
   "execution_count": 19,
   "id": "bb041b44-7439-4fc1-a6c9-56670f99a2f7",
   "metadata": {},
   "outputs": [
    {
     "name": "stderr",
     "output_type": "stream",
     "text": [
      "[Stage 35:>                                                         (0 + 1) / 1]\r"
     ]
    },
    {
     "name": "stdout",
     "output_type": "stream",
     "text": [
      "+----+--------------------+-----+\n",
      "|  id|             vectors|binds|\n",
      "+----+--------------------+-----+\n",
      "|  26|(190,[0,1,2,3,4,5...|    0|\n",
      "|  29|(190,[0,1,2,3,4,5...|    0|\n",
      "| 474|(190,[0,1,2,3,4,5...|    0|\n",
      "| 964|(190,[0,1,2,3,4,5...|    0|\n",
      "|1677|(190,[0,1,2,3,4,5...|    0|\n",
      "|1697|(190,[0,1,2,3,4,5...|    0|\n",
      "|1806|(190,[0,1,2,3,4,5...|    0|\n",
      "|1950|(190,[0,1,2,3,4,5...|    0|\n",
      "|2040|(190,[0,1,2,3,4,5...|    0|\n",
      "|2214|(190,[0,1,2,3,4,5...|    0|\n",
      "|2250|(190,[0,1,2,3,4,5...|    0|\n",
      "|2453|(190,[0,1,2,3,4,5...|    0|\n",
      "|2509|(190,[0,1,2,3,4,5...|    0|\n",
      "|2529|(190,[0,1,2,3,4,5...|    0|\n",
      "|2927|(190,[0,1,2,3,4,5...|    0|\n",
      "|3091|(190,[0,1,2,3,4,5...|    0|\n",
      "|3506|(190,[0,1,2,3,4,5...|    0|\n",
      "|3764|(190,[0,1,2,3,4,5...|    0|\n",
      "|4590|(190,[0,1,2,3,4,5...|    0|\n",
      "|4823|(190,[0,1,2,3,4,5...|    0|\n",
      "+----+--------------------+-----+\n",
      "only showing top 20 rows\n",
      "\n"
     ]
    },
    {
     "name": "stderr",
     "output_type": "stream",
     "text": [
      "                                                                                \r"
     ]
    }
   ],
   "source": [
    "vectorAssembler = VectorAssembler(inputCols=features_cols, outputCol='vectors')\n",
    "full_feat_tok_df_vectors = vectorAssembler.transform(full_feat_tok_df).select('id', 'vectors', 'binds')\n",
    "full_feat_tok_df_vectors.show()"
   ]
  },
  {
   "cell_type": "code",
   "execution_count": 20,
   "id": "4e2b2e52",
   "metadata": {},
   "outputs": [
    {
     "name": "stderr",
     "output_type": "stream",
     "text": [
      "                                                                                \r"
     ]
    },
    {
     "data": {
      "text/plain": [
       "Row(id=26, vectors=SparseVector(190, {0: 349.386, 1: 349.1314, 2: 3.3917, 3: 75.63, 4: 6.0, 5: 2.0, 6: 3.0, 8: 0.2381, 9: 26.0, 10: 2.0, 11: 1.0, 13: 5.0, 14: 3.0, 18: 0.0769, 19: 5.0, 20: 3.3917, 22: 97.6955, 23: 197.665, 24: 197.0607, 25: 1.5791, 26: 35.25, 27: 3.0, 28: 1.0, 29: 2.0, 31: 0.2, 32: 13.0, 33: 1.0, 36: 3.0, 37: 1.0, 41: 0.0769, 42: 3.0, 43: 1.5791, 45: 55.9094, 46: 266.345, 47: 266.1743, 48: 2.0373, 49: 73.38, 50: 1.0, 51: 1.0, 52: 5.0, 54: 0.6923, 55: 19.0, 56: 1.0, 57: 1.0, 58: 1.0, 59: 6.0, 60: 2.0, 64: 0.0526, 65: 6.0, 66: 2.0373, 68: 72.7174, 69: 790.23, 70: 791.2447, 71: 3.7822, 72: 160.45, 73: 13.0, 74: 4.0, 75: 12.0, 77: 0.4375, 78: 47.0, 79: 3.0, 80: 1.0, 81: 1.0, 82: 15.0, 83: 4.0, 87: 0.0638, 88: 16.0, 89: 3.7822, 91: 173.1318, 94: 9.0, 95: 5.0, 96: 10.0, 97: 20.0, 98: 1.0, 99: 1.0, 101: 2.0, 102: 2.0, 105: 2.0, 106: 1.0, 109: 1.0, 110: 2.0, 112: 1.0, 113: 2.0, 114: 4.0, 115: 1.0, 116: 2.0, 117: 4.0, 118: 1.0, 119: 1.0, 120: 2.0, 121: 5.0, 122: 12.0, 123: 6.0, 124: 3.0, 125: 12.0, 126: 1.0, 131: 1.0, 135: 1.0, 148: 2.0, 149: 5.0, 153: 1.0, 157: 1.0}), binds=0)"
      ]
     },
     "execution_count": 20,
     "metadata": {},
     "output_type": "execute_result"
    }
   ],
   "source": [
    "full_feat_tok_df_vectors.take(1)[0]"
   ]
  },
  {
   "cell_type": "code",
   "execution_count": 21,
   "id": "85fb9d47",
   "metadata": {},
   "outputs": [
    {
     "name": "stderr",
     "output_type": "stream",
     "text": [
      "                                                                                \r"
     ]
    }
   ],
   "source": [
    "full_feat_tok_df_vectors.write.mode('overwrite').format('parquet').save('full_feat_tok_df_vectors.parquet')"
   ]
  },
  {
   "cell_type": "markdown",
   "id": "451068e1",
   "metadata": {},
   "source": [
    "## Making Subset"
   ]
  },
  {
   "cell_type": "code",
   "execution_count": 3,
   "id": "d0907d39",
   "metadata": {},
   "outputs": [
    {
     "name": "stderr",
     "output_type": "stream",
     "text": [
      "                                                                                \r"
     ]
    },
    {
     "name": "stdout",
     "output_type": "stream",
     "text": [
      "295246830\n",
      "+----+--------------------+-----+\n",
      "|  id|             vectors|binds|\n",
      "+----+--------------------+-----+\n",
      "|  39|(190,[0,1,2,3,4,5...|    0|\n",
      "|  98|(190,[0,1,2,3,4,5...|    0|\n",
      "| 187|(190,[0,1,2,3,4,5...|    0|\n",
      "| 496|(190,[0,1,2,3,4,5...|    0|\n",
      "| 561|(190,[0,1,2,3,4,5...|    0|\n",
      "| 845|(190,[0,1,2,3,4,5...|    0|\n",
      "|1297|(190,[0,1,2,3,4,5...|    0|\n",
      "|1733|(190,[0,1,2,3,4,5...|    0|\n",
      "|1918|(190,[0,1,2,3,4,5...|    0|\n",
      "|2451|(190,[0,1,2,3,4,5...|    0|\n",
      "|2639|(190,[0,1,2,3,4,5...|    0|\n",
      "|2745|(190,[0,1,2,3,4,5...|    0|\n",
      "|2806|(190,[0,1,2,3,4,5...|    0|\n",
      "|2832|(190,[0,1,2,3,4,5...|    0|\n",
      "|3322|(190,[0,1,2,3,4,5...|    0|\n",
      "|3751|(190,[0,1,2,3,4,5...|    0|\n",
      "|3974|(190,[0,1,2,3,4,5...|    0|\n",
      "|4188|(190,[0,1,2,3,4,5...|    0|\n",
      "|4296|(190,[0,1,2,3,4,5...|    0|\n",
      "|4733|(190,[0,1,2,3,4,5...|    0|\n",
      "+----+--------------------+-----+\n",
      "only showing top 20 rows\n",
      "\n"
     ]
    }
   ],
   "source": [
    "full_feat_tok_df_vectors = spark.read.format('parquet').load('full_feat_tok_df_vectors.parquet')\n",
    "print(full_feat_tok_df_vectors.count())\n",
    "full_feat_tok_df_vectors.show()"
   ]
  },
  {
   "cell_type": "code",
   "execution_count": 4,
   "id": "59ef48e3",
   "metadata": {},
   "outputs": [
    {
     "name": "stderr",
     "output_type": "stream",
     "text": [
      "                                                                                \r"
     ]
    },
    {
     "name": "stdout",
     "output_type": "stream",
     "text": [
      "[Row(binds=0, count=1511471), Row(binds=1, count=1589906)]\n"
     ]
    },
    {
     "name": "stderr",
     "output_type": "stream",
     "text": [
      "                                                                                \r"
     ]
    },
    {
     "name": "stdout",
     "output_type": "stream",
     "text": [
      "3101377\n",
      "+------+--------------------+-----+\n",
      "|    id|             vectors|binds|\n",
      "+------+--------------------+-----+\n",
      "| 25160|(190,[0,1,2,3,4,5...|    1|\n",
      "| 48001|(190,[0,1,2,3,4,5...|    0|\n",
      "| 58144|(190,[0,1,2,3,4,5...|    0|\n",
      "|148672|(190,[0,1,2,3,4,5...|    1|\n",
      "|233007|(190,[0,1,2,3,4,5...|    0|\n",
      "|234967|(190,[0,1,2,3,4,5...|    0|\n",
      "|273952|(190,[0,1,2,3,4,5...|    0|\n",
      "|320887|(190,[0,1,2,3,4,5...|    0|\n",
      "|330585|(190,[0,1,2,3,4,5...|    0|\n",
      "|330737|(190,[0,1,2,3,4,5...|    0|\n",
      "|359870|(190,[0,1,2,3,4,5...|    0|\n",
      "|412850|(190,[0,1,2,3,4,5...|    0|\n",
      "|433891|(190,[0,1,2,3,4,5...|    1|\n",
      "|465382|(190,[0,1,2,3,4,5...|    1|\n",
      "|468070|(190,[0,1,2,3,4,5...|    0|\n",
      "|504397|(190,[0,1,2,3,4,5...|    0|\n",
      "|510409|(190,[0,1,2,3,4,5...|    1|\n",
      "|510880|(190,[0,1,2,3,4,5...|    1|\n",
      "|511051|(190,[0,1,2,3,4,5...|    1|\n",
      "|560671|(190,[0,1,2,3,4,5...|    0|\n",
      "+------+--------------------+-----+\n",
      "only showing top 20 rows\n",
      "\n"
     ]
    }
   ],
   "source": [
    "df_vectors = full_feat_tok_df_vectors.sampleBy('binds', fractions={0: 0.005150, 1: 1.0}, seed=42)\n",
    "print(df_vectors.groupBy(\"binds\").count().collect())\n",
    "print(df_vectors.count())\n",
    "df_vectors.show()"
   ]
  },
  {
   "cell_type": "markdown",
   "id": "12d87827",
   "metadata": {},
   "source": [
    "///////////////////////////////////////////////////////////////////////////////////////////////////"
   ]
  },
  {
   "cell_type": "code",
   "execution_count": 9,
   "id": "aa905d23-230c-4902-aa6f-2b4be656383e",
   "metadata": {},
   "outputs": [
    {
     "name": "stderr",
     "output_type": "stream",
     "text": [
      "[Stage 5:>                                                          (0 + 1) / 1]"
     ]
    },
    {
     "name": "stdout",
     "output_type": "stream",
     "text": [
      "+---------+--------------------+-----+---------+---------+-------+\n",
      "|       id|             vectors|binds|protein_0|protein_1|protein|\n",
      "+---------+--------------------+-----+---------+---------+-------+\n",
      "|193986560|[360.369000000000...|    0|      0.0|      0.0|      2|\n",
      "|193986561|[360.369000000000...|    0|      1.0|      0.0|      0|\n",
      "|193986562|[360.369000000000...|    0|      0.0|      1.0|      1|\n",
      "|193986563|[360.369000000000...|    0|      0.0|      0.0|      2|\n",
      "|193986564|[360.369000000000...|    0|      1.0|      0.0|      0|\n",
      "|193986565|[360.369000000000...|    0|      0.0|      1.0|      1|\n",
      "|193986566|[360.369000000000...|    0|      0.0|      0.0|      2|\n",
      "|193986567|[360.369000000000...|    0|      1.0|      0.0|      0|\n",
      "|193986568|[360.369000000000...|    0|      0.0|      1.0|      1|\n",
      "|193986569|[360.369000000000...|    0|      0.0|      0.0|      2|\n",
      "|193986570|[360.369000000000...|    0|      1.0|      0.0|      0|\n",
      "|193986571|[360.369000000000...|    0|      0.0|      1.0|      1|\n",
      "|193986572|[360.369000000000...|    0|      0.0|      0.0|      2|\n",
      "|193986573|[360.369000000000...|    0|      1.0|      0.0|      0|\n",
      "|193986574|[360.369000000000...|    0|      0.0|      1.0|      1|\n",
      "|193986575|[360.369000000000...|    0|      0.0|      0.0|      2|\n",
      "|193986576|[360.369000000000...|    0|      1.0|      0.0|      0|\n",
      "|193986577|[360.369000000000...|    0|      0.0|      1.0|      1|\n",
      "|193986578|[360.369000000000...|    0|      0.0|      0.0|      2|\n",
      "|193986579|[360.369000000000...|    0|      1.0|      0.0|      0|\n",
      "+---------+--------------------+-----+---------+---------+-------+\n",
      "only showing top 20 rows\n",
      "\n"
     ]
    },
    {
     "name": "stderr",
     "output_type": "stream",
     "text": [
      "                                                                                "
     ]
    }
   ],
   "source": [
    "full_df_vectors = full_df_vectors.withColumn(\n",
    "    \"protein\",\n",
    "    when((full_df_vectors.protein_0 == 0) & (full_df_vectors.protein_1 == 0), 2)  # Both protein_0 and protein_1 are zero\n",
    "    .when(full_df_vectors.protein_0 == 1, 0)                         # protein_0 is non-zero\n",
    "    .when(full_df_vectors.protein_1 == 1, 1)                         # protein_1 is non-zero\n",
    "    .otherwise(None)                                                 # For other cases, if any\n",
    ")\n",
    "\n",
    "full_df_vectors.show()"
   ]
  },
  {
   "cell_type": "code",
   "execution_count": 21,
   "id": "b890ca3d-7073-4788-86ff-7fca39d11725",
   "metadata": {},
   "outputs": [
    {
     "name": "stderr",
     "output_type": "stream",
     "text": [
      "                                                                                "
     ]
    },
    {
     "data": {
      "text/plain": [
       "[Row(protein=1, count=98415610),\n",
       " Row(protein=2, count=98415610),\n",
       " Row(protein=0, count=98415610)]"
      ]
     },
     "execution_count": 21,
     "metadata": {},
     "output_type": "execute_result"
    }
   ],
   "source": [
    "full_df_vectors.groupBy(\"protein\").count().collect()"
   ]
  },
  {
   "cell_type": "code",
   "execution_count": 28,
   "id": "e0be44ad-7207-4962-9484-faaeb2c3ed2d",
   "metadata": {},
   "outputs": [
    {
     "name": "stderr",
     "output_type": "stream",
     "text": [
      "[Stage 45:===================================>                   (46 + 25) / 71]"
     ]
    },
    {
     "name": "stdout",
     "output_type": "stream",
     "text": [
      "[Row(binds=0, count=293656924), Row(binds=1, count=1589906)]\n"
     ]
    },
    {
     "name": "stderr",
     "output_type": "stream",
     "text": [
      "                                                                                "
     ]
    }
   ],
   "source": [
    "print(full_df_vectors.groupBy(\"binds\").count().collect())"
   ]
  },
  {
   "cell_type": "code",
   "execution_count": 17,
   "id": "975c3f55-5cf6-4aca-a379-fcaf1dd8679b",
   "metadata": {},
   "outputs": [
    {
     "data": {
      "text/plain": [
       "(1512333.1586, 1589906)"
      ]
     },
     "execution_count": 17,
     "metadata": {},
     "output_type": "execute_result"
    }
   ],
   "source": [
    "293656924*0.005150, 1589906*1"
   ]
  },
  {
   "cell_type": "code",
   "execution_count": 19,
   "id": "2adaf7d2-f379-4cfb-b503-c24bf4d89f10",
   "metadata": {},
   "outputs": [
    {
     "name": "stderr",
     "output_type": "stream",
     "text": [
      "                                                                                "
     ]
    },
    {
     "name": "stdout",
     "output_type": "stream",
     "text": [
      "[Row(binds=0, count=1513713), Row(binds=1, count=1589906)]\n"
     ]
    },
    {
     "name": "stderr",
     "output_type": "stream",
     "text": [
      "                                                                                "
     ]
    },
    {
     "name": "stdout",
     "output_type": "stream",
     "text": [
      "[Row(protein=1, count=912994), Row(protein=2, count=1227916), Row(protein=0, count=962709)]\n",
      "3103619\n",
      "+---------+--------------------+-----+---------+---------+-------+\n",
      "|       id|             vectors|binds|protein_0|protein_1|protein|\n",
      "+---------+--------------------+-----+---------+---------+-------+\n",
      "|193986815|[360.369000000000...|    0|      0.0|      0.0|      2|\n",
      "|193986873|(94,[0,1,2,3,4,5,...|    0|      1.0|      0.0|      0|\n",
      "|193987759|[360.369000000000...|    0|      0.0|      1.0|      1|\n",
      "|193987768|[360.369000000000...|    0|      0.0|      1.0|      1|\n",
      "|193987965|[360.369000000000...|    0|      1.0|      0.0|      0|\n",
      "|193988203|[360.369000000000...|    0|      0.0|      1.0|      1|\n",
      "|193988251|[360.369000000000...|    0|      0.0|      1.0|      1|\n",
      "|193988253|[360.369000000000...|    0|      1.0|      0.0|      0|\n",
      "|193988384|(94,[0,1,2,3,4,5,...|    0|      0.0|      0.0|      2|\n",
      "|193988659|[360.369000000000...|    0|      0.0|      1.0|      1|\n",
      "|193988937|(94,[0,1,2,3,4,5,...|    0|      1.0|      0.0|      0|\n",
      "|193989118|[360.369000000000...|    0|      0.0|      1.0|      1|\n",
      "|193989426|(94,[0,1,2,3,4,5,...|    0|      1.0|      0.0|      0|\n",
      "|193989831|(94,[0,1,2,3,4,5,...|    0|      1.0|      0.0|      0|\n",
      "|193989932|[360.369000000000...|    0|      0.0|      0.0|      2|\n",
      "|193990195|[360.369000000000...|    0|      0.0|      1.0|      1|\n",
      "|193990270|[360.369000000000...|    0|      0.0|      1.0|      1|\n",
      "|193990287|[360.369000000000...|    0|      1.0|      0.0|      0|\n",
      "|193990422|[360.369000000000...|    0|      1.0|      0.0|      0|\n",
      "|193990911|[360.369000000000...|    0|      1.0|      0.0|      0|\n",
      "+---------+--------------------+-----+---------+---------+-------+\n",
      "only showing top 20 rows\n",
      "\n"
     ]
    }
   ],
   "source": [
    "df_vectors = full_df_vectors.sampleBy('binds', fractions={0: 0.005150, 1: 1.0}, seed=42)\n",
    "print(df_vectors.groupBy(\"binds\").count().collect())\n",
    "print(df_vectors.groupBy(\"protein\").count().collect())\n",
    "print(df_vectors.count())\n",
    "df_vectors.show()"
   ]
  },
  {
   "cell_type": "code",
   "execution_count": 15,
   "id": "3f6f1fc0-5545-459d-86dd-d87250cd7dec",
   "metadata": {},
   "outputs": [
    {
     "name": "stderr",
     "output_type": "stream",
     "text": [
      "                                                                                "
     ]
    },
    {
     "name": "stdout",
     "output_type": "stream",
     "text": [
      "+-----+-----------+\n",
      "|binds|binds_count|\n",
      "+-----+-----------+\n",
      "|    0|   97958646|\n",
      "|    1|     456964|\n",
      "+-----+-----------+\n",
      "\n"
     ]
    },
    {
     "name": "stderr",
     "output_type": "stream",
     "text": [
      "                                                                                "
     ]
    },
    {
     "name": "stdout",
     "output_type": "stream",
     "text": [
      "+-----+-----------+\n",
      "|binds|binds_count|\n",
      "+-----+-----------+\n",
      "|    0|   98007200|\n",
      "|    1|     408410|\n",
      "+-----+-----------+\n",
      "\n"
     ]
    },
    {
     "name": "stderr",
     "output_type": "stream",
     "text": [
      "[Stage 19:=======================================================>(70 + 1) / 71]"
     ]
    },
    {
     "name": "stdout",
     "output_type": "stream",
     "text": [
      "+-----+-----------+\n",
      "|binds|binds_count|\n",
      "+-----+-----------+\n",
      "|    0|   97691078|\n",
      "|    1|     724532|\n",
      "+-----+-----------+\n",
      "\n"
     ]
    },
    {
     "name": "stderr",
     "output_type": "stream",
     "text": [
      "                                                                                "
     ]
    }
   ],
   "source": [
    "from pyspark.sql import functions as F\n",
    "\n",
    "# For protein_0 = 1\n",
    "result_protein_0_1 = full_df_vectors.filter(full_df_vectors.protein_0 == 1) \\\n",
    "                       .groupBy(\"binds\") \\\n",
    "                       .agg(F.count(\"*\").alias(\"binds_count\"))\n",
    "\n",
    "# For protein_2 = 1\n",
    "result_protein_1_1 = full_df_vectors.filter(full_df_vectors.protein_1 == 1) \\\n",
    "                       .groupBy(\"binds\") \\\n",
    "                       .agg(F.count(\"*\").alias(\"binds_count\"))\n",
    "\n",
    "# For protein_0 = 0 and protein_1 = 0\n",
    "result_protein_0_0_and_protein_1_0 = full_df_vectors.filter((full_df_vectors.protein_0 == 0) & (full_df_vectors.protein_1 == 0)) \\\n",
    "                                      .groupBy(\"binds\") \\\n",
    "                                      .agg(F.count(\"*\").alias(\"binds_count\"))\n",
    "\n",
    "# Show results\n",
    "result_protein_0_1.show()\n",
    "result_protein_1_1.show()\n",
    "result_protein_0_0_and_protein_1_0.show()"
   ]
  },
  {
   "cell_type": "code",
   "execution_count": 46,
   "id": "1b2b1091-0549-40ef-8af0-d4582b038eee",
   "metadata": {},
   "outputs": [
    {
     "name": "stderr",
     "output_type": "stream",
     "text": [
      "[Stage 63:>                                                         (0 + 1) / 1]"
     ]
    },
    {
     "name": "stdout",
     "output_type": "stream",
     "text": [
      "+---------+--------------------+-----+---------+---------+-------+\n",
      "|       id|             vectors|binds|protein_0|protein_1|protein|\n",
      "+---------+--------------------+-----+---------+---------+-------+\n",
      "|193996160|(94,[0,1,2,3,4,5,...|    0|      0.0|      0.0|      2|\n",
      "|193997410|[360.369000000000...|    0|      0.0|      1.0|      1|\n",
      "|194001563|[360.369000000000...|    0|      0.0|      0.0|      2|\n",
      "|194021946|(94,[0,1,2,3,4,5,...|    0|      1.0|      0.0|      0|\n",
      "|194027118|(94,[0,1,2,3,4,5,...|    0|      1.0|      0.0|      0|\n",
      "|194027972|[360.369000000000...|    0|      0.0|      0.0|      2|\n",
      "|194030593|[360.369000000000...|    1|      0.0|      1.0|      1|\n",
      "|194030875|[360.369000000000...|    0|      0.0|      1.0|      1|\n",
      "|194032258|[360.369000000000...|    0|      0.0|      1.0|      1|\n",
      "|194033516|[360.369000000000...|    0|      0.0|      0.0|      2|\n",
      "|194033893|[360.369000000000...|    0|      0.0|      1.0|      1|\n",
      "|194034475|[360.369000000000...|    1|      0.0|      1.0|      1|\n",
      "|194035544|[360.369000000000...|    0|      0.0|      0.0|      2|\n",
      "|194037646|[360.369000000000...|    0|      0.0|      1.0|      1|\n",
      "|194038800|[360.369000000000...|    0|      1.0|      0.0|      0|\n",
      "|194041417|[360.369000000000...|    0|      0.0|      1.0|      1|\n",
      "|194042256|[360.369000000000...|    0|      1.0|      0.0|      0|\n",
      "|194042578|[360.369000000000...|    1|      0.0|      1.0|      1|\n",
      "|194042732|[360.369000000000...|    1|      0.0|      0.0|      2|\n",
      "|194043013|[360.369000000000...|    1|      0.0|      1.0|      1|\n",
      "+---------+--------------------+-----+---------+---------+-------+\n",
      "only showing top 20 rows\n",
      "\n"
     ]
    },
    {
     "name": "stderr",
     "output_type": "stream",
     "text": [
      "                                                                                "
     ]
    }
   ],
   "source": [
    "df_vectors.show()"
   ]
  },
  {
   "cell_type": "code",
   "execution_count": 14,
   "id": "0ff08ce4-8878-4431-a72d-2390fca4c0a7",
   "metadata": {},
   "outputs": [
    {
     "name": "stderr",
     "output_type": "stream",
     "text": [
      "                                                                                "
     ]
    },
    {
     "data": {
      "text/plain": [
       "[Row(binds=0, count=5916), Row(binds=1, count=37)]"
      ]
     },
     "execution_count": 14,
     "metadata": {},
     "output_type": "execute_result"
    }
   ],
   "source": [
    "df_vectors.groupBy(\"binds\").count().collect()"
   ]
  },
  {
   "cell_type": "code",
   "execution_count": 13,
   "id": "f4b0d871-c739-4ed2-8704-8c086ecae01e",
   "metadata": {},
   "outputs": [
    {
     "name": "stderr",
     "output_type": "stream",
     "text": [
      "                                                                                "
     ]
    },
    {
     "data": {
      "text/plain": [
       "5953"
      ]
     },
     "execution_count": 13,
     "metadata": {},
     "output_type": "execute_result"
    }
   ],
   "source": [
    "df_vectors.count()"
   ]
  },
  {
   "cell_type": "code",
   "execution_count": 8,
   "id": "38087757-32a1-4257-8914-0f33391333b5",
   "metadata": {},
   "outputs": [],
   "source": [
    "full_df_vectors = full_df_vectors.repartition(200)"
   ]
  },
  {
   "cell_type": "markdown",
   "id": "955cc9ed-38ff-4864-9797-86c75b7bad0b",
   "metadata": {},
   "source": [
    "//////////////////////////////////////////////////////////////////////////////////"
   ]
  },
  {
   "cell_type": "code",
   "execution_count": null,
   "id": "9386cf52-3e50-407a-9743-ec7324dd88e4",
   "metadata": {
    "scrolled": true
   },
   "outputs": [],
   "source": [
    "from pyspark.ml.clustering import KMeans\n",
    "\n",
    "kmeans = KMeans(k=2, seed=42, featuresCol='vectors', predictionCol=\"cluster\")\n",
    "model = kmeans.fit(full_df_vectors)\n",
    "\n",
    "# Get predictions\n",
    "predictions = model.transform(full_df_vectors)\n",
    "\n",
    "# Show clusters\n",
    "predictions.select(\"cluster\", \"binds\").show()"
   ]
  },
  {
   "cell_type": "code",
   "execution_count": null,
   "id": "81701a68-d579-44ee-897b-6df7d17ef2ce",
   "metadata": {},
   "outputs": [],
   "source": [
    "# Save the model to a directory\n",
    "model.save(\"KMeans_model\")\n",
    "\n",
    "# To load the model later\n",
    "# from pyspark.ml.clustering import KMeansModel\n",
    "# loaded_model = KMeansModel.load(\"path_to_save_model\")"
   ]
  },
  {
   "cell_type": "code",
   "execution_count": 7,
   "id": "ec692998-bb8d-4f5a-a443-cfd1ba170539",
   "metadata": {
    "scrolled": true
   },
   "outputs": [
    {
     "name": "stderr",
     "output_type": "stream",
     "text": [
      "24/12/30 09:11:07 WARN MemoryStore: Not enough space to cache rdd_38_54 in memory! (computed 582.2 MiB so far)\n",
      "24/12/30 09:11:07 WARN BlockManager: Persisting block rdd_38_54 to disk instead.\n",
      "24/12/30 09:11:07 WARN MemoryStore: Not enough space to cache rdd_38_3 in memory! (computed 582.2 MiB so far)\n",
      "24/12/30 09:11:07 WARN BlockManager: Persisting block rdd_38_3 to disk instead.\n",
      "24/12/30 09:11:07 WARN MemoryStore: Not enough space to cache rdd_38_28 in memory! (computed 582.2 MiB so far)\n",
      "24/12/30 09:11:07 WARN BlockManager: Persisting block rdd_38_28 to disk instead.\n",
      "24/12/30 09:11:07 WARN MemoryStore: Not enough space to cache rdd_38_61 in memory! (computed 582.2 MiB so far)\n",
      "24/12/30 09:11:07 WARN BlockManager: Persisting block rdd_38_61 to disk instead.\n",
      "24/12/30 09:11:07 WARN MemoryStore: Not enough space to cache rdd_38_24 in memory! (computed 582.2 MiB so far)\n",
      "24/12/30 09:11:07 WARN BlockManager: Persisting block rdd_38_24 to disk instead.\n",
      "24/12/30 09:11:07 WARN MemoryStore: Not enough space to cache rdd_38_48 in memory! (computed 582.2 MiB so far)\n",
      "24/12/30 09:11:07 WARN BlockManager: Persisting block rdd_38_48 to disk instead.\n",
      "24/12/30 09:11:07 WARN MemoryStore: Not enough space to cache rdd_38_57 in memory! (computed 582.2 MiB so far)\n",
      "24/12/30 09:11:07 WARN BlockManager: Persisting block rdd_38_57 to disk instead.\n",
      "24/12/30 09:11:07 WARN MemoryStore: Not enough space to cache rdd_38_6 in memory! (computed 582.2 MiB so far)\n",
      "24/12/30 09:11:07 WARN BlockManager: Persisting block rdd_38_6 to disk instead.\n",
      "24/12/30 09:11:07 WARN MemoryStore: Not enough space to cache rdd_38_62 in memory! (computed 582.2 MiB so far)\n",
      "24/12/30 09:11:07 WARN BlockManager: Persisting block rdd_38_62 to disk instead.\n",
      "24/12/30 09:11:08 WARN MemoryStore: Not enough space to cache rdd_38_53 in memory! (computed 582.2 MiB so far)\n",
      "24/12/30 09:11:08 WARN MemoryStore: Not enough space to cache rdd_38_30 in memory! (computed 582.2 MiB so far)\n",
      "24/12/30 09:11:08 WARN BlockManager: Persisting block rdd_38_30 to disk instead.\n",
      "24/12/30 09:11:08 WARN BlockManager: Persisting block rdd_38_53 to disk instead.\n",
      "24/12/30 09:11:08 WARN MemoryStore: Not enough space to cache rdd_38_13 in memory! (computed 582.2 MiB so far)\n",
      "24/12/30 09:11:08 WARN BlockManager: Persisting block rdd_38_13 to disk instead.\n",
      "24/12/30 09:11:08 WARN MemoryStore: Not enough space to cache rdd_38_25 in memory! (computed 582.2 MiB so far)\n",
      "24/12/30 09:11:08 WARN MemoryStore: Not enough space to cache rdd_38_60 in memory! (computed 582.2 MiB so far)\n",
      "24/12/30 09:11:08 WARN BlockManager: Persisting block rdd_38_25 to disk instead.\n",
      "24/12/30 09:11:08 WARN BlockManager: Persisting block rdd_38_60 to disk instead.\n",
      "24/12/30 09:11:08 WARN MemoryStore: Not enough space to cache rdd_38_35 in memory! (computed 582.2 MiB so far)\n",
      "24/12/30 09:11:08 WARN BlockManager: Persisting block rdd_38_35 to disk instead.\n",
      "24/12/30 09:11:08 WARN MemoryStore: Not enough space to cache rdd_38_27 in memory! (computed 582.2 MiB so far)\n",
      "24/12/30 09:11:08 WARN BlockManager: Persisting block rdd_38_27 to disk instead.\n",
      "24/12/30 09:11:08 WARN MemoryStore: Not enough space to cache rdd_38_21 in memory! (computed 582.2 MiB so far)\n",
      "24/12/30 09:11:08 WARN BlockManager: Persisting block rdd_38_21 to disk instead.\n",
      "24/12/30 09:11:08 WARN MemoryStore: Not enough space to cache rdd_38_38 in memory! (computed 582.2 MiB so far)\n",
      "24/12/30 09:11:08 WARN BlockManager: Persisting block rdd_38_38 to disk instead.\n",
      "24/12/30 09:11:08 WARN MemoryStore: Not enough space to cache rdd_38_56 in memory! (computed 582.2 MiB so far)\n",
      "24/12/30 09:11:08 WARN BlockManager: Persisting block rdd_38_56 to disk instead.\n",
      "24/12/30 09:11:08 WARN MemoryStore: Not enough space to cache rdd_38_47 in memory! (computed 582.2 MiB so far)\n",
      "24/12/30 09:11:08 WARN BlockManager: Persisting block rdd_38_47 to disk instead.\n",
      "24/12/30 09:11:08 WARN MemoryStore: Not enough space to cache rdd_38_19 in memory! (computed 582.2 MiB so far)\n",
      "24/12/30 09:11:08 WARN BlockManager: Persisting block rdd_38_19 to disk instead.\n",
      "24/12/30 09:11:08 WARN MemoryStore: Not enough space to cache rdd_38_2 in memory! (computed 582.2 MiB so far)\n",
      "24/12/30 09:11:08 WARN BlockManager: Persisting block rdd_38_2 to disk instead.\n",
      "24/12/30 09:11:08 WARN MemoryStore: Not enough space to cache rdd_38_1 in memory! (computed 582.2 MiB so far)\n",
      "24/12/30 09:11:08 WARN BlockManager: Persisting block rdd_38_1 to disk instead.\n",
      "24/12/30 09:11:08 WARN MemoryStore: Not enough space to cache rdd_38_32 in memory! (computed 582.2 MiB so far)\n",
      "24/12/30 09:11:08 WARN BlockManager: Persisting block rdd_38_32 to disk instead.\n",
      "24/12/30 09:11:08 WARN MemoryStore: Not enough space to cache rdd_38_59 in memory! (computed 582.2 MiB so far)\n",
      "24/12/30 09:11:08 WARN BlockManager: Persisting block rdd_38_59 to disk instead.\n",
      "24/12/30 09:11:08 WARN MemoryStore: Not enough space to cache rdd_38_31 in memory! (computed 582.2 MiB so far)\n",
      "24/12/30 09:11:08 WARN BlockManager: Persisting block rdd_38_31 to disk instead.\n",
      "24/12/30 09:11:08 WARN MemoryStore: Not enough space to cache rdd_38_23 in memory! (computed 582.2 MiB so far)\n",
      "24/12/30 09:11:08 WARN BlockManager: Persisting block rdd_38_23 to disk instead.\n",
      "24/12/30 09:11:09 WARN MemoryStore: Not enough space to cache rdd_38_9 in memory! (computed 582.2 MiB so far)\n",
      "24/12/30 09:11:09 WARN BlockManager: Persisting block rdd_38_9 to disk instead.\n",
      "24/12/30 09:11:09 WARN MemoryStore: Not enough space to cache rdd_38_58 in memory! (computed 582.2 MiB so far)\n",
      "24/12/30 09:11:09 WARN BlockManager: Persisting block rdd_38_58 to disk instead.\n",
      "24/12/30 09:11:09 WARN MemoryStore: Not enough space to cache rdd_38_36 in memory! (computed 582.2 MiB so far)\n",
      "24/12/30 09:11:09 WARN BlockManager: Persisting block rdd_38_36 to disk instead.\n",
      "24/12/30 09:11:09 WARN MemoryStore: Not enough space to cache rdd_38_37 in memory! (computed 582.2 MiB so far)\n",
      "24/12/30 09:11:09 WARN BlockManager: Persisting block rdd_38_37 to disk instead.\n",
      "24/12/30 09:11:09 WARN MemoryStore: Not enough space to cache rdd_38_22 in memory! (computed 582.2 MiB so far)\n",
      "24/12/30 09:11:09 WARN BlockManager: Persisting block rdd_38_22 to disk instead.\n",
      "24/12/30 09:11:11 WARN MemoryStore: Not enough space to cache rdd_38_18 in memory! (computed 582.2 MiB so far)\n",
      "24/12/30 09:11:11 WARN MemoryStore: Not enough space to cache rdd_38_26 in memory! (computed 582.2 MiB so far)\n",
      "24/12/30 09:11:11 WARN BlockManager: Persisting block rdd_38_18 to disk instead.\n",
      "24/12/30 09:11:11 WARN BlockManager: Persisting block rdd_38_26 to disk instead.\n",
      "24/12/30 09:11:11 WARN MemoryStore: Not enough space to cache rdd_38_52 in memory! (computed 582.2 MiB so far)\n",
      "24/12/30 09:11:11 WARN BlockManager: Persisting block rdd_38_52 to disk instead.\n",
      "24/12/30 09:11:11 WARN MemoryStore: Not enough space to cache rdd_38_41 in memory! (computed 582.2 MiB so far)\n",
      "24/12/30 09:11:11 WARN BlockManager: Persisting block rdd_38_41 to disk instead.\n",
      "24/12/30 09:11:11 WARN MemoryStore: Not enough space to cache rdd_38_29 in memory! (computed 582.2 MiB so far)\n",
      "24/12/30 09:11:11 WARN BlockManager: Persisting block rdd_38_29 to disk instead.\n",
      "24/12/30 09:11:11 WARN MemoryStore: Not enough space to cache rdd_38_20 in memory! (computed 582.2 MiB so far)\n",
      "24/12/30 09:11:11 WARN BlockManager: Persisting block rdd_38_20 to disk instead.\n",
      "24/12/30 09:11:11 WARN MemoryStore: Not enough space to cache rdd_38_16 in memory! (computed 582.2 MiB so far)\n",
      "24/12/30 09:11:11 WARN BlockManager: Persisting block rdd_38_16 to disk instead.\n",
      "24/12/30 09:11:11 WARN MemoryStore: Not enough space to cache rdd_38_42 in memory! (computed 582.2 MiB so far)\n",
      "24/12/30 09:11:11 WARN BlockManager: Persisting block rdd_38_42 to disk instead.\n",
      "24/12/30 09:11:11 WARN MemoryStore: Not enough space to cache rdd_38_34 in memory! (computed 582.2 MiB so far)\n",
      "24/12/30 09:11:11 WARN BlockManager: Persisting block rdd_38_34 to disk instead.\n",
      "24/12/30 09:11:11 WARN MemoryStore: Not enough space to cache rdd_38_15 in memory! (computed 582.2 MiB so far)\n",
      "24/12/30 09:11:11 WARN BlockManager: Persisting block rdd_38_15 to disk instead.\n",
      "24/12/30 09:11:11 WARN MemoryStore: Not enough space to cache rdd_38_12 in memory! (computed 582.2 MiB so far)\n",
      "24/12/30 09:11:11 WARN BlockManager: Persisting block rdd_38_12 to disk instead.\n",
      "24/12/30 09:11:11 WARN MemoryStore: Not enough space to cache rdd_38_33 in memory! (computed 582.2 MiB so far)\n",
      "24/12/30 09:11:11 WARN BlockManager: Persisting block rdd_38_33 to disk instead.\n",
      "24/12/30 09:11:11 WARN MemoryStore: Not enough space to cache rdd_38_7 in memory! (computed 582.2 MiB so far)\n",
      "24/12/30 09:11:11 WARN BlockManager: Persisting block rdd_38_7 to disk instead.\n",
      "24/12/30 09:11:11 WARN MemoryStore: Not enough space to cache rdd_38_51 in memory! (computed 582.2 MiB so far)\n",
      "24/12/30 09:11:11 WARN BlockManager: Persisting block rdd_38_51 to disk instead.\n",
      "24/12/30 09:11:11 WARN MemoryStore: Not enough space to cache rdd_38_10 in memory! (computed 582.2 MiB so far)\n",
      "24/12/30 09:11:11 WARN BlockManager: Persisting block rdd_38_10 to disk instead.\n",
      "24/12/30 09:11:11 WARN MemoryStore: Not enough space to cache rdd_38_43 in memory! (computed 582.2 MiB so far)\n",
      "24/12/30 09:11:11 WARN BlockManager: Persisting block rdd_38_43 to disk instead.\n",
      "24/12/30 09:11:11 WARN MemoryStore: Not enough space to cache rdd_38_17 in memory! (computed 582.2 MiB so far)\n",
      "24/12/30 09:11:11 WARN BlockManager: Persisting block rdd_38_17 to disk instead.\n",
      "24/12/30 09:11:11 WARN MemoryStore: Not enough space to cache rdd_38_46 in memory! (computed 582.2 MiB so far)\n",
      "24/12/30 09:11:11 WARN BlockManager: Persisting block rdd_38_46 to disk instead.\n",
      "24/12/30 09:11:11 WARN MemoryStore: Not enough space to cache rdd_38_45 in memory! (computed 582.2 MiB so far)\n",
      "24/12/30 09:11:11 WARN BlockManager: Persisting block rdd_38_45 to disk instead.\n",
      "24/12/30 09:11:11 WARN MemoryStore: Not enough space to cache rdd_38_49 in memory! (computed 582.2 MiB so far)\n",
      "24/12/30 09:11:11 WARN BlockManager: Persisting block rdd_38_49 to disk instead.\n",
      "24/12/30 09:11:11 WARN MemoryStore: Not enough space to cache rdd_38_55 in memory! (computed 582.2 MiB so far)\n",
      "24/12/30 09:11:11 WARN BlockManager: Persisting block rdd_38_55 to disk instead.\n",
      "24/12/30 09:11:12 WARN MemoryStore: Not enough space to cache rdd_38_8 in memory! (computed 582.2 MiB so far)\n",
      "24/12/30 09:11:12 WARN BlockManager: Persisting block rdd_38_8 to disk instead.\n",
      "24/12/30 09:11:12 WARN MemoryStore: Not enough space to cache rdd_38_5 in memory! (computed 582.2 MiB so far)\n",
      "24/12/30 09:11:12 WARN BlockManager: Persisting block rdd_38_5 to disk instead.\n",
      "24/12/30 09:11:12 WARN MemoryStore: Not enough space to cache rdd_38_63 in memory! (computed 582.2 MiB so far)\n",
      "24/12/30 09:11:12 WARN BlockManager: Persisting block rdd_38_63 to disk instead.\n",
      "24/12/30 09:11:12 WARN MemoryStore: Not enough space to cache rdd_38_14 in memory! (computed 582.2 MiB so far)\n",
      "24/12/30 09:11:12 WARN BlockManager: Persisting block rdd_38_14 to disk instead.\n",
      "24/12/30 09:11:12 WARN MemoryStore: Not enough space to cache rdd_38_40 in memory! (computed 582.2 MiB so far)\n",
      "24/12/30 09:11:12 WARN BlockManager: Persisting block rdd_38_40 to disk instead.\n",
      "24/12/30 09:14:47 WARN MemoryStore: Not enough space to cache rdd_38_68 in memory! (computed 2020.8 MiB so far)\n",
      "24/12/30 09:14:47 WARN BlockManager: Persisting block rdd_38_68 to disk instead.\n",
      "24/12/30 09:14:48 WARN MemoryStore: Not enough space to cache rdd_38_69 in memory! (computed 2020.8 MiB so far)\n",
      "24/12/30 09:14:48 WARN BlockManager: Persisting block rdd_38_69 to disk instead.\n",
      "24/12/30 09:15:08 WARN MemoryStore: Not enough space to cache rdd_38_64 in memory! (computed 3.0 GiB so far)\n",
      "24/12/30 09:15:08 WARN BlockManager: Persisting block rdd_38_64 to disk instead.\n",
      "24/12/30 09:15:14 WARN MemoryStore: Not enough space to cache rdd_38_65 in memory! (computed 3.0 GiB so far)\n",
      "24/12/30 09:15:14 WARN BlockManager: Persisting block rdd_38_65 to disk instead.\n",
      "24/12/30 09:15:15 WARN MemoryStore: Not enough space to cache rdd_38_66 in memory! (computed 3.0 GiB so far)\n",
      "24/12/30 09:15:15 WARN BlockManager: Persisting block rdd_38_66 to disk instead.\n",
      "24/12/30 09:15:19 WARN MemoryStore: Not enough space to cache rdd_38_67 in memory! (computed 3.0 GiB so far)\n",
      "24/12/30 09:15:19 WARN BlockManager: Persisting block rdd_38_67 to disk instead.\n",
      "[Stage 10:====>                                                   (6 + 64) / 71]"
     ]
    },
    {
     "name": "stdout",
     "output_type": "stream",
     "text": [
      "[905.927s][warning][gc,alloc] Executor task launch worker for task 55.0 in stage 10.0 (TID 344): Retried waiting for GCLocker too often allocating 101188 words\n"
     ]
    },
    {
     "name": "stderr",
     "output_type": "stream",
     "text": [
      "24/12/30 09:21:20 WARN MemoryStore: Not enough space to cache rdd_38_2 in memory! (computed 162.4 MiB so far)\n",
      "24/12/30 09:21:20 WARN MemoryStore: Not enough space to cache rdd_38_22 in memory! (computed 162.4 MiB so far)\n",
      "24/12/30 09:21:20 WARN MemoryStore: Not enough space to cache rdd_38_65 in memory! (computed 162.4 MiB so far)\n",
      "24/12/30 09:21:20 WARN MemoryStore: Not enough space to cache rdd_38_47 in memory! (computed 162.4 MiB so far)\n",
      "24/12/30 09:21:20 WARN MemoryStore: Not enough space to cache rdd_38_5 in memory! (computed 162.4 MiB so far)\n",
      "24/12/30 09:21:20 WARN MemoryStore: Not enough space to cache rdd_38_59 in memory! (computed 162.4 MiB so far)\n",
      "24/12/30 09:21:20 WARN MemoryStore: Not enough space to cache rdd_38_61 in memory! (computed 162.4 MiB so far)\n",
      "24/12/30 09:21:20 WARN MemoryStore: Not enough space to cache rdd_38_52 in memory! (computed 162.4 MiB so far)\n",
      "24/12/30 09:21:20 WARN MemoryStore: Not enough space to cache rdd_38_32 in memory! (computed 162.4 MiB so far)\n",
      "24/12/30 09:21:20 WARN MemoryStore: Not enough space to cache rdd_38_37 in memory! (computed 162.4 MiB so far)\n",
      "24/12/30 09:21:20 WARN MemoryStore: Not enough space to cache rdd_38_1 in memory! (computed 162.4 MiB so far)\n",
      "24/12/30 09:21:20 WARN MemoryStore: Not enough space to cache rdd_38_57 in memory! (computed 162.4 MiB so far)\n",
      "24/12/30 09:21:20 WARN MemoryStore: Not enough space to cache rdd_38_62 in memory! (computed 162.4 MiB so far)\n",
      "24/12/30 09:21:20 WARN MemoryStore: Not enough space to cache rdd_38_26 in memory! (computed 162.4 MiB so far)\n",
      "24/12/30 09:21:20 WARN MemoryStore: Not enough space to cache rdd_38_13 in memory! (computed 252.6 MiB so far)\n",
      "24/12/30 09:21:20 WARN MemoryStore: Not enough space to cache rdd_38_18 in memory! (computed 162.4 MiB so far)\n",
      "24/12/30 09:21:20 WARN MemoryStore: Not enough space to cache rdd_38_16 in memory! (computed 252.6 MiB so far)\n",
      "24/12/30 09:21:20 WARN MemoryStore: Not enough space to cache rdd_38_9 in memory! (computed 252.6 MiB so far)\n",
      "24/12/30 09:21:20 WARN MemoryStore: Not enough space to cache rdd_38_42 in memory! (computed 252.6 MiB so far)\n",
      "24/12/30 09:21:20 WARN MemoryStore: Not enough space to cache rdd_38_21 in memory! (computed 252.6 MiB so far)\n",
      "24/12/30 09:21:20 WARN MemoryStore: Not enough space to cache rdd_38_56 in memory! (computed 252.6 MiB so far)\n",
      "24/12/30 09:21:20 WARN MemoryStore: Not enough space to cache rdd_38_15 in memory! (computed 252.6 MiB so far)\n",
      "24/12/30 09:21:20 WARN MemoryStore: Not enough space to cache rdd_38_60 in memory! (computed 252.6 MiB so far)\n",
      "24/12/30 09:21:20 WARN MemoryStore: Not enough space to cache rdd_38_6 in memory! (computed 252.6 MiB so far)\n",
      "24/12/30 09:21:20 WARN MemoryStore: Not enough space to cache rdd_38_36 in memory! (computed 252.6 MiB so far)\n",
      "24/12/30 09:21:20 WARN MemoryStore: Not enough space to cache rdd_38_24 in memory! (computed 252.6 MiB so far)\n",
      "24/12/30 09:21:20 WARN MemoryStore: Not enough space to cache rdd_38_31 in memory! (computed 252.6 MiB so far)\n",
      "24/12/30 09:21:20 WARN MemoryStore: Not enough space to cache rdd_38_23 in memory! (computed 252.6 MiB so far)\n",
      "24/12/30 09:21:20 WARN MemoryStore: Not enough space to cache rdd_38_49 in memory! (computed 252.6 MiB so far)\n",
      "24/12/30 09:21:20 WARN MemoryStore: Not enough space to cache rdd_38_19 in memory! (computed 252.6 MiB so far)\n",
      "24/12/30 09:21:20 WARN MemoryStore: Not enough space to cache rdd_38_29 in memory! (computed 252.6 MiB so far)\n",
      "24/12/30 09:21:20 WARN MemoryStore: Not enough space to cache rdd_38_7 in memory! (computed 252.6 MiB so far)\n",
      "24/12/30 09:21:20 WARN MemoryStore: Not enough space to cache rdd_38_28 in memory! (computed 252.6 MiB so far)\n",
      "24/12/30 09:21:20 WARN MemoryStore: Not enough space to cache rdd_38_3 in memory! (computed 252.6 MiB so far)\n",
      "24/12/30 09:21:20 WARN MemoryStore: Not enough space to cache rdd_38_14 in memory! (computed 252.6 MiB so far)\n",
      "24/12/30 09:21:20 WARN MemoryStore: Not enough space to cache rdd_38_58 in memory! (computed 252.6 MiB so far)\n",
      "24/12/30 09:21:20 WARN MemoryStore: Not enough space to cache rdd_38_48 in memory! (computed 252.6 MiB so far)\n",
      "24/12/30 09:21:20 WARN MemoryStore: Not enough space to cache rdd_38_43 in memory! (computed 252.6 MiB so far)\n",
      "24/12/30 09:21:20 WARN MemoryStore: Not enough space to cache rdd_38_55 in memory! (computed 252.6 MiB so far)\n",
      "24/12/30 09:21:20 WARN MemoryStore: Not enough space to cache rdd_38_35 in memory! (computed 252.6 MiB so far)\n",
      "24/12/30 09:21:20 WARN MemoryStore: Not enough space to cache rdd_38_8 in memory! (computed 252.6 MiB so far)\n",
      "24/12/30 09:21:20 WARN MemoryStore: Not enough space to cache rdd_38_10 in memory! (computed 252.6 MiB so far)\n",
      "24/12/30 09:21:20 WARN MemoryStore: Not enough space to cache rdd_38_33 in memory! (computed 252.6 MiB so far)\n",
      "24/12/30 09:21:20 WARN MemoryStore: Not enough space to cache rdd_38_25 in memory! (computed 252.6 MiB so far)\n",
      "24/12/30 09:21:20 WARN MemoryStore: Not enough space to cache rdd_38_34 in memory! (computed 252.6 MiB so far)\n",
      "24/12/30 09:21:20 WARN MemoryStore: Not enough space to cache rdd_38_38 in memory! (computed 252.6 MiB so far)\n",
      "24/12/30 09:21:20 WARN MemoryStore: Not enough space to cache rdd_38_51 in memory! (computed 252.6 MiB so far)\n",
      "24/12/30 09:21:20 WARN MemoryStore: Not enough space to cache rdd_38_20 in memory! (computed 252.6 MiB so far)\n",
      "24/12/30 09:21:20 WARN MemoryStore: Not enough space to cache rdd_38_27 in memory! (computed 252.6 MiB so far)\n",
      "24/12/30 09:21:20 WARN MemoryStore: Not enough space to cache rdd_38_17 in memory! (computed 252.6 MiB so far)\n",
      "24/12/30 09:21:20 WARN MemoryStore: Not enough space to cache rdd_38_41 in memory! (computed 252.6 MiB so far)\n",
      "24/12/30 09:21:20 WARN MemoryStore: Not enough space to cache rdd_38_54 in memory! (computed 252.6 MiB so far)\n",
      "24/12/30 09:21:20 WARN MemoryStore: Not enough space to cache rdd_38_12 in memory! (computed 252.6 MiB so far)\n",
      "24/12/30 09:21:20 WARN MemoryStore: Not enough space to cache rdd_38_63 in memory! (computed 252.6 MiB so far)\n",
      "24/12/30 09:21:20 WARN MemoryStore: Not enough space to cache rdd_38_45 in memory! (computed 252.6 MiB so far)\n",
      "24/12/30 09:21:20 WARN MemoryStore: Not enough space to cache rdd_38_53 in memory! (computed 252.6 MiB so far)\n",
      "24/12/30 09:21:20 WARN MemoryStore: Not enough space to cache rdd_38_30 in memory! (computed 252.6 MiB so far)\n",
      "24/12/30 09:21:20 WARN MemoryStore: Not enough space to cache rdd_38_66 in memory! (computed 252.6 MiB so far)\n",
      "24/12/30 09:21:21 WARN MemoryStore: Not enough space to cache rdd_38_40 in memory! (computed 252.6 MiB so far)\n",
      "24/12/30 09:21:21 WARN MemoryStore: Not enough space to cache rdd_38_64 in memory! (computed 252.6 MiB so far)\n",
      "24/12/30 09:21:21 WARN MemoryStore: Not enough space to cache rdd_38_46 in memory! (computed 252.6 MiB so far)\n",
      "24/12/30 09:23:14 WARN MemoryStore: Not enough space to cache rdd_38_18 in memory! (computed 107.9 MiB so far)\n",
      "24/12/30 09:23:14 WARN MemoryStore: Not enough space to cache rdd_38_19 in memory! (computed 107.9 MiB so far)\n",
      "24/12/30 09:23:14 WARN MemoryStore: Not enough space to cache rdd_38_30 in memory! (computed 107.9 MiB so far)\n",
      "24/12/30 09:23:14 WARN MemoryStore: Not enough space to cache rdd_38_34 in memory! (computed 107.9 MiB so far)\n",
      "24/12/30 09:23:14 WARN MemoryStore: Not enough space to cache rdd_38_29 in memory! (computed 107.9 MiB so far)\n",
      "24/12/30 09:23:14 WARN MemoryStore: Not enough space to cache rdd_38_35 in memory! (computed 107.9 MiB so far)\n",
      "24/12/30 09:23:14 WARN MemoryStore: Not enough space to cache rdd_38_32 in memory! (computed 107.9 MiB so far)\n",
      "24/12/30 09:23:14 WARN MemoryStore: Not enough space to cache rdd_38_54 in memory! (computed 107.9 MiB so far)\n",
      "24/12/30 09:23:14 WARN MemoryStore: Not enough space to cache rdd_38_59 in memory! (computed 162.4 MiB so far)\n",
      "24/12/30 09:23:14 WARN MemoryStore: Not enough space to cache rdd_38_21 in memory! (computed 107.9 MiB so far)\n",
      "24/12/30 09:23:14 WARN MemoryStore: Not enough space to cache rdd_38_46 in memory! (computed 107.9 MiB so far)\n",
      "24/12/30 09:23:14 WARN MemoryStore: Not enough space to cache rdd_38_3 in memory! (computed 107.9 MiB so far)\n",
      "24/12/30 09:23:14 WARN MemoryStore: Not enough space to cache rdd_38_17 in memory! (computed 107.9 MiB so far)\n",
      "24/12/30 09:23:14 WARN MemoryStore: Not enough space to cache rdd_38_7 in memory! (computed 107.9 MiB so far)\n",
      "24/12/30 09:23:14 WARN MemoryStore: Not enough space to cache rdd_38_20 in memory! (computed 107.9 MiB so far)\n",
      "24/12/30 09:23:14 WARN MemoryStore: Not enough space to cache rdd_38_1 in memory! (computed 107.9 MiB so far)\n",
      "24/12/30 09:23:14 WARN MemoryStore: Not enough space to cache rdd_38_38 in memory! (computed 107.9 MiB so far)\n",
      "24/12/30 09:23:14 WARN MemoryStore: Not enough space to cache rdd_38_2 in memory! (computed 107.9 MiB so far)\n",
      "24/12/30 09:23:14 WARN MemoryStore: Not enough space to cache rdd_38_52 in memory! (computed 107.9 MiB so far)\n",
      "24/12/30 09:23:14 WARN MemoryStore: Not enough space to cache rdd_38_33 in memory! (computed 107.9 MiB so far)\n",
      "24/12/30 09:23:14 WARN MemoryStore: Not enough space to cache rdd_38_9 in memory! (computed 107.9 MiB so far)\n",
      "24/12/30 09:23:14 WARN MemoryStore: Not enough space to cache rdd_38_51 in memory! (computed 107.9 MiB so far)\n",
      "24/12/30 09:23:14 WARN MemoryStore: Not enough space to cache rdd_38_41 in memory! (computed 107.9 MiB so far)\n",
      "24/12/30 09:23:14 WARN MemoryStore: Not enough space to cache rdd_38_49 in memory! (computed 107.9 MiB so far)\n",
      "24/12/30 09:23:14 WARN MemoryStore: Not enough space to cache rdd_38_37 in memory! (computed 107.9 MiB so far)\n",
      "24/12/30 09:23:14 WARN MemoryStore: Not enough space to cache rdd_38_16 in memory! (computed 107.9 MiB so far)\n",
      "24/12/30 09:23:14 WARN MemoryStore: Not enough space to cache rdd_38_58 in memory! (computed 107.9 MiB so far)\n",
      "24/12/30 09:23:14 WARN MemoryStore: Not enough space to cache rdd_38_22 in memory! (computed 107.9 MiB so far)\n",
      "24/12/30 09:23:14 WARN MemoryStore: Not enough space to cache rdd_38_42 in memory! (computed 107.9 MiB so far)\n",
      "24/12/30 09:23:14 WARN MemoryStore: Not enough space to cache rdd_38_63 in memory! (computed 71.9 MiB so far)\n",
      "24/12/30 09:23:14 WARN MemoryStore: Not enough space to cache rdd_38_25 in memory! (computed 107.9 MiB so far)\n",
      "24/12/30 09:23:14 WARN MemoryStore: Not enough space to cache rdd_38_8 in memory! (computed 107.9 MiB so far)\n",
      "24/12/30 09:23:14 WARN MemoryStore: Not enough space to cache rdd_38_6 in memory! (computed 107.9 MiB so far)\n",
      "24/12/30 09:23:14 WARN MemoryStore: Not enough space to cache rdd_38_48 in memory! (computed 107.9 MiB so far)\n",
      "24/12/30 09:23:14 WARN MemoryStore: Not enough space to cache rdd_38_57 in memory! (computed 107.9 MiB so far)\n",
      "24/12/30 09:23:14 WARN MemoryStore: Not enough space to cache rdd_38_23 in memory! (computed 107.9 MiB so far)\n",
      "24/12/30 09:23:14 WARN MemoryStore: Not enough space to cache rdd_38_61 in memory! (computed 107.9 MiB so far)\n",
      "24/12/30 09:23:14 WARN MemoryStore: Not enough space to cache rdd_38_15 in memory! (computed 107.9 MiB so far)\n",
      "24/12/30 09:23:14 WARN MemoryStore: Not enough space to cache rdd_38_24 in memory! (computed 107.9 MiB so far)\n",
      "24/12/30 09:23:14 WARN MemoryStore: Not enough space to cache rdd_38_53 in memory! (computed 107.9 MiB so far)\n",
      "24/12/30 09:23:14 WARN MemoryStore: Not enough space to cache rdd_38_47 in memory! (computed 107.9 MiB so far)\n",
      "24/12/30 09:23:14 WARN MemoryStore: Not enough space to cache rdd_38_13 in memory! (computed 107.9 MiB so far)\n",
      "24/12/30 09:23:14 WARN MemoryStore: Not enough space to cache rdd_38_12 in memory! (computed 107.9 MiB so far)\n",
      "24/12/30 09:23:14 WARN MemoryStore: Not enough space to cache rdd_38_43 in memory! (computed 107.9 MiB so far)\n",
      "24/12/30 09:23:14 WARN MemoryStore: Not enough space to cache rdd_38_27 in memory! (computed 162.4 MiB so far)\n",
      "24/12/30 09:23:14 WARN MemoryStore: Not enough space to cache rdd_38_36 in memory! (computed 107.9 MiB so far)\n",
      "24/12/30 09:23:14 WARN MemoryStore: Not enough space to cache rdd_38_62 in memory! (computed 107.9 MiB so far)\n",
      "24/12/30 09:23:14 WARN MemoryStore: Not enough space to cache rdd_38_55 in memory! (computed 107.9 MiB so far)\n",
      "24/12/30 09:23:14 WARN MemoryStore: Not enough space to cache rdd_38_60 in memory! (computed 162.4 MiB so far)\n",
      "24/12/30 09:23:14 WARN MemoryStore: Not enough space to cache rdd_38_5 in memory! (computed 107.9 MiB so far)\n",
      "24/12/30 09:23:14 WARN MemoryStore: Not enough space to cache rdd_38_40 in memory! (computed 162.4 MiB so far)\n",
      "24/12/30 09:23:14 WARN MemoryStore: Not enough space to cache rdd_38_56 in memory! (computed 107.9 MiB so far)\n",
      "24/12/30 09:23:14 WARN MemoryStore: Not enough space to cache rdd_38_10 in memory! (computed 162.4 MiB so far)\n",
      "24/12/30 09:23:14 WARN MemoryStore: Not enough space to cache rdd_38_26 in memory! (computed 162.4 MiB so far)\n",
      "24/12/30 09:23:14 WARN MemoryStore: Not enough space to cache rdd_38_28 in memory! (computed 162.4 MiB so far)\n",
      "24/12/30 09:23:14 WARN MemoryStore: Not enough space to cache rdd_38_45 in memory! (computed 162.4 MiB so far)\n",
      "24/12/30 09:23:14 WARN MemoryStore: Not enough space to cache rdd_38_14 in memory! (computed 162.4 MiB so far)\n",
      "24/12/30 09:23:14 WARN MemoryStore: Not enough space to cache rdd_38_31 in memory! (computed 162.4 MiB so far)\n",
      "24/12/30 09:24:39 WARN MemoryStore: Not enough space to cache rdd_38_66 in memory! (computed 1310.1 MiB so far)\n",
      "24/12/30 09:24:39 WARN MemoryStore: Not enough space to cache rdd_38_65 in memory! (computed 2020.8 MiB so far)\n",
      "24/12/30 09:24:42 WARN MemoryStore: Not enough space to cache rdd_38_64 in memory! (computed 3.0 GiB so far)\n",
      "24/12/30 09:25:28 WARN MemoryStore: Not enough space to cache rdd_38_60 in memory! (computed 107.9 MiB so far)\n",
      "24/12/30 09:25:28 WARN MemoryStore: Not enough space to cache rdd_38_48 in memory! (computed 107.9 MiB so far)\n",
      "24/12/30 09:25:28 WARN MemoryStore: Not enough space to cache rdd_38_32 in memory! (computed 107.9 MiB so far)\n",
      "24/12/30 09:25:28 WARN MemoryStore: Not enough space to cache rdd_38_22 in memory! (computed 107.9 MiB so far)\n",
      "24/12/30 09:25:28 WARN MemoryStore: Not enough space to cache rdd_38_56 in memory! (computed 107.9 MiB so far)\n",
      "24/12/30 09:25:28 WARN MemoryStore: Not enough space to cache rdd_38_12 in memory! (computed 107.9 MiB so far)\n",
      "24/12/30 09:25:28 WARN MemoryStore: Not enough space to cache rdd_38_15 in memory! (computed 107.9 MiB so far)\n",
      "24/12/30 09:25:28 WARN MemoryStore: Not enough space to cache rdd_38_55 in memory! (computed 107.9 MiB so far)\n",
      "24/12/30 09:25:28 WARN MemoryStore: Not enough space to cache rdd_38_7 in memory! (computed 107.9 MiB so far)\n",
      "24/12/30 09:25:28 WARN MemoryStore: Not enough space to cache rdd_38_46 in memory! (computed 107.9 MiB so far)\n",
      "24/12/30 09:25:28 WARN MemoryStore: Not enough space to cache rdd_38_43 in memory! (computed 107.9 MiB so far)\n",
      "24/12/30 09:25:28 WARN MemoryStore: Not enough space to cache rdd_38_21 in memory! (computed 107.9 MiB so far)\n",
      "24/12/30 09:25:28 WARN MemoryStore: Not enough space to cache rdd_38_29 in memory! (computed 107.9 MiB so far)\n",
      "24/12/30 09:25:28 WARN MemoryStore: Not enough space to cache rdd_38_25 in memory! (computed 107.9 MiB so far)\n",
      "24/12/30 09:25:28 WARN MemoryStore: Not enough space to cache rdd_38_42 in memory! (computed 107.9 MiB so far)\n",
      "24/12/30 09:25:28 WARN MemoryStore: Not enough space to cache rdd_38_34 in memory! (computed 107.9 MiB so far)\n",
      "24/12/30 09:25:28 WARN MemoryStore: Not enough space to cache rdd_38_16 in memory! (computed 107.9 MiB so far)\n",
      "24/12/30 09:25:28 WARN MemoryStore: Not enough space to cache rdd_38_62 in memory! (computed 107.9 MiB so far)\n",
      "24/12/30 09:25:28 WARN MemoryStore: Not enough space to cache rdd_38_3 in memory! (computed 107.9 MiB so far)\n",
      "24/12/30 09:25:28 WARN MemoryStore: Not enough space to cache rdd_38_51 in memory! (computed 107.9 MiB so far)\n",
      "24/12/30 09:25:28 WARN MemoryStore: Not enough space to cache rdd_38_19 in memory! (computed 71.9 MiB so far)\n",
      "24/12/30 09:25:28 WARN MemoryStore: Not enough space to cache rdd_38_9 in memory! (computed 107.9 MiB so far)\n",
      "24/12/30 09:25:28 WARN MemoryStore: Not enough space to cache rdd_38_36 in memory! (computed 107.9 MiB so far)\n",
      "24/12/30 09:25:28 WARN MemoryStore: Not enough space to cache rdd_38_57 in memory! (computed 107.9 MiB so far)\n",
      "24/12/30 09:25:28 WARN MemoryStore: Not enough space to cache rdd_38_38 in memory! (computed 107.9 MiB so far)\n",
      "24/12/30 09:25:28 WARN MemoryStore: Not enough space to cache rdd_38_6 in memory! (computed 107.9 MiB so far)\n",
      "24/12/30 09:25:28 WARN MemoryStore: Not enough space to cache rdd_38_61 in memory! (computed 107.9 MiB so far)\n",
      "24/12/30 09:25:28 WARN MemoryStore: Not enough space to cache rdd_38_5 in memory! (computed 107.9 MiB so far)\n",
      "24/12/30 09:25:28 WARN MemoryStore: Not enough space to cache rdd_38_53 in memory! (computed 107.9 MiB so far)\n",
      "24/12/30 09:25:28 WARN MemoryStore: Not enough space to cache rdd_38_26 in memory! (computed 107.9 MiB so far)\n",
      "24/12/30 09:25:28 WARN MemoryStore: Not enough space to cache rdd_38_24 in memory! (computed 107.9 MiB so far)\n",
      "24/12/30 09:25:28 WARN MemoryStore: Not enough space to cache rdd_38_58 in memory! (computed 107.9 MiB so far)\n",
      "24/12/30 09:25:28 WARN MemoryStore: Not enough space to cache rdd_38_35 in memory! (computed 107.9 MiB so far)\n",
      "24/12/30 09:25:28 WARN MemoryStore: Not enough space to cache rdd_38_23 in memory! (computed 107.9 MiB so far)\n",
      "24/12/30 09:25:28 WARN MemoryStore: Not enough space to cache rdd_38_27 in memory! (computed 107.9 MiB so far)\n",
      "24/12/30 09:25:28 WARN MemoryStore: Not enough space to cache rdd_38_31 in memory! (computed 107.9 MiB so far)\n",
      "24/12/30 09:25:28 WARN MemoryStore: Not enough space to cache rdd_38_52 in memory! (computed 107.9 MiB so far)\n",
      "24/12/30 09:25:28 WARN MemoryStore: Not enough space to cache rdd_38_17 in memory! (computed 107.9 MiB so far)\n",
      "24/12/30 09:25:28 WARN MemoryStore: Not enough space to cache rdd_38_40 in memory! (computed 107.9 MiB so far)\n",
      "24/12/30 09:25:28 WARN MemoryStore: Not enough space to cache rdd_38_13 in memory! (computed 107.9 MiB so far)\n",
      "24/12/30 09:25:28 WARN MemoryStore: Not enough space to cache rdd_38_59 in memory! (computed 107.9 MiB so far)\n",
      "24/12/30 09:25:28 WARN MemoryStore: Not enough space to cache rdd_38_30 in memory! (computed 107.9 MiB so far)\n",
      "24/12/30 09:25:28 WARN MemoryStore: Not enough space to cache rdd_38_28 in memory! (computed 162.4 MiB so far)\n",
      "24/12/30 09:25:28 WARN MemoryStore: Not enough space to cache rdd_38_41 in memory! (computed 107.9 MiB so far)\n",
      "24/12/30 09:25:28 WARN MemoryStore: Not enough space to cache rdd_38_47 in memory! (computed 107.9 MiB so far)\n",
      "24/12/30 09:25:28 WARN MemoryStore: Not enough space to cache rdd_38_54 in memory! (computed 107.9 MiB so far)\n",
      "24/12/30 09:25:28 WARN MemoryStore: Not enough space to cache rdd_38_2 in memory! (computed 107.9 MiB so far)\n",
      "24/12/30 09:25:28 WARN MemoryStore: Not enough space to cache rdd_38_10 in memory! (computed 107.9 MiB so far)\n",
      "24/12/30 09:25:28 WARN MemoryStore: Not enough space to cache rdd_38_63 in memory! (computed 162.4 MiB so far)\n",
      "24/12/30 09:25:28 WARN MemoryStore: Not enough space to cache rdd_38_20 in memory! (computed 107.9 MiB so far)\n",
      "24/12/30 09:25:28 WARN MemoryStore: Not enough space to cache rdd_38_49 in memory! (computed 162.4 MiB so far)\n",
      "24/12/30 09:25:28 WARN MemoryStore: Not enough space to cache rdd_38_45 in memory! (computed 162.4 MiB so far)\n",
      "24/12/30 09:25:29 WARN MemoryStore: Not enough space to cache rdd_38_8 in memory! (computed 162.4 MiB so far)\n",
      "24/12/30 09:25:29 WARN MemoryStore: Not enough space to cache rdd_38_1 in memory! (computed 162.4 MiB so far)\n",
      "24/12/30 09:25:29 WARN MemoryStore: Not enough space to cache rdd_38_18 in memory! (computed 162.4 MiB so far)\n",
      "24/12/30 09:25:29 WARN MemoryStore: Not enough space to cache rdd_38_14 in memory! (computed 162.4 MiB so far)\n",
      "24/12/30 09:25:29 WARN MemoryStore: Not enough space to cache rdd_38_33 in memory! (computed 162.4 MiB so far)\n",
      "24/12/30 09:25:29 WARN MemoryStore: Not enough space to cache rdd_38_37 in memory! (computed 162.4 MiB so far)\n",
      "24/12/30 09:27:15 WARN MemoryStore: Not enough space to cache rdd_38_64 in memory! (computed 2020.8 MiB so far)\n",
      "24/12/30 09:27:15 WARN MemoryStore: Not enough space to cache rdd_38_66 in memory! (computed 2020.8 MiB so far)\n",
      "24/12/30 09:27:15 WARN MemoryStore: Not enough space to cache rdd_38_65 in memory! (computed 2020.8 MiB so far)\n",
      "24/12/30 09:28:06 WARN MemoryStore: Not enough space to cache rdd_38_27 in memory! (computed 107.9 MiB so far)\n",
      "24/12/30 09:28:06 WARN MemoryStore: Not enough space to cache rdd_38_35 in memory! (computed 107.9 MiB so far)\n",
      "24/12/30 09:28:06 WARN MemoryStore: Not enough space to cache rdd_38_22 in memory! (computed 107.9 MiB so far)\n",
      "24/12/30 09:28:06 WARN MemoryStore: Not enough space to cache rdd_38_24 in memory! (computed 107.9 MiB so far)\n",
      "24/12/30 09:28:06 WARN MemoryStore: Not enough space to cache rdd_38_36 in memory! (computed 107.9 MiB so far)\n",
      "24/12/30 09:28:06 WARN MemoryStore: Not enough space to cache rdd_38_7 in memory! (computed 107.9 MiB so far)\n",
      "24/12/30 09:28:06 WARN MemoryStore: Not enough space to cache rdd_38_61 in memory! (computed 107.9 MiB so far)\n",
      "24/12/30 09:28:06 WARN MemoryStore: Not enough space to cache rdd_38_20 in memory! (computed 107.9 MiB so far)\n",
      "24/12/30 09:28:06 WARN MemoryStore: Not enough space to cache rdd_38_56 in memory! (computed 107.9 MiB so far)\n",
      "24/12/30 09:28:06 WARN MemoryStore: Not enough space to cache rdd_38_25 in memory! (computed 107.9 MiB so far)\n",
      "24/12/30 09:28:06 WARN MemoryStore: Not enough space to cache rdd_38_63 in memory! (computed 107.9 MiB so far)\n",
      "24/12/30 09:28:06 WARN MemoryStore: Not enough space to cache rdd_38_6 in memory! (computed 107.9 MiB so far)\n",
      "24/12/30 09:28:06 WARN MemoryStore: Not enough space to cache rdd_38_17 in memory! (computed 107.9 MiB so far)\n",
      "24/12/30 09:28:06 WARN MemoryStore: Not enough space to cache rdd_38_62 in memory! (computed 107.9 MiB so far)\n",
      "24/12/30 09:28:06 WARN MemoryStore: Not enough space to cache rdd_38_23 in memory! (computed 107.9 MiB so far)\n",
      "24/12/30 09:28:06 WARN MemoryStore: Not enough space to cache rdd_38_29 in memory! (computed 107.9 MiB so far)\n",
      "24/12/30 09:28:06 WARN MemoryStore: Not enough space to cache rdd_38_53 in memory! (computed 107.9 MiB so far)\n",
      "24/12/30 09:28:06 WARN MemoryStore: Not enough space to cache rdd_38_48 in memory! (computed 107.9 MiB so far)\n",
      "24/12/30 09:28:06 WARN MemoryStore: Not enough space to cache rdd_38_49 in memory! (computed 107.9 MiB so far)\n",
      "24/12/30 09:28:06 WARN MemoryStore: Not enough space to cache rdd_38_14 in memory! (computed 107.9 MiB so far)\n",
      "24/12/30 09:28:06 WARN MemoryStore: Not enough space to cache rdd_38_21 in memory! (computed 107.9 MiB so far)\n",
      "24/12/30 09:28:06 WARN MemoryStore: Not enough space to cache rdd_38_34 in memory! (computed 107.9 MiB so far)\n",
      "24/12/30 09:28:06 WARN MemoryStore: Not enough space to cache rdd_38_9 in memory! (computed 107.9 MiB so far)\n",
      "24/12/30 09:28:06 WARN MemoryStore: Not enough space to cache rdd_38_46 in memory! (computed 107.9 MiB so far)\n",
      "24/12/30 09:28:06 WARN MemoryStore: Not enough space to cache rdd_38_54 in memory! (computed 107.9 MiB so far)\n",
      "24/12/30 09:28:06 WARN MemoryStore: Not enough space to cache rdd_38_28 in memory! (computed 107.9 MiB so far)\n",
      "24/12/30 09:28:06 WARN MemoryStore: Not enough space to cache rdd_38_10 in memory! (computed 107.9 MiB so far)\n",
      "24/12/30 09:28:06 WARN MemoryStore: Not enough space to cache rdd_38_3 in memory! (computed 107.9 MiB so far)\n",
      "24/12/30 09:28:06 WARN MemoryStore: Not enough space to cache rdd_38_51 in memory! (computed 107.9 MiB so far)\n",
      "24/12/30 09:28:06 WARN MemoryStore: Not enough space to cache rdd_38_32 in memory! (computed 107.9 MiB so far)\n",
      "24/12/30 09:28:06 WARN MemoryStore: Not enough space to cache rdd_38_18 in memory! (computed 107.9 MiB so far)\n",
      "24/12/30 09:28:06 WARN MemoryStore: Not enough space to cache rdd_38_60 in memory! (computed 107.9 MiB so far)\n",
      "24/12/30 09:28:06 WARN MemoryStore: Not enough space to cache rdd_38_30 in memory! (computed 107.9 MiB so far)\n",
      "24/12/30 09:28:06 WARN MemoryStore: Not enough space to cache rdd_38_40 in memory! (computed 107.9 MiB so far)\n",
      "24/12/30 09:28:06 WARN MemoryStore: Not enough space to cache rdd_38_55 in memory! (computed 107.9 MiB so far)\n",
      "24/12/30 09:28:06 WARN MemoryStore: Not enough space to cache rdd_38_2 in memory! (computed 107.9 MiB so far)\n",
      "24/12/30 09:28:06 WARN MemoryStore: Not enough space to cache rdd_38_26 in memory! (computed 107.9 MiB so far)\n",
      "24/12/30 09:28:06 WARN MemoryStore: Not enough space to cache rdd_38_5 in memory! (computed 107.9 MiB so far)\n",
      "24/12/30 09:28:06 WARN MemoryStore: Not enough space to cache rdd_38_31 in memory! (computed 162.4 MiB so far)\n",
      "24/12/30 09:28:06 WARN MemoryStore: Not enough space to cache rdd_38_38 in memory! (computed 107.9 MiB so far)\n",
      "24/12/30 09:28:06 WARN MemoryStore: Not enough space to cache rdd_38_57 in memory! (computed 162.4 MiB so far)\n",
      "24/12/30 09:28:06 WARN MemoryStore: Not enough space to cache rdd_38_13 in memory! (computed 162.4 MiB so far)\n",
      "24/12/30 09:28:06 WARN MemoryStore: Not enough space to cache rdd_38_1 in memory! (computed 162.4 MiB so far)\n",
      "24/12/30 09:28:06 WARN MemoryStore: Not enough space to cache rdd_38_52 in memory! (computed 107.9 MiB so far)\n",
      "24/12/30 09:28:06 WARN MemoryStore: Not enough space to cache rdd_38_43 in memory! (computed 107.9 MiB so far)\n",
      "24/12/30 09:28:06 WARN MemoryStore: Not enough space to cache rdd_38_8 in memory! (computed 107.9 MiB so far)\n",
      "24/12/30 09:28:06 WARN MemoryStore: Not enough space to cache rdd_38_37 in memory! (computed 107.9 MiB so far)\n",
      "24/12/30 09:28:06 WARN MemoryStore: Not enough space to cache rdd_38_42 in memory! (computed 107.9 MiB so far)\n",
      "24/12/30 09:28:06 WARN MemoryStore: Not enough space to cache rdd_38_58 in memory! (computed 107.9 MiB so far)\n",
      "24/12/30 09:28:06 WARN MemoryStore: Not enough space to cache rdd_38_47 in memory! (computed 162.4 MiB so far)\n",
      "24/12/30 09:28:06 WARN MemoryStore: Not enough space to cache rdd_38_12 in memory! (computed 107.9 MiB so far)\n",
      "24/12/30 09:28:06 WARN MemoryStore: Not enough space to cache rdd_38_16 in memory! (computed 162.4 MiB so far)\n",
      "24/12/30 09:28:06 WARN MemoryStore: Not enough space to cache rdd_38_45 in memory! (computed 107.9 MiB so far)\n",
      "24/12/30 09:28:06 WARN MemoryStore: Not enough space to cache rdd_38_33 in memory! (computed 162.4 MiB so far)\n",
      "24/12/30 09:28:06 WARN MemoryStore: Not enough space to cache rdd_38_19 in memory! (computed 162.4 MiB so far)\n",
      "24/12/30 09:28:06 WARN MemoryStore: Not enough space to cache rdd_38_41 in memory! (computed 162.4 MiB so far)\n",
      "24/12/30 09:28:06 WARN MemoryStore: Not enough space to cache rdd_38_15 in memory! (computed 107.9 MiB so far)\n",
      "24/12/30 09:28:06 WARN MemoryStore: Not enough space to cache rdd_38_59 in memory! (computed 107.9 MiB so far)\n",
      "24/12/30 09:30:23 WARN MemoryStore: Not enough space to cache rdd_38_65 in memory! (computed 2020.8 MiB so far)\n",
      "24/12/30 09:30:24 WARN MemoryStore: Not enough space to cache rdd_38_66 in memory! (computed 1310.1 MiB so far)\n",
      "24/12/30 09:31:22 WARN MemoryStore: Not enough space to cache rdd_38_46 in memory! (computed 47.9 MiB so far)\n",
      "24/12/30 09:31:22 WARN MemoryStore: Not enough space to cache rdd_38_29 in memory! (computed 47.9 MiB so far)\n",
      "24/12/30 09:31:22 WARN MemoryStore: Not enough space to cache rdd_38_28 in memory! (computed 47.9 MiB so far)\n",
      "24/12/30 09:31:22 WARN MemoryStore: Not enough space to cache rdd_38_60 in memory! (computed 47.9 MiB so far)\n",
      "24/12/30 09:31:22 WARN MemoryStore: Not enough space to cache rdd_38_7 in memory! (computed 47.9 MiB so far)\n",
      "24/12/30 09:31:22 WARN MemoryStore: Not enough space to cache rdd_38_6 in memory! (computed 47.9 MiB so far)\n",
      "24/12/30 09:31:22 WARN MemoryStore: Not enough space to cache rdd_38_14 in memory! (computed 47.9 MiB so far)\n",
      "24/12/30 09:31:22 WARN MemoryStore: Not enough space to cache rdd_38_37 in memory! (computed 47.9 MiB so far)\n",
      "24/12/30 09:31:22 WARN MemoryStore: Not enough space to cache rdd_38_58 in memory! (computed 47.9 MiB so far)\n",
      "24/12/30 09:31:22 WARN MemoryStore: Not enough space to cache rdd_38_19 in memory! (computed 47.9 MiB so far)\n",
      "24/12/30 09:31:22 WARN MemoryStore: Not enough space to cache rdd_38_10 in memory! (computed 47.9 MiB so far)\n",
      "24/12/30 09:31:22 WARN MemoryStore: Not enough space to cache rdd_38_48 in memory! (computed 47.9 MiB so far)\n",
      "24/12/30 09:31:22 WARN MemoryStore: Not enough space to cache rdd_38_22 in memory! (computed 47.9 MiB so far)\n",
      "24/12/30 09:31:22 WARN MemoryStore: Not enough space to cache rdd_38_42 in memory! (computed 47.9 MiB so far)\n",
      "24/12/30 09:31:22 WARN MemoryStore: Not enough space to cache rdd_38_3 in memory! (computed 47.9 MiB so far)\n",
      "24/12/30 09:31:22 WARN MemoryStore: Not enough space to cache rdd_38_61 in memory! (computed 47.9 MiB so far)\n",
      "24/12/30 09:31:22 WARN MemoryStore: Not enough space to cache rdd_38_40 in memory! (computed 47.9 MiB so far)\n",
      "24/12/30 09:31:22 WARN MemoryStore: Not enough space to cache rdd_38_59 in memory! (computed 47.9 MiB so far)\n",
      "24/12/30 09:31:22 WARN MemoryStore: Not enough space to cache rdd_38_30 in memory! (computed 47.9 MiB so far)\n",
      "24/12/30 09:31:22 WARN MemoryStore: Not enough space to cache rdd_38_32 in memory! (computed 47.9 MiB so far)\n",
      "24/12/30 09:31:22 WARN MemoryStore: Not enough space to cache rdd_38_25 in memory! (computed 47.9 MiB so far)\n",
      "24/12/30 09:31:22 WARN MemoryStore: Not enough space to cache rdd_38_18 in memory! (computed 71.9 MiB so far)\n",
      "24/12/30 09:31:22 WARN MemoryStore: Not enough space to cache rdd_38_15 in memory! (computed 47.9 MiB so far)\n",
      "24/12/30 09:31:22 WARN MemoryStore: Not enough space to cache rdd_38_17 in memory! (computed 71.9 MiB so far)\n",
      "24/12/30 09:31:22 WARN MemoryStore: Not enough space to cache rdd_38_56 in memory! (computed 71.9 MiB so far)\n",
      "24/12/30 09:31:22 WARN MemoryStore: Not enough space to cache rdd_38_26 in memory! (computed 47.9 MiB so far)\n",
      "24/12/30 09:31:22 WARN MemoryStore: Not enough space to cache rdd_38_47 in memory! (computed 71.9 MiB so far)\n",
      "24/12/30 09:31:22 WARN MemoryStore: Not enough space to cache rdd_38_53 in memory! (computed 47.9 MiB so far)\n",
      "24/12/30 09:31:22 WARN MemoryStore: Not enough space to cache rdd_38_24 in memory! (computed 71.9 MiB so far)\n",
      "24/12/30 09:31:22 WARN MemoryStore: Not enough space to cache rdd_38_52 in memory! (computed 71.9 MiB so far)\n",
      "24/12/30 09:31:22 WARN MemoryStore: Not enough space to cache rdd_38_23 in memory! (computed 71.9 MiB so far)\n",
      "24/12/30 09:31:22 WARN MemoryStore: Not enough space to cache rdd_38_34 in memory! (computed 71.9 MiB so far)\n",
      "24/12/30 09:31:22 WARN MemoryStore: Not enough space to cache rdd_38_20 in memory! (computed 71.9 MiB so far)\n",
      "24/12/30 09:31:22 WARN MemoryStore: Not enough space to cache rdd_38_41 in memory! (computed 71.9 MiB so far)\n",
      "24/12/30 09:31:22 WARN MemoryStore: Not enough space to cache rdd_38_8 in memory! (computed 71.9 MiB so far)\n",
      "24/12/30 09:31:22 WARN MemoryStore: Not enough space to cache rdd_38_62 in memory! (computed 71.9 MiB so far)\n",
      "24/12/30 09:31:22 WARN MemoryStore: Not enough space to cache rdd_38_54 in memory! (computed 71.9 MiB so far)\n",
      "24/12/30 09:31:22 WARN MemoryStore: Not enough space to cache rdd_38_5 in memory! (computed 71.9 MiB so far)\n",
      "24/12/30 09:31:22 WARN MemoryStore: Not enough space to cache rdd_38_36 in memory! (computed 71.9 MiB so far)\n",
      "24/12/30 09:31:22 WARN MemoryStore: Not enough space to cache rdd_38_49 in memory! (computed 71.9 MiB so far)\n",
      "24/12/30 09:31:22 WARN MemoryStore: Not enough space to cache rdd_38_51 in memory! (computed 71.9 MiB so far)\n",
      "24/12/30 09:31:22 WARN MemoryStore: Not enough space to cache rdd_38_27 in memory! (computed 71.9 MiB so far)\n",
      "24/12/30 09:31:22 WARN MemoryStore: Not enough space to cache rdd_38_2 in memory! (computed 71.9 MiB so far)\n",
      "24/12/30 09:31:22 WARN MemoryStore: Not enough space to cache rdd_38_55 in memory! (computed 71.9 MiB so far)\n",
      "24/12/30 09:31:22 WARN MemoryStore: Not enough space to cache rdd_38_16 in memory! (computed 71.9 MiB so far)\n",
      "24/12/30 09:31:22 WARN MemoryStore: Not enough space to cache rdd_38_33 in memory! (computed 71.9 MiB so far)\n",
      "24/12/30 09:31:22 WARN MemoryStore: Not enough space to cache rdd_38_38 in memory! (computed 71.9 MiB so far)\n",
      "24/12/30 09:31:22 WARN MemoryStore: Not enough space to cache rdd_38_63 in memory! (computed 71.9 MiB so far)\n",
      "24/12/30 09:31:22 WARN MemoryStore: Not enough space to cache rdd_38_1 in memory! (computed 71.9 MiB so far)\n",
      "24/12/30 09:31:22 WARN MemoryStore: Not enough space to cache rdd_38_12 in memory! (computed 71.9 MiB so far)\n",
      "24/12/30 09:31:22 WARN MemoryStore: Not enough space to cache rdd_38_31 in memory! (computed 71.9 MiB so far)\n",
      "24/12/30 09:31:22 WARN MemoryStore: Not enough space to cache rdd_38_13 in memory! (computed 71.9 MiB so far)\n",
      "24/12/30 09:31:22 WARN MemoryStore: Not enough space to cache rdd_38_45 in memory! (computed 71.9 MiB so far)\n",
      "24/12/30 09:31:22 WARN MemoryStore: Not enough space to cache rdd_38_21 in memory! (computed 71.9 MiB so far)\n",
      "24/12/30 09:31:22 WARN MemoryStore: Not enough space to cache rdd_38_9 in memory! (computed 71.9 MiB so far)\n",
      "24/12/30 09:31:22 WARN MemoryStore: Not enough space to cache rdd_38_35 in memory! (computed 71.9 MiB so far)\n",
      "24/12/30 09:31:22 WARN MemoryStore: Not enough space to cache rdd_38_57 in memory! (computed 71.9 MiB so far)\n",
      "24/12/30 09:31:22 WARN MemoryStore: Not enough space to cache rdd_38_43 in memory! (computed 71.9 MiB so far)\n",
      "24/12/30 09:33:50 WARN MemoryStore: Not enough space to cache rdd_38_65 in memory! (computed 2020.8 MiB so far)\n",
      "24/12/30 09:33:52 WARN MemoryStore: Not enough space to cache rdd_38_66 in memory! (computed 1310.1 MiB so far)\n",
      "[Stage 27:>                                                         (0 + 1) / 1]"
     ]
    },
    {
     "name": "stdout",
     "output_type": "stream",
     "text": [
      "+---------+-----+----------+-----------------------------------------+\n",
      "|id       |binds|prediction|probability                              |\n",
      "+---------+-----+----------+-----------------------------------------+\n",
      "|193986560|0    |0.0       |[0.9946306076488763,0.005369392351123681]|\n",
      "|193986561|0    |0.0       |[0.9946306076488763,0.005369392351123681]|\n",
      "|193986562|0    |0.0       |[0.9946306076488763,0.005369392351123681]|\n",
      "|193986563|0    |0.0       |[0.9946306076488763,0.005369392351123681]|\n",
      "|193986564|0    |0.0       |[0.9946306076488763,0.005369392351123681]|\n",
      "|193986565|0    |0.0       |[0.9946306076488763,0.005369392351123681]|\n",
      "|193986566|0    |0.0       |[0.9946306076488763,0.005369392351123681]|\n",
      "|193986567|0    |0.0       |[0.9946306076488763,0.005369392351123681]|\n",
      "|193986568|0    |0.0       |[0.9946306076488763,0.005369392351123681]|\n",
      "|193986569|0    |0.0       |[0.9946306076488763,0.005369392351123681]|\n",
      "|193986570|0    |0.0       |[0.9946306076488763,0.005369392351123681]|\n",
      "|193986571|0    |0.0       |[0.9946306076488763,0.005369392351123681]|\n",
      "|193986572|0    |0.0       |[0.9946306076488763,0.005369392351123681]|\n",
      "|193986573|0    |0.0       |[0.9946306076488763,0.005369392351123681]|\n",
      "|193986574|0    |0.0       |[0.9946306076488763,0.005369392351123681]|\n",
      "|193986575|0    |0.0       |[0.9946306076488763,0.005369392351123681]|\n",
      "|193986576|0    |0.0       |[0.9946306076488763,0.005369392351123681]|\n",
      "|193986577|0    |0.0       |[0.9946306076488763,0.005369392351123681]|\n",
      "|193986578|0    |0.0       |[0.9946306076488763,0.005369392351123681]|\n",
      "|193986579|0    |0.0       |[0.9946306076488763,0.005369392351123681]|\n",
      "+---------+-----+----------+-----------------------------------------+\n",
      "only showing top 20 rows\n",
      "\n"
     ]
    },
    {
     "name": "stderr",
     "output_type": "stream",
     "text": [
      "                                                                                "
     ]
    }
   ],
   "source": [
    "from pyspark.ml.classification import RandomForestClassifier\n",
    "\n",
    "rf_model = RandomForestClassifier(featuresCol=\"vectors\", labelCol=\"binds\", numTrees=100, probabilityCol=\"probability\")\n",
    "rf_model = rf_model.fit(full_df_vectors)\n",
    "rf_model.save(\"rf_model\")\n",
    "\n",
    "predictions = rf_model.transform(full_df_vectors)\n",
    "\n",
    "predictions.select(\"id\", \"binds\", \"prediction\", \"probability\").show(truncate=False)"
   ]
  },
  {
   "cell_type": "code",
   "execution_count": null,
   "id": "e7caef4b-d439-4e03-b844-949e98200e1e",
   "metadata": {
    "scrolled": true
   },
   "outputs": [],
   "source": [
    "from pyspark.ml.classification import GBTClassifier\n",
    "from pyspark.ml.tuning import ParamGridBuilder, CrossValidator\n",
    "from pyspark.ml.evaluation import BinaryClassificationEvaluator\n",
    "\n",
    "# Define the classifier\n",
    "gbt = GBTClassifier(featuresCol=\"vectors\", labelCol=\"binds\")\n",
    "\n",
    "# Define the parameter grid with higher maxIter values\n",
    "paramGrid = (ParamGridBuilder()\n",
    "             .addGrid(gbt.maxDepth, [3, 5, 7])\n",
    "             .addGrid(gbt.maxIter, [50, 100, 200])  # Higher values for maxIter\n",
    "             .addGrid(gbt.stepSize, [0.05, 0.1, 0.2])\n",
    "             .build())\n",
    "\n",
    "# Define the evaluator using PR curve\n",
    "evaluator = BinaryClassificationEvaluator(labelCol=\"binds\", metricName=\"areaUnderPR\")\n",
    "\n",
    "# Define the CrossValidator\n",
    "cv = CrossValidator(estimator=gbt,\n",
    "                    estimatorParamMaps=paramGrid,\n",
    "                    evaluator=evaluator,\n",
    "                    numFolds=5)  # 3-fold cross-validation\n",
    "\n",
    "# Fit the CrossValidator\n",
    "cv_model = cv.fit(full_df_vectors)\n",
    "\n",
    "# Get the best model\n",
    "best_model = cv_model.bestModel\n",
    "\n",
    "\n",
    "# Save the best model\n",
    "best_model.selectave(\"best_gbt_model\")\n",
    "\n",
    "# Make predictions\n",
    "predictions = best_model.transform(full_df_vectors)\n",
    "\n",
    "# Show predictions\n",
    "predictions.select(\"id\", \"binds\", \"prediction\", \"probability\").show(truncate=False)\n"
   ]
  },
  {
   "cell_type": "code",
   "execution_count": null,
   "id": "84b43bda-dba1-4ee0-ba76-6e5c80f3986c",
   "metadata": {
    "scrolled": true
   },
   "outputs": [],
   "source": [
    "from pyspark.ml.classification import GBTClassifier\n",
    "\n",
    "gbt_model = GBTClassifier(\n",
    "    featuresCol=\"vectors\", \n",
    "    labelCol=\"binds\", \n",
    "    maxMemoryInMB=int(1024*3),\n",
    "    cacheNodeIds=True,\n",
    "    maxIter=100,\n",
    "    weightCol=\"sample_weights\",\n",
    "    minInstancesPerNode=int(450000)\n",
    ")\n",
    "\n",
    "gbt_model = gbt_model.fit(full_df_vectors)\n",
    "gbt_model.save(\"gbt_model\")\n",
    "\n",
    "predictions = gbt_model.transform(full_df_vectors)\n",
    "\n",
    "predictions.select(\"id\", \"binds\", \"prediction\", \"probability\").show(truncate=False)"
   ]
  },
  {
   "cell_type": "code",
   "execution_count": null,
   "id": "e3daff05-08a4-4970-8d25-580787fcdd57",
   "metadata": {},
   "outputs": [],
   "source": [
    "predictions.show()"
   ]
  },
  {
   "cell_type": "markdown",
   "id": "d2c93d6e",
   "metadata": {},
   "source": [
    "/////////////////////////////////////////////////////////////////////////////////////"
   ]
  },
  {
   "cell_type": "markdown",
   "id": "611607a0",
   "metadata": {},
   "source": [
    "## GBT Classifier"
   ]
  },
  {
   "cell_type": "code",
   "execution_count": null,
   "id": "e8fd3165-70ba-4aad-8af3-0d47bd9b7a97",
   "metadata": {},
   "outputs": [],
   "source": [
    "from pyspark.ml.classification import GBTClassifier\n",
    "\n",
    "gbt_model = GBTClassifier(\n",
    "    featuresCol=\"vectors\", \n",
    "    labelCol=\"binds\", \n",
    "    maxMemoryInMB=int(1024*3),\n",
    "    cacheNodeIds=True,\n",
    "    maxIter=500\n",
    "    # weightCol=\"sample_weights\",\n",
    "    # minInstancesPerNode=int(450000)\n",
    ").setProbabilityCol('probability')\n",
    "\n",
    "gbt_model = gbt_model.fit(df_vectors)"
   ]
  },
  {
   "cell_type": "code",
   "execution_count": null,
   "id": "422bde65-5d54-46fa-ae0f-7ad18b093d3e",
   "metadata": {},
   "outputs": [],
   "source": [
    "gbt_model.save(\"gbt_model6\")\n",
    "\n",
    "predictions = gbt_model.transform(df_vectors)\n",
    "full_predictions = gbt_model.transform(full_feat_tok_df_vectors)\n",
    "\n",
    "predictions.select(\"id\", \"binds\", \"prediction\", \"probability\").show(truncate=False)"
   ]
  },
  {
   "cell_type": "code",
   "execution_count": 8,
   "id": "05e777eb-52fd-4908-a1a0-54f04c65cb93",
   "metadata": {},
   "outputs": [
    {
     "name": "stdout",
     "output_type": "stream",
     "text": [
      "+----+-----+----------+----------------------------------------+\n",
      "|id  |binds|prediction|probability                             |\n",
      "+----+-----+----------+----------------------------------------+\n",
      "|39  |0    |0.0       |[0.8477757783732623,0.15222422162673765]|\n",
      "|98  |0    |0.0       |[0.8700648978133694,0.12993510218663062]|\n",
      "|187 |0    |0.0       |[0.9434702478690092,0.05652975213099076]|\n",
      "|496 |0    |0.0       |[0.8563478475828599,0.14365215241714013]|\n",
      "|561 |0    |0.0       |[0.8145391526805389,0.1854608473194611] |\n",
      "|845 |0    |0.0       |[0.8075347851569995,0.1924652148430005] |\n",
      "|1297|0    |0.0       |[0.8675385556403445,0.13246144435965546]|\n",
      "|1733|0    |0.0       |[0.7745868077210596,0.2254131922789404] |\n",
      "|1918|0    |0.0       |[0.8691851612081525,0.13081483879184752]|\n",
      "|2451|0    |0.0       |[0.8253939852714554,0.17460601472854465]|\n",
      "|2639|0    |0.0       |[0.9008653078113289,0.0991346921886711] |\n",
      "|2745|0    |0.0       |[0.8398572905604071,0.16014270943959286]|\n",
      "|2806|0    |0.0       |[0.876982893725231,0.12301710627476903] |\n",
      "|2832|0    |0.0       |[0.8650520619044457,0.13494793809555428]|\n",
      "|3322|0    |0.0       |[0.7780815426140572,0.22191845738594285]|\n",
      "|3751|0    |0.0       |[0.9512308404085694,0.04876915959143058]|\n",
      "|3974|0    |0.0       |[0.8289974582172231,0.17100254178277685]|\n",
      "|4188|0    |0.0       |[0.7648745080837115,0.2351254919162885] |\n",
      "|4296|0    |0.0       |[0.7990937200713185,0.20090627992868149]|\n",
      "|4733|0    |0.0       |[0.9290438999762008,0.07095610002379915]|\n",
      "+----+-----+----------+----------------------------------------+\n",
      "only showing top 20 rows\n",
      "\n"
     ]
    }
   ],
   "source": [
    "full_predictions.select(\"id\", \"binds\", \"prediction\", \"probability\").show(truncate=False)"
   ]
  },
  {
   "cell_type": "code",
   "execution_count": 21,
   "id": "b20b3c46",
   "metadata": {},
   "outputs": [
    {
     "name": "stderr",
     "output_type": "stream",
     "text": [
      "[Stage 1086:>                                                       (0 + 1) / 1]\r"
     ]
    },
    {
     "name": "stdout",
     "output_type": "stream",
     "text": [
      "+------+--------------------+-----+--------------------+--------------------+----------+----------------------+\n",
      "|    id|             vectors|binds|       rawPrediction|         probability|prediction|probability_of_class_1|\n",
      "+------+--------------------+-----+--------------------+--------------------+----------+----------------------+\n",
      "| 25160|(190,[0,1,2,3,4,5...|    1|[-1.4883805354393...|[0.04848684118280...|       1.0|    0.9515131588171953|\n",
      "| 48001|(190,[0,1,2,3,4,5...|    0|[1.31129866424674...|[0.93230182134306...|       0.0|   0.06769817865693717|\n",
      "| 58144|(190,[0,1,2,3,4,5...|    0|[0.38782458996920...|[0.68474165593869...|       0.0|   0.31525834406130615|\n",
      "|148672|(190,[0,1,2,3,4,5...|    1|[0.51863751912868...|[0.73832388077091...|       0.0|    0.2616761192290853|\n",
      "|233007|(190,[0,1,2,3,4,5...|    0|[0.70689524273148...|[0.80436311438802...|       0.0|   0.19563688561197012|\n",
      "|234967|(190,[0,1,2,3,4,5...|    0|[0.82760263799361...|[0.83959331793844...|       0.0|   0.16040668206155229|\n",
      "|273952|(190,[0,1,2,3,4,5...|    0|[0.84498024289866...|[0.84421896330353...|       0.0|    0.1557810366964656|\n",
      "|320887|(190,[0,1,2,3,4,5...|    0|[0.93131033582506...|[0.86560211634100...|       0.0|   0.13439788365899175|\n",
      "|330585|(190,[0,1,2,3,4,5...|    0|[0.89325279993736...|[0.85649831828318...|       0.0|   0.14350168171681743|\n",
      "|330737|(190,[0,1,2,3,4,5...|    0|[1.08167365073382...|[0.89690946112750...|       0.0|   0.10309053887249486|\n",
      "|359870|(190,[0,1,2,3,4,5...|    0|[0.90723556340307...|[0.85990138261906...|       0.0|   0.14009861738093776|\n",
      "|412850|(190,[0,1,2,3,4,5...|    0|[1.21208482141983...|[0.91865188886860...|       0.0|   0.08134811113139528|\n",
      "|433891|(190,[0,1,2,3,4,5...|    1|[0.59164192297216...|[0.76553773420599...|       0.0|    0.2344622657940092|\n",
      "|465382|(190,[0,1,2,3,4,5...|    1|[0.23416615252249...|[0.61498895948392...|       0.0|    0.3850110405160704|\n",
      "|468070|(190,[0,1,2,3,4,5...|    0|[1.42210985572096...|[0.94501912206678...|       0.0|   0.05498087793321815|\n",
      "|504397|(190,[0,1,2,3,4,5...|    0|[0.10801001621587...|[0.55379597308848...|       0.0|    0.4462040269115163|\n",
      "|510409|(190,[0,1,2,3,4,5...|    1|[-0.9045508451419...|[0.14074672963904...|       1.0|    0.8592532703609552|\n",
      "|510880|(190,[0,1,2,3,4,5...|    1|[-1.1240998917332...|[0.09550486103452...|       1.0|    0.9044951389654768|\n",
      "|511051|(190,[0,1,2,3,4,5...|    1|[-1.1419993267165...|[0.09245688445216...|       1.0|    0.9075431155478328|\n",
      "|560671|(190,[0,1,2,3,4,5...|    0|[1.09381224505593...|[0.89913266822675...|       0.0|   0.10086733177324225|\n",
      "+------+--------------------+-----+--------------------+--------------------+----------+----------------------+\n",
      "only showing top 20 rows\n",
      "\n"
     ]
    },
    {
     "name": "stderr",
     "output_type": "stream",
     "text": [
      "                                                                                \r"
     ]
    }
   ],
   "source": [
    "from pyspark.sql.functions import col, udf\n",
    "from pyspark.sql.types import DoubleType\n",
    "\n",
    "\n",
    "def get_class_1_probability(probability):\n",
    "    return float(probability[1])\n",
    "\n",
    "get_class_1_probability_udf = udf(get_class_1_probability, DoubleType())\n",
    "\n",
    "predictions = predictions.withColumn(\"probability_of_class_1\", get_class_1_probability_udf(col(\"probability\")))"
   ]
  },
  {
   "cell_type": "code",
   "execution_count": 24,
   "id": "6dab342a",
   "metadata": {},
   "outputs": [
    {
     "name": "stdout",
     "output_type": "stream",
     "text": [
      "+----+--------------------+-----+--------------------+--------------------+----------+\n",
      "|  id|             vectors|binds|       rawPrediction|         probability|prediction|\n",
      "+----+--------------------+-----+--------------------+--------------------+----------+\n",
      "|  39|(190,[0,1,2,3,4,5...|    0|[0.85863080617962...|[0.84777577837326...|       0.0|\n",
      "|  98|(190,[0,1,2,3,4,5...|    0|[0.95076634609825...|[0.87006489781336...|       0.0|\n",
      "| 187|(190,[0,1,2,3,4,5...|    0|[1.40739887228880...|[0.94347024786900...|       0.0|\n",
      "| 496|(190,[0,1,2,3,4,5...|    0|[0.89264094426188...|[0.85634784758285...|       0.0|\n",
      "| 561|(190,[0,1,2,3,4,5...|    0|[0.73988935118472...|[0.81453915268053...|       0.0|\n",
      "| 845|(190,[0,1,2,3,4,5...|    0|[0.71703534823892...|[0.80753478515699...|       0.0|\n",
      "|1297|(190,[0,1,2,3,4,5...|    0|[0.93968416912939...|[0.86753855564034...|       0.0|\n",
      "|1733|(190,[0,1,2,3,4,5...|    0|[0.61719730382824...|[0.77458680772105...|       0.0|\n",
      "|1918|(190,[0,1,2,3,4,5...|    0|[0.94688664872319...|[0.86918516120815...|       0.0|\n",
      "|2451|(190,[0,1,2,3,4,5...|    0|[0.77666436940786...|[0.82539398527145...|       0.0|\n",
      "|2639|(190,[0,1,2,3,4,5...|    0|[1.10343815096679...|[0.90086530781132...|       0.0|\n",
      "|2745|(190,[0,1,2,3,4,5...|    0|[0.82858331675976...|[0.83985729056040...|       0.0|\n",
      "|2806|(190,[0,1,2,3,4,5...|    0|[0.98208203281527...|[0.87698289372523...|       0.0|\n",
      "|2832|(190,[0,1,2,3,4,5...|    0|[0.92895031598567...|[0.86505206190444...|       0.0|\n",
      "|3322|(190,[0,1,2,3,4,5...|    0|[0.62726066195930...|[0.77808154261405...|       0.0|\n",
      "|3751|(190,[0,1,2,3,4,5...|    0|[1.48532931499555...|[0.95123084040856...|       0.0|\n",
      "|3974|(190,[0,1,2,3,4,5...|    0|[0.78926933421433...|[0.82899745821722...|       0.0|\n",
      "|4188|(190,[0,1,2,3,4,5...|    0|[0.58979619944130...|[0.76487450808371...|       0.0|\n",
      "|4296|(190,[0,1,2,3,4,5...|    0|[0.69031985264362...|[0.79909372007131...|       0.0|\n",
      "|4733|(190,[0,1,2,3,4,5...|    0|[1.28604730824978...|[0.92904389997620...|       0.0|\n",
      "+----+--------------------+-----+--------------------+--------------------+----------+\n",
      "only showing top 20 rows\n",
      "\n"
     ]
    }
   ],
   "source": [
    "full_predictions.show()"
   ]
  },
  {
   "cell_type": "code",
   "execution_count": null,
   "id": "6a68ff73-3937-4def-8b9e-954814217046",
   "metadata": {},
   "outputs": [],
   "source": [
    "# Calculate PR AUC (Area Under Precision-Recall Curve)\n",
    "pr_auc_evaluator = BinaryClassificationEvaluator(labelCol=\"binds\", rawPredictionCol=\"rawPrediction\", \n",
    "                                                 metricName=\"areaUnderPR\")\n",
    "pr_auc = pr_auc_evaluator.evaluate(predictions)\n",
    "print(f\"PR AUC (approx MAP): {pr_auc}\")\n",
    "\n",
    "pr_auc = pr_auc_evaluator.evaluate(full_predictions)\n",
    "print(f\"PR AUC (approx MAP): {pr_auc}\")"
   ]
  },
  {
   "cell_type": "code",
   "execution_count": null,
   "id": "609cf7b5-2ffc-4e69-991a-a8fdb371252b",
   "metadata": {},
   "outputs": [],
   "source": [
    "TP = full_predictions.filter((col(\"binds\") == 1) & (col(\"prediction\") == 1)).count()\n",
    "FP = full_predictions.filter((col(\"binds\") == 0) & (col(\"prediction\") == 1)).count()\n",
    "TN = full_predictions.filter((col(\"binds\") == 0) & (col(\"prediction\") == 0)).count()\n",
    "FN = full_predictions.filter((col(\"binds\") == 1) & (col(\"prediction\") == 0)).count()\n",
    "\n",
    "import seaborn as sns\n",
    "import matplotlib.pyplot as plt\n",
    "\n",
    "print(TP, FP, TN, FN)\n",
    "confusion_matrix = [\n",
    "    [TN, FP],\n",
    "    [FN, TP]\n",
    "]\n",
    "\n",
    "plt.figure(figsize=(5, 3))\n",
    "sns.heatmap(confusion_matrix, annot=True, fmt=\"d\", cmap=\"Blues\", \n",
    "            xticklabels=[\"Class 0\", \"Class 1\"], yticklabels=[\"Class 0\", \"Class 1\"])\n",
    "\n",
    "plt.xlabel('Predicted Labels')\n",
    "plt.ylabel('True Labels')\n",
    "plt.title('Confusion Matrix')\n",
    "plt.show()"
   ]
  },
  {
   "cell_type": "code",
   "execution_count": 25,
   "id": "0dc9a7ae-25fc-4b03-a019-9a8236790e77",
   "metadata": {},
   "outputs": [
    {
     "data": {
      "text/plain": [
       "(0.04537597568746185, 0.8295679115620672)"
      ]
     },
     "execution_count": 25,
     "metadata": {},
     "output_type": "execute_result"
    }
   ],
   "source": [
    "# Calculate Precision and Recall\n",
    "precision = TP / (TP + FP) if (TP + FP) > 0 else 0  # Precision = TP / (TP + FP)\n",
    "recall = TP / (TP + FN) if (TP + FN) > 0 else 0      # Recall = TP / (TP + FN)\n",
    "\n",
    "precision, recall"
   ]
  },
  {
   "cell_type": "markdown",
   "id": "094307c5",
   "metadata": {},
   "source": [
    "# Spark XGB Classifier"
   ]
  },
  {
   "cell_type": "code",
   "execution_count": 3,
   "id": "1911a127-65ad-4753-8a2d-5deba1ef9b47",
   "metadata": {},
   "outputs": [
    {
     "name": "stderr",
     "output_type": "stream",
     "text": [
      "                                                                                \r"
     ]
    },
    {
     "name": "stdout",
     "output_type": "stream",
     "text": [
      "295246830\n",
      "+----+--------------------+-----+\n",
      "|  id|             vectors|binds|\n",
      "+----+--------------------+-----+\n",
      "|  39|(190,[0,1,2,3,4,5...|    0|\n",
      "|  98|(190,[0,1,2,3,4,5...|    0|\n",
      "| 187|(190,[0,1,2,3,4,5...|    0|\n",
      "| 496|(190,[0,1,2,3,4,5...|    0|\n",
      "| 561|(190,[0,1,2,3,4,5...|    0|\n",
      "| 845|(190,[0,1,2,3,4,5...|    0|\n",
      "|1297|(190,[0,1,2,3,4,5...|    0|\n",
      "|1733|(190,[0,1,2,3,4,5...|    0|\n",
      "|1918|(190,[0,1,2,3,4,5...|    0|\n",
      "|2451|(190,[0,1,2,3,4,5...|    0|\n",
      "|2639|(190,[0,1,2,3,4,5...|    0|\n",
      "|2745|(190,[0,1,2,3,4,5...|    0|\n",
      "|2806|(190,[0,1,2,3,4,5...|    0|\n",
      "|2832|(190,[0,1,2,3,4,5...|    0|\n",
      "|3322|(190,[0,1,2,3,4,5...|    0|\n",
      "|3751|(190,[0,1,2,3,4,5...|    0|\n",
      "|3974|(190,[0,1,2,3,4,5...|    0|\n",
      "|4188|(190,[0,1,2,3,4,5...|    0|\n",
      "|4296|(190,[0,1,2,3,4,5...|    0|\n",
      "|4733|(190,[0,1,2,3,4,5...|    0|\n",
      "+----+--------------------+-----+\n",
      "only showing top 20 rows\n",
      "\n"
     ]
    }
   ],
   "source": [
    "full_feat_tok_df_vectors = spark.read.format('parquet').load('full_feat_tok_df_vectors.parquet')\n",
    "print(full_feat_tok_df_vectors.count())\n",
    "full_feat_tok_df_vectors.show()"
   ]
  },
  {
   "cell_type": "code",
   "execution_count": 4,
   "id": "498ac85a",
   "metadata": {},
   "outputs": [
    {
     "name": "stderr",
     "output_type": "stream",
     "text": [
      "[Stage 5:====================================================> (450 + 17) / 467]\r"
     ]
    },
    {
     "name": "stdout",
     "output_type": "stream",
     "text": [
      "[Row(binds=0, count=293656924), Row(binds=1, count=1589906)] 295246830 {0: 1.005414161458696, 1: 185.70080872705682}\n"
     ]
    },
    {
     "name": "stderr",
     "output_type": "stream",
     "text": [
      "                                                                                \r"
     ]
    }
   ],
   "source": [
    "class_counts = full_feat_tok_df_vectors.groupBy(\"binds\").count().collect()\n",
    "total_count = sum(row[\"count\"] for row in class_counts)\n",
    "class_weights = {row[\"binds\"]: total_count / row[\"count\"] for row in class_counts}\n",
    "print(class_counts, total_count, class_weights)"
   ]
  },
  {
   "cell_type": "code",
   "execution_count": 5,
   "id": "06553d20",
   "metadata": {},
   "outputs": [
    {
     "name": "stdout",
     "output_type": "stream",
     "text": [
      "+----+--------------------+-----+-----------------+\n",
      "|  id|             vectors|binds|   sample_weights|\n",
      "+----+--------------------+-----+-----------------+\n",
      "|  39|(190,[0,1,2,3,4,5...|    0|1.005414161458696|\n",
      "|  98|(190,[0,1,2,3,4,5...|    0|1.005414161458696|\n",
      "| 187|(190,[0,1,2,3,4,5...|    0|1.005414161458696|\n",
      "| 496|(190,[0,1,2,3,4,5...|    0|1.005414161458696|\n",
      "| 561|(190,[0,1,2,3,4,5...|    0|1.005414161458696|\n",
      "| 845|(190,[0,1,2,3,4,5...|    0|1.005414161458696|\n",
      "|1297|(190,[0,1,2,3,4,5...|    0|1.005414161458696|\n",
      "|1733|(190,[0,1,2,3,4,5...|    0|1.005414161458696|\n",
      "|1918|(190,[0,1,2,3,4,5...|    0|1.005414161458696|\n",
      "|2451|(190,[0,1,2,3,4,5...|    0|1.005414161458696|\n",
      "|2639|(190,[0,1,2,3,4,5...|    0|1.005414161458696|\n",
      "|2745|(190,[0,1,2,3,4,5...|    0|1.005414161458696|\n",
      "|2806|(190,[0,1,2,3,4,5...|    0|1.005414161458696|\n",
      "|2832|(190,[0,1,2,3,4,5...|    0|1.005414161458696|\n",
      "|3322|(190,[0,1,2,3,4,5...|    0|1.005414161458696|\n",
      "|3751|(190,[0,1,2,3,4,5...|    0|1.005414161458696|\n",
      "|3974|(190,[0,1,2,3,4,5...|    0|1.005414161458696|\n",
      "|4188|(190,[0,1,2,3,4,5...|    0|1.005414161458696|\n",
      "|4296|(190,[0,1,2,3,4,5...|    0|1.005414161458696|\n",
      "|4733|(190,[0,1,2,3,4,5...|    0|1.005414161458696|\n",
      "+----+--------------------+-----+-----------------+\n",
      "only showing top 20 rows\n",
      "\n"
     ]
    }
   ],
   "source": [
    "full_feat_tok_df_vectors = full_feat_tok_df_vectors.withColumn(\n",
    "    \"sample_weights\",\n",
    "    when(col(\"binds\") == 0, class_weights[0])\n",
    "    .when(col(\"binds\") == 1, class_weights[1])\n",
    ")\n",
    "full_feat_tok_df_vectors.show()"
   ]
  },
  {
   "cell_type": "code",
   "execution_count": 27,
   "id": "c74489b7-e734-4bd5-8513-e0850fa67cd1",
   "metadata": {},
   "outputs": [],
   "source": [
    "xgb_classifier = SparkXGBClassifier(\n",
    "    features_col=\"vectors\", \n",
    "    label_col=\"binds\",\n",
    "    weight_col=\"sample_weights\",\n",
    "    max_depth=6\n",
    ")"
   ]
  },
  {
   "cell_type": "code",
   "execution_count": null,
   "id": "ecd8fb0f",
   "metadata": {},
   "outputs": [
    {
     "name": "stderr",
     "output_type": "stream",
     "text": [
      "2025-01-01 23:06:34,405 INFO XGBoost-PySpark: _fit Running xgboost-2.1.1 on 1 workers with\n",
      "\tbooster params: {'objective': 'binary:logistic', 'device': 'cpu', 'max_depth': 6, 'nthread': 1}\n",
      "\ttrain_call_kwargs_params: {'verbose_eval': True, 'num_boost_round': 100}\n",
      "\tdmatrix_kwargs: {'nthread': 1, 'missing': nan}\n",
      "2025-01-01 23:25:01,038 INFO XGBoost-PySpark: _train_booster Training on CPUs 1]\n",
      "[23:25:02] Task 0 got rank 0\n",
      "[Stage 25:>                                                         (0 + 1) / 1]\r"
     ]
    }
   ],
   "source": [
    "xgb_model = xgb_classifier.fit(full_feat_tok_df_vectors)"
   ]
  },
  {
   "cell_type": "code",
   "execution_count": 9,
   "id": "a0577394",
   "metadata": {},
   "outputs": [
    {
     "name": "stderr",
     "output_type": "stream",
     "text": [
      "                                                                                \r"
     ]
    }
   ],
   "source": [
    "model_path = \"checkpoints/_3_XGB_feat_tok\"\n",
    "xgb_model.save(model_path)"
   ]
  },
  {
   "cell_type": "code",
   "execution_count": null,
   "id": "d5359b35",
   "metadata": {},
   "outputs": [],
   "source": [
    "predictions = xgb_classifier.transform(full_feat_tok_df_vectors)\n",
    "predictions.show()"
   ]
  },
  {
   "cell_type": "code",
   "execution_count": null,
   "id": "72f3983f",
   "metadata": {},
   "outputs": [],
   "source": [
    "# Calculate PR AUC (Area Under Precision-Recall Curve)\n",
    "pr_auc_evaluator = BinaryClassificationEvaluator(labelCol=\"binds\", rawPredictionCol=\"rawPrediction\", \n",
    "                                                 metricName=\"areaUnderPR\")\n",
    "pr_auc = pr_auc_evaluator.evaluate(predictions)\n",
    "print(f\"PR AUC (approx MAP): {pr_auc}\")"
   ]
  }
 ],
 "metadata": {
  "kernelspec": {
   "display_name": "cuda_env2",
   "language": "python",
   "name": "python3"
  },
  "language_info": {
   "codemirror_mode": {
    "name": "ipython",
    "version": 3
   },
   "file_extension": ".py",
   "mimetype": "text/x-python",
   "name": "python",
   "nbconvert_exporter": "python",
   "pygments_lexer": "ipython3",
   "version": "3.12.5"
  },
  "widgets": {
   "application/vnd.jupyter.widget-state+json": {
    "state": {},
    "version_major": 2,
    "version_minor": 0
   }
  }
 },
 "nbformat": 4,
 "nbformat_minor": 5
}
