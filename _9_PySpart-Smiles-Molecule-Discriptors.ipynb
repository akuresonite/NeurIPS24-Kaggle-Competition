{
 "cells": [
  {
   "cell_type": "markdown",
   "id": "e51f39dc-cd1b-4519-b83a-b4010d03bf19",
   "metadata": {},
   "source": [
    "# Calculating Smiles Descriptors"
   ]
  },
  {
   "cell_type": "code",
   "execution_count": 1,
   "id": "8f24eaa3-00f0-4eb8-ac58-8f771333820b",
   "metadata": {},
   "outputs": [
    {
     "data": {
      "text/html": [
       "<style>pre { white-space: pre !important; }</style>"
      ],
      "text/plain": [
       "<IPython.core.display.HTML object>"
      ]
     },
     "metadata": {},
     "output_type": "display_data"
    }
   ],
   "source": [
    "train_len = 295246830\n",
    "one_len = 1589906\n",
    "zero_len = 293656924\n",
    "protein_map = {'BRD4': 1, 'HSA': 2, 'sEH': 3}\n",
    "vocab = {'C': 6825082866, '#': 81527490, '@': 511451694, 'H': 456489972, '=': 1406606874, 'O': 2554179786,\n",
    "         'N': 2469595230, 'c': 12257477022, '-': 438483636, '.': 216945504, 'l': 491088828, 'B': 123330132,\n",
    "         'r': 121915914, 'n': 1997759694, 'D': 295246830, 'y': 295246830, 'o': 67918650, 's': 156618468,\n",
    "         'S': 90662574, 'F': 492710238, '+': 65206260, 'i': 1414026, '/': 11547096, 'I': 23972994}\n",
    "\n",
    "from pyspark.sql import SparkSession\n",
    "from pyspark.sql.functions import col\n",
    "from pyspark.sql import functions as F\n",
    "from pyspark.sql.functions import udf\n",
    "from pyspark.sql.types import LongType, IntegerType, StructType, StructField, ArrayType, DoubleType, StringType\n",
    "\n",
    "from pyspark.ml.feature import OneHotEncoder, StringIndexer, VectorAssembler, StringIndexerModel, OneHotEncoderModel\n",
    "from pyspark.ml.tuning import CrossValidator, ParamGridBuilder\n",
    "from pyspark.ml.evaluation import BinaryClassificationEvaluator, MulticlassClassificationEvaluator\n",
    "\n",
    "import pandas as pd\n",
    "import numpy as np\n",
    "\n",
    "from xgboost.spark import SparkXGBClassifier\n",
    "\n",
    "from sklearn.metrics import classification_report, roc_auc_score, average_precision_score\n",
    "\n",
    "from concurrent.futures import ThreadPoolExecutor\n",
    "from joblib import Parallel, delayed\n",
    "from rdkit import Chem\n",
    "from rdkit.Chem import Descriptors, Lipinski, rdmolops, AllChem, rdchem, rdEHTTools, rdMolDescriptors\n",
    "from tqdm.auto import tqdm\n",
    "from padelpy import from_smiles\n",
    "from IPython.display import display, HTML\n",
    "display(HTML(\"<style>pre { white-space: pre !important; }</style>\"))"
   ]
  },
  {
   "cell_type": "code",
   "execution_count": 2,
   "id": "a35b5f0c-4ae2-4d92-8f75-f8dff184b3e3",
   "metadata": {},
   "outputs": [
    {
     "name": "stderr",
     "output_type": "stream",
     "text": [
      "24/12/31 01:59:57 WARN Utils: Your hostname, kanjur resolves to a loopback address: 127.0.1.1; using 10.119.2.14 instead (on interface eno3)\n",
      "24/12/31 01:59:57 WARN Utils: Set SPARK_LOCAL_IP if you need to bind to another address\n",
      "Setting default log level to \"WARN\".\n",
      "To adjust logging level use sc.setLogLevel(newLevel). For SparkR, use setLogLevel(newLevel).\n",
      "24/12/31 01:59:58 WARN NativeCodeLoader: Unable to load native-hadoop library for your platform... using builtin-java classes where applicable\n",
      "24/12/31 01:59:58 WARN SparkConf: Note that spark.local.dir will be overridden by the value set by the cluster manager (via SPARK_LOCAL_DIRS in mesos/standalone/kubernetes and LOCAL_DIRS in YARN).\n",
      "24/12/31 01:59:58 WARN Utils: Service 'SparkUI' could not bind on port 4040. Attempting port 4041.\n"
     ]
    },
    {
     "data": {
      "text/html": [
       "\n",
       "            <div>\n",
       "                <p><b>SparkSession - in-memory</b></p>\n",
       "                \n",
       "        <div>\n",
       "            <p><b>SparkContext</b></p>\n",
       "\n",
       "            <p><a href=\"http://kanjur.ieor.iitb.ac.in:4041\">Spark UI</a></p>\n",
       "\n",
       "            <dl>\n",
       "              <dt>Version</dt>\n",
       "                <dd><code>v3.5.3</code></dd>\n",
       "              <dt>Master</dt>\n",
       "                <dd><code>local[*]</code></dd>\n",
       "              <dt>AppName</dt>\n",
       "                <dd><code>leash belka3</code></dd>\n",
       "            </dl>\n",
       "        </div>\n",
       "        \n",
       "            </div>\n",
       "        "
      ],
      "text/plain": [
       "<pyspark.sql.session.SparkSession at 0x7fead8150470>"
      ]
     },
     "execution_count": 2,
     "metadata": {},
     "output_type": "execute_result"
    },
    {
     "name": "stderr",
     "output_type": "stream",
     "text": [
      "----------------------------------------\n",
      "Exception occurred during processing of request from ('127.0.0.1', 57138)\n",
      "Traceback (most recent call last):\n",
      "  File \"/home/23m1521/.conda/envs/cuda_env2/lib/python3.12/socketserver.py\", line 318, in _handle_request_noblock\n",
      "    self.process_request(request, client_address)\n",
      "  File \"/home/23m1521/.conda/envs/cuda_env2/lib/python3.12/socketserver.py\", line 349, in process_request\n",
      "    self.finish_request(request, client_address)\n",
      "  File \"/home/23m1521/.conda/envs/cuda_env2/lib/python3.12/socketserver.py\", line 362, in finish_request\n",
      "    self.RequestHandlerClass(request, client_address, self)\n",
      "  File \"/home/23m1521/.conda/envs/cuda_env2/lib/python3.12/socketserver.py\", line 761, in __init__\n",
      "    self.handle()\n",
      "  File \"/home/23m1521/.conda/envs/cuda_env2/lib/python3.12/site-packages/pyspark/accumulators.py\", line 295, in handle\n",
      "    poll(accum_updates)\n",
      "  File \"/home/23m1521/.conda/envs/cuda_env2/lib/python3.12/site-packages/pyspark/accumulators.py\", line 267, in poll\n",
      "    if self.rfile in r and func():\n",
      "                           ^^^^^^\n",
      "  File \"/home/23m1521/.conda/envs/cuda_env2/lib/python3.12/site-packages/pyspark/accumulators.py\", line 271, in accum_updates\n",
      "    num_updates = read_int(self.rfile)\n",
      "                  ^^^^^^^^^^^^^^^^^^^^\n",
      "  File \"/home/23m1521/.conda/envs/cuda_env2/lib/python3.12/site-packages/pyspark/serializers.py\", line 596, in read_int\n",
      "    raise EOFError\n",
      "EOFError\n",
      "----------------------------------------\n"
     ]
    }
   ],
   "source": [
    "# for 256 Gb and 64 Cores\n",
    "# spark = (\n",
    "#     SparkSession\n",
    "#     .builder\n",
    "#     .appName(\"leash belka3\")\n",
    "#     .config(\"spark.driver.memory\", \"48g\")  # Increased driver memory\n",
    "#     .config(\"spark.executor.memory\", \"48g\")  # Increased executor memory\n",
    "#     .config(\"spark.executor.instances\", \"16\")  # 16 executors\n",
    "#     .config(\"spark.executor.cores\", \"4\")  # 4 cores per executor\n",
    "#     .config(\"spark.driver.maxResultSize\", \"4g\")  # Driver result size limit\n",
    "#     .config(\"spark.local.dir\", \"temp\")  # Specify a directory with enough space\n",
    "#     # .config(\"spark.local.dir\", \"/scratch/23m1521/temp\")  # Specify a directory with enough space\n",
    "#     .config(\"spark.shuffle.file.buffer\", \"128k\")  # Shuffle buffer size\n",
    "#     .config(\"spark.memory.fraction\", \"0.8\")  # Memory fraction for tasks\n",
    "#     .config(\"spark.shuffle.memoryFraction\", \"0.6\")  # Shuffle memory fraction\n",
    "#     .config(\"spark.executor.javaOptions\", \"-Xmx48g\")  # JVM heap size for executors\n",
    "#     .master(\"local[64]\")  # Use all 64 cores on the machine\n",
    "#     .getOrCreate()\n",
    "# )\n",
    "\n",
    "# spark\n",
    "\n",
    "spark = (\n",
    "    SparkSession\n",
    "    .builder\n",
    "    .appName(\"leash belka3\")\n",
    "    .config(\"spark.driver.memory\", \"64g\")  # Increased driver memory for large jobs\n",
    "    .config(\"spark.executor.memory\", \"64g\")  # Increased executor memory\n",
    "    .config(\"spark.executor.instances\", \"32\")  # 32 executors\n",
    "    .config(\"spark.executor.cores\", \"2\")  # 2 cores per executor\n",
    "    .config(\"spark.driver.maxResultSize\", \"8g\")  # Driver result size limit\n",
    "    .config(\"spark.local.dir\", \"temp\")  # Ensure high-speed storage\n",
    "    .config(\"spark.shuffle.file.buffer\", \"1024k\")  # Larger shuffle buffer for better IO\n",
    "    .config(\"spark.memory.fraction\", \"0.85\")  # Increased memory for tasks\n",
    "    .config(\"spark.shuffle.memoryFraction\", \"0.7\")  # Increased shuffle memory\n",
    "    .config(\"spark.executor.javaOptions\", \"-Xmx64g\")  # JVM heap size for executors\n",
    "    .master(\"local[*]\")  # Use all 64 cores on the machine\n",
    "    .getOrCreate()\n",
    ")\n",
    "spark\n",
    "\n",
    "# SparkSession for 128 GB RAM and 64 cores\n",
    "# spark = (\n",
    "#     SparkSession\n",
    "#     .builder\n",
    "#     .appName(\"Optimized Spark for 128GB RAM and 64 Cores\")\n",
    "#     .config(\"spark.driver.memory\", \"64g\")  # 64GB for driver memory\n",
    "#     .config(\"spark.executor.memory\", \"64g\")  # 64GB for executor memory\n",
    "#     .config(\"spark.executor.instances\", \"16\")  # 16 executors\n",
    "#     .config(\"spark.executor.cores\", \"4\")  # 4 cores per executor (total = 64 cores)\n",
    "#     .config(\"spark.driver.maxResultSize\", \"8g\")  # Driver result size limit\n",
    "#     .config(\"spark.local.dir\", \"temp\")  # Temp directory with enough space\n",
    "#     .config(\"spark.shuffle.file.buffer\", \"512k\")  # Increased shuffle buffer size\n",
    "#     .config(\"spark.memory.fraction\", \"0.8\")  # Memory fraction for tasks\n",
    "#     .config(\"spark.shuffle.memoryFraction\", \"0.6\")  # Shuffle memory fraction\n",
    "#     .config(\"spark.executor.javaOptions\", \"-Xmx64g\")  # JVM heap size for executors\n",
    "#     .master(\"local[64]\")  # Use all 64 cores on the machine\n",
    "#     .getOrCreate()\n",
    "# )\n",
    "\n",
    "# spark\n",
    "\n",
    "# SynapseML \n",
    "# spark = (\n",
    "#     SparkSession\n",
    "#     .builder\n",
    "#     .appName(\"leash belka3\")\n",
    "#     .config(\"spark.driver.memory\", \"48g\")  # Increased driver memory\n",
    "#     .config(\"spark.executor.memory\", \"48g\")  # Increased executor memory\n",
    "#     .config(\"spark.executor.instances\", \"16\")  # 16 executors\n",
    "#     .config(\"spark.executor.cores\", \"4\")  # 4 cores per executor\n",
    "#     .config(\"spark.driver.maxResultSize\", \"4g\")  # Driver result size limit\n",
    "#     .config(\"spark.local.dir\", \"temp\")  # Specify a directory with enough space\n",
    "#     .config(\"spark.shuffle.file.buffer\", \"128k\")  # Shuffle buffer size\n",
    "#     .config(\"spark.memory.fraction\", \"0.8\")  # Memory fraction for tasks\n",
    "#     .config(\"spark.shuffle.memoryFraction\", \"0.6\")  # Shuffle memory fraction\n",
    "#     .config(\"spark.executor.javaOptions\", \"-Xmx48g\")  # JVM heap size for executors\n",
    "#     .config(\"spark.jars.packages\", \"com.microsoft.azure:synapseml_2.12:1.0.8\")\n",
    "#     .config(\"spark.jars.repositories\", \"https://mmlspark.azureedge.net/maven\")\n",
    "#     .master(\"local[64]\")  # Use all 64 cores on the machine\n",
    "#     .getOrCreate()\n",
    "# )\n",
    "\n",
    "# spark\n",
    "\n",
    "# spark = (\n",
    "#     SparkSession\n",
    "#     .builder\n",
    "#     .appName(\"leash belka3\")\n",
    "#     .config(\"spark.driver.memory\", \"64g\")  # Increased driver memory\n",
    "#     .config(\"spark.executor.memory\", \"64g\")  # Increased executor memory\n",
    "#     .config(\"spark.executor.instances\", \"8\")  # Reduced number of executors\n",
    "#     .config(\"spark.executor.cores\", \"8\")  # Increased cores per executor\n",
    "#     .config(\"spark.driver.maxResultSize\", \"4g\")  # Driver result size limit\n",
    "#     .config(\"spark.local.dir\", \"temp\")  # Specify a directory with enough space\n",
    "#     .config(\"spark.shuffle.file.buffer\", \"128k\")  # Shuffle buffer size\n",
    "#     .config(\"spark.memory.fraction\", \"0.8\")  # Memory fraction for tasks\n",
    "#     .config(\"spark.shuffle.memoryFraction\", \"0.7\")  # Shuffle memory fraction\n",
    "#     .config(\"spark.executor.javaOptions\", \"-Xmx64g\")  # JVM heap size for executors\n",
    "#     .config(\"spark.sql.shuffle.partitions\", \"1000\")  # Increase shuffle partitions\n",
    "#     .config(\"spark.ui.enabled\", \"true\")  # Enable Spark UI\n",
    "#     .master(\"local[8]\")  # Reduced number of cores for local mode\n",
    "#     .getOrCreate()\n",
    "# )\n",
    "\n",
    "# spark\n"
   ]
  },
  {
   "cell_type": "code",
   "execution_count": 3,
   "id": "ba2d9f88-786e-4292-ae0c-c7017278fbdc",
   "metadata": {},
   "outputs": [],
   "source": [
    "def rename_Cols(df):\n",
    "    df = (\n",
    "        df\n",
    "        .withColumnRenamed('buildingblock1_smiles', 'bb1_smiles')\n",
    "        .withColumnRenamed('buildingblock2_smiles', 'bb2_smiles')\n",
    "        .withColumnRenamed('buildingblock3_smiles', 'bb3_smiles')\n",
    "    )\n",
    "    return df"
   ]
  },
  {
   "cell_type": "code",
   "execution_count": 4,
   "id": "04be06dd-e5c9-4ca0-9675-9651fec017b6",
   "metadata": {},
   "outputs": [
    {
     "name": "stderr",
     "output_type": "stream",
     "text": [
      "                                                                                "
     ]
    }
   ],
   "source": [
    "full_df = rename_Cols(spark.read.format('parquet').load('train.parquet'))"
   ]
  },
  {
   "cell_type": "code",
   "execution_count": 5,
   "id": "03daf04f-6ff0-4daf-a601-cd4abad755ff",
   "metadata": {},
   "outputs": [
    {
     "name": "stderr",
     "output_type": "stream",
     "text": [
      "                                                                                "
     ]
    },
    {
     "name": "stdout",
     "output_type": "stream",
     "text": [
      "+---+--------------------+--------------------+--------------------+--------------------+------------+-----+\n",
      "| id|          bb1_smiles|          bb2_smiles|          bb3_smiles|     molecule_smiles|protein_name|binds|\n",
      "+---+--------------------+--------------------+--------------------+--------------------+------------+-----+\n",
      "|  0|C#CC[C@@H](CC(=O)...|C#CCOc1ccc(CN)cc1.Cl|Br.Br.NCC1CCCN1c1...|C#CCOc1ccc(CNc2nc...|        BRD4|    0|\n",
      "|  1|C#CC[C@@H](CC(=O)...|C#CCOc1ccc(CN)cc1.Cl|Br.Br.NCC1CCCN1c1...|C#CCOc1ccc(CNc2nc...|         HSA|    0|\n",
      "|  2|C#CC[C@@H](CC(=O)...|C#CCOc1ccc(CN)cc1.Cl|Br.Br.NCC1CCCN1c1...|C#CCOc1ccc(CNc2nc...|         sEH|    0|\n",
      "|  3|C#CC[C@@H](CC(=O)...|C#CCOc1ccc(CN)cc1.Cl|   Br.NCc1cccc(Br)n1|C#CCOc1ccc(CNc2nc...|        BRD4|    0|\n",
      "|  4|C#CC[C@@H](CC(=O)...|C#CCOc1ccc(CN)cc1.Cl|   Br.NCc1cccc(Br)n1|C#CCOc1ccc(CNc2nc...|         HSA|    0|\n",
      "|  5|C#CC[C@@H](CC(=O)...|C#CCOc1ccc(CN)cc1.Cl|   Br.NCc1cccc(Br)n1|C#CCOc1ccc(CNc2nc...|         sEH|    0|\n",
      "|  6|C#CC[C@@H](CC(=O)...|C#CCOc1ccc(CN)cc1.Cl|C#CCOc1ccc(CN)cc1.Cl|C#CCOc1ccc(CNc2nc...|        BRD4|    0|\n",
      "|  7|C#CC[C@@H](CC(=O)...|C#CCOc1ccc(CN)cc1.Cl|C#CCOc1ccc(CN)cc1.Cl|C#CCOc1ccc(CNc2nc...|         HSA|    0|\n",
      "|  8|C#CC[C@@H](CC(=O)...|C#CCOc1ccc(CN)cc1.Cl|C#CCOc1ccc(CN)cc1.Cl|C#CCOc1ccc(CNc2nc...|         sEH|    0|\n",
      "|  9|C#CC[C@@H](CC(=O)...|C#CCOc1ccc(CN)cc1.Cl|  C=C(C)C(=O)NCCN.Cl|C#CCOc1ccc(CNc2nc...|        BRD4|    0|\n",
      "| 10|C#CC[C@@H](CC(=O)...|C#CCOc1ccc(CN)cc1.Cl|  C=C(C)C(=O)NCCN.Cl|C#CCOc1ccc(CNc2nc...|         HSA|    0|\n",
      "| 11|C#CC[C@@H](CC(=O)...|C#CCOc1ccc(CN)cc1.Cl|  C=C(C)C(=O)NCCN.Cl|C#CCOc1ccc(CNc2nc...|         sEH|    0|\n",
      "| 12|C#CC[C@@H](CC(=O)...|C#CCOc1ccc(CN)cc1.Cl|     C=CCNC(=O)CN.Cl|C#CCOc1ccc(CNc2nc...|        BRD4|    0|\n",
      "| 13|C#CC[C@@H](CC(=O)...|C#CCOc1ccc(CN)cc1.Cl|     C=CCNC(=O)CN.Cl|C#CCOc1ccc(CNc2nc...|         HSA|    0|\n",
      "| 14|C#CC[C@@H](CC(=O)...|C#CCOc1ccc(CN)cc1.Cl|     C=CCNC(=O)CN.Cl|C#CCOc1ccc(CNc2nc...|         sEH|    0|\n",
      "| 15|C#CC[C@@H](CC(=O)...|C#CCOc1ccc(CN)cc1.Cl|         C=CCOC(C)CN|C#CCOc1ccc(CNc2nc...|        BRD4|    0|\n",
      "| 16|C#CC[C@@H](CC(=O)...|C#CCOc1ccc(CN)cc1.Cl|         C=CCOC(C)CN|C#CCOc1ccc(CNc2nc...|         HSA|    0|\n",
      "| 17|C#CC[C@@H](CC(=O)...|C#CCOc1ccc(CN)cc1.Cl|         C=CCOC(C)CN|C#CCOc1ccc(CNc2nc...|         sEH|    0|\n",
      "| 18|C#CC[C@@H](CC(=O)...|C#CCOc1ccc(CN)cc1.Cl|           C=CCOCCCN|C#CCOc1ccc(CNc2nc...|        BRD4|    0|\n",
      "| 19|C#CC[C@@H](CC(=O)...|C#CCOc1ccc(CN)cc1.Cl|           C=CCOCCCN|C#CCOc1ccc(CNc2nc...|         HSA|    0|\n",
      "+---+--------------------+--------------------+--------------------+--------------------+------------+-----+\n",
      "only showing top 20 rows\n",
      "\n"
     ]
    }
   ],
   "source": [
    "full_df.show()"
   ]
  },
  {
   "cell_type": "code",
   "execution_count": 6,
   "id": "5b62061f-be07-455b-a3b7-17777e5bd492",
   "metadata": {},
   "outputs": [
    {
     "name": "stderr",
     "output_type": "stream",
     "text": [
      "                                                                                "
     ]
    },
    {
     "data": {
      "text/plain": [
       "29617"
      ]
     },
     "execution_count": 6,
     "metadata": {},
     "output_type": "execute_result"
    }
   ],
   "source": [
    "df = full_df.sample(fraction=0.0001, seed=42)\n",
    "df.count()"
   ]
  },
  {
   "cell_type": "code",
   "execution_count": 81,
   "id": "0b03e2b1-ed85-45ae-a33f-e8b9c3debdff",
   "metadata": {},
   "outputs": [
    {
     "name": "stdout",
     "output_type": "stream",
     "text": [
      "1674896\n",
      "+---------+--------------------+--------------+--------------------+--------------------+------------+\n",
      "|       id|          bb1_smiles|    bb2_smiles|          bb3_smiles|     molecule_smiles|protein_name|\n",
      "+---------+--------------------+--------------+--------------------+--------------------+------------+\n",
      "|295246830|C#CCCC[C@H](NC(=O...|C=Cc1ccc(N)cc1|      C=Cc1ccc(N)cc1|C#CCCC[C@H](Nc1nc...|        BRD4|\n",
      "|295246831|C#CCCC[C@H](NC(=O...|C=Cc1ccc(N)cc1|      C=Cc1ccc(N)cc1|C#CCCC[C@H](Nc1nc...|         HSA|\n",
      "|295246832|C#CCCC[C@H](NC(=O...|C=Cc1ccc(N)cc1|      C=Cc1ccc(N)cc1|C#CCCC[C@H](Nc1nc...|         sEH|\n",
      "|295246833|C#CCCC[C@H](NC(=O...|C=Cc1ccc(N)cc1|CC(O)Cn1cnc2c(N)n...|C#CCCC[C@H](Nc1nc...|        BRD4|\n",
      "|295246834|C#CCCC[C@H](NC(=O...|C=Cc1ccc(N)cc1|CC(O)Cn1cnc2c(N)n...|C#CCCC[C@H](Nc1nc...|         HSA|\n",
      "|295246835|C#CCCC[C@H](NC(=O...|C=Cc1ccc(N)cc1|CC(O)Cn1cnc2c(N)n...|C#CCCC[C@H](Nc1nc...|         sEH|\n",
      "|295246836|C#CCCC[C@H](NC(=O...|C=Cc1ccc(N)cc1|    CC1(C)CCCC1(O)CN|C#CCCC[C@H](Nc1nc...|        BRD4|\n",
      "|295246837|C#CCCC[C@H](NC(=O...|C=Cc1ccc(N)cc1|    CC1(C)CCCC1(O)CN|C#CCCC[C@H](Nc1nc...|         HSA|\n",
      "|295246838|C#CCCC[C@H](NC(=O...|C=Cc1ccc(N)cc1|    CC1(C)CCCC1(O)CN|C#CCCC[C@H](Nc1nc...|         sEH|\n",
      "|295246839|C#CCCC[C@H](NC(=O...|C=Cc1ccc(N)cc1| COC(=O)c1cc(Cl)sc1N|C#CCCC[C@H](Nc1nc...|        BRD4|\n",
      "|295246840|C#CCCC[C@H](NC(=O...|C=Cc1ccc(N)cc1| COC(=O)c1cc(Cl)sc1N|C#CCCC[C@H](Nc1nc...|         HSA|\n",
      "|295246841|C#CCCC[C@H](NC(=O...|C=Cc1ccc(N)cc1| COC(=O)c1cc(Cl)sc1N|C#CCCC[C@H](Nc1nc...|         sEH|\n",
      "|295246842|C#CCCC[C@H](NC(=O...|C=Cc1ccc(N)cc1|      CSC1CCC(CN)CC1|C#CCCC[C@H](Nc1nc...|        BRD4|\n",
      "|295246843|C#CCCC[C@H](NC(=O...|C=Cc1ccc(N)cc1|      CSC1CCC(CN)CC1|C#CCCC[C@H](Nc1nc...|         HSA|\n",
      "|295246844|C#CCCC[C@H](NC(=O...|C=Cc1ccc(N)cc1|      CSC1CCC(CN)CC1|C#CCCC[C@H](Nc1nc...|         sEH|\n",
      "|295246845|C#CCCC[C@H](NC(=O...|C=Cc1ccc(N)cc1|Cc1ccc(CN)c(N2CCC...|C#CCCC[C@H](Nc1nc...|        BRD4|\n",
      "|295246846|C#CCCC[C@H](NC(=O...|C=Cc1ccc(N)cc1|Cc1ccc(CN)c(N2CCC...|C#CCCC[C@H](Nc1nc...|         HSA|\n",
      "|295246847|C#CCCC[C@H](NC(=O...|C=Cc1ccc(N)cc1|Cc1ccc(CN)c(N2CCC...|C#CCCC[C@H](Nc1nc...|         sEH|\n",
      "|295246848|C#CCCC[C@H](NC(=O...|C=Cc1ccc(N)cc1|Cc1cccc(NC(=O)COc...|C#CCCC[C@H](Nc1nc...|        BRD4|\n",
      "|295246849|C#CCCC[C@H](NC(=O...|C=Cc1ccc(N)cc1|Cc1cccc(NC(=O)COc...|C#CCCC[C@H](Nc1nc...|         HSA|\n",
      "+---------+--------------------+--------------+--------------------+--------------------+------------+\n",
      "only showing top 20 rows\n",
      "\n"
     ]
    }
   ],
   "source": [
    "df = rename_Cols(spark.read.format('parquet').load('test.parquet'))\n",
    "print(df.count())\n",
    "df.show()"
   ]
  },
  {
   "cell_type": "code",
   "execution_count": null,
   "id": "fcf9f80a-28f7-4394-9955-13e06b31aac7",
   "metadata": {},
   "outputs": [],
   "source": [
    "# print(df0_features.rdd.getNumPartitions())\n",
    "# print(full_df.count())\n",
    "# df0_features.printSchema()\n",
    "\n",
    "# binds = df.select('binds').rdd.flatMap(lambda x: x).collect()\n",
    "# binds = full_df.select('binds').rdd.flatMap(lambda x: x).collect()\n",
    "# binds = np.array(binds)\n",
    "\n",
    "# sample_df = full_df.sample(fraction=0.00001)"
   ]
  },
  {
   "cell_type": "markdown",
   "id": "76b17789-5ca2-44c3-ae2c-d95531f6e549",
   "metadata": {},
   "source": [
    "## Computing Descriptors"
   ]
  },
  {
   "cell_type": "code",
   "execution_count": 4,
   "id": "cba7fcf0-9fbf-435d-b649-fe53a4869fb7",
   "metadata": {},
   "outputs": [],
   "source": [
    "def compute_descriptors(smiles_chunk):\n",
    "    results = []\n",
    "    smiles = smiles_chunk\n",
    "    # for smiles in smiles_chunk:\n",
    "    mol = Chem.MolFromSmiles(smiles)\n",
    "    \n",
    "    # General Chemical Descriptors\n",
    "    desc_MolWt = Descriptors.MolWt(mol)  # Molecular Weight (MW)\n",
    "    desc_ExactMolWt = rdMolDescriptors.CalcExactMolWt(mol)  # Exact Molecular Weight\n",
    "    desc_MolLogP = Descriptors.MolLogP(mol)  # LogP (Hydrophobicity)\n",
    "    desc_TPSA = rdMolDescriptors.CalcTPSA(mol)  # Topological Polar Surface Area (TPSA)\n",
    "    desc_NumRotatableBonds = rdMolDescriptors.CalcNumRotatableBonds(mol)  # Number of Rotatable Bonds\n",
    "    desc_NumHDonors = Lipinski.NumHDonors(mol)  # Number of H-Bond Donors\n",
    "    desc_NumHAcceptors = Lipinski.NumHAcceptors(mol)  # Number of H-Bond Acceptors\n",
    "    desc_FormalCharge = rdmolops.GetFormalCharge(mol)  # Formal Charge\n",
    "    desc_FractionCSP3 = rdMolDescriptors.CalcFractionCSP3(mol)  # Fraction of Csp3 Carbons\n",
    "    # -------------------------------------------------------\n",
    "    \n",
    "    desc_NumHeavyAtoms = mol.GetNumHeavyAtoms()  # Number of Heavy Atoms\n",
    "    \n",
    "    # Functional Group Descriptors\n",
    "    desc_NumAromaticRings = rdMolDescriptors.CalcNumAromaticRings(mol)  # Number of Aromatic Rings\n",
    "    desc_NumAliphaticRings = rdMolDescriptors.CalcNumAliphaticRings(mol)  # Number of Aliphatic Rings\n",
    "    desc_NumSaturatedRings = rdMolDescriptors.CalcNumSaturatedRings(mol)  # Number of Saturated Rings\n",
    "    desc_NumHeteroatoms = rdMolDescriptors.CalcNumHeteroatoms(mol)  # Number of Heteroatoms\n",
    "    desc_NumRings = rdMolDescriptors.CalcNumRings(mol)  # Total Number of Rings\n",
    "    # -------------------------------------------------------\n",
    "    \n",
    "    # Shape and Geometry Descriptors\n",
    "    if mol.GetNumConformers() >= 1:\n",
    "        desc_MolVolume = AllChem.ComputeMolVolume(mol)  # Molecular Volume\n",
    "        desc_RadiusOfGyration = rdMolDescriptors.CalcRadiusOfGyration(mol)  # Radius of Gyration\n",
    "        desc_InertialShapeFactor = rdMolDescriptors.CalcInertialShapeFactor(mol)  # Inertial Shape Factor\n",
    "    else:\n",
    "        desc_MolVolume = desc_RadiusOfGyration = desc_InertialShapeFactor = 0\n",
    "    # -------------------------------------------------------\n",
    "    \n",
    "    # Binding-Specific Descriptors\n",
    "    desc_AromaticProportion = (\n",
    "        rdMolDescriptors.CalcNumAromaticRings(mol) / mol.GetNumHeavyAtoms()\n",
    "        if mol.GetNumHeavyAtoms() > 0 else 0\n",
    "    )  # Aromatic Proportion\n",
    "    desc_HBondPotential = Lipinski.NumHDonors(mol) + Lipinski.NumHAcceptors(mol)  # Hydrogen Bonding Potential\n",
    "    desc_Lipophilicity = Descriptors.MolLogP(mol)  # Lipophilicity\n",
    "    desc_ChargeDistribution = rdmolops.GetFormalCharge(mol)  # Charge Distribution\n",
    "    # -------------------------------------------------------\n",
    "    \n",
    "    # Electrostatic Properties\n",
    "    desc_ElectroNegativity = Descriptors.MolMR(mol)  # Molecular Refractivity (Electronegativity)\n",
    "    # -------------------------------------------------------\n",
    "\n",
    "    \n",
    "    results.append({\n",
    "        # \"smiles\": smiles,\n",
    "        \n",
    "        \"MolWt\": desc_MolWt,\n",
    "        \"ExactMolWt\": desc_ExactMolWt,\n",
    "        \"MolLogP\": desc_MolLogP,\n",
    "        \"TPSA\": desc_TPSA,\n",
    "        \"NumRotatableBonds\": desc_NumRotatableBonds,\n",
    "        \"NumHDonors\": desc_NumHDonors,\n",
    "        \"NumHAcceptors\": desc_NumHAcceptors,\n",
    "        \"FormalCharge\": desc_FormalCharge,\n",
    "        \"FractionCSP3\": desc_FractionCSP3,\n",
    "        \n",
    "        \"NumHeavyAtoms\": desc_NumHeavyAtoms,\n",
    "        \n",
    "        \"NumAromaticRings\": desc_NumAromaticRings,\n",
    "        \"NumAliphaticRings\": desc_NumAliphaticRings,\n",
    "        \"NumSaturatedRings\": desc_NumSaturatedRings,\n",
    "        \"NumHeteroatoms\": desc_NumHeteroatoms,\n",
    "        \"NumRings\": desc_NumRings,\n",
    "        \n",
    "        \"MolVolume\": desc_MolVolume,\n",
    "        \"RadiusOfGyration\": desc_RadiusOfGyration,\n",
    "        \"InertialShapeFactor\": desc_InertialShapeFactor,\n",
    "        \n",
    "        \"AromaticProportion\": desc_AromaticProportion,\n",
    "        \"HBondPotential\": desc_HBondPotential,\n",
    "        \"Lipophilicity\": desc_Lipophilicity,\n",
    "        \"ChargeDistribution\": desc_ChargeDistribution,\n",
    "        \n",
    "        \"ElectroNegativity\": desc_ElectroNegativity\n",
    "    })\n",
    "    \n",
    "    return results"
   ]
  },
  {
   "cell_type": "markdown",
   "id": "5d894bef-465d-4315-9a25-7e5dc6c9e506",
   "metadata": {},
   "source": [
    "### 1. Register the UDF"
   ]
  },
  {
   "cell_type": "code",
   "execution_count": 5,
   "id": "35b3b930-4761-47e8-81a6-3a1b65697b06",
   "metadata": {},
   "outputs": [],
   "source": [
    "def infer_data_type(value):\n",
    "    if isinstance(value, str):\n",
    "        return StringType()\n",
    "    elif isinstance(value, float):\n",
    "        return DoubleType()\n",
    "    elif isinstance(value, int):\n",
    "        return IntegerType()\n",
    "    else:\n",
    "        return StringType()"
   ]
  },
  {
   "cell_type": "code",
   "execution_count": null,
   "id": "cb7731ea-dc96-48e9-98e7-2ddf2f76aece",
   "metadata": {},
   "outputs": [],
   "source": [
    "sample_smiles = \"C#CCCC[C@H](NC(=O)OCC1c2ccccc2-c2ccccc21)C(=O)O\"\n",
    "descriptor_sample = compute_descriptors(sample_smiles)[0]\n",
    "descriptor_names = list(descriptor_sample.keys())"
   ]
  },
  {
   "cell_type": "code",
   "execution_count": 45,
   "id": "d2fc0df7-fde9-4ec7-9c6c-014171fddaaa",
   "metadata": {},
   "outputs": [
    {
     "data": {
      "text/plain": [
       "StructType([StructField('smiles', StringType(), True), StructField('MolWt', DoubleType(), True), StructField('ExactMolWt', DoubleType(), True), StructField('MolLogP', DoubleType(), True), StructField('TPSA', DoubleType(), True), StructField('NumRotatableBonds', IntegerType(), True), StructField('NumHDonors', IntegerType(), True), StructField('NumHAcceptors', IntegerType(), True), StructField('FormalCharge', IntegerType(), True), StructField('FractionCSP3', DoubleType(), True), StructField('NumHeavyAtoms', IntegerType(), True), StructField('NumAromaticRings', IntegerType(), True), StructField('NumAliphaticRings', IntegerType(), True), StructField('NumSaturatedRings', IntegerType(), True), StructField('NumHeteroatoms', IntegerType(), True), StructField('NumRings', IntegerType(), True), StructField('MolVolume', IntegerType(), True), StructField('RadiusOfGyration', IntegerType(), True), StructField('InertialShapeFactor', IntegerType(), True), StructField('AromaticProportion', DoubleType(), True), StructField('HBondPotential', IntegerType(), True), StructField('Lipophilicity', DoubleType(), True), StructField('ChargeDistribution', IntegerType(), True), StructField('ElectroNegativity', DoubleType(), True)])"
      ]
     },
     "execution_count": 45,
     "metadata": {},
     "output_type": "execute_result"
    }
   ],
   "source": [
    "descriptor_schema = StructType([\n",
    "    StructField(name, infer_data_type(value), True)\n",
    "    for name, value in descriptor_sample.items()\n",
    "])\n",
    "\n",
    "descriptor_udf = udf(\n",
    "    lambda smiles: compute_descriptors(smiles)[0],\n",
    "    descriptor_schema\n",
    ")\n",
    "descriptor_schema"
   ]
  },
  {
   "cell_type": "markdown",
   "id": "acb19ff8-b8c2-41b0-9bfa-1c2645fc8cb6",
   "metadata": {},
   "source": [
    "### 2. Apply the UDF to PySpark DataFrame"
   ]
  },
  {
   "cell_type": "code",
   "execution_count": 63,
   "id": "2f89da74-e498-4636-9f33-0a44f5b94795",
   "metadata": {
    "editable": true,
    "scrolled": true,
    "slideshow": {
     "slide_type": ""
    },
    "tags": []
   },
   "outputs": [
    {
     "name": "stdout",
     "output_type": "stream",
     "text": [
      "+---------+-----------------------------------------------+---------------------+-----------------------------------+----------------------------------------------------------------------------------+------------+----------------------------------------------------------------------------------------------------------------------------------------------------------------------------------------------------------------------------------------------+-----------------------------------------------+------------------+--------------+------------------+--------+---------------------+--------------+-----------------+----------------+------------------+-----------------+--------------------+---------------------+---------------------+------------------+------------+-------------+--------------------+-----------------------+----------------------+------------------+------------------+----------------------+---------------------+---------+\n",
      "|id       |buildingblock1_smiles                          |buildingblock2_smiles|buildingblock3_smiles              |molecule_smiles                                                                   |protein_name|bb1_descriptors                                                                                                                                                                                                                               |bb1_smiles                                     |bb1_MolWt         |bb1_ExactMolWt|bb1_MolLogP       |bb1_TPSA|bb1_NumRotatableBonds|bb1_NumHDonors|bb1_NumHAcceptors|bb1_FormalCharge|bb1_FractionCSP3  |bb1_NumHeavyAtoms|bb1_NumAromaticRings|bb1_NumAliphaticRings|bb1_NumSaturatedRings|bb1_NumHeteroatoms|bb1_NumRings|bb1_MolVolume|bb1_RadiusOfGyration|bb1_InertialShapeFactor|bb1_AromaticProportion|bb1_HBondPotential|bb1_Lipophilicity |bb1_ChargeDistribution|bb1_ElectroNegativity|protein_i|\n",
      "+---------+-----------------------------------------------+---------------------+-----------------------------------+----------------------------------------------------------------------------------+------------+----------------------------------------------------------------------------------------------------------------------------------------------------------------------------------------------------------------------------------------------+-----------------------------------------------+------------------+--------------+------------------+--------+---------------------+--------------+-----------------+----------------+------------------+-----------------+--------------------+---------------------+---------------------+------------------+------------+-------------+--------------------+-----------------------+----------------------+------------------+------------------+----------------------+---------------------+---------+\n",
      "|295246830|C#CCCC[C@H](NC(=O)OCC1c2ccccc2-c2ccccc21)C(=O)O|C=Cc1ccc(N)cc1       |C=Cc1ccc(N)cc1                     |C#CCCC[C@H](Nc1nc(Nc2ccc(C=C)cc2)nc(Nc2ccc(C=C)cc2)n1)C(=O)N[Dy]                  |BRD4        |{C#CCCC[C@H](NC(=O)OCC1c2ccccc2-c2ccccc21)C(=O)O, 363.41300000000007, 363.147058152, 3.7818000000000023, 75.63, 7, 2, 3, 0, 0.2727272727272727, 27, 2, 1, 0, 5, 3, 0, 0, 0, 0.07407407407407407, 5, 3.7818000000000023, 0, 102.31250000000004}|C#CCCC[C@H](NC(=O)OCC1c2ccccc2-c2ccccc21)C(=O)O|363.41300000000007|363.147058152 |3.7818000000000023|75.63   |7                    |2             |3                |0               |0.2727272727272727|27               |2                   |1                    |0                    |5                 |3           |0            |0                   |0                      |0.07407407407407407   |5                 |3.7818000000000023|0                     |102.31250000000004   |0.0      |\n",
      "|295246831|C#CCCC[C@H](NC(=O)OCC1c2ccccc2-c2ccccc21)C(=O)O|C=Cc1ccc(N)cc1       |C=Cc1ccc(N)cc1                     |C#CCCC[C@H](Nc1nc(Nc2ccc(C=C)cc2)nc(Nc2ccc(C=C)cc2)n1)C(=O)N[Dy]                  |HSA         |{C#CCCC[C@H](NC(=O)OCC1c2ccccc2-c2ccccc21)C(=O)O, 363.41300000000007, 363.147058152, 3.7818000000000023, 75.63, 7, 2, 3, 0, 0.2727272727272727, 27, 2, 1, 0, 5, 3, 0, 0, 0, 0.07407407407407407, 5, 3.7818000000000023, 0, 102.31250000000004}|C#CCCC[C@H](NC(=O)OCC1c2ccccc2-c2ccccc21)C(=O)O|363.41300000000007|363.147058152 |3.7818000000000023|75.63   |7                    |2             |3                |0               |0.2727272727272727|27               |2                   |1                    |0                    |5                 |3           |0            |0                   |0                      |0.07407407407407407   |5                 |3.7818000000000023|0                     |102.31250000000004   |2.0      |\n",
      "|295246832|C#CCCC[C@H](NC(=O)OCC1c2ccccc2-c2ccccc21)C(=O)O|C=Cc1ccc(N)cc1       |C=Cc1ccc(N)cc1                     |C#CCCC[C@H](Nc1nc(Nc2ccc(C=C)cc2)nc(Nc2ccc(C=C)cc2)n1)C(=O)N[Dy]                  |sEH         |{C#CCCC[C@H](NC(=O)OCC1c2ccccc2-c2ccccc21)C(=O)O, 363.41300000000007, 363.147058152, 3.7818000000000023, 75.63, 7, 2, 3, 0, 0.2727272727272727, 27, 2, 1, 0, 5, 3, 0, 0, 0, 0.07407407407407407, 5, 3.7818000000000023, 0, 102.31250000000004}|C#CCCC[C@H](NC(=O)OCC1c2ccccc2-c2ccccc21)C(=O)O|363.41300000000007|363.147058152 |3.7818000000000023|75.63   |7                    |2             |3                |0               |0.2727272727272727|27               |2                   |1                    |0                    |5                 |3           |0            |0                   |0                      |0.07407407407407407   |5                 |3.7818000000000023|0                     |102.31250000000004   |1.0      |\n",
      "|295246833|C#CCCC[C@H](NC(=O)OCC1c2ccccc2-c2ccccc21)C(=O)O|C=Cc1ccc(N)cc1       |CC(O)Cn1cnc2c(N)ncnc21             |C#CCCC[C@H](Nc1nc(Nc2ccc(C=C)cc2)nc(Nc2ncnc3c2ncn3CC(C)O)n1)C(=O)N[Dy]            |BRD4        |{C#CCCC[C@H](NC(=O)OCC1c2ccccc2-c2ccccc21)C(=O)O, 363.41300000000007, 363.147058152, 3.7818000000000023, 75.63, 7, 2, 3, 0, 0.2727272727272727, 27, 2, 1, 0, 5, 3, 0, 0, 0, 0.07407407407407407, 5, 3.7818000000000023, 0, 102.31250000000004}|C#CCCC[C@H](NC(=O)OCC1c2ccccc2-c2ccccc21)C(=O)O|363.41300000000007|363.147058152 |3.7818000000000023|75.63   |7                    |2             |3                |0               |0.2727272727272727|27               |2                   |1                    |0                    |5                 |3           |0            |0                   |0                      |0.07407407407407407   |5                 |3.7818000000000023|0                     |102.31250000000004   |0.0      |\n",
      "|295246834|C#CCCC[C@H](NC(=O)OCC1c2ccccc2-c2ccccc21)C(=O)O|C=Cc1ccc(N)cc1       |CC(O)Cn1cnc2c(N)ncnc21             |C#CCCC[C@H](Nc1nc(Nc2ccc(C=C)cc2)nc(Nc2ncnc3c2ncn3CC(C)O)n1)C(=O)N[Dy]            |HSA         |{C#CCCC[C@H](NC(=O)OCC1c2ccccc2-c2ccccc21)C(=O)O, 363.41300000000007, 363.147058152, 3.7818000000000023, 75.63, 7, 2, 3, 0, 0.2727272727272727, 27, 2, 1, 0, 5, 3, 0, 0, 0, 0.07407407407407407, 5, 3.7818000000000023, 0, 102.31250000000004}|C#CCCC[C@H](NC(=O)OCC1c2ccccc2-c2ccccc21)C(=O)O|363.41300000000007|363.147058152 |3.7818000000000023|75.63   |7                    |2             |3                |0               |0.2727272727272727|27               |2                   |1                    |0                    |5                 |3           |0            |0                   |0                      |0.07407407407407407   |5                 |3.7818000000000023|0                     |102.31250000000004   |2.0      |\n",
      "|295246835|C#CCCC[C@H](NC(=O)OCC1c2ccccc2-c2ccccc21)C(=O)O|C=Cc1ccc(N)cc1       |CC(O)Cn1cnc2c(N)ncnc21             |C#CCCC[C@H](Nc1nc(Nc2ccc(C=C)cc2)nc(Nc2ncnc3c2ncn3CC(C)O)n1)C(=O)N[Dy]            |sEH         |{C#CCCC[C@H](NC(=O)OCC1c2ccccc2-c2ccccc21)C(=O)O, 363.41300000000007, 363.147058152, 3.7818000000000023, 75.63, 7, 2, 3, 0, 0.2727272727272727, 27, 2, 1, 0, 5, 3, 0, 0, 0, 0.07407407407407407, 5, 3.7818000000000023, 0, 102.31250000000004}|C#CCCC[C@H](NC(=O)OCC1c2ccccc2-c2ccccc21)C(=O)O|363.41300000000007|363.147058152 |3.7818000000000023|75.63   |7                    |2             |3                |0               |0.2727272727272727|27               |2                   |1                    |0                    |5                 |3           |0            |0                   |0                      |0.07407407407407407   |5                 |3.7818000000000023|0                     |102.31250000000004   |1.0      |\n",
      "|295246836|C#CCCC[C@H](NC(=O)OCC1c2ccccc2-c2ccccc21)C(=O)O|C=Cc1ccc(N)cc1       |CC1(C)CCCC1(O)CN                   |C#CCCC[C@H](Nc1nc(NCC2(O)CCCC2(C)C)nc(Nc2ccc(C=C)cc2)n1)C(=O)N[Dy]                |BRD4        |{C#CCCC[C@H](NC(=O)OCC1c2ccccc2-c2ccccc21)C(=O)O, 363.41300000000007, 363.147058152, 3.7818000000000023, 75.63, 7, 2, 3, 0, 0.2727272727272727, 27, 2, 1, 0, 5, 3, 0, 0, 0, 0.07407407407407407, 5, 3.7818000000000023, 0, 102.31250000000004}|C#CCCC[C@H](NC(=O)OCC1c2ccccc2-c2ccccc21)C(=O)O|363.41300000000007|363.147058152 |3.7818000000000023|75.63   |7                    |2             |3                |0               |0.2727272727272727|27               |2                   |1                    |0                    |5                 |3           |0            |0                   |0                      |0.07407407407407407   |5                 |3.7818000000000023|0                     |102.31250000000004   |0.0      |\n",
      "|295246837|C#CCCC[C@H](NC(=O)OCC1c2ccccc2-c2ccccc21)C(=O)O|C=Cc1ccc(N)cc1       |CC1(C)CCCC1(O)CN                   |C#CCCC[C@H](Nc1nc(NCC2(O)CCCC2(C)C)nc(Nc2ccc(C=C)cc2)n1)C(=O)N[Dy]                |HSA         |{C#CCCC[C@H](NC(=O)OCC1c2ccccc2-c2ccccc21)C(=O)O, 363.41300000000007, 363.147058152, 3.7818000000000023, 75.63, 7, 2, 3, 0, 0.2727272727272727, 27, 2, 1, 0, 5, 3, 0, 0, 0, 0.07407407407407407, 5, 3.7818000000000023, 0, 102.31250000000004}|C#CCCC[C@H](NC(=O)OCC1c2ccccc2-c2ccccc21)C(=O)O|363.41300000000007|363.147058152 |3.7818000000000023|75.63   |7                    |2             |3                |0               |0.2727272727272727|27               |2                   |1                    |0                    |5                 |3           |0            |0                   |0                      |0.07407407407407407   |5                 |3.7818000000000023|0                     |102.31250000000004   |2.0      |\n",
      "|295246838|C#CCCC[C@H](NC(=O)OCC1c2ccccc2-c2ccccc21)C(=O)O|C=Cc1ccc(N)cc1       |CC1(C)CCCC1(O)CN                   |C#CCCC[C@H](Nc1nc(NCC2(O)CCCC2(C)C)nc(Nc2ccc(C=C)cc2)n1)C(=O)N[Dy]                |sEH         |{C#CCCC[C@H](NC(=O)OCC1c2ccccc2-c2ccccc21)C(=O)O, 363.41300000000007, 363.147058152, 3.7818000000000023, 75.63, 7, 2, 3, 0, 0.2727272727272727, 27, 2, 1, 0, 5, 3, 0, 0, 0, 0.07407407407407407, 5, 3.7818000000000023, 0, 102.31250000000004}|C#CCCC[C@H](NC(=O)OCC1c2ccccc2-c2ccccc21)C(=O)O|363.41300000000007|363.147058152 |3.7818000000000023|75.63   |7                    |2             |3                |0               |0.2727272727272727|27               |2                   |1                    |0                    |5                 |3           |0            |0                   |0                      |0.07407407407407407   |5                 |3.7818000000000023|0                     |102.31250000000004   |1.0      |\n",
      "|295246839|C#CCCC[C@H](NC(=O)OCC1c2ccccc2-c2ccccc21)C(=O)O|C=Cc1ccc(N)cc1       |COC(=O)c1cc(Cl)sc1N                |C#CCCC[C@H](Nc1nc(Nc2ccc(C=C)cc2)nc(Nc2sc(Cl)cc2C(=O)OC)n1)C(=O)N[Dy]             |BRD4        |{C#CCCC[C@H](NC(=O)OCC1c2ccccc2-c2ccccc21)C(=O)O, 363.41300000000007, 363.147058152, 3.7818000000000023, 75.63, 7, 2, 3, 0, 0.2727272727272727, 27, 2, 1, 0, 5, 3, 0, 0, 0, 0.07407407407407407, 5, 3.7818000000000023, 0, 102.31250000000004}|C#CCCC[C@H](NC(=O)OCC1c2ccccc2-c2ccccc21)C(=O)O|363.41300000000007|363.147058152 |3.7818000000000023|75.63   |7                    |2             |3                |0               |0.2727272727272727|27               |2                   |1                    |0                    |5                 |3           |0            |0                   |0                      |0.07407407407407407   |5                 |3.7818000000000023|0                     |102.31250000000004   |0.0      |\n",
      "|295246840|C#CCCC[C@H](NC(=O)OCC1c2ccccc2-c2ccccc21)C(=O)O|C=Cc1ccc(N)cc1       |COC(=O)c1cc(Cl)sc1N                |C#CCCC[C@H](Nc1nc(Nc2ccc(C=C)cc2)nc(Nc2sc(Cl)cc2C(=O)OC)n1)C(=O)N[Dy]             |HSA         |{C#CCCC[C@H](NC(=O)OCC1c2ccccc2-c2ccccc21)C(=O)O, 363.41300000000007, 363.147058152, 3.7818000000000023, 75.63, 7, 2, 3, 0, 0.2727272727272727, 27, 2, 1, 0, 5, 3, 0, 0, 0, 0.07407407407407407, 5, 3.7818000000000023, 0, 102.31250000000004}|C#CCCC[C@H](NC(=O)OCC1c2ccccc2-c2ccccc21)C(=O)O|363.41300000000007|363.147058152 |3.7818000000000023|75.63   |7                    |2             |3                |0               |0.2727272727272727|27               |2                   |1                    |0                    |5                 |3           |0            |0                   |0                      |0.07407407407407407   |5                 |3.7818000000000023|0                     |102.31250000000004   |2.0      |\n",
      "|295246841|C#CCCC[C@H](NC(=O)OCC1c2ccccc2-c2ccccc21)C(=O)O|C=Cc1ccc(N)cc1       |COC(=O)c1cc(Cl)sc1N                |C#CCCC[C@H](Nc1nc(Nc2ccc(C=C)cc2)nc(Nc2sc(Cl)cc2C(=O)OC)n1)C(=O)N[Dy]             |sEH         |{C#CCCC[C@H](NC(=O)OCC1c2ccccc2-c2ccccc21)C(=O)O, 363.41300000000007, 363.147058152, 3.7818000000000023, 75.63, 7, 2, 3, 0, 0.2727272727272727, 27, 2, 1, 0, 5, 3, 0, 0, 0, 0.07407407407407407, 5, 3.7818000000000023, 0, 102.31250000000004}|C#CCCC[C@H](NC(=O)OCC1c2ccccc2-c2ccccc21)C(=O)O|363.41300000000007|363.147058152 |3.7818000000000023|75.63   |7                    |2             |3                |0               |0.2727272727272727|27               |2                   |1                    |0                    |5                 |3           |0            |0                   |0                      |0.07407407407407407   |5                 |3.7818000000000023|0                     |102.31250000000004   |1.0      |\n",
      "|295246842|C#CCCC[C@H](NC(=O)OCC1c2ccccc2-c2ccccc21)C(=O)O|C=Cc1ccc(N)cc1       |CSC1CCC(CN)CC1                     |C#CCCC[C@H](Nc1nc(NCC2CCC(SC)CC2)nc(Nc2ccc(C=C)cc2)n1)C(=O)N[Dy]                  |BRD4        |{C#CCCC[C@H](NC(=O)OCC1c2ccccc2-c2ccccc21)C(=O)O, 363.41300000000007, 363.147058152, 3.7818000000000023, 75.63, 7, 2, 3, 0, 0.2727272727272727, 27, 2, 1, 0, 5, 3, 0, 0, 0, 0.07407407407407407, 5, 3.7818000000000023, 0, 102.31250000000004}|C#CCCC[C@H](NC(=O)OCC1c2ccccc2-c2ccccc21)C(=O)O|363.41300000000007|363.147058152 |3.7818000000000023|75.63   |7                    |2             |3                |0               |0.2727272727272727|27               |2                   |1                    |0                    |5                 |3           |0            |0                   |0                      |0.07407407407407407   |5                 |3.7818000000000023|0                     |102.31250000000004   |0.0      |\n",
      "|295246843|C#CCCC[C@H](NC(=O)OCC1c2ccccc2-c2ccccc21)C(=O)O|C=Cc1ccc(N)cc1       |CSC1CCC(CN)CC1                     |C#CCCC[C@H](Nc1nc(NCC2CCC(SC)CC2)nc(Nc2ccc(C=C)cc2)n1)C(=O)N[Dy]                  |HSA         |{C#CCCC[C@H](NC(=O)OCC1c2ccccc2-c2ccccc21)C(=O)O, 363.41300000000007, 363.147058152, 3.7818000000000023, 75.63, 7, 2, 3, 0, 0.2727272727272727, 27, 2, 1, 0, 5, 3, 0, 0, 0, 0.07407407407407407, 5, 3.7818000000000023, 0, 102.31250000000004}|C#CCCC[C@H](NC(=O)OCC1c2ccccc2-c2ccccc21)C(=O)O|363.41300000000007|363.147058152 |3.7818000000000023|75.63   |7                    |2             |3                |0               |0.2727272727272727|27               |2                   |1                    |0                    |5                 |3           |0            |0                   |0                      |0.07407407407407407   |5                 |3.7818000000000023|0                     |102.31250000000004   |2.0      |\n",
      "|295246844|C#CCCC[C@H](NC(=O)OCC1c2ccccc2-c2ccccc21)C(=O)O|C=Cc1ccc(N)cc1       |CSC1CCC(CN)CC1                     |C#CCCC[C@H](Nc1nc(NCC2CCC(SC)CC2)nc(Nc2ccc(C=C)cc2)n1)C(=O)N[Dy]                  |sEH         |{C#CCCC[C@H](NC(=O)OCC1c2ccccc2-c2ccccc21)C(=O)O, 363.41300000000007, 363.147058152, 3.7818000000000023, 75.63, 7, 2, 3, 0, 0.2727272727272727, 27, 2, 1, 0, 5, 3, 0, 0, 0, 0.07407407407407407, 5, 3.7818000000000023, 0, 102.31250000000004}|C#CCCC[C@H](NC(=O)OCC1c2ccccc2-c2ccccc21)C(=O)O|363.41300000000007|363.147058152 |3.7818000000000023|75.63   |7                    |2             |3                |0               |0.2727272727272727|27               |2                   |1                    |0                    |5                 |3           |0            |0                   |0                      |0.07407407407407407   |5                 |3.7818000000000023|0                     |102.31250000000004   |1.0      |\n",
      "|295246845|C#CCCC[C@H](NC(=O)OCC1c2ccccc2-c2ccccc21)C(=O)O|C=Cc1ccc(N)cc1       |Cc1ccc(CN)c(N2CCCC2)c1.Cl.Cl       |C#CCCC[C@H](Nc1nc(NCc2ccc(C)cc2N2CCCC2)nc(Nc2ccc(C=C)cc2)n1)C(=O)N[Dy]            |BRD4        |{C#CCCC[C@H](NC(=O)OCC1c2ccccc2-c2ccccc21)C(=O)O, 363.41300000000007, 363.147058152, 3.7818000000000023, 75.63, 7, 2, 3, 0, 0.2727272727272727, 27, 2, 1, 0, 5, 3, 0, 0, 0, 0.07407407407407407, 5, 3.7818000000000023, 0, 102.31250000000004}|C#CCCC[C@H](NC(=O)OCC1c2ccccc2-c2ccccc21)C(=O)O|363.41300000000007|363.147058152 |3.7818000000000023|75.63   |7                    |2             |3                |0               |0.2727272727272727|27               |2                   |1                    |0                    |5                 |3           |0            |0                   |0                      |0.07407407407407407   |5                 |3.7818000000000023|0                     |102.31250000000004   |0.0      |\n",
      "|295246846|C#CCCC[C@H](NC(=O)OCC1c2ccccc2-c2ccccc21)C(=O)O|C=Cc1ccc(N)cc1       |Cc1ccc(CN)c(N2CCCC2)c1.Cl.Cl       |C#CCCC[C@H](Nc1nc(NCc2ccc(C)cc2N2CCCC2)nc(Nc2ccc(C=C)cc2)n1)C(=O)N[Dy]            |HSA         |{C#CCCC[C@H](NC(=O)OCC1c2ccccc2-c2ccccc21)C(=O)O, 363.41300000000007, 363.147058152, 3.7818000000000023, 75.63, 7, 2, 3, 0, 0.2727272727272727, 27, 2, 1, 0, 5, 3, 0, 0, 0, 0.07407407407407407, 5, 3.7818000000000023, 0, 102.31250000000004}|C#CCCC[C@H](NC(=O)OCC1c2ccccc2-c2ccccc21)C(=O)O|363.41300000000007|363.147058152 |3.7818000000000023|75.63   |7                    |2             |3                |0               |0.2727272727272727|27               |2                   |1                    |0                    |5                 |3           |0            |0                   |0                      |0.07407407407407407   |5                 |3.7818000000000023|0                     |102.31250000000004   |2.0      |\n",
      "|295246847|C#CCCC[C@H](NC(=O)OCC1c2ccccc2-c2ccccc21)C(=O)O|C=Cc1ccc(N)cc1       |Cc1ccc(CN)c(N2CCCC2)c1.Cl.Cl       |C#CCCC[C@H](Nc1nc(NCc2ccc(C)cc2N2CCCC2)nc(Nc2ccc(C=C)cc2)n1)C(=O)N[Dy]            |sEH         |{C#CCCC[C@H](NC(=O)OCC1c2ccccc2-c2ccccc21)C(=O)O, 363.41300000000007, 363.147058152, 3.7818000000000023, 75.63, 7, 2, 3, 0, 0.2727272727272727, 27, 2, 1, 0, 5, 3, 0, 0, 0, 0.07407407407407407, 5, 3.7818000000000023, 0, 102.31250000000004}|C#CCCC[C@H](NC(=O)OCC1c2ccccc2-c2ccccc21)C(=O)O|363.41300000000007|363.147058152 |3.7818000000000023|75.63   |7                    |2             |3                |0               |0.2727272727272727|27               |2                   |1                    |0                    |5                 |3           |0            |0                   |0                      |0.07407407407407407   |5                 |3.7818000000000023|0                     |102.31250000000004   |1.0      |\n",
      "|295246848|C#CCCC[C@H](NC(=O)OCC1c2ccccc2-c2ccccc21)C(=O)O|C=Cc1ccc(N)cc1       |Cc1cccc(NC(=O)COc2ccc(CCN)cc2)c1.Cl|C#CCCC[C@H](Nc1nc(NCCc2ccc(OCC(=O)Nc3cccc(C)c3)cc2)nc(Nc2ccc(C=C)cc2)n1)C(=O)N[Dy]|BRD4        |{C#CCCC[C@H](NC(=O)OCC1c2ccccc2-c2ccccc21)C(=O)O, 363.41300000000007, 363.147058152, 3.7818000000000023, 75.63, 7, 2, 3, 0, 0.2727272727272727, 27, 2, 1, 0, 5, 3, 0, 0, 0, 0.07407407407407407, 5, 3.7818000000000023, 0, 102.31250000000004}|C#CCCC[C@H](NC(=O)OCC1c2ccccc2-c2ccccc21)C(=O)O|363.41300000000007|363.147058152 |3.7818000000000023|75.63   |7                    |2             |3                |0               |0.2727272727272727|27               |2                   |1                    |0                    |5                 |3           |0            |0                   |0                      |0.07407407407407407   |5                 |3.7818000000000023|0                     |102.31250000000004   |0.0      |\n",
      "|295246849|C#CCCC[C@H](NC(=O)OCC1c2ccccc2-c2ccccc21)C(=O)O|C=Cc1ccc(N)cc1       |Cc1cccc(NC(=O)COc2ccc(CCN)cc2)c1.Cl|C#CCCC[C@H](Nc1nc(NCCc2ccc(OCC(=O)Nc3cccc(C)c3)cc2)nc(Nc2ccc(C=C)cc2)n1)C(=O)N[Dy]|HSA         |{C#CCCC[C@H](NC(=O)OCC1c2ccccc2-c2ccccc21)C(=O)O, 363.41300000000007, 363.147058152, 3.7818000000000023, 75.63, 7, 2, 3, 0, 0.2727272727272727, 27, 2, 1, 0, 5, 3, 0, 0, 0, 0.07407407407407407, 5, 3.7818000000000023, 0, 102.31250000000004}|C#CCCC[C@H](NC(=O)OCC1c2ccccc2-c2ccccc21)C(=O)O|363.41300000000007|363.147058152 |3.7818000000000023|75.63   |7                    |2             |3                |0               |0.2727272727272727|27               |2                   |1                    |0                    |5                 |3           |0            |0                   |0                      |0.07407407407407407   |5                 |3.7818000000000023|0                     |102.31250000000004   |2.0      |\n",
      "+---------+-----------------------------------------------+---------------------+-----------------------------------+----------------------------------------------------------------------------------+------------+----------------------------------------------------------------------------------------------------------------------------------------------------------------------------------------------------------------------------------------------+-----------------------------------------------+------------------+--------------+------------------+--------+---------------------+--------------+-----------------+----------------+------------------+-----------------+--------------------+---------------------+---------------------+------------------+------------+-------------+--------------------+-----------------------+----------------------+------------------+------------------+----------------------+---------------------+---------+\n",
      "only showing top 20 rows\n",
      "\n"
     ]
    }
   ],
   "source": [
    "df = df.withColumn(\"bb1_descriptors\", descriptor_udf(\"bb1_smiles\"))\n",
    "\n",
    "for field in descriptor_schema.fields:\n",
    "    df = df.withColumn(\n",
    "        f\"bb1_{field.name}\",\n",
    "        df[\"bb1_descriptors\"][field.name]\n",
    "    )\n",
    "\n",
    "df.show(truncate=False)"
   ]
  },
  {
   "cell_type": "code",
   "execution_count": 62,
   "id": "9324a6ae-96c9-4017-a1d4-3a92e0d0b2f0",
   "metadata": {
    "editable": true,
    "slideshow": {
     "slide_type": ""
    },
    "tags": []
   },
   "outputs": [
    {
     "name": "stderr",
     "output_type": "stream",
     "text": [
      "[Stage 46:===========================================>              (3 + 1) / 4]"
     ]
    },
    {
     "name": "stdout",
     "output_type": "stream",
     "text": [
      "+---------+---------------------+---------------------+---------------------+--------------------+------------+--------------------+--------------------+------------------+--------------+------------------+--------+---------------------+--------------+-----------------+----------------+------------------+-----------------+--------------------+---------------------+---------------------+------------------+------------+-------------+--------------------+-----------------------+----------------------+------------------+------------------+----------------------+---------------------+---------+\n",
      "|       id|buildingblock1_smiles|buildingblock2_smiles|buildingblock3_smiles|     molecule_smiles|protein_name|     bb1_descriptors|          bb1_smiles|         bb1_MolWt|bb1_ExactMolWt|       bb1_MolLogP|bb1_TPSA|bb1_NumRotatableBonds|bb1_NumHDonors|bb1_NumHAcceptors|bb1_FormalCharge|  bb1_FractionCSP3|bb1_NumHeavyAtoms|bb1_NumAromaticRings|bb1_NumAliphaticRings|bb1_NumSaturatedRings|bb1_NumHeteroatoms|bb1_NumRings|bb1_MolVolume|bb1_RadiusOfGyration|bb1_InertialShapeFactor|bb1_AromaticProportion|bb1_HBondPotential| bb1_Lipophilicity|bb1_ChargeDistribution|bb1_ElectroNegativity|protein_i|\n",
      "+---------+---------------------+---------------------+---------------------+--------------------+------------+--------------------+--------------------+------------------+--------------+------------------+--------+---------------------+--------------+-----------------+----------------+------------------+-----------------+--------------------+---------------------+---------------------+------------------+------------+-------------+--------------------+-----------------------+----------------------+------------------+------------------+----------------------+---------------------+---------+\n",
      "|295246830| C#CCCC[C@H](NC(=O...|       C=Cc1ccc(N)cc1|       C=Cc1ccc(N)cc1|C#CCCC[C@H](Nc1nc...|        BRD4|{C#CCCC[C@H](NC(=...|C#CCCC[C@H](NC(=O...|363.41300000000007| 363.147058152|3.7818000000000023|   75.63|                    7|             2|                3|               0|0.2727272727272727|               27|                   2|                    1|                    0|                 5|           3|            0|                   0|                      0|   0.07407407407407407|                 5|3.7818000000000023|                     0|   102.31250000000004|      0.0|\n",
      "|295246831| C#CCCC[C@H](NC(=O...|       C=Cc1ccc(N)cc1|       C=Cc1ccc(N)cc1|C#CCCC[C@H](Nc1nc...|         HSA|{C#CCCC[C@H](NC(=...|C#CCCC[C@H](NC(=O...|363.41300000000007| 363.147058152|3.7818000000000023|   75.63|                    7|             2|                3|               0|0.2727272727272727|               27|                   2|                    1|                    0|                 5|           3|            0|                   0|                      0|   0.07407407407407407|                 5|3.7818000000000023|                     0|   102.31250000000004|      2.0|\n",
      "|295246832| C#CCCC[C@H](NC(=O...|       C=Cc1ccc(N)cc1|       C=Cc1ccc(N)cc1|C#CCCC[C@H](Nc1nc...|         sEH|{C#CCCC[C@H](NC(=...|C#CCCC[C@H](NC(=O...|363.41300000000007| 363.147058152|3.7818000000000023|   75.63|                    7|             2|                3|               0|0.2727272727272727|               27|                   2|                    1|                    0|                 5|           3|            0|                   0|                      0|   0.07407407407407407|                 5|3.7818000000000023|                     0|   102.31250000000004|      1.0|\n",
      "|295246833| C#CCCC[C@H](NC(=O...|       C=Cc1ccc(N)cc1| CC(O)Cn1cnc2c(N)n...|C#CCCC[C@H](Nc1nc...|        BRD4|{C#CCCC[C@H](NC(=...|C#CCCC[C@H](NC(=O...|363.41300000000007| 363.147058152|3.7818000000000023|   75.63|                    7|             2|                3|               0|0.2727272727272727|               27|                   2|                    1|                    0|                 5|           3|            0|                   0|                      0|   0.07407407407407407|                 5|3.7818000000000023|                     0|   102.31250000000004|      0.0|\n",
      "|295246834| C#CCCC[C@H](NC(=O...|       C=Cc1ccc(N)cc1| CC(O)Cn1cnc2c(N)n...|C#CCCC[C@H](Nc1nc...|         HSA|{C#CCCC[C@H](NC(=...|C#CCCC[C@H](NC(=O...|363.41300000000007| 363.147058152|3.7818000000000023|   75.63|                    7|             2|                3|               0|0.2727272727272727|               27|                   2|                    1|                    0|                 5|           3|            0|                   0|                      0|   0.07407407407407407|                 5|3.7818000000000023|                     0|   102.31250000000004|      2.0|\n",
      "|295246835| C#CCCC[C@H](NC(=O...|       C=Cc1ccc(N)cc1| CC(O)Cn1cnc2c(N)n...|C#CCCC[C@H](Nc1nc...|         sEH|{C#CCCC[C@H](NC(=...|C#CCCC[C@H](NC(=O...|363.41300000000007| 363.147058152|3.7818000000000023|   75.63|                    7|             2|                3|               0|0.2727272727272727|               27|                   2|                    1|                    0|                 5|           3|            0|                   0|                      0|   0.07407407407407407|                 5|3.7818000000000023|                     0|   102.31250000000004|      1.0|\n",
      "|295246836| C#CCCC[C@H](NC(=O...|       C=Cc1ccc(N)cc1|     CC1(C)CCCC1(O)CN|C#CCCC[C@H](Nc1nc...|        BRD4|{C#CCCC[C@H](NC(=...|C#CCCC[C@H](NC(=O...|363.41300000000007| 363.147058152|3.7818000000000023|   75.63|                    7|             2|                3|               0|0.2727272727272727|               27|                   2|                    1|                    0|                 5|           3|            0|                   0|                      0|   0.07407407407407407|                 5|3.7818000000000023|                     0|   102.31250000000004|      0.0|\n",
      "|295246837| C#CCCC[C@H](NC(=O...|       C=Cc1ccc(N)cc1|     CC1(C)CCCC1(O)CN|C#CCCC[C@H](Nc1nc...|         HSA|{C#CCCC[C@H](NC(=...|C#CCCC[C@H](NC(=O...|363.41300000000007| 363.147058152|3.7818000000000023|   75.63|                    7|             2|                3|               0|0.2727272727272727|               27|                   2|                    1|                    0|                 5|           3|            0|                   0|                      0|   0.07407407407407407|                 5|3.7818000000000023|                     0|   102.31250000000004|      2.0|\n",
      "|295246838| C#CCCC[C@H](NC(=O...|       C=Cc1ccc(N)cc1|     CC1(C)CCCC1(O)CN|C#CCCC[C@H](Nc1nc...|         sEH|{C#CCCC[C@H](NC(=...|C#CCCC[C@H](NC(=O...|363.41300000000007| 363.147058152|3.7818000000000023|   75.63|                    7|             2|                3|               0|0.2727272727272727|               27|                   2|                    1|                    0|                 5|           3|            0|                   0|                      0|   0.07407407407407407|                 5|3.7818000000000023|                     0|   102.31250000000004|      1.0|\n",
      "|295246839| C#CCCC[C@H](NC(=O...|       C=Cc1ccc(N)cc1|  COC(=O)c1cc(Cl)sc1N|C#CCCC[C@H](Nc1nc...|        BRD4|{C#CCCC[C@H](NC(=...|C#CCCC[C@H](NC(=O...|363.41300000000007| 363.147058152|3.7818000000000023|   75.63|                    7|             2|                3|               0|0.2727272727272727|               27|                   2|                    1|                    0|                 5|           3|            0|                   0|                      0|   0.07407407407407407|                 5|3.7818000000000023|                     0|   102.31250000000004|      0.0|\n",
      "|295246840| C#CCCC[C@H](NC(=O...|       C=Cc1ccc(N)cc1|  COC(=O)c1cc(Cl)sc1N|C#CCCC[C@H](Nc1nc...|         HSA|{C#CCCC[C@H](NC(=...|C#CCCC[C@H](NC(=O...|363.41300000000007| 363.147058152|3.7818000000000023|   75.63|                    7|             2|                3|               0|0.2727272727272727|               27|                   2|                    1|                    0|                 5|           3|            0|                   0|                      0|   0.07407407407407407|                 5|3.7818000000000023|                     0|   102.31250000000004|      2.0|\n",
      "|295246841| C#CCCC[C@H](NC(=O...|       C=Cc1ccc(N)cc1|  COC(=O)c1cc(Cl)sc1N|C#CCCC[C@H](Nc1nc...|         sEH|{C#CCCC[C@H](NC(=...|C#CCCC[C@H](NC(=O...|363.41300000000007| 363.147058152|3.7818000000000023|   75.63|                    7|             2|                3|               0|0.2727272727272727|               27|                   2|                    1|                    0|                 5|           3|            0|                   0|                      0|   0.07407407407407407|                 5|3.7818000000000023|                     0|   102.31250000000004|      1.0|\n",
      "|295246842| C#CCCC[C@H](NC(=O...|       C=Cc1ccc(N)cc1|       CSC1CCC(CN)CC1|C#CCCC[C@H](Nc1nc...|        BRD4|{C#CCCC[C@H](NC(=...|C#CCCC[C@H](NC(=O...|363.41300000000007| 363.147058152|3.7818000000000023|   75.63|                    7|             2|                3|               0|0.2727272727272727|               27|                   2|                    1|                    0|                 5|           3|            0|                   0|                      0|   0.07407407407407407|                 5|3.7818000000000023|                     0|   102.31250000000004|      0.0|\n",
      "|295246843| C#CCCC[C@H](NC(=O...|       C=Cc1ccc(N)cc1|       CSC1CCC(CN)CC1|C#CCCC[C@H](Nc1nc...|         HSA|{C#CCCC[C@H](NC(=...|C#CCCC[C@H](NC(=O...|363.41300000000007| 363.147058152|3.7818000000000023|   75.63|                    7|             2|                3|               0|0.2727272727272727|               27|                   2|                    1|                    0|                 5|           3|            0|                   0|                      0|   0.07407407407407407|                 5|3.7818000000000023|                     0|   102.31250000000004|      2.0|\n",
      "|295246844| C#CCCC[C@H](NC(=O...|       C=Cc1ccc(N)cc1|       CSC1CCC(CN)CC1|C#CCCC[C@H](Nc1nc...|         sEH|{C#CCCC[C@H](NC(=...|C#CCCC[C@H](NC(=O...|363.41300000000007| 363.147058152|3.7818000000000023|   75.63|                    7|             2|                3|               0|0.2727272727272727|               27|                   2|                    1|                    0|                 5|           3|            0|                   0|                      0|   0.07407407407407407|                 5|3.7818000000000023|                     0|   102.31250000000004|      1.0|\n",
      "|295246845| C#CCCC[C@H](NC(=O...|       C=Cc1ccc(N)cc1| Cc1ccc(CN)c(N2CCC...|C#CCCC[C@H](Nc1nc...|        BRD4|{C#CCCC[C@H](NC(=...|C#CCCC[C@H](NC(=O...|363.41300000000007| 363.147058152|3.7818000000000023|   75.63|                    7|             2|                3|               0|0.2727272727272727|               27|                   2|                    1|                    0|                 5|           3|            0|                   0|                      0|   0.07407407407407407|                 5|3.7818000000000023|                     0|   102.31250000000004|      0.0|\n",
      "|295246846| C#CCCC[C@H](NC(=O...|       C=Cc1ccc(N)cc1| Cc1ccc(CN)c(N2CCC...|C#CCCC[C@H](Nc1nc...|         HSA|{C#CCCC[C@H](NC(=...|C#CCCC[C@H](NC(=O...|363.41300000000007| 363.147058152|3.7818000000000023|   75.63|                    7|             2|                3|               0|0.2727272727272727|               27|                   2|                    1|                    0|                 5|           3|            0|                   0|                      0|   0.07407407407407407|                 5|3.7818000000000023|                     0|   102.31250000000004|      2.0|\n",
      "|295246847| C#CCCC[C@H](NC(=O...|       C=Cc1ccc(N)cc1| Cc1ccc(CN)c(N2CCC...|C#CCCC[C@H](Nc1nc...|         sEH|{C#CCCC[C@H](NC(=...|C#CCCC[C@H](NC(=O...|363.41300000000007| 363.147058152|3.7818000000000023|   75.63|                    7|             2|                3|               0|0.2727272727272727|               27|                   2|                    1|                    0|                 5|           3|            0|                   0|                      0|   0.07407407407407407|                 5|3.7818000000000023|                     0|   102.31250000000004|      1.0|\n",
      "|295246848| C#CCCC[C@H](NC(=O...|       C=Cc1ccc(N)cc1| Cc1cccc(NC(=O)COc...|C#CCCC[C@H](Nc1nc...|        BRD4|{C#CCCC[C@H](NC(=...|C#CCCC[C@H](NC(=O...|363.41300000000007| 363.147058152|3.7818000000000023|   75.63|                    7|             2|                3|               0|0.2727272727272727|               27|                   2|                    1|                    0|                 5|           3|            0|                   0|                      0|   0.07407407407407407|                 5|3.7818000000000023|                     0|   102.31250000000004|      0.0|\n",
      "|295246849| C#CCCC[C@H](NC(=O...|       C=Cc1ccc(N)cc1| Cc1cccc(NC(=O)COc...|C#CCCC[C@H](Nc1nc...|         HSA|{C#CCCC[C@H](NC(=...|C#CCCC[C@H](NC(=O...|363.41300000000007| 363.147058152|3.7818000000000023|   75.63|                    7|             2|                3|               0|0.2727272727272727|               27|                   2|                    1|                    0|                 5|           3|            0|                   0|                      0|   0.07407407407407407|                 5|3.7818000000000023|                     0|   102.31250000000004|      2.0|\n",
      "+---------+---------------------+---------------------+---------------------+--------------------+------------+--------------------+--------------------+------------------+--------------+------------------+--------+---------------------+--------------+-----------------+----------------+------------------+-----------------+--------------------+---------------------+---------------------+------------------+------------+-------------+--------------------+-----------------------+----------------------+------------------+------------------+----------------------+---------------------+---------+\n",
      "only showing top 20 rows\n",
      "\n"
     ]
    },
    {
     "name": "stderr",
     "output_type": "stream",
     "text": [
      "                                                                                "
     ]
    }
   ],
   "source": [
    "protein_Indexer = StringIndexer(inputCol=\"protein_name\", outputCol=\"protein_i\", stringOrderType=\"frequencyDesc\")\n",
    "protein_Indexer = protein_Indexer.fit(df)\n",
    "\n",
    "df = protein_Indexer.transform(df)\n",
    "df.show()"
   ]
  },
  {
   "cell_type": "code",
   "execution_count": 64,
   "id": "6508654a-21d4-4441-b025-63048cb9985e",
   "metadata": {
    "editable": true,
    "slideshow": {
     "slide_type": ""
    },
    "tags": []
   },
   "outputs": [],
   "source": [
    "protein_ohe = OneHotEncoder(inputCol=\"protein_i\", outputCol=\"protein_onehot\")\n",
    "protein_ohe = protein_ohe.fit(df)\n",
    "\n",
    "df = protein_ohe.transform(df)"
   ]
  },
  {
   "cell_type": "code",
   "execution_count": 65,
   "id": "22a25cee-ef93-4878-9138-c9905b8058fc",
   "metadata": {},
   "outputs": [
    {
     "name": "stderr",
     "output_type": "stream",
     "text": [
      "                                                                                "
     ]
    },
    {
     "name": "stdout",
     "output_type": "stream",
     "text": [
      "+---------+---------------------+---------------------+---------------------+--------------------+------------+--------------------+--------------------+------------------+--------------+------------------+--------+---------------------+--------------+-----------------+----------------+------------------+-----------------+--------------------+---------------------+---------------------+------------------+------------+-------------+--------------------+-----------------------+----------------------+------------------+------------------+----------------------+---------------------+---------+--------------+\n",
      "|       id|buildingblock1_smiles|buildingblock2_smiles|buildingblock3_smiles|     molecule_smiles|protein_name|     bb1_descriptors|          bb1_smiles|         bb1_MolWt|bb1_ExactMolWt|       bb1_MolLogP|bb1_TPSA|bb1_NumRotatableBonds|bb1_NumHDonors|bb1_NumHAcceptors|bb1_FormalCharge|  bb1_FractionCSP3|bb1_NumHeavyAtoms|bb1_NumAromaticRings|bb1_NumAliphaticRings|bb1_NumSaturatedRings|bb1_NumHeteroatoms|bb1_NumRings|bb1_MolVolume|bb1_RadiusOfGyration|bb1_InertialShapeFactor|bb1_AromaticProportion|bb1_HBondPotential| bb1_Lipophilicity|bb1_ChargeDistribution|bb1_ElectroNegativity|protein_i|protein_onehot|\n",
      "+---------+---------------------+---------------------+---------------------+--------------------+------------+--------------------+--------------------+------------------+--------------+------------------+--------+---------------------+--------------+-----------------+----------------+------------------+-----------------+--------------------+---------------------+---------------------+------------------+------------+-------------+--------------------+-----------------------+----------------------+------------------+------------------+----------------------+---------------------+---------+--------------+\n",
      "|295246830| C#CCCC[C@H](NC(=O...|       C=Cc1ccc(N)cc1|       C=Cc1ccc(N)cc1|C#CCCC[C@H](Nc1nc...|        BRD4|{C#CCCC[C@H](NC(=...|C#CCCC[C@H](NC(=O...|363.41300000000007| 363.147058152|3.7818000000000023|   75.63|                    7|             2|                3|               0|0.2727272727272727|               27|                   2|                    1|                    0|                 5|           3|            0|                   0|                      0|   0.07407407407407407|                 5|3.7818000000000023|                     0|   102.31250000000004|      0.0| (2,[0],[1.0])|\n",
      "|295246831| C#CCCC[C@H](NC(=O...|       C=Cc1ccc(N)cc1|       C=Cc1ccc(N)cc1|C#CCCC[C@H](Nc1nc...|         HSA|{C#CCCC[C@H](NC(=...|C#CCCC[C@H](NC(=O...|363.41300000000007| 363.147058152|3.7818000000000023|   75.63|                    7|             2|                3|               0|0.2727272727272727|               27|                   2|                    1|                    0|                 5|           3|            0|                   0|                      0|   0.07407407407407407|                 5|3.7818000000000023|                     0|   102.31250000000004|      2.0|     (2,[],[])|\n",
      "|295246832| C#CCCC[C@H](NC(=O...|       C=Cc1ccc(N)cc1|       C=Cc1ccc(N)cc1|C#CCCC[C@H](Nc1nc...|         sEH|{C#CCCC[C@H](NC(=...|C#CCCC[C@H](NC(=O...|363.41300000000007| 363.147058152|3.7818000000000023|   75.63|                    7|             2|                3|               0|0.2727272727272727|               27|                   2|                    1|                    0|                 5|           3|            0|                   0|                      0|   0.07407407407407407|                 5|3.7818000000000023|                     0|   102.31250000000004|      1.0| (2,[1],[1.0])|\n",
      "|295246833| C#CCCC[C@H](NC(=O...|       C=Cc1ccc(N)cc1| CC(O)Cn1cnc2c(N)n...|C#CCCC[C@H](Nc1nc...|        BRD4|{C#CCCC[C@H](NC(=...|C#CCCC[C@H](NC(=O...|363.41300000000007| 363.147058152|3.7818000000000023|   75.63|                    7|             2|                3|               0|0.2727272727272727|               27|                   2|                    1|                    0|                 5|           3|            0|                   0|                      0|   0.07407407407407407|                 5|3.7818000000000023|                     0|   102.31250000000004|      0.0| (2,[0],[1.0])|\n",
      "|295246834| C#CCCC[C@H](NC(=O...|       C=Cc1ccc(N)cc1| CC(O)Cn1cnc2c(N)n...|C#CCCC[C@H](Nc1nc...|         HSA|{C#CCCC[C@H](NC(=...|C#CCCC[C@H](NC(=O...|363.41300000000007| 363.147058152|3.7818000000000023|   75.63|                    7|             2|                3|               0|0.2727272727272727|               27|                   2|                    1|                    0|                 5|           3|            0|                   0|                      0|   0.07407407407407407|                 5|3.7818000000000023|                     0|   102.31250000000004|      2.0|     (2,[],[])|\n",
      "|295246835| C#CCCC[C@H](NC(=O...|       C=Cc1ccc(N)cc1| CC(O)Cn1cnc2c(N)n...|C#CCCC[C@H](Nc1nc...|         sEH|{C#CCCC[C@H](NC(=...|C#CCCC[C@H](NC(=O...|363.41300000000007| 363.147058152|3.7818000000000023|   75.63|                    7|             2|                3|               0|0.2727272727272727|               27|                   2|                    1|                    0|                 5|           3|            0|                   0|                      0|   0.07407407407407407|                 5|3.7818000000000023|                     0|   102.31250000000004|      1.0| (2,[1],[1.0])|\n",
      "|295246836| C#CCCC[C@H](NC(=O...|       C=Cc1ccc(N)cc1|     CC1(C)CCCC1(O)CN|C#CCCC[C@H](Nc1nc...|        BRD4|{C#CCCC[C@H](NC(=...|C#CCCC[C@H](NC(=O...|363.41300000000007| 363.147058152|3.7818000000000023|   75.63|                    7|             2|                3|               0|0.2727272727272727|               27|                   2|                    1|                    0|                 5|           3|            0|                   0|                      0|   0.07407407407407407|                 5|3.7818000000000023|                     0|   102.31250000000004|      0.0| (2,[0],[1.0])|\n",
      "|295246837| C#CCCC[C@H](NC(=O...|       C=Cc1ccc(N)cc1|     CC1(C)CCCC1(O)CN|C#CCCC[C@H](Nc1nc...|         HSA|{C#CCCC[C@H](NC(=...|C#CCCC[C@H](NC(=O...|363.41300000000007| 363.147058152|3.7818000000000023|   75.63|                    7|             2|                3|               0|0.2727272727272727|               27|                   2|                    1|                    0|                 5|           3|            0|                   0|                      0|   0.07407407407407407|                 5|3.7818000000000023|                     0|   102.31250000000004|      2.0|     (2,[],[])|\n",
      "|295246838| C#CCCC[C@H](NC(=O...|       C=Cc1ccc(N)cc1|     CC1(C)CCCC1(O)CN|C#CCCC[C@H](Nc1nc...|         sEH|{C#CCCC[C@H](NC(=...|C#CCCC[C@H](NC(=O...|363.41300000000007| 363.147058152|3.7818000000000023|   75.63|                    7|             2|                3|               0|0.2727272727272727|               27|                   2|                    1|                    0|                 5|           3|            0|                   0|                      0|   0.07407407407407407|                 5|3.7818000000000023|                     0|   102.31250000000004|      1.0| (2,[1],[1.0])|\n",
      "|295246839| C#CCCC[C@H](NC(=O...|       C=Cc1ccc(N)cc1|  COC(=O)c1cc(Cl)sc1N|C#CCCC[C@H](Nc1nc...|        BRD4|{C#CCCC[C@H](NC(=...|C#CCCC[C@H](NC(=O...|363.41300000000007| 363.147058152|3.7818000000000023|   75.63|                    7|             2|                3|               0|0.2727272727272727|               27|                   2|                    1|                    0|                 5|           3|            0|                   0|                      0|   0.07407407407407407|                 5|3.7818000000000023|                     0|   102.31250000000004|      0.0| (2,[0],[1.0])|\n",
      "|295246840| C#CCCC[C@H](NC(=O...|       C=Cc1ccc(N)cc1|  COC(=O)c1cc(Cl)sc1N|C#CCCC[C@H](Nc1nc...|         HSA|{C#CCCC[C@H](NC(=...|C#CCCC[C@H](NC(=O...|363.41300000000007| 363.147058152|3.7818000000000023|   75.63|                    7|             2|                3|               0|0.2727272727272727|               27|                   2|                    1|                    0|                 5|           3|            0|                   0|                      0|   0.07407407407407407|                 5|3.7818000000000023|                     0|   102.31250000000004|      2.0|     (2,[],[])|\n",
      "|295246841| C#CCCC[C@H](NC(=O...|       C=Cc1ccc(N)cc1|  COC(=O)c1cc(Cl)sc1N|C#CCCC[C@H](Nc1nc...|         sEH|{C#CCCC[C@H](NC(=...|C#CCCC[C@H](NC(=O...|363.41300000000007| 363.147058152|3.7818000000000023|   75.63|                    7|             2|                3|               0|0.2727272727272727|               27|                   2|                    1|                    0|                 5|           3|            0|                   0|                      0|   0.07407407407407407|                 5|3.7818000000000023|                     0|   102.31250000000004|      1.0| (2,[1],[1.0])|\n",
      "|295246842| C#CCCC[C@H](NC(=O...|       C=Cc1ccc(N)cc1|       CSC1CCC(CN)CC1|C#CCCC[C@H](Nc1nc...|        BRD4|{C#CCCC[C@H](NC(=...|C#CCCC[C@H](NC(=O...|363.41300000000007| 363.147058152|3.7818000000000023|   75.63|                    7|             2|                3|               0|0.2727272727272727|               27|                   2|                    1|                    0|                 5|           3|            0|                   0|                      0|   0.07407407407407407|                 5|3.7818000000000023|                     0|   102.31250000000004|      0.0| (2,[0],[1.0])|\n",
      "|295246843| C#CCCC[C@H](NC(=O...|       C=Cc1ccc(N)cc1|       CSC1CCC(CN)CC1|C#CCCC[C@H](Nc1nc...|         HSA|{C#CCCC[C@H](NC(=...|C#CCCC[C@H](NC(=O...|363.41300000000007| 363.147058152|3.7818000000000023|   75.63|                    7|             2|                3|               0|0.2727272727272727|               27|                   2|                    1|                    0|                 5|           3|            0|                   0|                      0|   0.07407407407407407|                 5|3.7818000000000023|                     0|   102.31250000000004|      2.0|     (2,[],[])|\n",
      "|295246844| C#CCCC[C@H](NC(=O...|       C=Cc1ccc(N)cc1|       CSC1CCC(CN)CC1|C#CCCC[C@H](Nc1nc...|         sEH|{C#CCCC[C@H](NC(=...|C#CCCC[C@H](NC(=O...|363.41300000000007| 363.147058152|3.7818000000000023|   75.63|                    7|             2|                3|               0|0.2727272727272727|               27|                   2|                    1|                    0|                 5|           3|            0|                   0|                      0|   0.07407407407407407|                 5|3.7818000000000023|                     0|   102.31250000000004|      1.0| (2,[1],[1.0])|\n",
      "|295246845| C#CCCC[C@H](NC(=O...|       C=Cc1ccc(N)cc1| Cc1ccc(CN)c(N2CCC...|C#CCCC[C@H](Nc1nc...|        BRD4|{C#CCCC[C@H](NC(=...|C#CCCC[C@H](NC(=O...|363.41300000000007| 363.147058152|3.7818000000000023|   75.63|                    7|             2|                3|               0|0.2727272727272727|               27|                   2|                    1|                    0|                 5|           3|            0|                   0|                      0|   0.07407407407407407|                 5|3.7818000000000023|                     0|   102.31250000000004|      0.0| (2,[0],[1.0])|\n",
      "|295246846| C#CCCC[C@H](NC(=O...|       C=Cc1ccc(N)cc1| Cc1ccc(CN)c(N2CCC...|C#CCCC[C@H](Nc1nc...|         HSA|{C#CCCC[C@H](NC(=...|C#CCCC[C@H](NC(=O...|363.41300000000007| 363.147058152|3.7818000000000023|   75.63|                    7|             2|                3|               0|0.2727272727272727|               27|                   2|                    1|                    0|                 5|           3|            0|                   0|                      0|   0.07407407407407407|                 5|3.7818000000000023|                     0|   102.31250000000004|      2.0|     (2,[],[])|\n",
      "|295246847| C#CCCC[C@H](NC(=O...|       C=Cc1ccc(N)cc1| Cc1ccc(CN)c(N2CCC...|C#CCCC[C@H](Nc1nc...|         sEH|{C#CCCC[C@H](NC(=...|C#CCCC[C@H](NC(=O...|363.41300000000007| 363.147058152|3.7818000000000023|   75.63|                    7|             2|                3|               0|0.2727272727272727|               27|                   2|                    1|                    0|                 5|           3|            0|                   0|                      0|   0.07407407407407407|                 5|3.7818000000000023|                     0|   102.31250000000004|      1.0| (2,[1],[1.0])|\n",
      "|295246848| C#CCCC[C@H](NC(=O...|       C=Cc1ccc(N)cc1| Cc1cccc(NC(=O)COc...|C#CCCC[C@H](Nc1nc...|        BRD4|{C#CCCC[C@H](NC(=...|C#CCCC[C@H](NC(=O...|363.41300000000007| 363.147058152|3.7818000000000023|   75.63|                    7|             2|                3|               0|0.2727272727272727|               27|                   2|                    1|                    0|                 5|           3|            0|                   0|                      0|   0.07407407407407407|                 5|3.7818000000000023|                     0|   102.31250000000004|      0.0| (2,[0],[1.0])|\n",
      "|295246849| C#CCCC[C@H](NC(=O...|       C=Cc1ccc(N)cc1| Cc1cccc(NC(=O)COc...|C#CCCC[C@H](Nc1nc...|         HSA|{C#CCCC[C@H](NC(=...|C#CCCC[C@H](NC(=O...|363.41300000000007| 363.147058152|3.7818000000000023|   75.63|                    7|             2|                3|               0|0.2727272727272727|               27|                   2|                    1|                    0|                 5|           3|            0|                   0|                      0|   0.07407407407407407|                 5|3.7818000000000023|                     0|   102.31250000000004|      2.0|     (2,[],[])|\n",
      "+---------+---------------------+---------------------+---------------------+--------------------+------------+--------------------+--------------------+------------------+--------------+------------------+--------+---------------------+--------------+-----------------+----------------+------------------+-----------------+--------------------+---------------------+---------------------+------------------+------------+-------------+--------------------+-----------------------+----------------------+------------------+------------------+----------------------+---------------------+---------+--------------+\n",
      "only showing top 20 rows\n",
      "\n"
     ]
    }
   ],
   "source": [
    "df.show()"
   ]
  },
  {
   "cell_type": "code",
   "execution_count": 83,
   "id": "f5432d65-353f-4a2e-b696-34f3a20245ea",
   "metadata": {},
   "outputs": [
    {
     "data": {
      "text/plain": [
       "DataFrame[id: bigint, bb1_smiles: string, bb2_smiles: string, bb3_smiles: string, molecule_smiles: string, protein_name: string]"
      ]
     },
     "execution_count": 83,
     "metadata": {},
     "output_type": "execute_result"
    }
   ],
   "source": [
    "df.drop(col('bb1_descriptors'))"
   ]
  },
  {
   "cell_type": "code",
   "execution_count": 84,
   "id": "cdcc228b-6e42-473b-bce9-c14b0bfea95c",
   "metadata": {},
   "outputs": [
    {
     "name": "stdout",
     "output_type": "stream",
     "text": [
      "+---------+--------------------+--------------+--------------------+--------------------+------------+\n",
      "|       id|          bb1_smiles|    bb2_smiles|          bb3_smiles|     molecule_smiles|protein_name|\n",
      "+---------+--------------------+--------------+--------------------+--------------------+------------+\n",
      "|295246830|C#CCCC[C@H](NC(=O...|C=Cc1ccc(N)cc1|      C=Cc1ccc(N)cc1|C#CCCC[C@H](Nc1nc...|        BRD4|\n",
      "|295246831|C#CCCC[C@H](NC(=O...|C=Cc1ccc(N)cc1|      C=Cc1ccc(N)cc1|C#CCCC[C@H](Nc1nc...|         HSA|\n",
      "|295246832|C#CCCC[C@H](NC(=O...|C=Cc1ccc(N)cc1|      C=Cc1ccc(N)cc1|C#CCCC[C@H](Nc1nc...|         sEH|\n",
      "|295246833|C#CCCC[C@H](NC(=O...|C=Cc1ccc(N)cc1|CC(O)Cn1cnc2c(N)n...|C#CCCC[C@H](Nc1nc...|        BRD4|\n",
      "|295246834|C#CCCC[C@H](NC(=O...|C=Cc1ccc(N)cc1|CC(O)Cn1cnc2c(N)n...|C#CCCC[C@H](Nc1nc...|         HSA|\n",
      "|295246835|C#CCCC[C@H](NC(=O...|C=Cc1ccc(N)cc1|CC(O)Cn1cnc2c(N)n...|C#CCCC[C@H](Nc1nc...|         sEH|\n",
      "|295246836|C#CCCC[C@H](NC(=O...|C=Cc1ccc(N)cc1|    CC1(C)CCCC1(O)CN|C#CCCC[C@H](Nc1nc...|        BRD4|\n",
      "|295246837|C#CCCC[C@H](NC(=O...|C=Cc1ccc(N)cc1|    CC1(C)CCCC1(O)CN|C#CCCC[C@H](Nc1nc...|         HSA|\n",
      "|295246838|C#CCCC[C@H](NC(=O...|C=Cc1ccc(N)cc1|    CC1(C)CCCC1(O)CN|C#CCCC[C@H](Nc1nc...|         sEH|\n",
      "|295246839|C#CCCC[C@H](NC(=O...|C=Cc1ccc(N)cc1| COC(=O)c1cc(Cl)sc1N|C#CCCC[C@H](Nc1nc...|        BRD4|\n",
      "|295246840|C#CCCC[C@H](NC(=O...|C=Cc1ccc(N)cc1| COC(=O)c1cc(Cl)sc1N|C#CCCC[C@H](Nc1nc...|         HSA|\n",
      "|295246841|C#CCCC[C@H](NC(=O...|C=Cc1ccc(N)cc1| COC(=O)c1cc(Cl)sc1N|C#CCCC[C@H](Nc1nc...|         sEH|\n",
      "|295246842|C#CCCC[C@H](NC(=O...|C=Cc1ccc(N)cc1|      CSC1CCC(CN)CC1|C#CCCC[C@H](Nc1nc...|        BRD4|\n",
      "|295246843|C#CCCC[C@H](NC(=O...|C=Cc1ccc(N)cc1|      CSC1CCC(CN)CC1|C#CCCC[C@H](Nc1nc...|         HSA|\n",
      "|295246844|C#CCCC[C@H](NC(=O...|C=Cc1ccc(N)cc1|      CSC1CCC(CN)CC1|C#CCCC[C@H](Nc1nc...|         sEH|\n",
      "|295246845|C#CCCC[C@H](NC(=O...|C=Cc1ccc(N)cc1|Cc1ccc(CN)c(N2CCC...|C#CCCC[C@H](Nc1nc...|        BRD4|\n",
      "|295246846|C#CCCC[C@H](NC(=O...|C=Cc1ccc(N)cc1|Cc1ccc(CN)c(N2CCC...|C#CCCC[C@H](Nc1nc...|         HSA|\n",
      "|295246847|C#CCCC[C@H](NC(=O...|C=Cc1ccc(N)cc1|Cc1ccc(CN)c(N2CCC...|C#CCCC[C@H](Nc1nc...|         sEH|\n",
      "|295246848|C#CCCC[C@H](NC(=O...|C=Cc1ccc(N)cc1|Cc1cccc(NC(=O)COc...|C#CCCC[C@H](Nc1nc...|        BRD4|\n",
      "|295246849|C#CCCC[C@H](NC(=O...|C=Cc1ccc(N)cc1|Cc1cccc(NC(=O)COc...|C#CCCC[C@H](Nc1nc...|         HSA|\n",
      "+---------+--------------------+--------------+--------------------+--------------------+------------+\n",
      "only showing top 20 rows\n",
      "\n"
     ]
    }
   ],
   "source": [
    "df.show()"
   ]
  },
  {
   "cell_type": "markdown",
   "id": "d039291a-6507-4bfe-b604-02def04402ee",
   "metadata": {},
   "source": [
    "# Get DataFrame Features"
   ]
  },
  {
   "cell_type": "code",
   "execution_count": 6,
   "id": "25346516-d321-4b54-8516-90440ac05163",
   "metadata": {},
   "outputs": [],
   "source": [
    "def make_features_df(df, load_encoder=False):\n",
    "    \n",
    "    ### Add Smiles Descriptors Columns --------------\n",
    "    smiles_cols = [\"bb1_smiles\", \"bb2_smiles\", \"bb3_smiles\", \"molecule_smiles\"]\n",
    "    sample_smiles = \"C#CCCC[C@H](NC(=O)OCC1c2ccccc2-c2ccccc21)C(=O)O\"\n",
    "    descriptor_sample = compute_descriptors(sample_smiles)[0]\n",
    "    descriptor_names = list(descriptor_sample.keys())\n",
    "\n",
    "    descriptor_schema = StructType([\n",
    "        StructField(name, infer_data_type(value), True) \n",
    "        for name, value in descriptor_sample.items()\n",
    "    ])\n",
    "    descriptor_udf = udf(lambda smiles: compute_descriptors(smiles)[0], descriptor_schema)\n",
    "\n",
    "    for smiles_col in smiles_cols:\n",
    "        cols_name = smiles_col.split(\"_\")[0]\n",
    "        \n",
    "        df = df.withColumn(f\"{cols_name}_descriptors\", descriptor_udf(smiles_col))\n",
    "\n",
    "        for field in descriptor_schema.fields:\n",
    "            df = df.withColumn(f\"{cols_name}_{field.name}\", df[f\"{cols_name}_descriptors\"][field.name])\n",
    "\n",
    "\n",
    "        df = df.drop(f\"{cols_name}_descriptors\")\n",
    "    \n",
    "    ### Protein One Hot Encoding --------------\n",
    "    protein_Indexer_path = \"./protein_Indexer\"\n",
    "    protein_ohe_path = \"./protein_ohe\"\n",
    "    \n",
    "    if load_encoder == True:\n",
    "        protein_Indexer = StringIndexerModel.load(protein_Indexer_path)\n",
    "        protein_ohe = OneHotEncoderModel.load(protein_ohe_path)\n",
    "        print('Encoders Loaded Succesfully...')\n",
    "        \n",
    "    protein_Indexer = StringIndexer(inputCol=\"protein_name\", outputCol=\"protein_i\", stringOrderType=\"frequencyDesc\")\n",
    "    protein_Indexer = protein_Indexer.fit(df)\n",
    "    df = protein_Indexer.transform(df)\n",
    "    \n",
    "    protein_ohe = OneHotEncoder(inputCol=\"protein_i\", outputCol=\"protein_onehot\")\n",
    "    protein_ohe = protein_ohe.fit(df)\n",
    "    df = protein_ohe.transform(df)\n",
    "\n",
    "    if load_encoder == False:\n",
    "        protein_Indexer.write().overwrite().save(protein_Indexer_path)\n",
    "        protein_ohe.write().overwrite().save(protein_ohe_path)\n",
    "    \n",
    "    df = df.drop(\"protein_i\").drop(\"protein_name\")\n",
    "    # df = df.drop(\"protein_name\")\n",
    "    \n",
    "    return df"
   ]
  },
  {
   "cell_type": "code",
   "execution_count": 13,
   "id": "57f4fa9a-c73a-4acc-b665-f219166f81bd",
   "metadata": {},
   "outputs": [
    {
     "name": "stderr",
     "output_type": "stream",
     "text": [
      "                                                                                "
     ]
    }
   ],
   "source": [
    "full_df_features = make_features_df(full_df)"
   ]
  },
  {
   "cell_type": "code",
   "execution_count": 14,
   "id": "b6a6e7af-6cc0-4591-917f-0773690270df",
   "metadata": {},
   "outputs": [],
   "source": [
    "features_cols = [full_df_features.columns[0]] + full_df_features.columns[5:]\n",
    "full_df_features = full_df_features.select(features_cols)"
   ]
  },
  {
   "cell_type": "code",
   "execution_count": 15,
   "id": "c32d1624-f3f4-4591-8c17-2e217d0b4bb1",
   "metadata": {},
   "outputs": [
    {
     "name": "stderr",
     "output_type": "stream",
     "text": [
      "24/12/30 03:40:44 WARN SparkStringUtils: Truncated the string representation of a plan since it was too large. This behavior can be adjusted by setting 'spark.sql.debug.maxToStringFields'.\n",
      "                                                                                "
     ]
    }
   ],
   "source": [
    "full_df_features.write.format('parquet').save('train_descriptors.parquet')"
   ]
  },
  {
   "cell_type": "code",
   "execution_count": 16,
   "id": "6d8524e8-c44f-43a5-a07a-bb0bcf73cbc3",
   "metadata": {},
   "outputs": [
    {
     "name": "stderr",
     "output_type": "stream",
     "text": [
      "[Stage 14:>                                                         (0 + 1) / 1]"
     ]
    },
    {
     "name": "stdout",
     "output_type": "stream",
     "text": [
      "+---+-----+-----------------+--------------+-----------------+-----------------+---------------------+--------------+-----------------+----------------+-------------------+-----------------+--------------------+---------------------+---------------------+------------------+------------+-------------+--------------------+-----------------------+----------------------+------------------+-----------------+----------------------+---------------------+---------+--------------+-----------+--------+---------------------+--------------+-----------------+----------------+----------------+-----------------+--------------------+---------------------+---------------------+------------------+------------+-------------+--------------------+-----------------------+----------------------+------------------+-----------------+----------------------+---------------------+------------------+------------------+-------------------+------------------+---------------------+--------------+-----------------+----------------+-------------------+-----------------+--------------------+---------------------+---------------------+------------------+------------+-------------+--------------------+-----------------------+----------------------+------------------+-------------------+----------------------+---------------------+-----------------+-------------------+------------------+------------------+--------------------------+-------------------+----------------------+---------------------+---------------------+----------------------+-------------------------+--------------------------+--------------------------+-----------------------+-----------------+------------------+-------------------------+----------------------------+---------------------------+-----------------------+----------------------+---------------------------+--------------------------+--------------+\n",
      "| id|binds|        bb1_MolWt|bb1_ExactMolWt|      bb1_MolLogP|         bb1_TPSA|bb1_NumRotatableBonds|bb1_NumHDonors|bb1_NumHAcceptors|bb1_FormalCharge|   bb1_FractionCSP3|bb1_NumHeavyAtoms|bb1_NumAromaticRings|bb1_NumAliphaticRings|bb1_NumSaturatedRings|bb1_NumHeteroatoms|bb1_NumRings|bb1_MolVolume|bb1_RadiusOfGyration|bb1_InertialShapeFactor|bb1_AromaticProportion|bb1_HBondPotential|bb1_Lipophilicity|bb1_ChargeDistribution|bb1_ElectroNegativity|bb2_MolWt|bb2_ExactMolWt|bb2_MolLogP|bb2_TPSA|bb2_NumRotatableBonds|bb2_NumHDonors|bb2_NumHAcceptors|bb2_FormalCharge|bb2_FractionCSP3|bb2_NumHeavyAtoms|bb2_NumAromaticRings|bb2_NumAliphaticRings|bb2_NumSaturatedRings|bb2_NumHeteroatoms|bb2_NumRings|bb2_MolVolume|bb2_RadiusOfGyration|bb2_InertialShapeFactor|bb2_AromaticProportion|bb2_HBondPotential|bb2_Lipophilicity|bb2_ChargeDistribution|bb2_ElectroNegativity|         bb3_MolWt|    bb3_ExactMolWt|        bb3_MolLogP|          bb3_TPSA|bb3_NumRotatableBonds|bb3_NumHDonors|bb3_NumHAcceptors|bb3_FormalCharge|   bb3_FractionCSP3|bb3_NumHeavyAtoms|bb3_NumAromaticRings|bb3_NumAliphaticRings|bb3_NumSaturatedRings|bb3_NumHeteroatoms|bb3_NumRings|bb3_MolVolume|bb3_RadiusOfGyration|bb3_InertialShapeFactor|bb3_AromaticProportion|bb3_HBondPotential|  bb3_Lipophilicity|bb3_ChargeDistribution|bb3_ElectroNegativity|   molecule_MolWt|molecule_ExactMolWt|  molecule_MolLogP|     molecule_TPSA|molecule_NumRotatableBonds|molecule_NumHDonors|molecule_NumHAcceptors|molecule_FormalCharge|molecule_FractionCSP3|molecule_NumHeavyAtoms|molecule_NumAromaticRings|molecule_NumAliphaticRings|molecule_NumSaturatedRings|molecule_NumHeteroatoms|molecule_NumRings|molecule_MolVolume|molecule_RadiusOfGyration|molecule_InertialShapeFactor|molecule_AromaticProportion|molecule_HBondPotential|molecule_Lipophilicity|molecule_ChargeDistribution|molecule_ElectroNegativity|protein_onehot|\n",
      "+---+-----+-----------------+--------------+-----------------+-----------------+---------------------+--------------+-----------------+----------------+-------------------+-----------------+--------------------+---------------------+---------------------+------------------+------------+-------------+--------------------+-----------------------+----------------------+------------------+-----------------+----------------------+---------------------+---------+--------------+-----------+--------+---------------------+--------------+-----------------+----------------+----------------+-----------------+--------------------+---------------------+---------------------+------------------+------------+-------------+--------------------+-----------------------+----------------------+------------------+-----------------+----------------------+---------------------+------------------+------------------+-------------------+------------------+---------------------+--------------+-----------------+----------------+-------------------+-----------------+--------------------+---------------------+---------------------+------------------+------------+-------------+--------------------+-----------------------+----------------------+------------------+-------------------+----------------------+---------------------+-----------------+-------------------+------------------+------------------+--------------------------+-------------------+----------------------+---------------------+---------------------+----------------------+-------------------------+--------------------------+--------------------------+-----------------------+-----------------+------------------+-------------------------+----------------------------+---------------------------+-----------------------+----------------------+---------------------------+--------------------------+--------------+\n",
      "|  0|    0|349.3860000000001| 349.131408088|3.391700000000002|75.63000000000001|                    6|             2|                3|               0|0.23809523809523808|               26|                   2|                    1|                    0|                 5|           3|            0|                   0|                      0|   0.07692307692307693|                 5|3.391700000000002|                     0|    97.69550000000004|  197.665| 197.060741684|     1.5791|   35.25|                    3|             1|                2|               0|             0.2|               13|                   1|                    0|                    0|                 3|           1|            0|                   0|                      0|   0.07692307692307693|                 3|           1.5791|                     0|   55.909400000000026|           340.063|337.97417071200005|             1.5599|             55.04|                    2|             1|                4|               0| 0.5555555555555556|               15|                   1|                    1|                    1|                 6|           2|            0|                   0|                      0|   0.06666666666666667|                 5|             1.5599|                     0|    72.09840000000003|702.1240000000001|      703.192320032|             2.141|            142.11|                        14|                  4|                    11|                    0|  0.35714285714285715|                    41|                        3|                         1|                         1|                     13|                4|                 0|                        0|                           0|        0.07317073170731707|                     15|                 2.141|                          0|         152.4337999999998| (2,[0],[1.0])|\n",
      "|  1|    0|349.3860000000001| 349.131408088|3.391700000000002|75.63000000000001|                    6|             2|                3|               0|0.23809523809523808|               26|                   2|                    1|                    0|                 5|           3|            0|                   0|                      0|   0.07692307692307693|                 5|3.391700000000002|                     0|    97.69550000000004|  197.665| 197.060741684|     1.5791|   35.25|                    3|             1|                2|               0|             0.2|               13|                   1|                    0|                    0|                 3|           1|            0|                   0|                      0|   0.07692307692307693|                 3|           1.5791|                     0|   55.909400000000026|           340.063|337.97417071200005|             1.5599|             55.04|                    2|             1|                4|               0| 0.5555555555555556|               15|                   1|                    1|                    1|                 6|           2|            0|                   0|                      0|   0.06666666666666667|                 5|             1.5599|                     0|    72.09840000000003|702.1240000000001|      703.192320032|             2.141|            142.11|                        14|                  4|                    11|                    0|  0.35714285714285715|                    41|                        3|                         1|                         1|                     13|                4|                 0|                        0|                           0|        0.07317073170731707|                     15|                 2.141|                          0|         152.4337999999998| (2,[1],[1.0])|\n",
      "|  2|    0|349.3860000000001| 349.131408088|3.391700000000002|75.63000000000001|                    6|             2|                3|               0|0.23809523809523808|               26|                   2|                    1|                    0|                 5|           3|            0|                   0|                      0|   0.07692307692307693|                 5|3.391700000000002|                     0|    97.69550000000004|  197.665| 197.060741684|     1.5791|   35.25|                    3|             1|                2|               0|             0.2|               13|                   1|                    0|                    0|                 3|           1|            0|                   0|                      0|   0.07692307692307693|                 3|           1.5791|                     0|   55.909400000000026|           340.063|337.97417071200005|             1.5599|             55.04|                    2|             1|                4|               0| 0.5555555555555556|               15|                   1|                    1|                    1|                 6|           2|            0|                   0|                      0|   0.06666666666666667|                 5|             1.5599|                     0|    72.09840000000003|702.1240000000001|      703.192320032|             2.141|            142.11|                        14|                  4|                    11|                    0|  0.35714285714285715|                    41|                        3|                         1|                         1|                     13|                4|                 0|                        0|                           0|        0.07317073170731707|                     15|                 2.141|                          0|         152.4337999999998|     (2,[],[])|\n",
      "|  3|    0|349.3860000000001| 349.131408088|3.391700000000002|75.63000000000001|                    6|             2|                3|               0|0.23809523809523808|               26|                   2|                    1|                    0|                 5|           3|            0|                   0|                      0|   0.07692307692307693|                 5|3.391700000000002|                     0|    97.69550000000004|  197.665| 197.060741684|     1.5791|   35.25|                    3|             1|                2|               0|             0.2|               13|                   1|                    0|                    0|                 3|           1|            0|                   0|                      0|   0.07692307692307693|                 3|           1.5791|                     0|   55.909400000000026|           267.952|     265.905422456| 1.8806999999999998|             38.91|                    1|             1|                2|               0|0.16666666666666666|               10|                   1|                    0|                    0|                 4|           1|            0|                   0|                      0|                   0.1|                 3| 1.8806999999999998|                     0|    50.15040000000001|710.9250000000001|      711.049733908|3.0397000000000007|            125.98|                        13|                  4|                     9|                    0|                 0.24|                    37|                        3|                         0|                         0|                     12|                3|                 0|                        0|                           0|        0.08108108108108109|                     13|    3.0397000000000007|                          0|        140.80779999999993| (2,[0],[1.0])|\n",
      "|  4|    0|349.3860000000001| 349.131408088|3.391700000000002|75.63000000000001|                    6|             2|                3|               0|0.23809523809523808|               26|                   2|                    1|                    0|                 5|           3|            0|                   0|                      0|   0.07692307692307693|                 5|3.391700000000002|                     0|    97.69550000000004|  197.665| 197.060741684|     1.5791|   35.25|                    3|             1|                2|               0|             0.2|               13|                   1|                    0|                    0|                 3|           1|            0|                   0|                      0|   0.07692307692307693|                 3|           1.5791|                     0|   55.909400000000026|           267.952|     265.905422456| 1.8806999999999998|             38.91|                    1|             1|                2|               0|0.16666666666666666|               10|                   1|                    0|                    0|                 4|           1|            0|                   0|                      0|                   0.1|                 3| 1.8806999999999998|                     0|    50.15040000000001|710.9250000000001|      711.049733908|3.0397000000000007|            125.98|                        13|                  4|                     9|                    0|                 0.24|                    37|                        3|                         0|                         0|                     12|                3|                 0|                        0|                           0|        0.08108108108108109|                     13|    3.0397000000000007|                          0|        140.80779999999993| (2,[1],[1.0])|\n",
      "|  5|    0|349.3860000000001| 349.131408088|3.391700000000002|75.63000000000001|                    6|             2|                3|               0|0.23809523809523808|               26|                   2|                    1|                    0|                 5|           3|            0|                   0|                      0|   0.07692307692307693|                 5|3.391700000000002|                     0|    97.69550000000004|  197.665| 197.060741684|     1.5791|   35.25|                    3|             1|                2|               0|             0.2|               13|                   1|                    0|                    0|                 3|           1|            0|                   0|                      0|   0.07692307692307693|                 3|           1.5791|                     0|   55.909400000000026|           267.952|     265.905422456| 1.8806999999999998|             38.91|                    1|             1|                2|               0|0.16666666666666666|               10|                   1|                    0|                    0|                 4|           1|            0|                   0|                      0|                   0.1|                 3| 1.8806999999999998|                     0|    50.15040000000001|710.9250000000001|      711.049733908|3.0397000000000007|            125.98|                        13|                  4|                     9|                    0|                 0.24|                    37|                        3|                         0|                         0|                     12|                3|                 0|                        0|                           0|        0.08108108108108109|                     13|    3.0397000000000007|                          0|        140.80779999999993|     (2,[],[])|\n",
      "|  6|    0|349.3860000000001| 349.131408088|3.391700000000002|75.63000000000001|                    6|             2|                3|               0|0.23809523809523808|               26|                   2|                    1|                    0|                 5|           3|            0|                   0|                      0|   0.07692307692307693|                 5|3.391700000000002|                     0|    97.69550000000004|  197.665| 197.060741684|     1.5791|   35.25|                    3|             1|                2|               0|             0.2|               13|                   1|                    0|                    0|                 3|           1|            0|                   0|                      0|   0.07692307692307693|                 3|           1.5791|                     0|   55.909400000000026|           197.665|     197.060741684|             1.5791|             35.25|                    3|             1|                2|               0|                0.2|               13|                   1|                    0|                    0|                 3|           1|            0|                   0|                      0|   0.07692307692307693|                 3|             1.5791|                     0|   55.909400000000026|685.0890000000003|      686.154537556|2.8942000000000005|122.32000000000001|                        15|                  4|                     9|                    0|   0.2413793103448276|                    40|                        3|                         0|                         0|                     11|                3|                 0|                        0|                           0|                      0.075|                     13|    2.8942000000000005|                          0|        149.64079999999984| (2,[0],[1.0])|\n",
      "|  7|    0|349.3860000000001| 349.131408088|3.391700000000002|75.63000000000001|                    6|             2|                3|               0|0.23809523809523808|               26|                   2|                    1|                    0|                 5|           3|            0|                   0|                      0|   0.07692307692307693|                 5|3.391700000000002|                     0|    97.69550000000004|  197.665| 197.060741684|     1.5791|   35.25|                    3|             1|                2|               0|             0.2|               13|                   1|                    0|                    0|                 3|           1|            0|                   0|                      0|   0.07692307692307693|                 3|           1.5791|                     0|   55.909400000000026|           197.665|     197.060741684|             1.5791|             35.25|                    3|             1|                2|               0|                0.2|               13|                   1|                    0|                    0|                 3|           1|            0|                   0|                      0|   0.07692307692307693|                 3|             1.5791|                     0|   55.909400000000026|685.0890000000003|      686.154537556|2.8942000000000005|122.32000000000001|                        15|                  4|                     9|                    0|   0.2413793103448276|                    40|                        3|                         0|                         0|                     11|                3|                 0|                        0|                           0|                      0.075|                     13|    2.8942000000000005|                          0|        149.64079999999984| (2,[1],[1.0])|\n",
      "|  8|    0|349.3860000000001| 349.131408088|3.391700000000002|75.63000000000001|                    6|             2|                3|               0|0.23809523809523808|               26|                   2|                    1|                    0|                 5|           3|            0|                   0|                      0|   0.07692307692307693|                 5|3.391700000000002|                     0|    97.69550000000004|  197.665| 197.060741684|     1.5791|   35.25|                    3|             1|                2|               0|             0.2|               13|                   1|                    0|                    0|                 3|           1|            0|                   0|                      0|   0.07692307692307693|                 3|           1.5791|                     0|   55.909400000000026|           197.665|     197.060741684|             1.5791|             35.25|                    3|             1|                2|               0|                0.2|               13|                   1|                    0|                    0|                 3|           1|            0|                   0|                      0|   0.07692307692307693|                 3|             1.5791|                     0|   55.909400000000026|685.0890000000003|      686.154537556|2.8942000000000005|122.32000000000001|                        15|                  4|                     9|                    0|   0.2413793103448276|                    40|                        3|                         0|                         0|                     11|                3|                 0|                        0|                           0|                      0.075|                     13|    2.8942000000000005|                          0|        149.64079999999984|     (2,[],[])|\n",
      "|  9|    0|349.3860000000001| 349.131408088|3.391700000000002|75.63000000000001|                    6|             2|                3|               0|0.23809523809523808|               26|                   2|                    1|                    0|                 5|           3|            0|                   0|                      0|   0.07692307692307693|                 5|3.391700000000002|                     0|    97.69550000000004|  197.665| 197.060741684|     1.5791|   35.25|                    3|             1|                2|               0|             0.2|               13|                   1|                    0|                    0|                 3|           1|            0|                   0|                      0|   0.07692307692307693|                 3|           1.5791|                     0|   55.909400000000026|           164.636|     164.071640716|0.05920000000000031|55.120000000000005|                    3|             2|                2|               0|                0.5|               10|                   0|                    0|                    0|                 4|           0|            0|                   0|                      0|                   0.0|                 4|0.05920000000000031|                     0|    44.12610000000001|652.0600000000003|      653.165436588| 1.374300000000001|            142.19|                        15|                  5|                     9|                    0|                 0.32|                    37|                        2|                         0|                         0|                     12|                2|                 0|                        0|                           0|        0.05405405405405406|                     14|     1.374300000000001|                          0|        137.85749999999993| (2,[0],[1.0])|\n",
      "| 10|    0|349.3860000000001| 349.131408088|3.391700000000002|75.63000000000001|                    6|             2|                3|               0|0.23809523809523808|               26|                   2|                    1|                    0|                 5|           3|            0|                   0|                      0|   0.07692307692307693|                 5|3.391700000000002|                     0|    97.69550000000004|  197.665| 197.060741684|     1.5791|   35.25|                    3|             1|                2|               0|             0.2|               13|                   1|                    0|                    0|                 3|           1|            0|                   0|                      0|   0.07692307692307693|                 3|           1.5791|                     0|   55.909400000000026|           164.636|     164.071640716|0.05920000000000031|55.120000000000005|                    3|             2|                2|               0|                0.5|               10|                   0|                    0|                    0|                 4|           0|            0|                   0|                      0|                   0.0|                 4|0.05920000000000031|                     0|    44.12610000000001|652.0600000000003|      653.165436588| 1.374300000000001|            142.19|                        15|                  5|                     9|                    0|                 0.32|                    37|                        2|                         0|                         0|                     12|                2|                 0|                        0|                           0|        0.05405405405405406|                     14|     1.374300000000001|                          0|        137.85749999999993| (2,[1],[1.0])|\n",
      "| 11|    0|349.3860000000001| 349.131408088|3.391700000000002|75.63000000000001|                    6|             2|                3|               0|0.23809523809523808|               26|                   2|                    1|                    0|                 5|           3|            0|                   0|                      0|   0.07692307692307693|                 5|3.391700000000002|                     0|    97.69550000000004|  197.665| 197.060741684|     1.5791|   35.25|                    3|             1|                2|               0|             0.2|               13|                   1|                    0|                    0|                 3|           1|            0|                   0|                      0|   0.07692307692307693|                 3|           1.5791|                     0|   55.909400000000026|           164.636|     164.071640716|0.05920000000000031|55.120000000000005|                    3|             2|                2|               0|                0.5|               10|                   0|                    0|                    0|                 4|           0|            0|                   0|                      0|                   0.0|                 4|0.05920000000000031|                     0|    44.12610000000001|652.0600000000003|      653.165436588| 1.374300000000001|            142.19|                        15|                  5|                     9|                    0|                 0.32|                    37|                        2|                         0|                         0|                     12|                2|                 0|                        0|                           0|        0.05405405405405406|                     14|     1.374300000000001|                          0|        137.85749999999993|     (2,[],[])|\n",
      "| 12|    0|349.3860000000001| 349.131408088|3.391700000000002|75.63000000000001|                    6|             2|                3|               0|0.23809523809523808|               26|                   2|                    1|                    0|                 5|           3|            0|                   0|                      0|   0.07692307692307693|                 5|3.391700000000002|                     0|    97.69550000000004|  197.665| 197.060741684|     1.5791|   35.25|                    3|             1|                2|               0|             0.2|               13|                   1|                    0|                    0|                 3|           1|            0|                   0|                      0|   0.07692307692307693|                 3|           1.5791|                     0|   55.909400000000026|           150.609|     150.055990652|            -0.3309|55.120000000000005|                    3|             2|                2|               0|                0.4|                9|                   0|                    0|                    0|                 4|           0|            0|                   0|                      0|                   0.0|                 4|            -0.3309|                     0|              39.5091|638.0330000000002|      639.149786524|0.9842000000000013|            142.19|                        15|                  5|                     9|                    0|   0.2916666666666667|                    36|                        2|                         0|                         0|                     12|                2|                 0|                        0|                           0|        0.05555555555555555|                     14|    0.9842000000000013|                          0|                  133.2405| (2,[0],[1.0])|\n",
      "| 13|    0|349.3860000000001| 349.131408088|3.391700000000002|75.63000000000001|                    6|             2|                3|               0|0.23809523809523808|               26|                   2|                    1|                    0|                 5|           3|            0|                   0|                      0|   0.07692307692307693|                 5|3.391700000000002|                     0|    97.69550000000004|  197.665| 197.060741684|     1.5791|   35.25|                    3|             1|                2|               0|             0.2|               13|                   1|                    0|                    0|                 3|           1|            0|                   0|                      0|   0.07692307692307693|                 3|           1.5791|                     0|   55.909400000000026|           150.609|     150.055990652|            -0.3309|55.120000000000005|                    3|             2|                2|               0|                0.4|                9|                   0|                    0|                    0|                 4|           0|            0|                   0|                      0|                   0.0|                 4|            -0.3309|                     0|              39.5091|638.0330000000002|      639.149786524|0.9842000000000013|            142.19|                        15|                  5|                     9|                    0|   0.2916666666666667|                    36|                        2|                         0|                         0|                     12|                2|                 0|                        0|                           0|        0.05555555555555555|                     14|    0.9842000000000013|                          0|                  133.2405| (2,[1],[1.0])|\n",
      "| 14|    0|349.3860000000001| 349.131408088|3.391700000000002|75.63000000000001|                    6|             2|                3|               0|0.23809523809523808|               26|                   2|                    1|                    0|                 5|           3|            0|                   0|                      0|   0.07692307692307693|                 5|3.391700000000002|                     0|    97.69550000000004|  197.665| 197.060741684|     1.5791|   35.25|                    3|             1|                2|               0|             0.2|               13|                   1|                    0|                    0|                 3|           1|            0|                   0|                      0|   0.07692307692307693|                 3|           1.5791|                     0|   55.909400000000026|           150.609|     150.055990652|            -0.3309|55.120000000000005|                    3|             2|                2|               0|                0.4|                9|                   0|                    0|                    0|                 4|           0|            0|                   0|                      0|                   0.0|                 4|            -0.3309|                     0|              39.5091|638.0330000000002|      639.149786524|0.9842000000000013|            142.19|                        15|                  5|                     9|                    0|   0.2916666666666667|                    36|                        2|                         0|                         0|                     12|                2|                 0|                        0|                           0|        0.05555555555555555|                     14|    0.9842000000000013|                          0|                  133.2405|     (2,[],[])|\n",
      "| 15|    0|349.3860000000001| 349.131408088|3.391700000000002|75.63000000000001|                    6|             2|                3|               0|0.23809523809523808|               26|                   2|                    1|                    0|                 5|           3|            0|                   0|                      0|   0.07692307692307693|                 5|3.391700000000002|                     0|    97.69550000000004|  197.665| 197.060741684|     1.5791|   35.25|                    3|             1|                2|               0|             0.2|               13|                   1|                    0|                    0|                 3|           1|            0|                   0|                      0|   0.07692307692307693|                 3|           1.5791|                     0|   55.909400000000026|           115.176|     115.099714036| 0.5362000000000001|             35.25|                    4|             1|                2|               0| 0.6666666666666666|                8|                   0|                    0|                    0|                 2|           0|            0|                   0|                      0|                   0.0|                 3| 0.5362000000000001|                     0|   34.665399999999984|639.0610000000003|  640.1701876200001|2.2730999999999995|122.32000000000001|                        16|                  4|                     9|                    0|                 0.36|                    36|                        2|                         0|                         0|                     11|                2|                 0|                        0|                           0|        0.05555555555555555|                     13|    2.2730999999999995|                          0|        135.64479999999998| (2,[0],[1.0])|\n",
      "| 16|    0|349.3860000000001| 349.131408088|3.391700000000002|75.63000000000001|                    6|             2|                3|               0|0.23809523809523808|               26|                   2|                    1|                    0|                 5|           3|            0|                   0|                      0|   0.07692307692307693|                 5|3.391700000000002|                     0|    97.69550000000004|  197.665| 197.060741684|     1.5791|   35.25|                    3|             1|                2|               0|             0.2|               13|                   1|                    0|                    0|                 3|           1|            0|                   0|                      0|   0.07692307692307693|                 3|           1.5791|                     0|   55.909400000000026|           115.176|     115.099714036| 0.5362000000000001|             35.25|                    4|             1|                2|               0| 0.6666666666666666|                8|                   0|                    0|                    0|                 2|           0|            0|                   0|                      0|                   0.0|                 3| 0.5362000000000001|                     0|   34.665399999999984|639.0610000000003|  640.1701876200001|2.2730999999999995|122.32000000000001|                        16|                  4|                     9|                    0|                 0.36|                    36|                        2|                         0|                         0|                     11|                2|                 0|                        0|                           0|        0.05555555555555555|                     13|    2.2730999999999995|                          0|        135.64479999999998| (2,[1],[1.0])|\n",
      "| 17|    0|349.3860000000001| 349.131408088|3.391700000000002|75.63000000000001|                    6|             2|                3|               0|0.23809523809523808|               26|                   2|                    1|                    0|                 5|           3|            0|                   0|                      0|   0.07692307692307693|                 5|3.391700000000002|                     0|    97.69550000000004|  197.665| 197.060741684|     1.5791|   35.25|                    3|             1|                2|               0|             0.2|               13|                   1|                    0|                    0|                 3|           1|            0|                   0|                      0|   0.07692307692307693|                 3|           1.5791|                     0|   55.909400000000026|           115.176|     115.099714036| 0.5362000000000001|             35.25|                    4|             1|                2|               0| 0.6666666666666666|                8|                   0|                    0|                    0|                 2|           0|            0|                   0|                      0|                   0.0|                 3| 0.5362000000000001|                     0|   34.665399999999984|639.0610000000003|  640.1701876200001|2.2730999999999995|122.32000000000001|                        16|                  4|                     9|                    0|                 0.36|                    36|                        2|                         0|                         0|                     11|                2|                 0|                        0|                           0|        0.05555555555555555|                     13|    2.2730999999999995|                          0|        135.64479999999998|     (2,[],[])|\n",
      "| 18|    0|349.3860000000001| 349.131408088|3.391700000000002|75.63000000000001|                    6|             2|                3|               0|0.23809523809523808|               26|                   2|                    1|                    0|                 5|           3|            0|                   0|                      0|   0.07692307692307693|                 5|3.391700000000002|                     0|    97.69550000000004|  197.665| 197.060741684|     1.5791|   35.25|                    3|             1|                2|               0|             0.2|               13|                   1|                    0|                    0|                 3|           1|            0|                   0|                      0|   0.07692307692307693|                 3|           1.5791|                     0|   55.909400000000026|115.17600000000002|     115.099714036| 0.5378000000000002|             35.25|                    5|             1|                2|               0| 0.6666666666666666|                8|                   0|                    0|                    0|                 2|           0|            0|                   0|                      0|                   0.0|                 3| 0.5378000000000002|                     0|    34.68739999999998|639.0610000000001|  640.1701876200001|2.2746999999999993|122.32000000000001|                        17|                  4|                     9|                    0|                 0.36|                    36|                        2|                         0|                         0|                     11|                2|                 0|                        0|                           0|        0.05555555555555555|                     13|    2.2746999999999993|                          0|        135.66679999999997| (2,[0],[1.0])|\n",
      "| 19|    0|349.3860000000001| 349.131408088|3.391700000000002|75.63000000000001|                    6|             2|                3|               0|0.23809523809523808|               26|                   2|                    1|                    0|                 5|           3|            0|                   0|                      0|   0.07692307692307693|                 5|3.391700000000002|                     0|    97.69550000000004|  197.665| 197.060741684|     1.5791|   35.25|                    3|             1|                2|               0|             0.2|               13|                   1|                    0|                    0|                 3|           1|            0|                   0|                      0|   0.07692307692307693|                 3|           1.5791|                     0|   55.909400000000026|115.17600000000002|     115.099714036| 0.5378000000000002|             35.25|                    5|             1|                2|               0| 0.6666666666666666|                8|                   0|                    0|                    0|                 2|           0|            0|                   0|                      0|                   0.0|                 3| 0.5378000000000002|                     0|    34.68739999999998|639.0610000000001|  640.1701876200001|2.2746999999999993|122.32000000000001|                        17|                  4|                     9|                    0|                 0.36|                    36|                        2|                         0|                         0|                     11|                2|                 0|                        0|                           0|        0.05555555555555555|                     13|    2.2746999999999993|                          0|        135.66679999999997| (2,[1],[1.0])|\n",
      "+---+-----+-----------------+--------------+-----------------+-----------------+---------------------+--------------+-----------------+----------------+-------------------+-----------------+--------------------+---------------------+---------------------+------------------+------------+-------------+--------------------+-----------------------+----------------------+------------------+-----------------+----------------------+---------------------+---------+--------------+-----------+--------+---------------------+--------------+-----------------+----------------+----------------+-----------------+--------------------+---------------------+---------------------+------------------+------------+-------------+--------------------+-----------------------+----------------------+------------------+-----------------+----------------------+---------------------+------------------+------------------+-------------------+------------------+---------------------+--------------+-----------------+----------------+-------------------+-----------------+--------------------+---------------------+---------------------+------------------+------------+-------------+--------------------+-----------------------+----------------------+------------------+-------------------+----------------------+---------------------+-----------------+-------------------+------------------+------------------+--------------------------+-------------------+----------------------+---------------------+---------------------+----------------------+-------------------------+--------------------------+--------------------------+-----------------------+-----------------+------------------+-------------------------+----------------------------+---------------------------+-----------------------+----------------------+---------------------------+--------------------------+--------------+\n",
      "only showing top 20 rows\n",
      "\n"
     ]
    },
    {
     "name": "stderr",
     "output_type": "stream",
     "text": [
      "                                                                                "
     ]
    }
   ],
   "source": [
    "full_df_features.show()"
   ]
  },
  {
   "cell_type": "code",
   "execution_count": 18,
   "id": "17b5bbef-b823-425d-a00b-81752d3f0bef",
   "metadata": {
    "scrolled": true
   },
   "outputs": [
    {
     "data": {
      "text/plain": [
       "'binds'"
      ]
     },
     "execution_count": 18,
     "metadata": {},
     "output_type": "execute_result"
    }
   ],
   "source": [
    "features_cols.pop(1)"
   ]
  },
  {
   "cell_type": "code",
   "execution_count": 20,
   "id": "bb041b44-7439-4fc1-a6c9-56670f99a2f7",
   "metadata": {},
   "outputs": [
    {
     "name": "stderr",
     "output_type": "stream",
     "text": [
      "[Stage 15:>                                                         (0 + 1) / 1]"
     ]
    },
    {
     "name": "stdout",
     "output_type": "stream",
     "text": [
      "+--------------------+\n",
      "|             vectors|\n",
      "+--------------------+\n",
      "|[0.0,349.38600000...|\n",
      "|[1.0,349.38600000...|\n",
      "|[2.0,349.38600000...|\n",
      "|[3.0,349.38600000...|\n",
      "|[4.0,349.38600000...|\n",
      "|[5.0,349.38600000...|\n",
      "|[6.0,349.38600000...|\n",
      "|[7.0,349.38600000...|\n",
      "|[8.0,349.38600000...|\n",
      "|[9.0,349.38600000...|\n",
      "|[10.0,349.3860000...|\n",
      "|[11.0,349.3860000...|\n",
      "|[12.0,349.3860000...|\n",
      "|[13.0,349.3860000...|\n",
      "|[14.0,349.3860000...|\n",
      "|[15.0,349.3860000...|\n",
      "|[16.0,349.3860000...|\n",
      "|[17.0,349.3860000...|\n",
      "|[18.0,349.3860000...|\n",
      "|[19.0,349.3860000...|\n",
      "+--------------------+\n",
      "only showing top 20 rows\n",
      "\n"
     ]
    },
    {
     "name": "stderr",
     "output_type": "stream",
     "text": [
      "24/12/30 08:28:12 WARN JavaUtils: Attempt to delete using native Unix OS command failed for path = /home/23m1521/ashish/kaggle/temp/blockmgr-d54504c8-85c5-4dae-9603-7d0e383d8a82. Falling back to Java IO way\n",
      "java.io.IOException: Failed to delete: /home/23m1521/ashish/kaggle/temp/blockmgr-d54504c8-85c5-4dae-9603-7d0e383d8a82\n",
      "\tat org.apache.spark.network.util.JavaUtils.deleteRecursivelyUsingUnixNative(JavaUtils.java:174)\n",
      "\tat org.apache.spark.network.util.JavaUtils.deleteRecursively(JavaUtils.java:109)\n",
      "\tat org.apache.spark.network.util.JavaUtils.deleteRecursively(JavaUtils.java:90)\n",
      "\tat org.apache.spark.util.SparkFileUtils.deleteRecursively(SparkFileUtils.scala:121)\n",
      "\tat org.apache.spark.util.SparkFileUtils.deleteRecursively$(SparkFileUtils.scala:120)\n",
      "\tat org.apache.spark.util.Utils$.deleteRecursively(Utils.scala:1126)\n",
      "\tat org.apache.spark.storage.DiskBlockManager.$anonfun$doStop$1(DiskBlockManager.scala:368)\n",
      "\tat org.apache.spark.storage.DiskBlockManager.$anonfun$doStop$1$adapted(DiskBlockManager.scala:364)\n",
      "\tat scala.collection.IndexedSeqOptimized.foreach(IndexedSeqOptimized.scala:36)\n",
      "\tat scala.collection.IndexedSeqOptimized.foreach$(IndexedSeqOptimized.scala:33)\n",
      "\tat scala.collection.mutable.ArrayOps$ofRef.foreach(ArrayOps.scala:198)\n",
      "\tat org.apache.spark.storage.DiskBlockManager.doStop(DiskBlockManager.scala:364)\n",
      "\tat org.apache.spark.storage.DiskBlockManager.stop(DiskBlockManager.scala:359)\n",
      "\tat org.apache.spark.storage.BlockManager.stop(BlockManager.scala:2120)\n",
      "\tat org.apache.spark.SparkEnv.stop(SparkEnv.scala:95)\n",
      "\tat org.apache.spark.SparkContext.$anonfun$stop$25(SparkContext.scala:2305)\n",
      "\tat org.apache.spark.util.Utils$.tryLogNonFatalError(Utils.scala:1375)\n",
      "\tat org.apache.spark.SparkContext.stop(SparkContext.scala:2305)\n",
      "\tat org.apache.spark.SparkContext.stop(SparkContext.scala:2211)\n",
      "\tat org.apache.spark.SparkContext.$anonfun$new$34(SparkContext.scala:681)\n",
      "\tat org.apache.spark.util.SparkShutdownHook.run(ShutdownHookManager.scala:214)\n",
      "\tat org.apache.spark.util.SparkShutdownHookManager.$anonfun$runAll$2(ShutdownHookManager.scala:188)\n",
      "\tat scala.runtime.java8.JFunction0$mcV$sp.apply(JFunction0$mcV$sp.java:23)\n",
      "\tat org.apache.spark.util.Utils$.logUncaughtExceptions(Utils.scala:1928)\n",
      "\tat org.apache.spark.util.SparkShutdownHookManager.$anonfun$runAll$1(ShutdownHookManager.scala:188)\n",
      "\tat scala.runtime.java8.JFunction0$mcV$sp.apply(JFunction0$mcV$sp.java:23)\n",
      "\tat scala.util.Try$.apply(Try.scala:213)\n",
      "\tat org.apache.spark.util.SparkShutdownHookManager.runAll(ShutdownHookManager.scala:188)\n",
      "\tat org.apache.spark.util.SparkShutdownHookManager$$anon$2.run(ShutdownHookManager.scala:178)\n",
      "\tat java.base/java.util.concurrent.Executors$RunnableAdapter.call(Executors.java:539)\n",
      "\tat java.base/java.util.concurrent.FutureTask.run(FutureTask.java:264)\n",
      "\tat java.base/java.util.concurrent.ThreadPoolExecutor.runWorker(ThreadPoolExecutor.java:1136)\n",
      "\tat java.base/java.util.concurrent.ThreadPoolExecutor$Worker.run(ThreadPoolExecutor.java:635)\n",
      "\tat java.base/java.lang.Thread.run(Thread.java:840)\n"
     ]
    }
   ],
   "source": [
    "vectorAssembler = VectorAssembler(inputCols=features_cols, outputCol='vectors')\n",
    "full_df_vectors = vectorAssembler.transform(full_df_features).select('vectors')\n",
    "full_df_vectors.show()"
   ]
  },
  {
   "cell_type": "markdown",
   "id": "9a5199b2-8df2-499c-b86f-d0d9cd3eb45e",
   "metadata": {},
   "source": [
    "## Transforming Test Data"
   ]
  },
  {
   "cell_type": "code",
   "execution_count": 7,
   "id": "ec692998-bb8d-4f5a-a443-cfd1ba170539",
   "metadata": {},
   "outputs": [
    {
     "name": "stderr",
     "output_type": "stream",
     "text": [
      "                                                                                "
     ]
    },
    {
     "name": "stdout",
     "output_type": "stream",
     "text": [
      "1674896\n",
      "+---------+--------------------+--------------+--------------------+--------------------+------------+\n",
      "|       id|          bb1_smiles|    bb2_smiles|          bb3_smiles|     molecule_smiles|protein_name|\n",
      "+---------+--------------------+--------------+--------------------+--------------------+------------+\n",
      "|295246830|C#CCCC[C@H](NC(=O...|C=Cc1ccc(N)cc1|      C=Cc1ccc(N)cc1|C#CCCC[C@H](Nc1nc...|        BRD4|\n",
      "|295246831|C#CCCC[C@H](NC(=O...|C=Cc1ccc(N)cc1|      C=Cc1ccc(N)cc1|C#CCCC[C@H](Nc1nc...|         HSA|\n",
      "|295246832|C#CCCC[C@H](NC(=O...|C=Cc1ccc(N)cc1|      C=Cc1ccc(N)cc1|C#CCCC[C@H](Nc1nc...|         sEH|\n",
      "|295246833|C#CCCC[C@H](NC(=O...|C=Cc1ccc(N)cc1|CC(O)Cn1cnc2c(N)n...|C#CCCC[C@H](Nc1nc...|        BRD4|\n",
      "|295246834|C#CCCC[C@H](NC(=O...|C=Cc1ccc(N)cc1|CC(O)Cn1cnc2c(N)n...|C#CCCC[C@H](Nc1nc...|         HSA|\n",
      "|295246835|C#CCCC[C@H](NC(=O...|C=Cc1ccc(N)cc1|CC(O)Cn1cnc2c(N)n...|C#CCCC[C@H](Nc1nc...|         sEH|\n",
      "|295246836|C#CCCC[C@H](NC(=O...|C=Cc1ccc(N)cc1|    CC1(C)CCCC1(O)CN|C#CCCC[C@H](Nc1nc...|        BRD4|\n",
      "|295246837|C#CCCC[C@H](NC(=O...|C=Cc1ccc(N)cc1|    CC1(C)CCCC1(O)CN|C#CCCC[C@H](Nc1nc...|         HSA|\n",
      "|295246838|C#CCCC[C@H](NC(=O...|C=Cc1ccc(N)cc1|    CC1(C)CCCC1(O)CN|C#CCCC[C@H](Nc1nc...|         sEH|\n",
      "|295246839|C#CCCC[C@H](NC(=O...|C=Cc1ccc(N)cc1| COC(=O)c1cc(Cl)sc1N|C#CCCC[C@H](Nc1nc...|        BRD4|\n",
      "|295246840|C#CCCC[C@H](NC(=O...|C=Cc1ccc(N)cc1| COC(=O)c1cc(Cl)sc1N|C#CCCC[C@H](Nc1nc...|         HSA|\n",
      "|295246841|C#CCCC[C@H](NC(=O...|C=Cc1ccc(N)cc1| COC(=O)c1cc(Cl)sc1N|C#CCCC[C@H](Nc1nc...|         sEH|\n",
      "|295246842|C#CCCC[C@H](NC(=O...|C=Cc1ccc(N)cc1|      CSC1CCC(CN)CC1|C#CCCC[C@H](Nc1nc...|        BRD4|\n",
      "|295246843|C#CCCC[C@H](NC(=O...|C=Cc1ccc(N)cc1|      CSC1CCC(CN)CC1|C#CCCC[C@H](Nc1nc...|         HSA|\n",
      "|295246844|C#CCCC[C@H](NC(=O...|C=Cc1ccc(N)cc1|      CSC1CCC(CN)CC1|C#CCCC[C@H](Nc1nc...|         sEH|\n",
      "|295246845|C#CCCC[C@H](NC(=O...|C=Cc1ccc(N)cc1|Cc1ccc(CN)c(N2CCC...|C#CCCC[C@H](Nc1nc...|        BRD4|\n",
      "|295246846|C#CCCC[C@H](NC(=O...|C=Cc1ccc(N)cc1|Cc1ccc(CN)c(N2CCC...|C#CCCC[C@H](Nc1nc...|         HSA|\n",
      "|295246847|C#CCCC[C@H](NC(=O...|C=Cc1ccc(N)cc1|Cc1ccc(CN)c(N2CCC...|C#CCCC[C@H](Nc1nc...|         sEH|\n",
      "|295246848|C#CCCC[C@H](NC(=O...|C=Cc1ccc(N)cc1|Cc1cccc(NC(=O)COc...|C#CCCC[C@H](Nc1nc...|        BRD4|\n",
      "|295246849|C#CCCC[C@H](NC(=O...|C=Cc1ccc(N)cc1|Cc1cccc(NC(=O)COc...|C#CCCC[C@H](Nc1nc...|         HSA|\n",
      "+---------+--------------------+--------------+--------------------+--------------------+------------+\n",
      "only showing top 20 rows\n",
      "\n"
     ]
    }
   ],
   "source": [
    "test_df = rename_Cols(spark.read.format('parquet').load('test.parquet'))\n",
    "print(test_df.count())\n",
    "test_df.show()"
   ]
  },
  {
   "cell_type": "code",
   "execution_count": 8,
   "id": "f7f72b35-4f85-4474-9634-a1b3804454e5",
   "metadata": {},
   "outputs": [
    {
     "name": "stdout",
     "output_type": "stream",
     "text": [
      "Encoders Loaded Succesfully...\n"
     ]
    },
    {
     "name": "stderr",
     "output_type": "stream",
     "text": [
      "                                                                                "
     ]
    }
   ],
   "source": [
    "test_df_features = make_features_df(test_df, load_encoder=True)"
   ]
  },
  {
   "cell_type": "code",
   "execution_count": 9,
   "id": "0de7a93f-18a6-4f6a-998e-813ef3e57ea3",
   "metadata": {},
   "outputs": [
    {
     "name": "stderr",
     "output_type": "stream",
     "text": [
      "24/12/31 02:00:17 WARN SparkStringUtils: Truncated the string representation of a plan since it was too large. This behavior can be adjusted by setting 'spark.sql.debug.maxToStringFields'.\n",
      "[Stage 16:===========================================>              (3 + 1) / 4]"
     ]
    },
    {
     "name": "stdout",
     "output_type": "stream",
     "text": [
      "+---------+--------------------+--------------+--------------------+--------------------+------------------+--------------+------------------+--------+---------------------+--------------+-----------------+----------------+------------------+-----------------+--------------------+---------------------+---------------------+------------------+------------+-------------+--------------------+-----------------------+----------------------+------------------+------------------+----------------------+---------------------+------------------+--------------+------------------+--------+---------------------+--------------+-----------------+----------------+----------------+-----------------+--------------------+---------------------+---------------------+------------------+------------+-------------+--------------------+-----------------------+----------------------+------------------+------------------+----------------------+---------------------+------------------+--------------+-------------------+------------------+---------------------+--------------+-----------------+----------------+-------------------+-----------------+--------------------+---------------------+---------------------+------------------+------------+-------------+--------------------+-----------------------+----------------------+------------------+-------------------+----------------------+---------------------+-----------------+-------------------+------------------+------------------+--------------------------+-------------------+----------------------+---------------------+---------------------+----------------------+-------------------------+--------------------------+--------------------------+-----------------------+-----------------+------------------+-------------------------+----------------------------+---------------------------+-----------------------+----------------------+---------------------------+--------------------------+--------------+\n",
      "|       id|          bb1_smiles|    bb2_smiles|          bb3_smiles|     molecule_smiles|         bb1_MolWt|bb1_ExactMolWt|       bb1_MolLogP|bb1_TPSA|bb1_NumRotatableBonds|bb1_NumHDonors|bb1_NumHAcceptors|bb1_FormalCharge|  bb1_FractionCSP3|bb1_NumHeavyAtoms|bb1_NumAromaticRings|bb1_NumAliphaticRings|bb1_NumSaturatedRings|bb1_NumHeteroatoms|bb1_NumRings|bb1_MolVolume|bb1_RadiusOfGyration|bb1_InertialShapeFactor|bb1_AromaticProportion|bb1_HBondPotential| bb1_Lipophilicity|bb1_ChargeDistribution|bb1_ElectroNegativity|         bb2_MolWt|bb2_ExactMolWt|       bb2_MolLogP|bb2_TPSA|bb2_NumRotatableBonds|bb2_NumHDonors|bb2_NumHAcceptors|bb2_FormalCharge|bb2_FractionCSP3|bb2_NumHeavyAtoms|bb2_NumAromaticRings|bb2_NumAliphaticRings|bb2_NumSaturatedRings|bb2_NumHeteroatoms|bb2_NumRings|bb2_MolVolume|bb2_RadiusOfGyration|bb2_InertialShapeFactor|bb2_AromaticProportion|bb2_HBondPotential| bb2_Lipophilicity|bb2_ChargeDistribution|bb2_ElectroNegativity|         bb3_MolWt|bb3_ExactMolWt|        bb3_MolLogP|          bb3_TPSA|bb3_NumRotatableBonds|bb3_NumHDonors|bb3_NumHAcceptors|bb3_FormalCharge|   bb3_FractionCSP3|bb3_NumHeavyAtoms|bb3_NumAromaticRings|bb3_NumAliphaticRings|bb3_NumSaturatedRings|bb3_NumHeteroatoms|bb3_NumRings|bb3_MolVolume|bb3_RadiusOfGyration|bb3_InertialShapeFactor|bb3_AromaticProportion|bb3_HBondPotential|  bb3_Lipophilicity|bb3_ChargeDistribution|bb3_ElectroNegativity|   molecule_MolWt|molecule_ExactMolWt|  molecule_MolLogP|     molecule_TPSA|molecule_NumRotatableBonds|molecule_NumHDonors|molecule_NumHAcceptors|molecule_FormalCharge|molecule_FractionCSP3|molecule_NumHeavyAtoms|molecule_NumAromaticRings|molecule_NumAliphaticRings|molecule_NumSaturatedRings|molecule_NumHeteroatoms|molecule_NumRings|molecule_MolVolume|molecule_RadiusOfGyration|molecule_InertialShapeFactor|molecule_AromaticProportion|molecule_HBondPotential|molecule_Lipophilicity|molecule_ChargeDistribution|molecule_ElectroNegativity|protein_onehot|\n",
      "+---------+--------------------+--------------+--------------------+--------------------+------------------+--------------+------------------+--------+---------------------+--------------+-----------------+----------------+------------------+-----------------+--------------------+---------------------+---------------------+------------------+------------+-------------+--------------------+-----------------------+----------------------+------------------+------------------+----------------------+---------------------+------------------+--------------+------------------+--------+---------------------+--------------+-----------------+----------------+----------------+-----------------+--------------------+---------------------+---------------------+------------------+------------+-------------+--------------------+-----------------------+----------------------+------------------+------------------+----------------------+---------------------+------------------+--------------+-------------------+------------------+---------------------+--------------+-----------------+----------------+-------------------+-----------------+--------------------+---------------------+---------------------+------------------+------------+-------------+--------------------+-----------------------+----------------------+------------------+-------------------+----------------------+---------------------+-----------------+-------------------+------------------+------------------+--------------------------+-------------------+----------------------+---------------------+---------------------+----------------------+-------------------------+--------------------------+--------------------------+-----------------------+-----------------+------------------+-------------------------+----------------------------+---------------------------+-----------------------+----------------------+---------------------------+--------------------------+--------------+\n",
      "|295246830|C#CCCC[C@H](NC(=O...|C=Cc1ccc(N)cc1|      C=Cc1ccc(N)cc1|C#CCCC[C@H](Nc1nc...|363.41300000000007| 363.147058152|3.7818000000000023|   75.63|                    7|             2|                3|               0|0.2727272727272727|               27|                   2|                    1|                    0|                 5|           3|            0|                   0|                      0|   0.07407407407407407|                 5|3.7818000000000023|                     0|   102.31250000000004|119.16699999999999| 119.073499288|1.9118000000000002|   26.02|                    1|             1|                1|               0|             0.0|                9|                   1|                    0|                    0|                 1|           1|            0|                   0|                      0|    0.1111111111111111|                 2|1.9118000000000002|                     0|   40.945400000000014|119.16699999999999| 119.073499288| 1.9118000000000002|             26.02|                    1|             1|                1|               0|                0.0|                9|                   1|                    0|                    0|                 1|           1|            0|                   0|                      0|    0.1111111111111111|                 2| 1.9118000000000002|                     0|   40.945400000000014|615.0420000000001|      616.149058252| 4.809300000000003|103.86000000000001|                        12|                  4|                     7|                    0|  0.15384615384615385|                    35|                        3|                         0|                         0|                      9|                3|                 0|                        0|                           0|        0.08571428571428572|                     11|     4.809300000000003|                          0|        137.69579999999993| (2,[0],[1.0])|\n",
      "|295246831|C#CCCC[C@H](NC(=O...|C=Cc1ccc(N)cc1|      C=Cc1ccc(N)cc1|C#CCCC[C@H](Nc1nc...|363.41300000000007| 363.147058152|3.7818000000000023|   75.63|                    7|             2|                3|               0|0.2727272727272727|               27|                   2|                    1|                    0|                 5|           3|            0|                   0|                      0|   0.07407407407407407|                 5|3.7818000000000023|                     0|   102.31250000000004|119.16699999999999| 119.073499288|1.9118000000000002|   26.02|                    1|             1|                1|               0|             0.0|                9|                   1|                    0|                    0|                 1|           1|            0|                   0|                      0|    0.1111111111111111|                 2|1.9118000000000002|                     0|   40.945400000000014|119.16699999999999| 119.073499288| 1.9118000000000002|             26.02|                    1|             1|                1|               0|                0.0|                9|                   1|                    0|                    0|                 1|           1|            0|                   0|                      0|    0.1111111111111111|                 2| 1.9118000000000002|                     0|   40.945400000000014|615.0420000000001|      616.149058252| 4.809300000000003|103.86000000000001|                        12|                  4|                     7|                    0|  0.15384615384615385|                    35|                        3|                         0|                         0|                      9|                3|                 0|                        0|                           0|        0.08571428571428572|                     11|     4.809300000000003|                          0|        137.69579999999993|     (2,[],[])|\n",
      "|295246832|C#CCCC[C@H](NC(=O...|C=Cc1ccc(N)cc1|      C=Cc1ccc(N)cc1|C#CCCC[C@H](Nc1nc...|363.41300000000007| 363.147058152|3.7818000000000023|   75.63|                    7|             2|                3|               0|0.2727272727272727|               27|                   2|                    1|                    0|                 5|           3|            0|                   0|                      0|   0.07407407407407407|                 5|3.7818000000000023|                     0|   102.31250000000004|119.16699999999999| 119.073499288|1.9118000000000002|   26.02|                    1|             1|                1|               0|             0.0|                9|                   1|                    0|                    0|                 1|           1|            0|                   0|                      0|    0.1111111111111111|                 2|1.9118000000000002|                     0|   40.945400000000014|119.16699999999999| 119.073499288| 1.9118000000000002|             26.02|                    1|             1|                1|               0|                0.0|                9|                   1|                    0|                    0|                 1|           1|            0|                   0|                      0|    0.1111111111111111|                 2| 1.9118000000000002|                     0|   40.945400000000014|615.0420000000001|      616.149058252| 4.809300000000003|103.86000000000001|                        12|                  4|                     7|                    0|  0.15384615384615385|                    35|                        3|                         0|                         0|                      9|                3|                 0|                        0|                           0|        0.08571428571428572|                     11|     4.809300000000003|                          0|        137.69579999999993| (2,[1],[1.0])|\n",
      "|295246833|C#CCCC[C@H](NC(=O...|C=Cc1ccc(N)cc1|CC(O)Cn1cnc2c(N)n...|C#CCCC[C@H](Nc1nc...|363.41300000000007| 363.147058152|3.7818000000000023|   75.63|                    7|             2|                3|               0|0.2727272727272727|               27|                   2|                    1|                    0|                 5|           3|            0|                   0|                      0|   0.07407407407407407|                 5|3.7818000000000023|                     0|   102.31250000000004|119.16699999999999| 119.073499288|1.9118000000000002|   26.02|                    1|             1|                1|               0|             0.0|                9|                   1|                    0|                    0|                 1|           1|            0|                   0|                      0|    0.1111111111111111|                 2|1.9118000000000002|                     0|   40.945400000000014|193.20999999999998| 193.096359972|-0.2107000000000005|             89.85|                    2|             2|                6|               0|              0.375|               14|                   2|                    0|                    0|                 6|           2|            0|                   0|                      0|   0.14285714285714285|                 8|-0.2107000000000005|                     0|    51.41620000000001|689.0850000000003|  690.1719189360001|2.6867999999999994|            167.69|                        13|                  5|                    12|                    0|   0.2692307692307692|                    40|                        4|                         0|                         0|                     14|                4|                 0|                        0|                           0|                        0.1|                     17|    2.6867999999999994|                          0|        148.16659999999987| (2,[0],[1.0])|\n",
      "|295246834|C#CCCC[C@H](NC(=O...|C=Cc1ccc(N)cc1|CC(O)Cn1cnc2c(N)n...|C#CCCC[C@H](Nc1nc...|363.41300000000007| 363.147058152|3.7818000000000023|   75.63|                    7|             2|                3|               0|0.2727272727272727|               27|                   2|                    1|                    0|                 5|           3|            0|                   0|                      0|   0.07407407407407407|                 5|3.7818000000000023|                     0|   102.31250000000004|119.16699999999999| 119.073499288|1.9118000000000002|   26.02|                    1|             1|                1|               0|             0.0|                9|                   1|                    0|                    0|                 1|           1|            0|                   0|                      0|    0.1111111111111111|                 2|1.9118000000000002|                     0|   40.945400000000014|193.20999999999998| 193.096359972|-0.2107000000000005|             89.85|                    2|             2|                6|               0|              0.375|               14|                   2|                    0|                    0|                 6|           2|            0|                   0|                      0|   0.14285714285714285|                 8|-0.2107000000000005|                     0|    51.41620000000001|689.0850000000003|  690.1719189360001|2.6867999999999994|            167.69|                        13|                  5|                    12|                    0|   0.2692307692307692|                    40|                        4|                         0|                         0|                     14|                4|                 0|                        0|                           0|                        0.1|                     17|    2.6867999999999994|                          0|        148.16659999999987|     (2,[],[])|\n",
      "|295246835|C#CCCC[C@H](NC(=O...|C=Cc1ccc(N)cc1|CC(O)Cn1cnc2c(N)n...|C#CCCC[C@H](Nc1nc...|363.41300000000007| 363.147058152|3.7818000000000023|   75.63|                    7|             2|                3|               0|0.2727272727272727|               27|                   2|                    1|                    0|                 5|           3|            0|                   0|                      0|   0.07407407407407407|                 5|3.7818000000000023|                     0|   102.31250000000004|119.16699999999999| 119.073499288|1.9118000000000002|   26.02|                    1|             1|                1|               0|             0.0|                9|                   1|                    0|                    0|                 1|           1|            0|                   0|                      0|    0.1111111111111111|                 2|1.9118000000000002|                     0|   40.945400000000014|193.20999999999998| 193.096359972|-0.2107000000000005|             89.85|                    2|             2|                6|               0|              0.375|               14|                   2|                    0|                    0|                 6|           2|            0|                   0|                      0|   0.14285714285714285|                 8|-0.2107000000000005|                     0|    51.41620000000001|689.0850000000003|  690.1719189360001|2.6867999999999994|            167.69|                        13|                  5|                    12|                    0|   0.2692307692307692|                    40|                        4|                         0|                         0|                     14|                4|                 0|                        0|                           0|                        0.1|                     17|    2.6867999999999994|                          0|        148.16659999999987| (2,[1],[1.0])|\n",
      "|295246836|C#CCCC[C@H](NC(=O...|C=Cc1ccc(N)cc1|    CC1(C)CCCC1(O)CN|C#CCCC[C@H](Nc1nc...|363.41300000000007| 363.147058152|3.7818000000000023|   75.63|                    7|             2|                3|               0|0.2727272727272727|               27|                   2|                    1|                    0|                 5|           3|            0|                   0|                      0|   0.07407407407407407|                 5|3.7818000000000023|                     0|   102.31250000000004|119.16699999999999| 119.073499288|1.9118000000000002|   26.02|                    1|             1|                1|               0|             0.0|                9|                   1|                    0|                    0|                 1|           1|            0|                   0|                      0|    0.1111111111111111|                 2|1.9118000000000002|                     0|   40.945400000000014|            143.23| 143.131014164| 0.8863000000000001|             46.25|                    1|             2|                2|               0|                1.0|               10|                   0|                    1|                    1|                 2|           1|            0|                   0|                      0|                   0.0|                 4| 0.8863000000000001|                     0|              41.6362|639.1050000000002|  640.2065731280002| 3.775800000000001|            124.09|                        12|                  5|                     8|                    0|  0.46153846153846156|                    36|                        2|                         1|                         1|                     10|                3|                 0|                        0|                           0|        0.05555555555555555|                     13|     3.775800000000001|                          0|        138.95159999999996| (2,[0],[1.0])|\n",
      "|295246837|C#CCCC[C@H](NC(=O...|C=Cc1ccc(N)cc1|    CC1(C)CCCC1(O)CN|C#CCCC[C@H](Nc1nc...|363.41300000000007| 363.147058152|3.7818000000000023|   75.63|                    7|             2|                3|               0|0.2727272727272727|               27|                   2|                    1|                    0|                 5|           3|            0|                   0|                      0|   0.07407407407407407|                 5|3.7818000000000023|                     0|   102.31250000000004|119.16699999999999| 119.073499288|1.9118000000000002|   26.02|                    1|             1|                1|               0|             0.0|                9|                   1|                    0|                    0|                 1|           1|            0|                   0|                      0|    0.1111111111111111|                 2|1.9118000000000002|                     0|   40.945400000000014|            143.23| 143.131014164| 0.8863000000000001|             46.25|                    1|             2|                2|               0|                1.0|               10|                   0|                    1|                    1|                 2|           1|            0|                   0|                      0|                   0.0|                 4| 0.8863000000000001|                     0|              41.6362|639.1050000000002|  640.2065731280002| 3.775800000000001|            124.09|                        12|                  5|                     8|                    0|  0.46153846153846156|                    36|                        2|                         1|                         1|                     10|                3|                 0|                        0|                           0|        0.05555555555555555|                     13|     3.775800000000001|                          0|        138.95159999999996|     (2,[],[])|\n",
      "|295246838|C#CCCC[C@H](NC(=O...|C=Cc1ccc(N)cc1|    CC1(C)CCCC1(O)CN|C#CCCC[C@H](Nc1nc...|363.41300000000007| 363.147058152|3.7818000000000023|   75.63|                    7|             2|                3|               0|0.2727272727272727|               27|                   2|                    1|                    0|                 5|           3|            0|                   0|                      0|   0.07407407407407407|                 5|3.7818000000000023|                     0|   102.31250000000004|119.16699999999999| 119.073499288|1.9118000000000002|   26.02|                    1|             1|                1|               0|             0.0|                9|                   1|                    0|                    0|                 1|           1|            0|                   0|                      0|    0.1111111111111111|                 2|1.9118000000000002|                     0|   40.945400000000014|            143.23| 143.131014164| 0.8863000000000001|             46.25|                    1|             2|                2|               0|                1.0|               10|                   0|                    1|                    1|                 2|           1|            0|                   0|                      0|                   0.0|                 4| 0.8863000000000001|                     0|              41.6362|639.1050000000002|  640.2065731280002| 3.775800000000001|            124.09|                        12|                  5|                     8|                    0|  0.46153846153846156|                    36|                        2|                         1|                         1|                     10|                3|                 0|                        0|                           0|        0.05555555555555555|                     13|     3.775800000000001|                          0|        138.95159999999996| (2,[1],[1.0])|\n",
      "|295246839|C#CCCC[C@H](NC(=O...|C=Cc1ccc(N)cc1| COC(=O)c1cc(Cl)sc1N|C#CCCC[C@H](Nc1nc...|363.41300000000007| 363.147058152|3.7818000000000023|   75.63|                    7|             2|                3|               0|0.2727272727272727|               27|                   2|                    1|                    0|                 5|           3|            0|                   0|                      0|   0.07407407407407407|                 5|3.7818000000000023|                     0|   102.31250000000004|119.16699999999999| 119.073499288|1.9118000000000002|   26.02|                    1|             1|                1|               0|             0.0|                9|                   1|                    0|                    0|                 1|           1|            0|                   0|                      0|    0.1111111111111111|                 2|1.9118000000000002|                     0|   40.945400000000014|           191.639| 190.980777112|             1.7703|             52.32|                    1|             1|                4|               0|0.16666666666666666|               11|                   1|                    0|                    0|                 5|           1|            0|                   0|                      0|   0.09090909090909091|                 5|             1.7703|                     0|    45.08090000000001|687.5140000000004|      688.056336076| 4.667800000000002|            130.16|                        12|                  4|                    10|                    0|  0.20833333333333334|                    37|                        3|                         0|                         0|                     13|                3|                 0|                        0|                           0|        0.08108108108108109|                     14|     4.667800000000002|                          0|         141.8312999999999| (2,[0],[1.0])|\n",
      "|295246840|C#CCCC[C@H](NC(=O...|C=Cc1ccc(N)cc1| COC(=O)c1cc(Cl)sc1N|C#CCCC[C@H](Nc1nc...|363.41300000000007| 363.147058152|3.7818000000000023|   75.63|                    7|             2|                3|               0|0.2727272727272727|               27|                   2|                    1|                    0|                 5|           3|            0|                   0|                      0|   0.07407407407407407|                 5|3.7818000000000023|                     0|   102.31250000000004|119.16699999999999| 119.073499288|1.9118000000000002|   26.02|                    1|             1|                1|               0|             0.0|                9|                   1|                    0|                    0|                 1|           1|            0|                   0|                      0|    0.1111111111111111|                 2|1.9118000000000002|                     0|   40.945400000000014|           191.639| 190.980777112|             1.7703|             52.32|                    1|             1|                4|               0|0.16666666666666666|               11|                   1|                    0|                    0|                 5|           1|            0|                   0|                      0|   0.09090909090909091|                 5|             1.7703|                     0|    45.08090000000001|687.5140000000004|      688.056336076| 4.667800000000002|            130.16|                        12|                  4|                    10|                    0|  0.20833333333333334|                    37|                        3|                         0|                         0|                     13|                3|                 0|                        0|                           0|        0.08108108108108109|                     14|     4.667800000000002|                          0|         141.8312999999999|     (2,[],[])|\n",
      "|295246841|C#CCCC[C@H](NC(=O...|C=Cc1ccc(N)cc1| COC(=O)c1cc(Cl)sc1N|C#CCCC[C@H](Nc1nc...|363.41300000000007| 363.147058152|3.7818000000000023|   75.63|                    7|             2|                3|               0|0.2727272727272727|               27|                   2|                    1|                    0|                 5|           3|            0|                   0|                      0|   0.07407407407407407|                 5|3.7818000000000023|                     0|   102.31250000000004|119.16699999999999| 119.073499288|1.9118000000000002|   26.02|                    1|             1|                1|               0|             0.0|                9|                   1|                    0|                    0|                 1|           1|            0|                   0|                      0|    0.1111111111111111|                 2|1.9118000000000002|                     0|   40.945400000000014|           191.639| 190.980777112|             1.7703|             52.32|                    1|             1|                4|               0|0.16666666666666666|               11|                   1|                    0|                    0|                 5|           1|            0|                   0|                      0|   0.09090909090909091|                 5|             1.7703|                     0|    45.08090000000001|687.5140000000004|      688.056336076| 4.667800000000002|            130.16|                        12|                  4|                    10|                    0|  0.20833333333333334|                    37|                        3|                         0|                         0|                     13|                3|                 0|                        0|                           0|        0.08108108108108109|                     14|     4.667800000000002|                          0|         141.8312999999999| (2,[1],[1.0])|\n",
      "|295246842|C#CCCC[C@H](NC(=O...|C=Cc1ccc(N)cc1|      CSC1CCC(CN)CC1|C#CCCC[C@H](Nc1nc...|363.41300000000007| 363.147058152|3.7818000000000023|   75.63|                    7|             2|                3|               0|0.2727272727272727|               27|                   2|                    1|                    0|                 5|           3|            0|                   0|                      0|   0.07407407407407407|                 5|3.7818000000000023|                     0|   102.31250000000004|119.16699999999999| 119.073499288|1.9118000000000002|   26.02|                    1|             1|                1|               0|             0.0|                9|                   1|                    0|                    0|                 1|           1|            0|                   0|                      0|    0.1111111111111111|                 2|1.9118000000000002|                     0|   40.945400000000014|159.29799999999997| 159.108170544|             1.8669|             26.02|                    2|             1|                2|               0|                1.0|               10|                   0|                    1|                    1|                 2|           1|            0|                   0|                      0|                   0.0|                 3|             1.8669|                     0|   48.315400000000025|655.1730000000002|  656.1837295080002| 4.756400000000003|103.86000000000001|                        13|                  4|                     8|                    0|  0.46153846153846156|                    36|                        2|                         1|                         1|                     10|                3|                 0|                        0|                           0|        0.05555555555555555|                     12|     4.756400000000003|                          0|        145.63079999999988| (2,[0],[1.0])|\n",
      "|295246843|C#CCCC[C@H](NC(=O...|C=Cc1ccc(N)cc1|      CSC1CCC(CN)CC1|C#CCCC[C@H](Nc1nc...|363.41300000000007| 363.147058152|3.7818000000000023|   75.63|                    7|             2|                3|               0|0.2727272727272727|               27|                   2|                    1|                    0|                 5|           3|            0|                   0|                      0|   0.07407407407407407|                 5|3.7818000000000023|                     0|   102.31250000000004|119.16699999999999| 119.073499288|1.9118000000000002|   26.02|                    1|             1|                1|               0|             0.0|                9|                   1|                    0|                    0|                 1|           1|            0|                   0|                      0|    0.1111111111111111|                 2|1.9118000000000002|                     0|   40.945400000000014|159.29799999999997| 159.108170544|             1.8669|             26.02|                    2|             1|                2|               0|                1.0|               10|                   0|                    1|                    1|                 2|           1|            0|                   0|                      0|                   0.0|                 3|             1.8669|                     0|   48.315400000000025|655.1730000000002|  656.1837295080002| 4.756400000000003|103.86000000000001|                        13|                  4|                     8|                    0|  0.46153846153846156|                    36|                        2|                         1|                         1|                     10|                3|                 0|                        0|                           0|        0.05555555555555555|                     12|     4.756400000000003|                          0|        145.63079999999988|     (2,[],[])|\n",
      "|295246844|C#CCCC[C@H](NC(=O...|C=Cc1ccc(N)cc1|      CSC1CCC(CN)CC1|C#CCCC[C@H](Nc1nc...|363.41300000000007| 363.147058152|3.7818000000000023|   75.63|                    7|             2|                3|               0|0.2727272727272727|               27|                   2|                    1|                    0|                 5|           3|            0|                   0|                      0|   0.07407407407407407|                 5|3.7818000000000023|                     0|   102.31250000000004|119.16699999999999| 119.073499288|1.9118000000000002|   26.02|                    1|             1|                1|               0|             0.0|                9|                   1|                    0|                    0|                 1|           1|            0|                   0|                      0|    0.1111111111111111|                 2|1.9118000000000002|                     0|   40.945400000000014|159.29799999999997| 159.108170544|             1.8669|             26.02|                    2|             1|                2|               0|                1.0|               10|                   0|                    1|                    1|                 2|           1|            0|                   0|                      0|                   0.0|                 3|             1.8669|                     0|   48.315400000000025|655.1730000000002|  656.1837295080002| 4.756400000000003|103.86000000000001|                        13|                  4|                     8|                    0|  0.46153846153846156|                    36|                        2|                         1|                         1|                     10|                3|                 0|                        0|                           0|        0.05555555555555555|                     12|     4.756400000000003|                          0|        145.63079999999988| (2,[1],[1.0])|\n",
      "|295246845|C#CCCC[C@H](NC(=O...|C=Cc1ccc(N)cc1|Cc1ccc(CN)c(N2CCC...|C#CCCC[C@H](Nc1nc...|363.41300000000007| 363.147058152|3.7818000000000023|   75.63|                    7|             2|                3|               0|0.2727272727272727|               27|                   2|                    1|                    0|                 5|           3|            0|                   0|                      0|   0.07407407407407407|                 5|3.7818000000000023|                     0|   102.31250000000004|119.16699999999999| 119.073499288|1.9118000000000002|   26.02|                    1|             1|                1|               0|             0.0|                9|                   1|                    0|                    0|                 1|           1|            0|                   0|                      0|    0.1111111111111111|                 2|1.9118000000000002|                     0|   40.945400000000014|           263.212|    262.100354|  2.897520000000002|29.259999999999998|                    2|             1|                2|               0|                0.5|               16|                   1|                    1|                    1|                 4|           2|            0|                   0|                      0|                0.0625|                 3|  2.897520000000002|                     0|    75.01340000000002|686.1650000000004|       687.22255754| 4.943420000000003|             107.1|                        13|                  4|                     8|                    0|   0.3333333333333333|                    40|                        3|                         1|                         1|                     10|                4|                 0|                        0|                           0|                      0.075|                     12|     4.943420000000003|                          0|        157.83279999999974| (2,[0],[1.0])|\n",
      "|295246846|C#CCCC[C@H](NC(=O...|C=Cc1ccc(N)cc1|Cc1ccc(CN)c(N2CCC...|C#CCCC[C@H](Nc1nc...|363.41300000000007| 363.147058152|3.7818000000000023|   75.63|                    7|             2|                3|               0|0.2727272727272727|               27|                   2|                    1|                    0|                 5|           3|            0|                   0|                      0|   0.07407407407407407|                 5|3.7818000000000023|                     0|   102.31250000000004|119.16699999999999| 119.073499288|1.9118000000000002|   26.02|                    1|             1|                1|               0|             0.0|                9|                   1|                    0|                    0|                 1|           1|            0|                   0|                      0|    0.1111111111111111|                 2|1.9118000000000002|                     0|   40.945400000000014|           263.212|    262.100354|  2.897520000000002|29.259999999999998|                    2|             1|                2|               0|                0.5|               16|                   1|                    1|                    1|                 4|           2|            0|                   0|                      0|                0.0625|                 3|  2.897520000000002|                     0|    75.01340000000002|686.1650000000004|       687.22255754| 4.943420000000003|             107.1|                        13|                  4|                     8|                    0|   0.3333333333333333|                    40|                        3|                         1|                         1|                     10|                4|                 0|                        0|                           0|                      0.075|                     12|     4.943420000000003|                          0|        157.83279999999974|     (2,[],[])|\n",
      "|295246847|C#CCCC[C@H](NC(=O...|C=Cc1ccc(N)cc1|Cc1ccc(CN)c(N2CCC...|C#CCCC[C@H](Nc1nc...|363.41300000000007| 363.147058152|3.7818000000000023|   75.63|                    7|             2|                3|               0|0.2727272727272727|               27|                   2|                    1|                    0|                 5|           3|            0|                   0|                      0|   0.07407407407407407|                 5|3.7818000000000023|                     0|   102.31250000000004|119.16699999999999| 119.073499288|1.9118000000000002|   26.02|                    1|             1|                1|               0|             0.0|                9|                   1|                    0|                    0|                 1|           1|            0|                   0|                      0|    0.1111111111111111|                 2|1.9118000000000002|                     0|   40.945400000000014|           263.212|    262.100354|  2.897520000000002|29.259999999999998|                    2|             1|                2|               0|                0.5|               16|                   1|                    1|                    1|                 4|           2|            0|                   0|                      0|                0.0625|                 3|  2.897520000000002|                     0|    75.01340000000002|686.1650000000004|       687.22255754| 4.943420000000003|             107.1|                        13|                  4|                     8|                    0|   0.3333333333333333|                    40|                        3|                         1|                         1|                     10|                4|                 0|                        0|                           0|                      0.075|                     12|     4.943420000000003|                          0|        157.83279999999974| (2,[1],[1.0])|\n",
      "|295246848|C#CCCC[C@H](NC(=O...|C=Cc1ccc(N)cc1|Cc1cccc(NC(=O)COc...|C#CCCC[C@H](Nc1nc...|363.41300000000007| 363.147058152|3.7818000000000023|   75.63|                    7|             2|                3|               0|0.2727272727272727|               27|                   2|                    1|                    0|                 5|           3|            0|                   0|                      0|   0.07407407407407407|                 5|3.7818000000000023|                     0|   102.31250000000004|119.16699999999999| 119.073499288|1.9118000000000002|   26.02|                    1|             1|                1|               0|             0.0|                9|                   1|                    0|                    0|                 1|           1|            0|                   0|                      0|    0.1111111111111111|                 2|1.9118000000000002|                     0|   40.945400000000014|            320.82| 320.129155592|  2.935520000000001|             64.35|                    6|             2|                3|               0|0.23529411764705882|               22|                   2|                    0|                    0|                 5|           2|            0|                   0|                      0|   0.09090909090909091|                 5|  2.935520000000001|                     0|    91.75210000000004|780.2340000000002|      781.228036844| 5.403220000000004|            142.19|                        17|                  5|                     9|                    0|  0.22857142857142856|                    47|                        4|                         0|                         0|                     12|                4|                 0|                        0|                           0|         0.0851063829787234|                     14|     5.403220000000004|                          0|        181.81949999999964| (2,[0],[1.0])|\n",
      "|295246849|C#CCCC[C@H](NC(=O...|C=Cc1ccc(N)cc1|Cc1cccc(NC(=O)COc...|C#CCCC[C@H](Nc1nc...|363.41300000000007| 363.147058152|3.7818000000000023|   75.63|                    7|             2|                3|               0|0.2727272727272727|               27|                   2|                    1|                    0|                 5|           3|            0|                   0|                      0|   0.07407407407407407|                 5|3.7818000000000023|                     0|   102.31250000000004|119.16699999999999| 119.073499288|1.9118000000000002|   26.02|                    1|             1|                1|               0|             0.0|                9|                   1|                    0|                    0|                 1|           1|            0|                   0|                      0|    0.1111111111111111|                 2|1.9118000000000002|                     0|   40.945400000000014|            320.82| 320.129155592|  2.935520000000001|             64.35|                    6|             2|                3|               0|0.23529411764705882|               22|                   2|                    0|                    0|                 5|           2|            0|                   0|                      0|   0.09090909090909091|                 5|  2.935520000000001|                     0|    91.75210000000004|780.2340000000002|      781.228036844| 5.403220000000004|            142.19|                        17|                  5|                     9|                    0|  0.22857142857142856|                    47|                        4|                         0|                         0|                     12|                4|                 0|                        0|                           0|         0.0851063829787234|                     14|     5.403220000000004|                          0|        181.81949999999964|     (2,[],[])|\n",
      "+---------+--------------------+--------------+--------------------+--------------------+------------------+--------------+------------------+--------+---------------------+--------------+-----------------+----------------+------------------+-----------------+--------------------+---------------------+---------------------+------------------+------------+-------------+--------------------+-----------------------+----------------------+------------------+------------------+----------------------+---------------------+------------------+--------------+------------------+--------+---------------------+--------------+-----------------+----------------+----------------+-----------------+--------------------+---------------------+---------------------+------------------+------------+-------------+--------------------+-----------------------+----------------------+------------------+------------------+----------------------+---------------------+------------------+--------------+-------------------+------------------+---------------------+--------------+-----------------+----------------+-------------------+-----------------+--------------------+---------------------+---------------------+------------------+------------+-------------+--------------------+-----------------------+----------------------+------------------+-------------------+----------------------+---------------------+-----------------+-------------------+------------------+------------------+--------------------------+-------------------+----------------------+---------------------+---------------------+----------------------+-------------------------+--------------------------+--------------------------+-----------------------+-----------------+------------------+-------------------------+----------------------------+---------------------------+-----------------------+----------------------+---------------------------+--------------------------+--------------+\n",
      "only showing top 20 rows\n",
      "\n"
     ]
    },
    {
     "name": "stderr",
     "output_type": "stream",
     "text": [
      "                                                                                "
     ]
    }
   ],
   "source": [
    "test_df_features.show()"
   ]
  },
  {
   "cell_type": "code",
   "execution_count": 10,
   "id": "e627e7be-780b-4356-aa36-98db196b3432",
   "metadata": {},
   "outputs": [
    {
     "data": {
      "text/plain": [
       "8"
      ]
     },
     "execution_count": 10,
     "metadata": {},
     "output_type": "execute_result"
    }
   ],
   "source": [
    "test_df_features.rdd.getNumPartitions()"
   ]
  },
  {
   "cell_type": "code",
   "execution_count": 14,
   "id": "e7caef4b-d439-4e03-b844-949e98200e1e",
   "metadata": {},
   "outputs": [
    {
     "name": "stderr",
     "output_type": "stream",
     "text": [
      "                                                                                "
     ]
    }
   ],
   "source": [
    "test_df_features.write.mode('overwrite').format('parquet').save('test_descriptors.parquet')"
   ]
  },
  {
   "cell_type": "code",
   "execution_count": null,
   "id": "509aaeb9-2d8d-40e9-927c-f46000086a6f",
   "metadata": {},
   "outputs": [],
   "source": []
  }
 ],
 "metadata": {
  "kernelspec": {
   "display_name": "Python 3 (ipykernel)",
   "language": "python",
   "name": "python3"
  },
  "language_info": {
   "codemirror_mode": {
    "name": "ipython",
    "version": 3
   },
   "file_extension": ".py",
   "mimetype": "text/x-python",
   "name": "python",
   "nbconvert_exporter": "python",
   "pygments_lexer": "ipython3",
   "version": "3.12.5"
  },
  "widgets": {
   "application/vnd.jupyter.widget-state+json": {
    "state": {},
    "version_major": 2,
    "version_minor": 0
   }
  }
 },
 "nbformat": 4,
 "nbformat_minor": 5
}
