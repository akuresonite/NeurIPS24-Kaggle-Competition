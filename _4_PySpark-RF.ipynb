{
 "cells": [
  {
   "cell_type": "markdown",
   "id": "ca027266-e09d-4d56-8456-36ff0fb3842f",
   "metadata": {},
   "source": [
    "## Model Creation on Chunks"
   ]
  },
  {
   "cell_type": "code",
   "execution_count": null,
   "id": "330bf9f2-a23a-411b-9dd3-3843f2f8d5d9",
   "metadata": {},
   "outputs": [],
   "source": [
    "train_len = 295246830\n",
    "one_len = 1589906\n",
    "zero_len = 293656924\n",
    "protein_map = {'BRD4': 1, 'HSA': 2, 'sEH': 3}\n",
    "vocab = {'C': 6825082866, '#': 81527490, '@': 511451694, 'H': 456489972, '=': 1406606874, 'O': 2554179786,\n",
    "         'N': 2469595230, 'c': 12257477022, '-': 438483636, '.': 216945504, 'l': 491088828, 'B': 123330132,\n",
    "         'r': 121915914, 'n': 1997759694, 'D': 295246830, 'y': 295246830, 'o': 67918650, 's': 156618468,\n",
    "         'S': 90662574, 'F': 492710238, '+': 65206260, 'i': 1414026, '/': 11547096, 'I': 23972994}\n",
    "\n",
    "from pyspark.sql import SparkSession\n",
    "from pyspark.sql.functions import col\n",
    "from pyspark.sql import functions as F\n",
    "from pyspark.sql.types import LongType, IntegerType, StructType, StructField\n",
    "\n",
    "from pyspark.ml.feature import VectorAssembler\n",
    "from pyspark.ml.tuning import CrossValidator, ParamGridBuilder\n",
    "from pyspark.ml.evaluation import BinaryClassificationEvaluator\n",
    "\n",
    "import pandas as pd\n",
    "import numpy as np\n",
    "\n",
    "from sklearn.model_selection import train_test_split\n",
    "from sklearn.preprocessing import OneHotEncoder\n",
    "\n",
    "from xgboost.spark import SparkXGBClassifier\n",
    "\n",
    "from sklearn.linear_model import LogisticRegression, LogisticRegressionCV\n",
    "from sklearn.metrics import classification_report, roc_auc_score, average_precision_score"
   ]
  },
  {
   "cell_type": "code",
   "execution_count": null,
   "id": "8a564012-333f-4061-a649-f8814b1d3c0f",
   "metadata": {},
   "outputs": [],
   "source": [
    "# for 256 Gb and 64 Cores\n",
    "spark = (\n",
    "    SparkSession\n",
    "    .builder\n",
    "    .appName(\"leash belka3\")\n",
    "    .config(\"spark.driver.memory\", \"48g\")  # Increased driver memory\n",
    "    .config(\"spark.executor.memory\", \"48g\")  # Increased executor memory\n",
    "    .config(\"spark.executor.instances\", \"16\")  # 16 executors\n",
    "    .config(\"spark.executor.cores\", \"4\")  # 4 cores per executor\n",
    "    .config(\"spark.driver.maxResultSize\", \"4g\")  # Driver result size limit\n",
    "    .config(\"spark.local.dir\", \"temp\")  # Specify a directory with enough space\n",
    "    .config(\"spark.shuffle.file.buffer\", \"128k\")  # Shuffle buffer size\n",
    "    .config(\"spark.memory.fraction\", \"0.8\")  # Memory fraction for tasks\n",
    "    .config(\"spark.shuffle.memoryFraction\", \"0.6\")  # Shuffle memory fraction\n",
    "    .config(\"spark.executor.javaOptions\", \"-Xmx48g\")  # JVM heap size for executors\n",
    "    .master(\"local[64]\")  # Use all 64 cores on the machine\n",
    "    .getOrCreate()\n",
    ")\n",
    "\n",
    "spark"
   ]
  },
  {
   "cell_type": "code",
   "execution_count": null,
   "id": "fc05b7f8-87f5-495d-a67d-f60e8b7ac823",
   "metadata": {},
   "outputs": [],
   "source": [
    "df0_features = spark.read.format('parquet').load('zero_features.parquet')\n",
    "df1_features = spark.read.format('parquet').load('one_features.parquet')\n",
    "\n",
    "full_df = df0_features.union(df1_features).orderBy(F.rand())\n",
    "\n",
    "# print(df0_features.rdd.getNumPartitions())\n",
    "# print(full_df.count())\n",
    "# df0_features.printSchema()"
   ]
  },
  {
   "cell_type": "code",
   "execution_count": null,
   "id": "13dccb21-a4d6-4489-a3eb-a49969c57155",
   "metadata": {},
   "outputs": [],
   "source": [
    "full_df.take(2)"
   ]
  },
  {
   "cell_type": "code",
   "execution_count": null,
   "id": "61d63a68-9b90-4a27-954c-4a5f0043db64",
   "metadata": {},
   "outputs": [],
   "source": [
    "sample_df = full_df.sample(fraction=0.00001)\n",
    "# print(sample_df.count())"
   ]
  },
  {
   "cell_type": "code",
   "execution_count": null,
   "id": "e25184b3-bb4a-4ed3-b17c-8bbd1c8b72b0",
   "metadata": {},
   "outputs": [],
   "source": [
    "from pyspark.ml.feature import OneHotEncoder\n",
    "\n",
    "protein_ohe = OneHotEncoder(inputCol=\"protein\", outputCol=\"protein_onehot\")\n",
    "protein_ohe = protein_ohe.fit(sample_df)"
   ]
  },
  {
   "cell_type": "code",
   "execution_count": null,
   "id": "6124f07c-0615-4b2c-bfbc-99d7ee47df1b",
   "metadata": {},
   "outputs": [],
   "source": [
    "encoded_df = protein_ohe.transform(sample_df)"
   ]
  },
  {
   "cell_type": "code",
   "execution_count": null,
   "id": "752f135f-caca-4e7d-b041-616739fa68b8",
   "metadata": {},
   "outputs": [],
   "source": [
    "features_cols = encoded_df.columns[-1:] + encoded_df.columns[2:-2]\n",
    "print(features_cols)"
   ]
  },
  {
   "cell_type": "code",
   "execution_count": null,
   "id": "bc838420-81eb-466e-aa9e-50e934da493c",
   "metadata": {},
   "outputs": [],
   "source": [
    "vectorAssembler = VectorAssembler(inputCols=features_cols, outputCol='features')"
   ]
  },
  {
   "cell_type": "code",
   "execution_count": null,
   "id": "e4116943-2de3-4828-8b1a-6a577aa55a65",
   "metadata": {},
   "outputs": [],
   "source": [
    "model = SparkXGBClassifier(num_workers=spark.sparkContext.defaultParallelism, label_col='y')"
   ]
  },
  {
   "cell_type": "code",
   "execution_count": null,
   "id": "c2bf6339-f9f9-47f5-8ab5-cef11f5f7121",
   "metadata": {},
   "outputs": [],
   "source": [
    "paramGrid = (\n",
    "    ParamGridBuilder()\n",
    "    .addGrid(model.max_depth, [3, 6] )\n",
    "    .addGrid(model.n_estimators, [100, 1000] )\n",
    "    .build()\n",
    ")\n",
    "\n",
    "evaluator = BinaryClassificationEvaluator(\n",
    "    metricName=\"weightedPrecision\",\n",
    "    labelCol=model.getLabelCol(),\n",
    "    rawPredictionCol=model.getPredictionCol()\n",
    ")\n",
    "\n",
    "cv = CrossValidator(estimator=model, evaluator=evaluator, estimatorParamMaps=paramGrid)"
   ]
  },
  {
   "cell_type": "code",
   "execution_count": null,
   "id": "33a2d97b-fd24-4a6f-8af6-61c32ee72e7c",
   "metadata": {},
   "outputs": [],
   "source": [
    "from pyspark.ml import Pipeline\n",
    "\n",
    "pipe = Pipeline(stages=[vectorAssembler, cv])"
   ]
  },
  {
   "cell_type": "code",
   "execution_count": null,
   "id": "92313b95-b3dd-4613-bb54-bc051ab5daa0",
   "metadata": {},
   "outputs": [],
   "source": [
    "pipemodel = pipe.fit(encoded_df)"
   ]
  },
  {
   "cell_type": "code",
   "execution_count": null,
   "id": "e365e879-5506-49fd-8488-9da535fd9910",
   "metadata": {},
   "outputs": [],
   "source": []
  },
  {
   "cell_type": "markdown",
   "id": "654318c1-019c-46e2-9b1f-8c6dfa3f3593",
   "metadata": {},
   "source": [
    "//////////////////////////////////////////////////////////////////////////////////////////////"
   ]
  },
  {
   "cell_type": "markdown",
   "id": "604caed8-1bd8-45a0-bcbf-e30eb82f183f",
   "metadata": {},
   "source": [
    "## Logistic Regression"
   ]
  },
  {
   "cell_type": "code",
   "execution_count": null,
   "id": "22c95a8e-afff-4d69-9c6d-dc78d302ac9b",
   "metadata": {},
   "outputs": [],
   "source": [
    "model = LogisticRegression(max_iter=1000, n_jobs=4, random_state=42)\n",
    "model.fit(X_train, y_train)"
   ]
  },
  {
   "cell_type": "code",
   "execution_count": null,
   "id": "52599695-63db-48c8-b113-a91e1e4f0835",
   "metadata": {},
   "outputs": [],
   "source": [
    "y_train_prob = model.predict_proba(X_train)[:,1]\n",
    "y_val_prob = model.predict_proba(X_val)[:,1]\n",
    "\n",
    "y_train_pred = model.predict(X_train)\n",
    "y_val_pred = model.predict(X_val)"
   ]
  },
  {
   "cell_type": "code",
   "execution_count": null,
   "id": "d0df1b97-2ac8-4138-85d2-5e4ce355250a",
   "metadata": {},
   "outputs": [],
   "source": [
    "def find_best_threshold(pred_prob, y_true, search_space=np.linspace(0, 1, 100)):\n",
    "    acc_list = []\n",
    "    best_acc = 0\n",
    "    best_th = 0\n",
    "\n",
    "    for th in search_space:\n",
    "        pred = [1 if prob > th else 0 for prob in pred_prob]\n",
    "        acc = average_precision_score(y_true, pred)\n",
    "        acc_list.append(acc)\n",
    "        if acc > best_acc:\n",
    "            best_acc = acc\n",
    "            best_th = th\n",
    "\n",
    "    print(f\"Best mAP: {best_acc}%, Threshold: {best_th}\")\n",
    "    return best_th\n",
    "\n",
    "\n",
    "def evaluate(y_train, y_val, y_train_prob, y_val_prob, y_train_pred, y_val_pred):\n",
    "    # Evaluation\n",
    "    train_classification_report = classification_report(y_train, y_train_pred)\n",
    "    val_classification_report = classification_report(y_val, y_val_pred)\n",
    "\n",
    "    train_auc = roc_auc_score(y_train, y_train_pred, multi_class='ovr')\n",
    "    val_auc = roc_auc_score(y_val, y_val_pred, multi_class='ovr')\n",
    "\n",
    "    train_map = average_precision_score(y_train, y_train_pred)\n",
    "    val_map = average_precision_score(y_val, y_val_pred)\n",
    "\n",
    "    print(\"Train mAP:\", train_map)\n",
    "    print(\"Validation mAP:\", val_map)\n",
    "    print(\"Train AUC:\", train_auc)\n",
    "    print(\"Validation AUC:\", val_auc)\n",
    "    print(\"Train Classification Report:\\n\", train_classification_report)\n",
    "    print(\"Validation Classification Report:\\n\", val_classification_report)\n",
    "    print('-'*50)\n",
    "\n",
    "    # Threshold Finding\n",
    "    best_th = find_best_threshold(y_val_prob, y_val)\n",
    "    print('-'*50)\n",
    "\n",
    "    # Evaluation\n",
    "    y_train_pred = [1 if prob > best_th else 0 for prob in y_train_prob]\n",
    "    y_val_pred = [1 if prob > best_th else 0 for prob in y_val_prob]\n",
    "\n",
    "    train_classification_report = classification_report(y_train, y_train_pred)\n",
    "    val_classification_report = classification_report(y_val, y_val_pred)\n",
    "\n",
    "    train_auc = roc_auc_score(y_train, y_train_pred, multi_class='ovr')\n",
    "    val_auc = roc_auc_score(y_val, y_val_pred, multi_class='ovr')\n",
    "\n",
    "    train_map = average_precision_score(y_train, y_train_pred)\n",
    "    val_map = average_precision_score(y_val, y_val_pred)\n",
    "\n",
    "    print(\"Train mAP:\", train_map)\n",
    "    print(\"Validation mAP:\", val_map)\n",
    "    print(\"Train AUC:\", train_auc)\n",
    "    print(\"Validation AUC:\", val_auc)\n",
    "    print(\"Train Classification Report:\\n\", train_classification_report)\n",
    "    print(\"Validation Classification Report:\\n\", val_classification_report)"
   ]
  },
  {
   "cell_type": "code",
   "execution_count": null,
   "id": "9e40ab1c-e347-4609-bb01-630a12baf44f",
   "metadata": {},
   "outputs": [],
   "source": [
    "evaluate(y_train, y_val, y_train_prob, y_val_prob, y_train_pred, y_val_pred)"
   ]
  },
  {
   "cell_type": "markdown",
   "id": "2111f8a1-ba80-4d84-ad67-20a4b3e7fc49",
   "metadata": {},
   "source": [
    "## Logistic Regression CV"
   ]
  },
  {
   "cell_type": "code",
   "execution_count": null,
   "id": "119ccf58-5441-44af-a7c5-676d90a962bf",
   "metadata": {
    "scrolled": true
   },
   "outputs": [],
   "source": [
    "model = LogisticRegressionCV(cv=10, random_state=42, scoring='average_precision', n_jobs=-1, verbose=1)\n",
    "model.fit(X_train, y_train)"
   ]
  },
  {
   "cell_type": "code",
   "execution_count": null,
   "id": "9664bd27-ee5a-41de-ab02-b419fbee5f81",
   "metadata": {},
   "outputs": [],
   "source": [
    "model.score(X_train, y_train), model.score(X_val, y_val)"
   ]
  },
  {
   "cell_type": "code",
   "execution_count": null,
   "id": "0b05b578-30a4-479e-a4b8-9eee68f7d3bb",
   "metadata": {},
   "outputs": [],
   "source": [
    "y_train_prob = model.predict_proba(X_train)[:,1]\n",
    "y_val_prob = model.predict_proba(X_val)[:,1]\n",
    "\n",
    "y_train_pred = model.predict(X_train)\n",
    "y_val_pred = model.predict(X_val)"
   ]
  },
  {
   "cell_type": "code",
   "execution_count": null,
   "id": "52a91562-72d0-4794-8b75-d895d9fe7782",
   "metadata": {},
   "outputs": [],
   "source": [
    "evaluate(y_train, y_val, y_train_prob, y_val_prob, y_train_pred, y_val_pred)"
   ]
  },
  {
   "cell_type": "markdown",
   "id": "2471cddb-c344-400f-8af3-4aff0c407707",
   "metadata": {},
   "source": [
    "# Making Test Inference"
   ]
  },
  {
   "cell_type": "code",
   "execution_count": null,
   "id": "a986ed78-bf15-4bd7-b048-39de5749e13c",
   "metadata": {},
   "outputs": [],
   "source": [
    "import pandas as pd\n",
    "import numpy as np"
   ]
  },
  {
   "cell_type": "code",
   "execution_count": null,
   "id": "e20c49bb-340e-440b-ba30-7e12dbd3416f",
   "metadata": {},
   "outputs": [],
   "source": [
    "test_df = pd.read_parquet('test_features.parquet')\n",
    "test_df"
   ]
  },
  {
   "cell_type": "code",
   "execution_count": null,
   "id": "14b0fffe-d8a6-4b8c-9c41-03243e7e0e5f",
   "metadata": {},
   "outputs": [],
   "source": [
    "X_test = test_df.iloc[:, 1:-1].to_numpy()\n",
    "X_test"
   ]
  },
  {
   "cell_type": "code",
   "execution_count": null,
   "id": "287346c6-4103-4c67-bbc8-7e987064890e",
   "metadata": {},
   "outputs": [],
   "source": [
    "test_prob = model.predict_proba(X_test)[:,1]\n",
    "test_pred = model.predict(X_test)"
   ]
  },
  {
   "cell_type": "code",
   "execution_count": null,
   "id": "8b568f6c-138b-4b78-b40c-2447ddd032e4",
   "metadata": {},
   "outputs": [],
   "source": [
    "test_prob"
   ]
  },
  {
   "cell_type": "code",
   "execution_count": null,
   "id": "47d8dfdb-aedd-4ad6-acdb-f42e1a8f3320",
   "metadata": {},
   "outputs": [],
   "source": [
    "sub_df = pd.read_csv('sample_submission.csv.zip')\n",
    "sub_df"
   ]
  },
  {
   "cell_type": "code",
   "execution_count": null,
   "id": "d17ffca1-3230-4053-8db9-121aef3f0c66",
   "metadata": {},
   "outputs": [],
   "source": [
    "sub_df.binds = test_prob\n",
    "sub_df"
   ]
  },
  {
   "cell_type": "code",
   "execution_count": null,
   "id": "a6345087-a1e7-4d69-a385-48ae4b85da70",
   "metadata": {},
   "outputs": [],
   "source": [
    "import subprocess, os\n",
    "\n",
    "file_name = f\"submission_csv/_1_submission_lr.csv\"\n",
    "message = f\"LR\"\n",
    "os.makedirs(\"submission_csv\", exist_ok=True)\n",
    "\n",
    "sub_df.to_csv(file_name, index=False)\n",
    "display(pd.read_csv(file_name))\n",
    "\n",
    "command = [\n",
    "    \"kaggle\", \"competitions\", \"submit\",\n",
    "    \"-c\", \"leash-BELKA\",\n",
    "    \"-f\", file_name,\n",
    "    \"-m\", message\n",
    "]\n",
    "\n",
    "subprocess.run(command)"
   ]
  },
  {
   "cell_type": "code",
   "execution_count": null,
   "id": "385cc3f2-906c-4e90-ac63-147828b17d43",
   "metadata": {},
   "outputs": [],
   "source": []
  },
  {
   "cell_type": "code",
   "execution_count": null,
   "id": "babbf192-02b2-4b4c-b0bd-2b9232f96f75",
   "metadata": {},
   "outputs": [],
   "source": []
  },
  {
   "cell_type": "code",
   "execution_count": null,
   "id": "c4c9912a-6990-4dd8-a0d5-b4452edee387",
   "metadata": {},
   "outputs": [],
   "source": []
  },
  {
   "cell_type": "code",
   "execution_count": null,
   "id": "e580d59d-eefb-4a26-b59f-b72a3a168a03",
   "metadata": {},
   "outputs": [],
   "source": []
  },
  {
   "cell_type": "code",
   "execution_count": null,
   "id": "b47629bd-cb5e-4e54-b17d-966522c77892",
   "metadata": {},
   "outputs": [],
   "source": []
  },
  {
   "cell_type": "code",
   "execution_count": null,
   "id": "e86048c2-c243-476c-962a-4f18f8e15b6d",
   "metadata": {},
   "outputs": [],
   "source": []
  },
  {
   "cell_type": "code",
   "execution_count": null,
   "id": "664497e3-c2bb-445c-b181-5918f5822674",
   "metadata": {},
   "outputs": [],
   "source": []
  },
  {
   "cell_type": "code",
   "execution_count": null,
   "id": "fb9da390-4010-4bf5-ab7d-271d2d8caea3",
   "metadata": {},
   "outputs": [],
   "source": []
  },
  {
   "cell_type": "code",
   "execution_count": null,
   "id": "e0c0fe41-d024-4b41-b8b0-7e5df22df1da",
   "metadata": {},
   "outputs": [],
   "source": []
  },
  {
   "cell_type": "code",
   "execution_count": null,
   "id": "30f8d1f8-6f0a-4662-9608-0157e41c03ce",
   "metadata": {},
   "outputs": [],
   "source": []
  }
 ],
 "metadata": {
  "kernelspec": {
   "display_name": "Python 3 (ipykernel)",
   "language": "python",
   "name": "python3"
  },
  "language_info": {
   "codemirror_mode": {
    "name": "ipython",
    "version": 3
   },
   "file_extension": ".py",
   "mimetype": "text/x-python",
   "name": "python",
   "nbconvert_exporter": "python",
   "pygments_lexer": "ipython3",
   "version": "3.12.5"
  }
 },
 "nbformat": 4,
 "nbformat_minor": 5
}
