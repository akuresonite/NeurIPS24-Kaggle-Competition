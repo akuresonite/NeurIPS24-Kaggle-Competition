{
 "cells": [
  {
   "cell_type": "markdown",
   "id": "ca027266-e09d-4d56-8456-36ff0fb3842f",
   "metadata": {},
   "source": [
    "## One Class Features DataFrame Creation"
   ]
  },
  {
   "cell_type": "code",
   "execution_count": 1,
   "id": "776c1cb0-dcbe-4a95-a120-6f173cf9a14c",
   "metadata": {},
   "outputs": [],
   "source": [
    "train_len = 295246830\n",
    "protein_map = {'BRD4': 1, 'HSA': 2, 'sEH': 3}\n",
    "vocab = {'C': 6825082866, '#': 81527490, '@': 511451694, 'H': 456489972, '=': 1406606874, 'O': 2554179786, \n",
    "         'N': 2469595230, 'c': 12257477022, '-': 438483636, '.': 216945504, 'l': 491088828, 'B': 123330132, \n",
    "         'r': 121915914, 'n': 1997759694, 'D': 295246830, 'y': 295246830, 'o': 67918650, 's': 156618468, \n",
    "         'S': 90662574, 'F': 492710238, '+': 65206260, 'i': 1414026, '/': 11547096, 'I': 23972994}"
   ]
  },
  {
   "cell_type": "code",
   "execution_count": 2,
   "id": "9486dfb1-4018-414c-914b-e56dc5ddfabb",
   "metadata": {},
   "outputs": [],
   "source": [
    "from pyspark.sql import SparkSession\n",
    "from pyspark.sql.functions import col\n",
    "\n",
    "from pyspark.sql.functions import col\n",
    "from pyspark.sql.types import LongType, IntegerType, StructType, StructField"
   ]
  },
  {
   "cell_type": "code",
   "execution_count": 3,
   "id": "47b86017-7e2f-4103-b591-0176c66a5401",
   "metadata": {
    "editable": true,
    "slideshow": {
     "slide_type": ""
    },
    "tags": []
   },
   "outputs": [
    {
     "name": "stderr",
     "output_type": "stream",
     "text": [
      "Setting default log level to \"WARN\".\n",
      "To adjust logging level use sc.setLogLevel(newLevel). For SparkR, use setLogLevel(newLevel).\n",
      "24/12/23 21:12:23 WARN NativeCodeLoader: Unable to load native-hadoop library for your platform... using builtin-java classes where applicable\n",
      "24/12/23 21:12:23 WARN Utils: Service 'SparkUI' could not bind on port 4040. Attempting port 4041.\n"
     ]
    },
    {
     "data": {
      "text/html": [
       "\n",
       "            <div>\n",
       "                <p><b>SparkSession - in-memory</b></p>\n",
       "                \n",
       "        <div>\n",
       "            <p><b>SparkContext</b></p>\n",
       "\n",
       "            <p><a href=\"http://tirandaz.ieor.iitb.ac.in:4041\">Spark UI</a></p>\n",
       "\n",
       "            <dl>\n",
       "              <dt>Version</dt>\n",
       "                <dd><code>v3.5.3</code></dd>\n",
       "              <dt>Master</dt>\n",
       "                <dd><code>local[*]</code></dd>\n",
       "              <dt>AppName</dt>\n",
       "                <dd><code>leash belka3</code></dd>\n",
       "            </dl>\n",
       "        </div>\n",
       "        \n",
       "            </div>\n",
       "        "
      ],
      "text/plain": [
       "<pyspark.sql.session.SparkSession at 0x7f6d20633740>"
      ]
     },
     "execution_count": 3,
     "metadata": {},
     "output_type": "execute_result"
    }
   ],
   "source": [
    "spark = (\n",
    "    SparkSession\n",
    "    .builder\n",
    "    .appName(\"leash belka3\")\n",
    "    .master(\"local[*]\")\n",
    "    .getOrCreate()\n",
    ")\n",
    "\n",
    "spark"
   ]
  },
  {
   "cell_type": "code",
   "execution_count": 4,
   "id": "00cc3b30-94e7-4237-9cbf-04a39f6b30f3",
   "metadata": {
    "editable": true,
    "slideshow": {
     "slide_type": ""
    },
    "tags": []
   },
   "outputs": [
    {
     "name": "stderr",
     "output_type": "stream",
     "text": [
      "                                                                                "
     ]
    },
    {
     "name": "stdout",
     "output_type": "stream",
     "text": [
      "22\n"
     ]
    },
    {
     "name": "stderr",
     "output_type": "stream",
     "text": [
      "                                                                                "
     ]
    },
    {
     "name": "stdout",
     "output_type": "stream",
     "text": [
      "1589906\n",
      "+--------+--------------------+--------------------+--------------------+--------------------+-------+---+\n",
      "|      id|                 bb1|                 bb2|                 bb3|            molecule|protein|  y|\n",
      "+--------+--------------------+--------------------+--------------------+--------------------+-------+---+\n",
      "|86000086|[10, 0, 2, 1, 2, ...|[1, 0, 0, 0, 0, 0...|[2, 0, 0, 0, 1, 2...|[10, 0, 2, 1, 2, ...|      2|  1|\n",
      "|86000579|[10, 0, 2, 1, 2, ...|[1, 0, 0, 0, 0, 0...|[13, 0, 0, 0, 0, ...|[20, 0, 1, 1, 1, ...|      3|  1|\n",
      "|86000585|[10, 0, 2, 1, 2, ...|[1, 0, 0, 0, 0, 0...|[12, 0, 0, 0, 0, ...|[19, 0, 1, 1, 1, ...|      3|  1|\n",
      "|86002603|[10, 0, 2, 1, 2, ...|[0, 0, 0, 0, 0, 0...|[3, 0, 0, 0, 0, 1...|[8, 0, 1, 1, 1, 2...|      2|  1|\n",
      "|86002715|[10, 0, 2, 1, 2, ...|[0, 0, 0, 0, 0, 0...|[13, 0, 0, 0, 0, ...|[19, 0, 1, 1, 1, ...|      3|  1|\n",
      "|86002721|[10, 0, 2, 1, 2, ...|[0, 0, 0, 0, 0, 0...|[12, 0, 0, 0, 0, ...|[18, 0, 1, 1, 1, ...|      3|  1|\n",
      "|86002957|[10, 0, 2, 1, 2, ...|[0, 0, 0, 0, 0, 0...|[2, 0, 0, 0, 0, 0...|[8, 0, 1, 1, 1, 1...|      2|  1|\n",
      "|86003239|[10, 0, 2, 1, 2, ...|[0, 0, 0, 0, 0, 0...|[2, 0, 0, 0, 0, 1...|[9, 0, 1, 1, 1, 2...|      2|  1|\n",
      "|86005256|[10, 0, 2, 1, 2, ...|[0, 0, 0, 0, 1, 2...|[13, 0, 0, 0, 0, ...|[19, 0, 1, 1, 2, ...|      3|  1|\n",
      "|86005262|[10, 0, 2, 1, 2, ...|[0, 0, 0, 0, 1, 2...|[12, 0, 0, 0, 0, ...|[18, 0, 1, 1, 2, ...|      3|  1|\n",
      "|86006326|[10, 0, 2, 1, 2, ...|[0, 0, 0, 0, 1, 2...|[0, 0, 0, 1, 1, 1...|[7, 0, 1, 2, 3, 4...|      2|  1|\n",
      "|86006398|[10, 0, 2, 1, 2, ...|[0, 0, 0, 0, 1, 2...|[0, 0, 0, 0, 0, 0...|[7, 0, 1, 1, 2, 3...|      2|  1|\n",
      "|86007140|[10, 0, 2, 1, 2, ...|[1, 0, 0, 0, 0, 0...|[13, 0, 0, 0, 0, ...|[20, 0, 1, 1, 1, ...|      3|  1|\n",
      "|86007143|[10, 0, 2, 1, 2, ...|[1, 0, 0, 0, 0, 0...|[12, 0, 0, 0, 0, ...|[19, 0, 1, 1, 1, ...|      3|  1|\n",
      "|86008099|[10, 0, 2, 1, 2, ...|[0, 0, 0, 0, 0, 0...|[3, 0, 0, 0, 1, 2...|[10, 0, 2, 1, 2, ...|      2|  1|\n",
      "|86008807|[10, 0, 2, 1, 2, ...|[0, 0, 0, 0, 0, 0...|[2, 0, 0, 0, 0, 0...|[9, 0, 2, 1, 1, 1...|      2|  1|\n",
      "|86009185|[10, 0, 2, 1, 2, ...|[0, 0, 0, 0, 0, 0...|[3, 0, 0, 0, 1, 1...|[9, 0, 1, 1, 2, 2...|      2|  1|\n",
      "|86009272|[10, 0, 2, 1, 2, ...|[0, 0, 0, 0, 0, 0...|[2, 0, 0, 0, 0, 0...|[8, 0, 1, 1, 1, 1...|      2|  1|\n",
      "|86009296|[10, 0, 2, 1, 2, ...|[0, 0, 0, 0, 0, 0...|[2, 0, 0, 0, 2, 2...|[9, 0, 2, 1, 3, 3...|      2|  1|\n",
      "|86009374|[10, 0, 2, 1, 2, ...|[0, 0, 0, 0, 0, 0...|[1, 1, 0, 0, 0, 0...|[8, 1, 2, 1, 1, 1...|      2|  1|\n",
      "+--------+--------------------+--------------------+--------------------+--------------------+-------+---+\n",
      "only showing top 20 rows\n",
      "\n"
     ]
    }
   ],
   "source": [
    "df1 = spark.read.format('parquet').load('one.parquet')\n",
    "\n",
    "print(df1.rdd.getNumPartitions())\n",
    "print(df1.count())\n",
    "df1.show()"
   ]
  },
  {
   "cell_type": "code",
   "execution_count": 5,
   "id": "222b3364-242b-44c6-9b2a-28dfeba0d098",
   "metadata": {},
   "outputs": [],
   "source": [
    "cols = []\n",
    "for i in range(24):\n",
    "    cols.append(col('bb1').getItem(i).alias(f'a{i+1}'))\n",
    "    cols.append(col('bb2').getItem(i).alias(f'b{i+1}'))\n",
    "    cols.append(col('bb3').getItem(i).alias(f'c{i+1}'))\n",
    "    cols.append(col('molecule').getItem(i).alias(f'd{i+1}'))\n",
    "\n",
    "schema = StructType([\n",
    "    StructField('id', LongType(), True),  # 'id' as LongType\n",
    "    StructField('protein', IntegerType(), True),\n",
    "    *[StructField(f'a{i+1}', IntegerType(), True) for i in range(24)],\n",
    "    *[StructField(f'b{i+1}', IntegerType(), True) for i in range(24)],\n",
    "    *[StructField(f'c{i+1}', IntegerType(), True) for i in range(24)],\n",
    "    *[StructField(f'd{i+1}', IntegerType(), True) for i in range(24)],\n",
    "    StructField('y', IntegerType(), True)\n",
    "])\n",
    "\n",
    "df1 = df1.select('id', 'protein', *cols, 'y')\n",
    "df1 = spark.createDataFrame(df1.rdd, schema)"
   ]
  },
  {
   "cell_type": "code",
   "execution_count": 7,
   "id": "4586f158-8029-4438-aab5-e42f1bcb0ef3",
   "metadata": {},
   "outputs": [
    {
     "name": "stderr",
     "output_type": "stream",
     "text": [
      "24/12/23 21:13:19 WARN SparkStringUtils: Truncated the string representation of a plan since it was too large. This behavior can be adjusted by setting 'spark.sql.debug.maxToStringFields'.\n",
      "                                                                                "
     ]
    },
    {
     "data": {
      "text/plain": [
       "Row(id=86000086, protein=2, a1=10, a2=1, a3=2, a4=10, a5=0, a6=0, a7=0, a8=0, a9=2, a10=0, a11=0, a12=2, a13=1, a14=0, a15=0, a16=1, a17=2, a18=0, a19=1, a20=2, a21=4, a22=0, a23=2, a24=3, b1=1, b2=1, b3=1, b4=4, b5=12, b6=9, b7=5, b8=17, b9=1, b10=1, b11=0, b12=1, b13=0, b14=0, b15=0, b16=0, b17=0, b18=1, b19=0, b20=1, b21=0, b22=0, b23=0, b24=0, c1=0, c2=0, c3=0, c4=0, c5=0, c6=1, c7=1, c8=5, c9=0, c10=0, c11=0, c12=1, c13=0, c14=0, c15=0, c16=1, c17=0, c18=0, c19=0, c20=0, c21=0, c22=1, c23=0, c24=1, d1=0, d2=0, d3=0, d4=0, d5=0, d6=0, d7=0, d8=0, d9=0, d10=0, d11=0, d12=0, d13=0, d14=0, d15=0, d16=0, d17=0, d18=0, d19=0, d20=0, d21=0, d22=0, d23=0, d24=0, y=1)"
      ]
     },
     "execution_count": 7,
     "metadata": {},
     "output_type": "execute_result"
    }
   ],
   "source": [
    "df1.first()"
   ]
  },
  {
   "cell_type": "code",
   "execution_count": 8,
   "id": "c69333ac-2261-43d8-95cc-35a0dca5005e",
   "metadata": {
    "scrolled": true
   },
   "outputs": [
    {
     "name": "stderr",
     "output_type": "stream",
     "text": [
      "24/12/23 21:13:28 WARN MemoryManager: Total allocation exceeds 95.00% (1,020,054,720 bytes) of heap memory\n",
      "Scaling row group sizes to 95.00% for 8 writers\n",
      "24/12/23 21:13:28 WARN MemoryManager: Total allocation exceeds 95.00% (1,020,054,720 bytes) of heap memory\n",
      "Scaling row group sizes to 84.44% for 9 writers\n",
      "24/12/23 21:13:28 WARN MemoryManager: Total allocation exceeds 95.00% (1,020,054,720 bytes) of heap memory\n",
      "Scaling row group sizes to 76.00% for 10 writers\n",
      "24/12/23 21:13:28 WARN MemoryManager: Total allocation exceeds 95.00% (1,020,054,720 bytes) of heap memory\n",
      "Scaling row group sizes to 69.09% for 11 writers\n",
      "24/12/23 21:13:28 WARN MemoryManager: Total allocation exceeds 95.00% (1,020,054,720 bytes) of heap memory\n",
      "Scaling row group sizes to 63.33% for 12 writers\n",
      "24/12/23 21:13:28 WARN MemoryManager: Total allocation exceeds 95.00% (1,020,054,720 bytes) of heap memory\n",
      "Scaling row group sizes to 58.46% for 13 writers\n",
      "24/12/23 21:13:28 WARN MemoryManager: Total allocation exceeds 95.00% (1,020,054,720 bytes) of heap memory\n",
      "Scaling row group sizes to 54.29% for 14 writers\n",
      "24/12/23 21:13:29 WARN MemoryManager: Total allocation exceeds 95.00% (1,020,054,720 bytes) of heap memory\n",
      "Scaling row group sizes to 50.67% for 15 writers\n",
      "24/12/23 21:13:29 WARN MemoryManager: Total allocation exceeds 95.00% (1,020,054,720 bytes) of heap memory\n",
      "Scaling row group sizes to 47.50% for 16 writers\n",
      "24/12/23 21:13:29 WARN MemoryManager: Total allocation exceeds 95.00% (1,020,054,720 bytes) of heap memory\n",
      "Scaling row group sizes to 44.71% for 17 writers\n",
      "24/12/23 21:13:29 WARN MemoryManager: Total allocation exceeds 95.00% (1,020,054,720 bytes) of heap memory\n",
      "Scaling row group sizes to 42.22% for 18 writers\n",
      "24/12/23 21:13:29 WARN MemoryManager: Total allocation exceeds 95.00% (1,020,054,720 bytes) of heap memory\n",
      "Scaling row group sizes to 40.00% for 19 writers\n",
      "24/12/23 21:13:29 WARN MemoryManager: Total allocation exceeds 95.00% (1,020,054,720 bytes) of heap memory\n",
      "Scaling row group sizes to 38.00% for 20 writers\n",
      "24/12/23 21:13:29 WARN MemoryManager: Total allocation exceeds 95.00% (1,020,054,720 bytes) of heap memory\n",
      "Scaling row group sizes to 36.19% for 21 writers\n",
      "24/12/23 21:13:29 WARN MemoryManager: Total allocation exceeds 95.00% (1,020,054,720 bytes) of heap memory\n",
      "Scaling row group sizes to 34.55% for 22 writers\n",
      "24/12/23 21:13:37 WARN MemoryManager: Total allocation exceeds 95.00% (1,020,054,720 bytes) of heap memory\n",
      "Scaling row group sizes to 36.19% for 21 writers\n",
      "24/12/23 21:13:44 WARN MemoryManager: Total allocation exceeds 95.00% (1,020,054,720 bytes) of heap memory\n",
      "Scaling row group sizes to 38.00% for 20 writers\n",
      "24/12/23 21:13:45 WARN MemoryManager: Total allocation exceeds 95.00% (1,020,054,720 bytes) of heap memory\n",
      "Scaling row group sizes to 40.00% for 19 writers\n",
      "24/12/23 21:13:46 WARN MemoryManager: Total allocation exceeds 95.00% (1,020,054,720 bytes) of heap memory\n",
      "Scaling row group sizes to 42.22% for 18 writers\n",
      "24/12/23 21:13:47 WARN MemoryManager: Total allocation exceeds 95.00% (1,020,054,720 bytes) of heap memory\n",
      "Scaling row group sizes to 44.71% for 17 writers\n",
      "24/12/23 21:13:47 WARN MemoryManager: Total allocation exceeds 95.00% (1,020,054,720 bytes) of heap memory\n",
      "Scaling row group sizes to 47.50% for 16 writers\n",
      "24/12/23 21:13:48 WARN MemoryManager: Total allocation exceeds 95.00% (1,020,054,720 bytes) of heap memory\n",
      "Scaling row group sizes to 50.67% for 15 writers\n",
      "24/12/23 21:13:48 WARN MemoryManager: Total allocation exceeds 95.00% (1,020,054,720 bytes) of heap memory\n",
      "Scaling row group sizes to 54.29% for 14 writers\n",
      "24/12/23 21:13:48 WARN MemoryManager: Total allocation exceeds 95.00% (1,020,054,720 bytes) of heap memory\n",
      "Scaling row group sizes to 58.46% for 13 writers\n",
      "24/12/23 21:13:48 WARN MemoryManager: Total allocation exceeds 95.00% (1,020,054,720 bytes) of heap memory\n",
      "Scaling row group sizes to 63.33% for 12 writers\n",
      "24/12/23 21:13:48 WARN MemoryManager: Total allocation exceeds 95.00% (1,020,054,720 bytes) of heap memory\n",
      "Scaling row group sizes to 69.09% for 11 writers\n",
      "24/12/23 21:13:48 WARN MemoryManager: Total allocation exceeds 95.00% (1,020,054,720 bytes) of heap memory\n",
      "Scaling row group sizes to 76.00% for 10 writers\n",
      "24/12/23 21:13:48 WARN MemoryManager: Total allocation exceeds 95.00% (1,020,054,720 bytes) of heap memory\n",
      "Scaling row group sizes to 84.44% for 9 writers\n",
      "24/12/23 21:13:48 WARN MemoryManager: Total allocation exceeds 95.00% (1,020,054,720 bytes) of heap memory\n",
      "Scaling row group sizes to 95.00% for 8 writers\n",
      "                                                                                "
     ]
    }
   ],
   "source": [
    "df1.write.format('parquet').mode('overwrite').option('header', True).save('one_features.parquet')"
   ]
  },
  {
   "cell_type": "code",
   "execution_count": 9,
   "id": "8bce2221-b4a7-44dd-be1c-475d5a11960b",
   "metadata": {
    "scrolled": true
   },
   "outputs": [
    {
     "name": "stdout",
     "output_type": "stream",
     "text": [
      "22\n",
      "1589906\n",
      "root\n",
      " |-- id: long (nullable = true)\n",
      " |-- protein: integer (nullable = true)\n",
      " |-- a1: integer (nullable = true)\n",
      " |-- a2: integer (nullable = true)\n",
      " |-- a3: integer (nullable = true)\n",
      " |-- a4: integer (nullable = true)\n",
      " |-- a5: integer (nullable = true)\n",
      " |-- a6: integer (nullable = true)\n",
      " |-- a7: integer (nullable = true)\n",
      " |-- a8: integer (nullable = true)\n",
      " |-- a9: integer (nullable = true)\n",
      " |-- a10: integer (nullable = true)\n",
      " |-- a11: integer (nullable = true)\n",
      " |-- a12: integer (nullable = true)\n",
      " |-- a13: integer (nullable = true)\n",
      " |-- a14: integer (nullable = true)\n",
      " |-- a15: integer (nullable = true)\n",
      " |-- a16: integer (nullable = true)\n",
      " |-- a17: integer (nullable = true)\n",
      " |-- a18: integer (nullable = true)\n",
      " |-- a19: integer (nullable = true)\n",
      " |-- a20: integer (nullable = true)\n",
      " |-- a21: integer (nullable = true)\n",
      " |-- a22: integer (nullable = true)\n",
      " |-- a23: integer (nullable = true)\n",
      " |-- a24: integer (nullable = true)\n",
      " |-- b1: integer (nullable = true)\n",
      " |-- b2: integer (nullable = true)\n",
      " |-- b3: integer (nullable = true)\n",
      " |-- b4: integer (nullable = true)\n",
      " |-- b5: integer (nullable = true)\n",
      " |-- b6: integer (nullable = true)\n",
      " |-- b7: integer (nullable = true)\n",
      " |-- b8: integer (nullable = true)\n",
      " |-- b9: integer (nullable = true)\n",
      " |-- b10: integer (nullable = true)\n",
      " |-- b11: integer (nullable = true)\n",
      " |-- b12: integer (nullable = true)\n",
      " |-- b13: integer (nullable = true)\n",
      " |-- b14: integer (nullable = true)\n",
      " |-- b15: integer (nullable = true)\n",
      " |-- b16: integer (nullable = true)\n",
      " |-- b17: integer (nullable = true)\n",
      " |-- b18: integer (nullable = true)\n",
      " |-- b19: integer (nullable = true)\n",
      " |-- b20: integer (nullable = true)\n",
      " |-- b21: integer (nullable = true)\n",
      " |-- b22: integer (nullable = true)\n",
      " |-- b23: integer (nullable = true)\n",
      " |-- b24: integer (nullable = true)\n",
      " |-- c1: integer (nullable = true)\n",
      " |-- c2: integer (nullable = true)\n",
      " |-- c3: integer (nullable = true)\n",
      " |-- c4: integer (nullable = true)\n",
      " |-- c5: integer (nullable = true)\n",
      " |-- c6: integer (nullable = true)\n",
      " |-- c7: integer (nullable = true)\n",
      " |-- c8: integer (nullable = true)\n",
      " |-- c9: integer (nullable = true)\n",
      " |-- c10: integer (nullable = true)\n",
      " |-- c11: integer (nullable = true)\n",
      " |-- c12: integer (nullable = true)\n",
      " |-- c13: integer (nullable = true)\n",
      " |-- c14: integer (nullable = true)\n",
      " |-- c15: integer (nullable = true)\n",
      " |-- c16: integer (nullable = true)\n",
      " |-- c17: integer (nullable = true)\n",
      " |-- c18: integer (nullable = true)\n",
      " |-- c19: integer (nullable = true)\n",
      " |-- c20: integer (nullable = true)\n",
      " |-- c21: integer (nullable = true)\n",
      " |-- c22: integer (nullable = true)\n",
      " |-- c23: integer (nullable = true)\n",
      " |-- c24: integer (nullable = true)\n",
      " |-- d1: integer (nullable = true)\n",
      " |-- d2: integer (nullable = true)\n",
      " |-- d3: integer (nullable = true)\n",
      " |-- d4: integer (nullable = true)\n",
      " |-- d5: integer (nullable = true)\n",
      " |-- d6: integer (nullable = true)\n",
      " |-- d7: integer (nullable = true)\n",
      " |-- d8: integer (nullable = true)\n",
      " |-- d9: integer (nullable = true)\n",
      " |-- d10: integer (nullable = true)\n",
      " |-- d11: integer (nullable = true)\n",
      " |-- d12: integer (nullable = true)\n",
      " |-- d13: integer (nullable = true)\n",
      " |-- d14: integer (nullable = true)\n",
      " |-- d15: integer (nullable = true)\n",
      " |-- d16: integer (nullable = true)\n",
      " |-- d17: integer (nullable = true)\n",
      " |-- d18: integer (nullable = true)\n",
      " |-- d19: integer (nullable = true)\n",
      " |-- d20: integer (nullable = true)\n",
      " |-- d21: integer (nullable = true)\n",
      " |-- d22: integer (nullable = true)\n",
      " |-- d23: integer (nullable = true)\n",
      " |-- d24: integer (nullable = true)\n",
      " |-- y: integer (nullable = true)\n",
      "\n"
     ]
    }
   ],
   "source": [
    "df1_features = spark.read.format('parquet').load('one_features.parquet')\n",
    "\n",
    "print(df1_features.rdd.getNumPartitions())\n",
    "print(df1_features.count())\n",
    "df1_features.printSchema()"
   ]
  },
  {
   "cell_type": "code",
   "execution_count": 10,
   "id": "49a2da71-2923-4f5e-9136-18bc996e1da7",
   "metadata": {
    "scrolled": true
   },
   "outputs": [
    {
     "name": "stdout",
     "output_type": "stream",
     "text": [
      "+--------+-------+---+---+---+---+---+---+---+---+---+---+---+---+---+---+---+---+---+---+---+---+---+---+---+---+---+---+---+---+---+---+---+---+---+---+---+---+---+---+---+---+---+---+---+---+---+---+---+---+---+---+---+---+---+---+---+---+---+---+---+---+---+---+---+---+---+---+---+---+---+---+---+---+---+---+---+---+---+---+---+---+---+---+---+---+---+---+---+---+---+---+---+---+---+---+---+---+---+\n",
      "|      id|protein| a1| a2| a3| a4| a5| a6| a7| a8| a9|a10|a11|a12|a13|a14|a15|a16|a17|a18|a19|a20|a21|a22|a23|a24| b1| b2| b3| b4| b5| b6| b7| b8| b9|b10|b11|b12|b13|b14|b15|b16|b17|b18|b19|b20|b21|b22|b23|b24| c1| c2| c3| c4| c5| c6| c7| c8| c9|c10|c11|c12|c13|c14|c15|c16|c17|c18|c19|c20|c21|c22|c23|c24| d1| d2| d3| d4| d5| d6| d7| d8| d9|d10|d11|d12|d13|d14|d15|d16|d17|d18|d19|d20|d21|d22|d23|d24|  y|\n",
      "+--------+-------+---+---+---+---+---+---+---+---+---+---+---+---+---+---+---+---+---+---+---+---+---+---+---+---+---+---+---+---+---+---+---+---+---+---+---+---+---+---+---+---+---+---+---+---+---+---+---+---+---+---+---+---+---+---+---+---+---+---+---+---+---+---+---+---+---+---+---+---+---+---+---+---+---+---+---+---+---+---+---+---+---+---+---+---+---+---+---+---+---+---+---+---+---+---+---+---+---+\n",
      "|86000086|      2| 10|  1|  2| 10|  0|  0|  0|  0|  2|  0|  0|  2|  1|  0|  0|  1|  2|  0|  1|  2|  4|  0|  2|  3|  1|  1|  1|  4| 12|  9|  5| 17|  1|  1|  0|  1|  0|  0|  0|  0|  0|  1|  0|  1|  0|  0|  0|  0|  0|  0|  0|  0|  0|  1|  1|  5|  0|  0|  0|  1|  0|  0|  0|  1|  0|  0|  0|  0|  0|  1|  0|  1|  0|  0|  0|  0|  0|  0|  0|  0|  0|  0|  0|  0|  0|  0|  0|  0|  0|  0|  0|  0|  0|  0|  0|  0|  1|\n",
      "|86000579|      3| 10|  1| 13| 20|  0|  0|  0|  0|  2|  0|  0|  1|  1|  0|  0|  1|  2|  0|  0|  1|  4|  0|  1|  2|  1|  1|  1|  4| 12|  9|  0| 12|  1|  1|  0|  1|  0|  0|  1|  0|  0|  1|  1|  1|  0|  0|  0|  0|  0|  0|  0|  0|  0|  1|  0|  4|  0|  0|  0|  1|  0|  0|  0|  1|  0|  0|  0|  0|  0|  1|  0|  1|  0|  0|  0|  0|  0|  0|  0|  0|  0|  0|  0|  0|  0|  0|  0|  0|  0|  0|  0|  0|  0|  0|  0|  0|  1|\n",
      "|86000585|      3| 10|  1| 12| 19|  0|  0|  0|  0|  2|  0|  0|  1|  1|  0|  0|  1|  2|  0|  0|  1|  4|  0|  0|  1|  1|  1|  1|  4| 12|  9|  0| 12|  1|  1|  0|  1|  0|  0|  1|  0|  0|  1|  1|  1|  0|  0|  0|  0|  0|  0|  0|  0|  0|  1|  0|  4|  0|  0|  0|  1|  0|  0|  0|  1|  0|  0|  0|  0|  0|  1|  0|  1|  0|  0|  0|  0|  0|  0|  0|  0|  0|  0|  0|  0|  0|  0|  0|  0|  0|  0|  0|  0|  0|  0|  0|  0|  1|\n",
      "|86002603|      2| 10|  0|  3|  8|  0|  0|  0|  0|  2|  0|  0|  1|  1|  0|  0|  1|  2|  0|  0|  1|  4|  0|  1|  2|  1|  1|  1|  4| 12|  9|  9| 21|  1|  1|  0|  1|  0|  0|  2|  0|  0|  0|  2|  0|  0|  0|  0|  0|  0|  0|  0|  0|  0|  1|  1|  5|  0|  0|  0|  1|  0|  0|  0|  1|  0|  0|  0|  0|  0|  1|  0|  1|  0|  0|  0|  0|  0|  1|  0|  1|  0|  0|  0|  0|  0|  0|  0|  0|  0|  0|  0|  0|  0|  0|  0|  0|  1|\n",
      "|86002715|      3| 10|  0| 13| 19|  0|  0|  0|  0|  2|  0|  0|  1|  1|  0|  0|  1|  2|  0|  0|  1|  4|  0|  1|  2|  1|  1|  1|  4| 12|  9|  0| 12|  1|  1|  0|  1|  0|  0|  1|  0|  0|  0|  1|  0|  0|  0|  0|  0|  0|  0|  0|  0|  0|  1|  0|  4|  0|  0|  0|  1|  0|  0|  0|  1|  0|  0|  0|  0|  0|  1|  0|  1|  0|  0|  0|  0|  0|  1|  0|  1|  0|  0|  0|  0|  0|  0|  0|  0|  0|  0|  0|  0|  0|  0|  0|  0|  1|\n",
      "|86002721|      3| 10|  0| 12| 18|  0|  0|  0|  0|  2|  0|  0|  1|  1|  0|  0|  1|  2|  0|  0|  1|  4|  0|  0|  1|  1|  1|  1|  4| 12|  9|  0| 12|  1|  1|  0|  1|  0|  0|  1|  0|  0|  0|  1|  0|  0|  0|  0|  0|  0|  0|  0|  0|  0|  1|  0|  4|  0|  0|  0|  1|  0|  0|  0|  1|  0|  0|  0|  0|  0|  1|  0|  1|  0|  0|  0|  0|  0|  1|  0|  1|  0|  0|  0|  0|  0|  0|  0|  0|  0|  0|  0|  0|  0|  0|  0|  0|  1|\n",
      "|86002957|      2| 10|  0|  2|  8|  0|  0|  0|  0|  2|  0|  0|  1|  1|  0|  0|  1|  2|  0|  0|  1|  4|  0|  0|  1|  1|  1|  1|  4| 12|  9|  5| 17|  1|  1|  0|  1|  0|  0|  1|  0|  0|  0|  1|  0|  0|  0|  0|  0|  0|  0|  0|  0|  0|  1|  4|  8|  0|  0|  0|  1|  0|  0|  0|  1|  0|  0|  0|  0|  0|  1|  0|  1|  0|  0|  0|  0|  0|  1|  0|  1|  0|  0|  0|  0|  0|  0|  0|  0|  0|  0|  0|  0|  0|  0|  0|  0|  1|\n",
      "|86003239|      2| 10|  0|  2|  9|  0|  0|  0|  0|  2|  0|  0|  1|  1|  0|  0|  1|  2|  0|  0|  1|  4|  0|  1|  2|  1|  1|  1|  4| 12|  9|  5| 17|  1|  1|  0|  1|  0|  0|  0|  0|  0|  0|  0|  0|  0|  0|  0|  0|  0|  0|  0|  0|  0|  1|  1|  5|  0|  0|  0|  1|  0|  0|  0|  1|  0|  0|  0|  0|  0|  1|  0|  1|  0|  0|  0|  0|  0|  1|  0|  1|  0|  0|  0|  0|  0|  0|  0|  0|  0|  0|  0|  0|  0|  0|  0|  0|  1|\n",
      "|86005256|      3| 10|  0| 13| 19|  0|  0|  0|  0|  2|  0|  0|  1|  1|  0|  0|  1|  2|  1|  0|  2|  4|  2|  1|  4|  1|  2|  1|  5| 12|  9|  0| 12|  1|  2|  0|  2|  0|  0|  1|  0|  0|  0|  1|  0|  0|  0|  0|  0|  0|  0|  0|  0|  0|  1|  0|  4|  0|  0|  0|  1|  0|  0|  0|  1|  0|  0|  0|  0|  0|  1|  0|  1|  0|  0|  0|  0|  0|  0|  0|  0|  0|  1|  0|  1|  0|  0|  0|  0|  0|  0|  0|  0|  0|  0|  0|  0|  1|\n",
      "|86005262|      3| 10|  0| 12| 18|  0|  0|  0|  0|  2|  0|  0|  1|  1|  0|  0|  1|  2|  1|  0|  2|  4|  2|  0|  3|  1|  2|  1|  5| 12|  9|  0| 12|  1|  2|  0|  2|  0|  0|  1|  0|  0|  0|  1|  0|  0|  0|  0|  0|  0|  0|  0|  0|  0|  1|  0|  4|  0|  0|  0|  1|  0|  0|  0|  1|  0|  0|  0|  0|  0|  1|  0|  1|  0|  0|  0|  0|  0|  0|  0|  0|  0|  1|  0|  1|  0|  0|  0|  0|  0|  0|  0|  0|  0|  0|  0|  0|  1|\n",
      "|86006326|      2| 10|  0|  0|  7|  0|  0|  0|  0|  2|  0|  0|  1|  1|  0|  1|  2|  2|  1|  1|  3|  4|  2|  1|  4|  1|  2|  1|  5| 12|  9|  4| 16|  1|  2|  0|  2|  0|  0|  0|  0|  0|  0|  0|  0|  0|  0|  1|  1|  0|  0|  1|  1|  0|  1|  2|  6|  0|  0|  0|  1|  0|  0|  0|  1|  0|  0|  0|  0|  0|  1|  0|  1|  0|  0|  0|  0|  0|  0|  0|  0|  0|  1|  0|  1|  0|  0|  0|  0|  0|  0|  0|  0|  0|  0|  0|  0|  1|\n",
      "|86006398|      2| 10|  0|  0|  7|  0|  0|  0|  0|  2|  0|  0|  1|  1|  0|  0|  1|  2|  1|  0|  2|  4|  2|  0|  3|  1|  2|  1|  5| 12|  9|  7| 19|  1|  2|  0|  2|  0|  0|  0|  0|  0|  0|  0|  0|  0|  0|  0|  0|  0|  0|  0|  0|  0|  1|  1|  5|  0|  0|  0|  1|  0|  0|  0|  1|  0|  0|  0|  0|  0|  1|  1|  2|  0|  0|  0|  0|  0|  0|  0|  0|  0|  1|  0|  1|  0|  0|  0|  0|  0|  0|  0|  0|  0|  0|  0|  0|  1|\n",
      "|86007140|      3| 10|  1| 13| 20|  0|  0|  0|  0|  2|  0|  0|  1|  1|  0|  0|  1|  2|  0|  0|  1|  4|  0|  1|  2|  1|  1|  1|  4| 12|  9|  0| 12|  1|  1|  0|  1|  0|  0|  1|  0|  0|  1|  1|  1|  0|  0|  0|  0|  0|  0|  0|  0|  0|  1|  0|  4|  0|  0|  0|  1|  0|  0|  0|  1|  0|  0|  0|  0|  0|  1|  0|  1|  0|  0|  0|  0|  0|  0|  0|  0|  0|  0|  0|  0|  0|  0|  0|  0|  0|  0|  0|  0|  0|  0|  0|  0|  1|\n",
      "|86007143|      3| 10|  1| 12| 19|  0|  0|  0|  0|  2|  0|  0|  1|  1|  0|  0|  1|  2|  0|  0|  1|  4|  0|  0|  1|  1|  1|  1|  4| 12|  9|  0| 12|  1|  1|  0|  1|  0|  0|  1|  0|  0|  1|  1|  1|  0|  0|  0|  0|  0|  0|  0|  0|  0|  1|  0|  4|  0|  0|  0|  1|  0|  0|  0|  1|  0|  0|  0|  0|  0|  1|  0|  1|  0|  0|  0|  0|  0|  0|  0|  0|  0|  0|  0|  0|  0|  0|  0|  0|  0|  0|  0|  0|  0|  0|  0|  0|  1|\n",
      "|86008099|      2| 10|  0|  3| 10|  0|  0|  0|  0|  2|  0|  0|  2|  1|  0|  0|  1|  2|  0|  1|  2|  4|  0|  2|  3|  1|  1|  1|  4| 12|  8|  5| 16|  1|  1|  0|  1|  0|  0|  0|  0|  0|  0|  0|  0|  0|  0|  0|  0|  0|  0|  0|  0|  0|  2|  1|  6|  0|  0|  0|  1|  0|  0|  0|  1|  0|  0|  0|  0|  0|  1|  0|  1|  0|  0|  0|  0|  0|  0|  0|  0|  0|  0|  0|  0|  0|  0|  0|  0|  0|  0|  0|  0|  0|  0|  0|  0|  1|\n",
      "|86008807|      2| 10|  0|  2|  9|  0|  0|  0|  0|  2|  0|  0|  2|  1|  0|  0|  1|  2|  0|  0|  1|  4|  0|  0|  1|  1|  1|  1|  4| 12|  8|  4| 15|  1|  1|  0|  1|  0|  0|  0|  0|  0|  0|  0|  0|  0|  0|  0|  0|  0|  0|  0|  0|  0|  2|  0|  5|  0|  0|  0|  1|  0|  0|  0|  1|  0|  0|  0|  0|  0|  1|  1|  2|  0|  0|  0|  0|  0|  0|  0|  0|  0|  0|  0|  0|  0|  0|  0|  0|  0|  0|  0|  0|  0|  0|  0|  0|  1|\n",
      "|86009185|      2| 10|  0|  3|  9|  0|  0|  0|  0|  2|  0|  0|  1|  1|  0|  0|  1|  2|  0|  1|  2|  4|  0|  1|  2|  1|  1|  1|  4| 12|  8|  6| 17|  1|  1|  0|  1|  0|  0|  1|  0|  0|  0|  1|  0|  0|  0|  0|  0|  0|  0|  0|  0|  0|  2|  2|  7|  0|  0|  0|  1|  0|  0|  0|  1|  0|  0|  0|  0|  0|  1|  1|  2|  0|  0|  0|  0|  0|  0|  0|  0|  0|  0|  0|  0|  0|  0|  0|  0|  0|  0|  0|  0|  0|  0|  0|  0|  1|\n",
      "|86009272|      2| 10|  0|  2|  8|  0|  0|  0|  0|  2|  0|  0|  1|  1|  0|  0|  1|  2|  0|  0|  1|  4|  0|  0|  1|  1|  1|  1|  4| 12|  8|  5| 16|  1|  1|  0|  1|  0|  0|  1|  0|  0|  0|  1|  0|  0|  0|  0|  0|  0|  0|  0|  0|  0|  2|  4|  9|  0|  0|  0|  1|  0|  0|  0|  1|  0|  0|  0|  0|  0|  1|  0|  1|  0|  0|  0|  0|  0|  0|  0|  0|  0|  0|  0|  0|  0|  0|  0|  0|  0|  0|  0|  0|  0|  0|  0|  0|  1|\n",
      "|86009296|      2| 10|  0|  2|  9|  0|  0|  0|  0|  2|  0|  0|  2|  1|  0|  0|  1|  2|  0|  2|  3|  4|  0|  2|  3|  1|  1|  1|  4| 12|  8|  4| 15|  1|  1|  0|  1|  0|  0|  0|  0|  0|  0|  0|  0|  0|  0|  0|  0|  0|  0|  0|  0|  0|  2|  2|  7|  0|  0|  0|  1|  0|  0|  0|  1|  0|  0|  0|  0|  0|  1|  0|  1|  0|  0|  0|  0|  0|  0|  0|  0|  0|  0|  0|  0|  0|  0|  0|  0|  0|  0|  0|  0|  0|  0|  0|  0|  1|\n",
      "|86009374|      2| 10|  0|  1|  8|  0|  0|  1|  1|  2|  0|  0|  2|  1|  0|  0|  1|  2|  0|  0|  1|  4|  0|  0|  1|  1|  1|  2|  5| 12|  8|  7| 18|  1|  1|  0|  1|  0|  0|  0|  0|  0|  0|  0|  0|  0|  0|  0|  0|  0|  0|  0|  0|  0|  2|  1|  6|  0|  0|  0|  1|  0|  0|  0|  1|  0|  0|  0|  0|  0|  1|  1|  2|  0|  0|  0|  0|  0|  0|  0|  0|  0|  0|  0|  0|  0|  0|  0|  0|  0|  0|  0|  0|  0|  0|  0|  0|  1|\n",
      "+--------+-------+---+---+---+---+---+---+---+---+---+---+---+---+---+---+---+---+---+---+---+---+---+---+---+---+---+---+---+---+---+---+---+---+---+---+---+---+---+---+---+---+---+---+---+---+---+---+---+---+---+---+---+---+---+---+---+---+---+---+---+---+---+---+---+---+---+---+---+---+---+---+---+---+---+---+---+---+---+---+---+---+---+---+---+---+---+---+---+---+---+---+---+---+---+---+---+---+---+\n",
      "only showing top 20 rows\n",
      "\n"
     ]
    }
   ],
   "source": [
    "df1_features.show()"
   ]
  },
  {
   "cell_type": "markdown",
   "id": "16eda0bb-6ba5-4069-bdc3-474069baac8f",
   "metadata": {},
   "source": [
    "////////////////////////////////////////////////////////////////////////////////////////////////////////////////////////////////////////////////////////////////////////////////////////////////////////////"
   ]
  },
  {
   "cell_type": "code",
   "execution_count": 118,
   "id": "afed189a-9bce-4f9a-823b-c525752b3a56",
   "metadata": {},
   "outputs": [
    {
     "name": "stdout",
     "output_type": "stream",
     "text": [
      "15\n",
      "+---------+--------------------+--------------------+--------------------+--------------------+-------+---+\n",
      "|       id|                 bb1|                 bb2|                 bb3|            molecule|protein|  y|\n",
      "+---------+--------------------+--------------------+--------------------+--------------------+-------+---+\n",
      "| 82082594|[11, 0, 0, 0, 2, ...|[1, 0, 0, 0, 1, 2...|[4, 0, 0, 0, 1, 2...|[13, 0, 0, 0, 3, ...|      3|  1|\n",
      "| 83145731|[11, 0, 2, 2, 2, ...|[5, 0, 0, 0, 0, 0...|[0, 0, 0, 0, 0, 0...|[11, 0, 2, 2, 1, ...|      3|  1|\n",
      "|156300986|[4, 0, 0, 0, 2, 4...|[3, 0, 0, 0, 0, 0...|[0, 0, 0, 2, 2, 1...|[2, 0, 0, 2, 3, 2...|      3|  1|\n",
      "|221371162|[4, 0, 0, 0, 2, 4...|[7, 0, 0, 0, 0, 1...|[3, 0, 0, 0, 0, 0...|[9, 0, 0, 0, 1, 2...|      2|  1|\n",
      "| 74877646|[6, 0, 0, 0, 2, 4...|[9, 0, 2, 1, 0, 2...|[2, 0, 0, 0, 1, 2...|[14, 0, 2, 1, 2, ...|      2|  1|\n",
      "|191856146|[4, 0, 0, 0, 2, 5...|[3, 0, 0, 0, 1, 2...|[3, 0, 0, 0, 0, 1...|[5, 0, 0, 0, 2, 5...|      3|  1|\n",
      "| 66061516|[8, 1, 1, 1, 2, 4...|[7, 0, 0, 0, 0, 0...|[1, 0, 0, 0, 0, 1...|[13, 1, 2, 1, 1, ...|      2|  1|\n",
      "|255049038|[6, 0, 2, 1, 2, 4...|[3, 0, 0, 0, 1, 2...|[6, 0, 0, 0, 1, 1...|[12, 0, 1, 1, 3, ...|      1|  1|\n",
      "|213106468|[4, 0, 0, 0, 2, 4...|[5, 0, 0, 0, 0, 1...|[4, 0, 0, 0, 1, 2...|[9, 0, 0, 0, 2, 4...|      2|  1|\n",
      "|188156423|[4, 0, 0, 0, 2, 4...|[5, 0, 0, 0, 0, 0...|[7, 0, 0, 0, 0, 1...|[11, 0, 0, 0, 1, ...|      3|  1|\n",
      "|274486550|[6, 0, 1, 1, 2, 4...|[0, 0, 0, 0, 0, 0...|[5, 0, 0, 0, 0, 0...|[8, 0, 1, 1, 1, 1...|      3|  1|\n",
      "|263660060|[7, 0, 1, 1, 2, 4...|[9, 0, 0, 0, 1, 0...|[12, 0, 0, 0, 0, ...|[23, 0, 1, 1, 2, ...|      3|  1|\n",
      "|263671677|[7, 0, 1, 1, 2, 4...|[2, 0, 0, 0, 1, 1...|[3, 0, 0, 0, 0, 0...|[8, 0, 1, 1, 2, 2...|      1|  1|\n",
      "| 11576375|[8, 0, 1, 1, 3, 5...|[1, 0, 0, 0, 0, 0...|[3, 0, 0, 0, 0, 0...|[6, 0, 1, 1, 2, 2...|      3|  1|\n",
      "|182055983|[5, 0, 0, 0, 3, 6...|[3, 0, 0, 0, 1, 2...|[4, 0, 0, 1, 0, 0...|[9, 0, 0, 1, 3, 5...|      3|  1|\n",
      "+---------+--------------------+--------------------+--------------------+--------------------+-------+---+\n",
      "\n"
     ]
    }
   ],
   "source": [
    "sample_df = df1.sample(fraction=0.00001)\n",
    "print(sample_df.count())\n",
    "sample_df.show()"
   ]
  },
  {
   "cell_type": "code",
   "execution_count": null,
   "id": "5ce20bb7-f798-46f6-a866-e87748cf53ee",
   "metadata": {},
   "outputs": [],
   "source": []
  },
  {
   "cell_type": "code",
   "execution_count": null,
   "id": "2b8f3cf3-0d76-4d50-9d7e-e144df27e5e3",
   "metadata": {},
   "outputs": [],
   "source": []
  },
  {
   "cell_type": "code",
   "execution_count": null,
   "id": "4889f55a-f48c-4563-b5b3-1e92783d6c55",
   "metadata": {},
   "outputs": [],
   "source": []
  },
  {
   "cell_type": "code",
   "execution_count": null,
   "id": "f086665a-5bb0-4f26-8085-5b91d2178888",
   "metadata": {},
   "outputs": [],
   "source": []
  },
  {
   "cell_type": "code",
   "execution_count": null,
   "id": "fc6a0aac-6353-4a80-84d1-47ba98ae3ee0",
   "metadata": {},
   "outputs": [],
   "source": []
  },
  {
   "cell_type": "code",
   "execution_count": null,
   "id": "98275c7f-8bfc-4f45-937d-a7ce70671cc5",
   "metadata": {},
   "outputs": [],
   "source": []
  },
  {
   "cell_type": "code",
   "execution_count": null,
   "id": "0d50134a-0d09-4aec-8e8c-274799976cb8",
   "metadata": {},
   "outputs": [],
   "source": []
  },
  {
   "cell_type": "code",
   "execution_count": null,
   "id": "68ec373e-8c07-4ebc-b162-1d164dd8412d",
   "metadata": {},
   "outputs": [],
   "source": []
  },
  {
   "cell_type": "code",
   "execution_count": null,
   "id": "7f435ec2-7a64-47d2-bb82-f1da1c3acc70",
   "metadata": {},
   "outputs": [],
   "source": []
  },
  {
   "cell_type": "code",
   "execution_count": null,
   "id": "052c9d6e-5345-41da-b3cb-56a2fc19a173",
   "metadata": {},
   "outputs": [],
   "source": []
  }
 ],
 "metadata": {
  "kernelspec": {
   "display_name": "Python 3 (ipykernel)",
   "language": "python",
   "name": "python3"
  },
  "language_info": {
   "codemirror_mode": {
    "name": "ipython",
    "version": 3
   },
   "file_extension": ".py",
   "mimetype": "text/x-python",
   "name": "python",
   "nbconvert_exporter": "python",
   "pygments_lexer": "ipython3",
   "version": "3.12.5"
  }
 },
 "nbformat": 4,
 "nbformat_minor": 5
}
